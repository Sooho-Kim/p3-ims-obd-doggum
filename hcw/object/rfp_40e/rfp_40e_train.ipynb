{
 "cells": [
  {
   "cell_type": "code",
   "execution_count": 1,
   "metadata": {
    "pycharm": {
     "name": "#%%\n"
    }
   },
   "outputs": [],
   "source": [
    "from mmcv import Config\n",
    "from mmdet.datasets import build_dataset\n",
    "from mmdet.models import build_detector\n",
    "from mmdet.apis import train_detector\n",
    "from mmdet.datasets import (build_dataloader, build_dataset,\n",
    "                            replace_ImageToTensor)"
   ]
  },
  {
   "cell_type": "code",
   "execution_count": 2,
   "metadata": {
    "pycharm": {
     "name": "#%%\n"
    }
   },
   "outputs": [],
   "source": [
    "classes = (\"UNKNOWN\", \"General trash\", \"Paper\", \"Paper pack\", \"Metal\", \"Glass\", \n",
    "           \"Plastic\", \"Styrofoam\", \"Plastic bag\", \"Battery\", \"Clothing\")\n",
    "# config file 들고오기\n",
    "cfg = Config.fromfile('./configs/faster_rcnn/faster_rcnn_r50_fpn_1x_coco.py')\n",
    "\n",
    "PREFIX = '../../input/data/'\n",
    "\n",
    "\n",
    "# dataset 바꾸기\n",
    "cfg.data.train.classes = classes\n",
    "cfg.data.train.img_prefix = PREFIX\n",
    "cfg.data.train.ann_file = PREFIX + 'train.json'\n",
    "cfg.data.train.pipeline[2]['img_scale'] = (512, 512)\n",
    "\n",
    "cfg.data.val.classes = classes\n",
    "cfg.data.val.img_prefix = PREFIX\n",
    "cfg.data.val.ann_file = PREFIX + 'val.json'\n",
    "cfg.data.val.pipeline[1]['img_scale'] = (512, 512)\n",
    "\n",
    "cfg.data.test.classes = classes\n",
    "cfg.data.test.img_prefix = PREFIX\n",
    "cfg.data.test.ann_file = PREFIX + 'test.json'\n",
    "cfg.data.test.pipeline[1]['img_scale'] = (512, 512)\n",
    "\n",
    "cfg.data.samples_per_gpu = 4\n",
    "\n",
    "cfg.seed=2020\n",
    "cfg.gpu_ids = [0]\n",
    "cfg.work_dir = './work_dirs/faster_rcnn_r50_fpn_1x_trash'\n",
    "\n",
    "cfg.model.roi_head.bbox_head.num_classes = 11\n",
    "\n",
    "cfg.optimizer_config.grad_clip = dict(max_norm=35, norm_type=2)"
   ]
  },
  {
   "cell_type": "code",
   "execution_count": 3,
   "metadata": {
    "pycharm": {
     "name": "#%%\n"
    }
   },
   "outputs": [
    {
     "name": "stderr",
     "output_type": "stream",
     "text": [
      "2021-05-10 15:52:15,895 - mmdet - INFO - load model from: torchvision://resnet50\n",
      "2021-05-10 15:52:15,897 - mmdet - INFO - Use load_from_torchvision loader\n",
      "Downloading: \"https://download.pytorch.org/models/resnet50-19c8e357.pth\" to /opt/ml/.cache/torch/hub/checkpoints/resnet50-19c8e357.pth\n"
     ]
    },
    {
     "data": {
      "application/vnd.jupyter.widget-view+json": {
       "model_id": "0adfe21acc89472bbb448780d75d635f",
       "version_major": 2,
       "version_minor": 0
      },
      "text/plain": [
       "HBox(children=(FloatProgress(value=0.0, max=102502400.0), HTML(value='')))"
      ]
     },
     "metadata": {},
     "output_type": "display_data"
    },
    {
     "name": "stdout",
     "output_type": "stream",
     "text": [
      "\n"
     ]
    },
    {
     "name": "stderr",
     "output_type": "stream",
     "text": [
      "2021-05-10 15:52:17,500 - mmdet - WARNING - The model and loaded state dict do not match exactly\n",
      "\n",
      "unexpected key in source state_dict: fc.weight, fc.bias\n",
      "\n"
     ]
    }
   ],
   "source": [
    "model = build_detector(cfg.model)"
   ]
  },
  {
   "cell_type": "code",
   "execution_count": 4,
   "metadata": {
    "pycharm": {
     "name": "#%%\n"
    }
   },
   "outputs": [
    {
     "name": "stdout",
     "output_type": "stream",
     "text": [
      "loading annotations into memory...\n",
      "Done (t=3.71s)\n",
      "creating index...\n",
      "index created!\n"
     ]
    }
   ],
   "source": [
    "datasets = [build_dataset(cfg.data.train)]"
   ]
  },
  {
   "cell_type": "code",
   "execution_count": 5,
   "metadata": {
    "collapsed": true,
    "jupyter": {
     "outputs_hidden": true
    },
    "pycharm": {
     "name": "#%%\n"
    },
    "tags": []
   },
   "outputs": [
    {
     "name": "stdout",
     "output_type": "stream",
     "text": [
      "loading annotations into memory...\n"
     ]
    },
    {
     "name": "stderr",
     "output_type": "stream",
     "text": [
      "2021-05-10 15:52:25,839 - mmdet - INFO - Start running, host: root@3c39225fc7a4, work_dir: /opt/ml/code/mmdetection_trash/work_dirs/faster_rcnn_r50_fpn_1x_trash\n",
      "2021-05-10 15:52:25,839 - mmdet - INFO - workflow: [('train', 1)], max: 12 epochs\n"
     ]
    },
    {
     "name": "stdout",
     "output_type": "stream",
     "text": [
      "Done (t=1.28s)\n",
      "creating index...\n",
      "index created!\n"
     ]
    },
    {
     "name": "stderr",
     "output_type": "stream",
     "text": [
      "2021-05-10 15:52:44,800 - mmdet - INFO - Epoch [1][50/655]\tlr: 1.978e-03, eta: 0:49:20, time: 0.379, data_time: 0.050, memory: 2096, loss_rpn_cls: 0.5092, loss_rpn_bbox: 0.0837, loss_cls: 0.7575, acc: 85.3896, loss_bbox: 0.1423, loss: 1.4927, grad_norm: 6.5863\n",
      "2021-05-10 15:53:01,126 - mmdet - INFO - Epoch [1][100/655]\tlr: 3.976e-03, eta: 0:45:37, time: 0.327, data_time: 0.007, memory: 2096, loss_rpn_cls: 0.2245, loss_rpn_bbox: 0.0769, loss_cls: 0.4208, acc: 91.3115, loss_bbox: 0.3128, loss: 1.0349, grad_norm: 2.8499\n",
      "2021-05-10 15:53:17,523 - mmdet - INFO - Epoch [1][150/655]\tlr: 5.974e-03, eta: 0:44:16, time: 0.328, data_time: 0.007, memory: 2096, loss_rpn_cls: 0.2161, loss_rpn_bbox: 0.0858, loss_cls: 0.4594, acc: 90.1455, loss_bbox: 0.3608, loss: 1.1221, grad_norm: 2.9632\n",
      "2021-05-10 15:53:33,643 - mmdet - INFO - Epoch [1][200/655]\tlr: 7.972e-03, eta: 0:43:16, time: 0.322, data_time: 0.007, memory: 2096, loss_rpn_cls: 0.1980, loss_rpn_bbox: 0.0825, loss_cls: 0.4236, acc: 89.8643, loss_bbox: 0.3750, loss: 1.0791, grad_norm: 3.4413\n",
      "2021-05-10 15:53:49,947 - mmdet - INFO - Epoch [1][250/655]\tlr: 9.970e-03, eta: 0:42:40, time: 0.326, data_time: 0.007, memory: 2096, loss_rpn_cls: 0.1841, loss_rpn_bbox: 0.0843, loss_cls: 0.4316, acc: 89.2812, loss_bbox: 0.3994, loss: 1.0995, grad_norm: 3.5265\n",
      "2021-05-10 15:54:05,922 - mmdet - INFO - Epoch [1][300/655]\tlr: 1.197e-02, eta: 0:42:01, time: 0.319, data_time: 0.007, memory: 2096, loss_rpn_cls: 0.1820, loss_rpn_bbox: 0.0880, loss_cls: 0.4681, acc: 88.7021, loss_bbox: 0.4151, loss: 1.1532, grad_norm: 3.4846\n",
      "2021-05-10 15:54:22,089 - mmdet - INFO - Epoch [1][350/655]\tlr: 1.397e-02, eta: 0:41:34, time: 0.323, data_time: 0.007, memory: 2096, loss_rpn_cls: 0.1423, loss_rpn_bbox: 0.0717, loss_cls: 0.4758, acc: 88.2695, loss_bbox: 0.4265, loss: 1.1162, grad_norm: 3.0991\n",
      "2021-05-10 15:54:37,968 - mmdet - INFO - Epoch [1][400/655]\tlr: 1.596e-02, eta: 0:41:04, time: 0.318, data_time: 0.007, memory: 2096, loss_rpn_cls: 0.1583, loss_rpn_bbox: 0.0814, loss_cls: 0.4591, acc: 88.5312, loss_bbox: 0.4058, loss: 1.1046, grad_norm: 2.9475\n",
      "2021-05-10 15:54:54,075 - mmdet - INFO - Epoch [1][450/655]\tlr: 1.796e-02, eta: 0:40:40, time: 0.322, data_time: 0.007, memory: 2096, loss_rpn_cls: 0.1574, loss_rpn_bbox: 0.0793, loss_cls: 0.4946, acc: 87.9863, loss_bbox: 0.4134, loss: 1.1448, grad_norm: 3.3042\n",
      "2021-05-10 15:55:10,093 - mmdet - INFO - Epoch [1][500/655]\tlr: 1.996e-02, eta: 0:40:17, time: 0.320, data_time: 0.007, memory: 2096, loss_rpn_cls: 0.1593, loss_rpn_bbox: 0.0787, loss_cls: 0.4897, acc: 88.7012, loss_bbox: 0.3784, loss: 1.1061, grad_norm: 2.9873\n",
      "2021-05-10 15:55:26,057 - mmdet - INFO - Epoch [1][550/655]\tlr: 2.000e-02, eta: 0:39:55, time: 0.319, data_time: 0.007, memory: 2096, loss_rpn_cls: 0.1455, loss_rpn_bbox: 0.0712, loss_cls: 0.4467, acc: 88.7529, loss_bbox: 0.3868, loss: 1.0502, grad_norm: 2.3703\n",
      "2021-05-10 15:55:42,267 - mmdet - INFO - Epoch [1][600/655]\tlr: 2.000e-02, eta: 0:39:36, time: 0.324, data_time: 0.007, memory: 2096, loss_rpn_cls: 0.1530, loss_rpn_bbox: 0.0801, loss_cls: 0.4250, acc: 89.2988, loss_bbox: 0.3629, loss: 1.0209, grad_norm: 2.4606\n",
      "2021-05-10 15:55:58,278 - mmdet - INFO - Epoch [1][650/655]\tlr: 2.000e-02, eta: 0:39:16, time: 0.320, data_time: 0.007, memory: 2096, loss_rpn_cls: 0.1314, loss_rpn_bbox: 0.0706, loss_cls: 0.4371, acc: 88.8730, loss_bbox: 0.3801, loss: 1.0191, grad_norm: 2.1391\n",
      "2021-05-10 15:55:59,908 - mmdet - INFO - Saving checkpoint at 1 epochs\n"
     ]
    },
    {
     "name": "stdout",
     "output_type": "stream",
     "text": [
      "[>>>>>>>>>>>>>>>>>>>>>>>>>>>>>] 655/655, 22.0 task/s, elapsed: 30s, ETA:     0s"
     ]
    },
    {
     "name": "stderr",
     "output_type": "stream",
     "text": [
      "2021-05-10 15:56:32,015 - mmdet - INFO - Evaluating bbox...\n"
     ]
    },
    {
     "name": "stdout",
     "output_type": "stream",
     "text": [
      "Loading and preparing results...\n",
      "DONE (t=1.17s)\n",
      "creating index...\n",
      "index created!\n",
      "Running per image evaluation...\n",
      "Evaluate annotation type *bbox*\n",
      "DONE (t=8.94s).\n",
      "Accumulating evaluation results...\n"
     ]
    },
    {
     "name": "stderr",
     "output_type": "stream",
     "text": [
      "2021-05-10 15:56:43,945 - mmdet - INFO - Epoch(val) [1][655]\tbbox_mAP: 0.0350, bbox_mAP_50: 0.0810, bbox_mAP_75: 0.0260, bbox_mAP_s: 0.0070, bbox_mAP_m: 0.0320, bbox_mAP_l: 0.0650, bbox_mAP_copypaste: 0.035 0.081 0.026 0.007 0.032 0.065\n"
     ]
    },
    {
     "name": "stdout",
     "output_type": "stream",
     "text": [
      "DONE (t=1.70s).\n",
      "Average Precision  (AP) @[ IoU=0.50:0.95 | area=   all | maxDets=100 ] = 0.035\n",
      "Average Precision  (AP) @[ IoU=0.50      | area=   all | maxDets=1000 ] = 0.081\n",
      "Average Precision  (AP) @[ IoU=0.75      | area=   all | maxDets=1000 ] = 0.026\n",
      "Average Precision  (AP) @[ IoU=0.50:0.95 | area= small | maxDets=1000 ] = 0.007\n",
      "Average Precision  (AP) @[ IoU=0.50:0.95 | area=medium | maxDets=1000 ] = 0.032\n",
      "Average Precision  (AP) @[ IoU=0.50:0.95 | area= large | maxDets=1000 ] = 0.065\n",
      "Average Recall     (AR) @[ IoU=0.50:0.95 | area=   all | maxDets=100 ] = 0.105\n",
      "Average Recall     (AR) @[ IoU=0.50:0.95 | area=   all | maxDets=300 ] = 0.105\n",
      "Average Recall     (AR) @[ IoU=0.50:0.95 | area=   all | maxDets=1000 ] = 0.105\n",
      "Average Recall     (AR) @[ IoU=0.50:0.95 | area= small | maxDets=1000 ] = 0.029\n",
      "Average Recall     (AR) @[ IoU=0.50:0.95 | area=medium | maxDets=1000 ] = 0.090\n",
      "Average Recall     (AR) @[ IoU=0.50:0.95 | area= large | maxDets=1000 ] = 0.217\n"
     ]
    },
    {
     "name": "stderr",
     "output_type": "stream",
     "text": [
      "2021-05-10 15:57:02,202 - mmdet - INFO - Epoch [2][50/655]\tlr: 2.000e-02, eta: 0:39:01, time: 0.365, data_time: 0.051, memory: 2096, loss_rpn_cls: 0.1232, loss_rpn_bbox: 0.0707, loss_cls: 0.4500, acc: 88.7061, loss_bbox: 0.3775, loss: 1.0215, grad_norm: 2.2167\n",
      "2021-05-10 15:57:18,483 - mmdet - INFO - Epoch [2][100/655]\tlr: 2.000e-02, eta: 0:38:44, time: 0.326, data_time: 0.007, memory: 2096, loss_rpn_cls: 0.1165, loss_rpn_bbox: 0.0675, loss_cls: 0.4024, acc: 89.3770, loss_bbox: 0.3582, loss: 0.9447, grad_norm: 2.1805\n",
      "2021-05-10 15:57:34,520 - mmdet - INFO - Epoch [2][150/655]\tlr: 2.000e-02, eta: 0:38:24, time: 0.321, data_time: 0.007, memory: 2096, loss_rpn_cls: 0.1228, loss_rpn_bbox: 0.0776, loss_cls: 0.4048, acc: 88.9824, loss_bbox: 0.3626, loss: 0.9678, grad_norm: 2.3040\n",
      "2021-05-10 15:57:50,399 - mmdet - INFO - Epoch [2][200/655]\tlr: 2.000e-02, eta: 0:38:04, time: 0.318, data_time: 0.007, memory: 2096, loss_rpn_cls: 0.0947, loss_rpn_bbox: 0.0623, loss_cls: 0.3837, acc: 89.9258, loss_bbox: 0.3366, loss: 0.8774, grad_norm: 2.0186\n",
      "2021-05-10 15:58:06,218 - mmdet - INFO - Epoch [2][250/655]\tlr: 2.000e-02, eta: 0:37:44, time: 0.316, data_time: 0.007, memory: 2096, loss_rpn_cls: 0.1218, loss_rpn_bbox: 0.0769, loss_cls: 0.4394, acc: 88.0068, loss_bbox: 0.3989, loss: 1.0369, grad_norm: 2.1727\n",
      "2021-05-10 15:58:22,211 - mmdet - INFO - Epoch [2][300/655]\tlr: 2.000e-02, eta: 0:37:26, time: 0.320, data_time: 0.007, memory: 2096, loss_rpn_cls: 0.1074, loss_rpn_bbox: 0.0684, loss_cls: 0.4117, acc: 88.7646, loss_bbox: 0.3622, loss: 0.9497, grad_norm: 2.1316\n",
      "2021-05-10 15:58:38,290 - mmdet - INFO - Epoch [2][350/655]\tlr: 2.000e-02, eta: 0:37:08, time: 0.322, data_time: 0.007, memory: 2096, loss_rpn_cls: 0.1076, loss_rpn_bbox: 0.0683, loss_cls: 0.4251, acc: 88.9688, loss_bbox: 0.3656, loss: 0.9666, grad_norm: 2.2363\n",
      "2021-05-10 15:58:54,344 - mmdet - INFO - Epoch [2][400/655]\tlr: 2.000e-02, eta: 0:36:51, time: 0.321, data_time: 0.007, memory: 2096, loss_rpn_cls: 0.1107, loss_rpn_bbox: 0.0758, loss_cls: 0.4437, acc: 88.0098, loss_bbox: 0.3873, loss: 1.0175, grad_norm: 2.0912\n",
      "2021-05-10 15:59:10,288 - mmdet - INFO - Epoch [2][450/655]\tlr: 2.000e-02, eta: 0:36:33, time: 0.319, data_time: 0.007, memory: 2096, loss_rpn_cls: 0.1066, loss_rpn_bbox: 0.0721, loss_cls: 0.4137, acc: 88.3652, loss_bbox: 0.3836, loss: 0.9760, grad_norm: 2.3685\n",
      "2021-05-10 15:59:26,298 - mmdet - INFO - Epoch [2][500/655]\tlr: 2.000e-02, eta: 0:36:15, time: 0.320, data_time: 0.007, memory: 2096, loss_rpn_cls: 0.1169, loss_rpn_bbox: 0.0720, loss_cls: 0.4287, acc: 88.7500, loss_bbox: 0.3676, loss: 0.9852, grad_norm: 2.1206\n",
      "2021-05-10 15:59:42,492 - mmdet - INFO - Epoch [2][550/655]\tlr: 2.000e-02, eta: 0:35:59, time: 0.324, data_time: 0.007, memory: 2096, loss_rpn_cls: 0.1028, loss_rpn_bbox: 0.0642, loss_cls: 0.4185, acc: 88.6641, loss_bbox: 0.3682, loss: 0.9537, grad_norm: 2.1643\n",
      "2021-05-10 15:59:58,527 - mmdet - INFO - Epoch [2][600/655]\tlr: 2.000e-02, eta: 0:35:42, time: 0.321, data_time: 0.007, memory: 2096, loss_rpn_cls: 0.0901, loss_rpn_bbox: 0.0588, loss_cls: 0.3951, acc: 89.1191, loss_bbox: 0.3502, loss: 0.8942, grad_norm: 2.0012\n",
      "2021-05-10 16:00:14,652 - mmdet - INFO - Epoch [2][650/655]\tlr: 2.000e-02, eta: 0:35:25, time: 0.322, data_time: 0.007, memory: 2096, loss_rpn_cls: 0.1375, loss_rpn_bbox: 0.0748, loss_cls: 0.4420, acc: 88.6445, loss_bbox: 0.3471, loss: 1.0014, grad_norm: 2.4506\n",
      "2021-05-10 16:00:16,243 - mmdet - INFO - Saving checkpoint at 2 epochs\n"
     ]
    },
    {
     "name": "stdout",
     "output_type": "stream",
     "text": [
      "[>>>>>>>>>>>>>>>>>>>>>>>>>>>>>] 655/655, 21.4 task/s, elapsed: 31s, ETA:     0s"
     ]
    },
    {
     "name": "stderr",
     "output_type": "stream",
     "text": [
      "2021-05-10 16:00:48,979 - mmdet - INFO - Evaluating bbox...\n"
     ]
    },
    {
     "name": "stdout",
     "output_type": "stream",
     "text": [
      "Loading and preparing results...\n",
      "DONE (t=0.67s)\n",
      "creating index...\n",
      "index created!\n",
      "Running per image evaluation...\n",
      "Evaluate annotation type *bbox*\n",
      "DONE (t=7.02s).\n",
      "Accumulating evaluation results...\n"
     ]
    },
    {
     "name": "stderr",
     "output_type": "stream",
     "text": [
      "2021-05-10 16:00:58,063 - mmdet - INFO - Epoch(val) [2][655]\tbbox_mAP: 0.0530, bbox_mAP_50: 0.1080, bbox_mAP_75: 0.0490, bbox_mAP_s: 0.0080, bbox_mAP_m: 0.0510, bbox_mAP_l: 0.1080, bbox_mAP_copypaste: 0.053 0.108 0.049 0.008 0.051 0.108\n"
     ]
    },
    {
     "name": "stdout",
     "output_type": "stream",
     "text": [
      "DONE (t=1.29s).\n",
      "Average Precision  (AP) @[ IoU=0.50:0.95 | area=   all | maxDets=100 ] = 0.053\n",
      "Average Precision  (AP) @[ IoU=0.50      | area=   all | maxDets=1000 ] = 0.108\n",
      "Average Precision  (AP) @[ IoU=0.75      | area=   all | maxDets=1000 ] = 0.049\n",
      "Average Precision  (AP) @[ IoU=0.50:0.95 | area= small | maxDets=1000 ] = 0.008\n",
      "Average Precision  (AP) @[ IoU=0.50:0.95 | area=medium | maxDets=1000 ] = 0.051\n",
      "Average Precision  (AP) @[ IoU=0.50:0.95 | area= large | maxDets=1000 ] = 0.108\n",
      "Average Recall     (AR) @[ IoU=0.50:0.95 | area=   all | maxDets=100 ] = 0.157\n",
      "Average Recall     (AR) @[ IoU=0.50:0.95 | area=   all | maxDets=300 ] = 0.157\n",
      "Average Recall     (AR) @[ IoU=0.50:0.95 | area=   all | maxDets=1000 ] = 0.157\n",
      "Average Recall     (AR) @[ IoU=0.50:0.95 | area= small | maxDets=1000 ] = 0.050\n",
      "Average Recall     (AR) @[ IoU=0.50:0.95 | area=medium | maxDets=1000 ] = 0.146\n",
      "Average Recall     (AR) @[ IoU=0.50:0.95 | area= large | maxDets=1000 ] = 0.296\n"
     ]
    },
    {
     "name": "stderr",
     "output_type": "stream",
     "text": [
      "2021-05-10 16:01:16,409 - mmdet - INFO - Epoch [3][50/655]\tlr: 2.000e-02, eta: 0:35:09, time: 0.367, data_time: 0.051, memory: 2096, loss_rpn_cls: 0.0974, loss_rpn_bbox: 0.0696, loss_cls: 0.4141, acc: 88.5293, loss_bbox: 0.3674, loss: 0.9486, grad_norm: 2.0442\n",
      "2021-05-10 16:01:32,463 - mmdet - INFO - Epoch [3][100/655]\tlr: 2.000e-02, eta: 0:34:52, time: 0.321, data_time: 0.007, memory: 2096, loss_rpn_cls: 0.0684, loss_rpn_bbox: 0.0500, loss_cls: 0.3343, acc: 90.5117, loss_bbox: 0.3056, loss: 0.7583, grad_norm: 1.9140\n",
      "2021-05-10 16:01:48,321 - mmdet - INFO - Epoch [3][150/655]\tlr: 2.000e-02, eta: 0:34:35, time: 0.317, data_time: 0.007, memory: 2096, loss_rpn_cls: 0.0923, loss_rpn_bbox: 0.0697, loss_cls: 0.3966, acc: 89.1504, loss_bbox: 0.3413, loss: 0.9000, grad_norm: 2.2252\n",
      "2021-05-10 16:02:04,312 - mmdet - INFO - Epoch [3][200/655]\tlr: 2.000e-02, eta: 0:34:17, time: 0.320, data_time: 0.007, memory: 2096, loss_rpn_cls: 0.0888, loss_rpn_bbox: 0.0659, loss_cls: 0.3970, acc: 88.6816, loss_bbox: 0.3629, loss: 0.9146, grad_norm: 2.0358\n",
      "2021-05-10 16:02:20,297 - mmdet - INFO - Epoch [3][250/655]\tlr: 2.000e-02, eta: 0:34:00, time: 0.320, data_time: 0.007, memory: 2096, loss_rpn_cls: 0.1022, loss_rpn_bbox: 0.0713, loss_cls: 0.4583, acc: 87.7852, loss_bbox: 0.3897, loss: 1.0215, grad_norm: 2.3467\n",
      "2021-05-10 16:02:36,292 - mmdet - INFO - Epoch [3][300/655]\tlr: 2.000e-02, eta: 0:33:43, time: 0.320, data_time: 0.007, memory: 2096, loss_rpn_cls: 0.0891, loss_rpn_bbox: 0.0607, loss_cls: 0.3908, acc: 89.4561, loss_bbox: 0.3382, loss: 0.8788, grad_norm: 2.0869\n",
      "2021-05-10 16:02:52,346 - mmdet - INFO - Epoch [3][350/655]\tlr: 2.000e-02, eta: 0:33:27, time: 0.321, data_time: 0.007, memory: 2096, loss_rpn_cls: 0.0889, loss_rpn_bbox: 0.0607, loss_cls: 0.3827, acc: 89.5449, loss_bbox: 0.3361, loss: 0.8683, grad_norm: 2.0092\n",
      "2021-05-10 16:03:08,245 - mmdet - INFO - Epoch [3][400/655]\tlr: 2.000e-02, eta: 0:33:09, time: 0.318, data_time: 0.007, memory: 2096, loss_rpn_cls: 0.0897, loss_rpn_bbox: 0.0602, loss_cls: 0.4037, acc: 88.4941, loss_bbox: 0.3595, loss: 0.9130, grad_norm: 2.0990\n",
      "2021-05-10 16:03:24,082 - mmdet - INFO - Epoch [3][450/655]\tlr: 2.000e-02, eta: 0:32:52, time: 0.317, data_time: 0.007, memory: 2096, loss_rpn_cls: 0.0987, loss_rpn_bbox: 0.0676, loss_cls: 0.4478, acc: 87.9033, loss_bbox: 0.3720, loss: 0.9861, grad_norm: 2.1646\n",
      "2021-05-10 16:03:39,809 - mmdet - INFO - Epoch [3][500/655]\tlr: 2.000e-02, eta: 0:32:34, time: 0.315, data_time: 0.007, memory: 2096, loss_rpn_cls: 0.0879, loss_rpn_bbox: 0.0710, loss_cls: 0.3735, acc: 89.1533, loss_bbox: 0.3425, loss: 0.8750, grad_norm: 2.0712\n",
      "2021-05-10 16:03:55,677 - mmdet - INFO - Epoch [3][550/655]\tlr: 2.000e-02, eta: 0:32:17, time: 0.317, data_time: 0.007, memory: 2096, loss_rpn_cls: 0.0994, loss_rpn_bbox: 0.0712, loss_cls: 0.3890, acc: 88.9102, loss_bbox: 0.3606, loss: 0.9202, grad_norm: 2.0416\n",
      "2021-05-10 16:04:11,686 - mmdet - INFO - Epoch [3][600/655]\tlr: 2.000e-02, eta: 0:32:01, time: 0.320, data_time: 0.007, memory: 2096, loss_rpn_cls: 0.0879, loss_rpn_bbox: 0.0577, loss_cls: 0.3937, acc: 89.0605, loss_bbox: 0.3501, loss: 0.8893, grad_norm: 2.1140\n",
      "2021-05-10 16:04:27,663 - mmdet - INFO - Epoch [3][650/655]\tlr: 2.000e-02, eta: 0:31:44, time: 0.320, data_time: 0.007, memory: 2096, loss_rpn_cls: 0.0805, loss_rpn_bbox: 0.0596, loss_cls: 0.3633, acc: 89.4082, loss_bbox: 0.3420, loss: 0.8455, grad_norm: 2.1484\n",
      "2021-05-10 16:04:29,343 - mmdet - INFO - Saving checkpoint at 3 epochs\n"
     ]
    },
    {
     "name": "stdout",
     "output_type": "stream",
     "text": [
      "[>>>>>>>>>>>>>>>>>>>>>>>>>>>>>] 655/655, 21.8 task/s, elapsed: 30s, ETA:     0s"
     ]
    },
    {
     "name": "stderr",
     "output_type": "stream",
     "text": [
      "2021-05-10 16:05:00,941 - mmdet - INFO - Evaluating bbox...\n"
     ]
    },
    {
     "name": "stdout",
     "output_type": "stream",
     "text": [
      "Loading and preparing results...\n",
      "DONE (t=0.62s)\n",
      "creating index...\n",
      "index created!\n",
      "Running per image evaluation...\n",
      "Evaluate annotation type *bbox*\n",
      "DONE (t=6.68s).\n",
      "Accumulating evaluation results...\n"
     ]
    },
    {
     "name": "stderr",
     "output_type": "stream",
     "text": [
      "2021-05-10 16:05:09,413 - mmdet - INFO - Epoch(val) [3][655]\tbbox_mAP: 0.0740, bbox_mAP_50: 0.1480, bbox_mAP_75: 0.0670, bbox_mAP_s: 0.0180, bbox_mAP_m: 0.0740, bbox_mAP_l: 0.1330, bbox_mAP_copypaste: 0.074 0.148 0.067 0.018 0.074 0.133\n"
     ]
    },
    {
     "name": "stdout",
     "output_type": "stream",
     "text": [
      "DONE (t=1.08s).\n",
      "Average Precision  (AP) @[ IoU=0.50:0.95 | area=   all | maxDets=100 ] = 0.074\n",
      "Average Precision  (AP) @[ IoU=0.50      | area=   all | maxDets=1000 ] = 0.148\n",
      "Average Precision  (AP) @[ IoU=0.75      | area=   all | maxDets=1000 ] = 0.067\n",
      "Average Precision  (AP) @[ IoU=0.50:0.95 | area= small | maxDets=1000 ] = 0.018\n",
      "Average Precision  (AP) @[ IoU=0.50:0.95 | area=medium | maxDets=1000 ] = 0.074\n",
      "Average Precision  (AP) @[ IoU=0.50:0.95 | area= large | maxDets=1000 ] = 0.133\n",
      "Average Recall     (AR) @[ IoU=0.50:0.95 | area=   all | maxDets=100 ] = 0.191\n",
      "Average Recall     (AR) @[ IoU=0.50:0.95 | area=   all | maxDets=300 ] = 0.191\n",
      "Average Recall     (AR) @[ IoU=0.50:0.95 | area=   all | maxDets=1000 ] = 0.191\n",
      "Average Recall     (AR) @[ IoU=0.50:0.95 | area= small | maxDets=1000 ] = 0.062\n",
      "Average Recall     (AR) @[ IoU=0.50:0.95 | area=medium | maxDets=1000 ] = 0.195\n",
      "Average Recall     (AR) @[ IoU=0.50:0.95 | area= large | maxDets=1000 ] = 0.321\n"
     ]
    },
    {
     "name": "stderr",
     "output_type": "stream",
     "text": [
      "2021-05-10 16:05:27,809 - mmdet - INFO - Epoch [4][50/655]\tlr: 2.000e-02, eta: 0:31:28, time: 0.368, data_time: 0.051, memory: 2096, loss_rpn_cls: 0.0787, loss_rpn_bbox: 0.0624, loss_cls: 0.3828, acc: 89.2373, loss_bbox: 0.3374, loss: 0.8614, grad_norm: 2.0844\n",
      "2021-05-10 16:05:43,704 - mmdet - INFO - Epoch [4][100/655]\tlr: 2.000e-02, eta: 0:31:11, time: 0.318, data_time: 0.007, memory: 2096, loss_rpn_cls: 0.0728, loss_rpn_bbox: 0.0623, loss_cls: 0.3818, acc: 89.1660, loss_bbox: 0.3457, loss: 0.8626, grad_norm: 2.0630\n",
      "2021-05-10 16:05:59,850 - mmdet - INFO - Epoch [4][150/655]\tlr: 2.000e-02, eta: 0:30:55, time: 0.323, data_time: 0.007, memory: 2096, loss_rpn_cls: 0.1002, loss_rpn_bbox: 0.0792, loss_cls: 0.4159, acc: 88.1299, loss_bbox: 0.3828, loss: 0.9780, grad_norm: 2.2101\n",
      "2021-05-10 16:06:15,530 - mmdet - INFO - Epoch [4][200/655]\tlr: 2.000e-02, eta: 0:30:38, time: 0.314, data_time: 0.007, memory: 2096, loss_rpn_cls: 0.0734, loss_rpn_bbox: 0.0526, loss_cls: 0.3589, acc: 89.6377, loss_bbox: 0.3205, loss: 0.8054, grad_norm: 2.2215\n",
      "2021-05-10 16:06:31,406 - mmdet - INFO - Epoch [4][250/655]\tlr: 2.000e-02, eta: 0:30:21, time: 0.318, data_time: 0.007, memory: 2096, loss_rpn_cls: 0.0913, loss_rpn_bbox: 0.0652, loss_cls: 0.4014, acc: 88.4414, loss_bbox: 0.3663, loss: 0.9242, grad_norm: 2.1934\n",
      "2021-05-10 16:06:47,367 - mmdet - INFO - Epoch [4][300/655]\tlr: 2.000e-02, eta: 0:30:04, time: 0.319, data_time: 0.007, memory: 2096, loss_rpn_cls: 0.0765, loss_rpn_bbox: 0.0636, loss_cls: 0.3779, acc: 89.0254, loss_bbox: 0.3485, loss: 0.8665, grad_norm: 2.0580\n",
      "2021-05-10 16:07:03,123 - mmdet - INFO - Epoch [4][350/655]\tlr: 2.000e-02, eta: 0:29:47, time: 0.315, data_time: 0.007, memory: 2096, loss_rpn_cls: 0.0761, loss_rpn_bbox: 0.0521, loss_cls: 0.3635, acc: 89.5557, loss_bbox: 0.3353, loss: 0.8270, grad_norm: 2.0067\n",
      "2021-05-10 16:07:19,174 - mmdet - INFO - Epoch [4][400/655]\tlr: 2.000e-02, eta: 0:29:31, time: 0.321, data_time: 0.007, memory: 2096, loss_rpn_cls: 0.1037, loss_rpn_bbox: 0.0672, loss_cls: 0.3989, acc: 88.7686, loss_bbox: 0.3456, loss: 0.9154, grad_norm: 2.2575\n",
      "2021-05-10 16:07:35,097 - mmdet - INFO - Epoch [4][450/655]\tlr: 2.000e-02, eta: 0:29:14, time: 0.318, data_time: 0.007, memory: 2096, loss_rpn_cls: 0.0718, loss_rpn_bbox: 0.0581, loss_cls: 0.3777, acc: 89.2119, loss_bbox: 0.3309, loss: 0.8385, grad_norm: 2.0147\n",
      "2021-05-10 16:07:50,865 - mmdet - INFO - Epoch [4][500/655]\tlr: 2.000e-02, eta: 0:28:58, time: 0.315, data_time: 0.007, memory: 2096, loss_rpn_cls: 0.0821, loss_rpn_bbox: 0.0570, loss_cls: 0.3538, acc: 89.8975, loss_bbox: 0.3118, loss: 0.8047, grad_norm: 2.1300\n",
      "2021-05-10 16:08:06,843 - mmdet - INFO - Epoch [4][550/655]\tlr: 2.000e-02, eta: 0:28:41, time: 0.320, data_time: 0.007, memory: 2096, loss_rpn_cls: 0.0776, loss_rpn_bbox: 0.0564, loss_cls: 0.3788, acc: 89.1982, loss_bbox: 0.3305, loss: 0.8433, grad_norm: 2.0517\n",
      "2021-05-10 16:08:22,801 - mmdet - INFO - Epoch [4][600/655]\tlr: 2.000e-02, eta: 0:28:25, time: 0.319, data_time: 0.007, memory: 2096, loss_rpn_cls: 0.0831, loss_rpn_bbox: 0.0573, loss_cls: 0.3812, acc: 89.2822, loss_bbox: 0.3201, loss: 0.8417, grad_norm: 2.2909\n",
      "2021-05-10 16:08:38,788 - mmdet - INFO - Epoch [4][650/655]\tlr: 2.000e-02, eta: 0:28:08, time: 0.320, data_time: 0.007, memory: 2096, loss_rpn_cls: 0.0924, loss_rpn_bbox: 0.0598, loss_cls: 0.3638, acc: 89.4912, loss_bbox: 0.3294, loss: 0.8453, grad_norm: 2.1490\n",
      "2021-05-10 16:08:40,400 - mmdet - INFO - Saving checkpoint at 4 epochs\n"
     ]
    },
    {
     "name": "stdout",
     "output_type": "stream",
     "text": [
      "[>>>>>>>>>>>>>>>>>>>>>>>>>>>>>] 655/655, 21.2 task/s, elapsed: 31s, ETA:     0s"
     ]
    },
    {
     "name": "stderr",
     "output_type": "stream",
     "text": [
      "2021-05-10 16:09:13,521 - mmdet - INFO - Evaluating bbox...\n"
     ]
    },
    {
     "name": "stdout",
     "output_type": "stream",
     "text": [
      "Loading and preparing results...\n",
      "DONE (t=0.67s)\n",
      "creating index...\n",
      "index created!\n",
      "Running per image evaluation...\n",
      "Evaluate annotation type *bbox*\n",
      "DONE (t=8.19s).\n",
      "Accumulating evaluation results...\n"
     ]
    },
    {
     "name": "stderr",
     "output_type": "stream",
     "text": [
      "2021-05-10 16:09:23,823 - mmdet - INFO - Epoch(val) [4][655]\tbbox_mAP: 0.0840, bbox_mAP_50: 0.1650, bbox_mAP_75: 0.0800, bbox_mAP_s: 0.0210, bbox_mAP_m: 0.0870, bbox_mAP_l: 0.1580, bbox_mAP_copypaste: 0.084 0.165 0.080 0.021 0.087 0.158\n"
     ]
    },
    {
     "name": "stdout",
     "output_type": "stream",
     "text": [
      "DONE (t=1.32s).\n",
      "Average Precision  (AP) @[ IoU=0.50:0.95 | area=   all | maxDets=100 ] = 0.084\n",
      "Average Precision  (AP) @[ IoU=0.50      | area=   all | maxDets=1000 ] = 0.165\n",
      "Average Precision  (AP) @[ IoU=0.75      | area=   all | maxDets=1000 ] = 0.080\n",
      "Average Precision  (AP) @[ IoU=0.50:0.95 | area= small | maxDets=1000 ] = 0.021\n",
      "Average Precision  (AP) @[ IoU=0.50:0.95 | area=medium | maxDets=1000 ] = 0.087\n",
      "Average Precision  (AP) @[ IoU=0.50:0.95 | area= large | maxDets=1000 ] = 0.158\n",
      "Average Recall     (AR) @[ IoU=0.50:0.95 | area=   all | maxDets=100 ] = 0.209\n",
      "Average Recall     (AR) @[ IoU=0.50:0.95 | area=   all | maxDets=300 ] = 0.209\n",
      "Average Recall     (AR) @[ IoU=0.50:0.95 | area=   all | maxDets=1000 ] = 0.209\n",
      "Average Recall     (AR) @[ IoU=0.50:0.95 | area= small | maxDets=1000 ] = 0.066\n",
      "Average Recall     (AR) @[ IoU=0.50:0.95 | area=medium | maxDets=1000 ] = 0.214\n",
      "Average Recall     (AR) @[ IoU=0.50:0.95 | area= large | maxDets=1000 ] = 0.346\n"
     ]
    },
    {
     "name": "stderr",
     "output_type": "stream",
     "text": [
      "2021-05-10 16:09:42,137 - mmdet - INFO - Epoch [5][50/655]\tlr: 2.000e-02, eta: 0:27:52, time: 0.366, data_time: 0.051, memory: 2096, loss_rpn_cls: 0.0649, loss_rpn_bbox: 0.0557, loss_cls: 0.3401, acc: 90.1660, loss_bbox: 0.3147, loss: 0.7754, grad_norm: 1.9313\n",
      "2021-05-10 16:09:58,312 - mmdet - INFO - Epoch [5][100/655]\tlr: 2.000e-02, eta: 0:27:36, time: 0.324, data_time: 0.007, memory: 2096, loss_rpn_cls: 0.0611, loss_rpn_bbox: 0.0557, loss_cls: 0.3547, acc: 89.5400, loss_bbox: 0.3249, loss: 0.7964, grad_norm: 1.9592\n",
      "2021-05-10 16:10:14,397 - mmdet - INFO - Epoch [5][150/655]\tlr: 2.000e-02, eta: 0:27:20, time: 0.322, data_time: 0.007, memory: 2096, loss_rpn_cls: 0.0673, loss_rpn_bbox: 0.0610, loss_cls: 0.3728, acc: 89.2168, loss_bbox: 0.3426, loss: 0.8437, grad_norm: 2.0499\n",
      "2021-05-10 16:10:30,376 - mmdet - INFO - Epoch [5][200/655]\tlr: 2.000e-02, eta: 0:27:03, time: 0.320, data_time: 0.007, memory: 2096, loss_rpn_cls: 0.0643, loss_rpn_bbox: 0.0547, loss_cls: 0.3628, acc: 89.5342, loss_bbox: 0.3306, loss: 0.8124, grad_norm: 2.1855\n",
      "2021-05-10 16:10:46,149 - mmdet - INFO - Epoch [5][250/655]\tlr: 2.000e-02, eta: 0:26:47, time: 0.315, data_time: 0.007, memory: 2096, loss_rpn_cls: 0.0674, loss_rpn_bbox: 0.0588, loss_cls: 0.3491, acc: 89.8398, loss_bbox: 0.3227, loss: 0.7979, grad_norm: 2.0618\n",
      "2021-05-10 16:11:02,126 - mmdet - INFO - Epoch [5][300/655]\tlr: 2.000e-02, eta: 0:26:30, time: 0.320, data_time: 0.007, memory: 2096, loss_rpn_cls: 0.0763, loss_rpn_bbox: 0.0607, loss_cls: 0.3707, acc: 89.2637, loss_bbox: 0.3422, loss: 0.8500, grad_norm: 2.2003\n",
      "2021-05-10 16:11:17,979 - mmdet - INFO - Epoch [5][350/655]\tlr: 2.000e-02, eta: 0:26:14, time: 0.317, data_time: 0.007, memory: 2096, loss_rpn_cls: 0.0798, loss_rpn_bbox: 0.0681, loss_cls: 0.3833, acc: 88.9678, loss_bbox: 0.3382, loss: 0.8695, grad_norm: 2.1847\n",
      "2021-05-10 16:11:33,797 - mmdet - INFO - Epoch [5][400/655]\tlr: 2.000e-02, eta: 0:25:57, time: 0.316, data_time: 0.007, memory: 2096, loss_rpn_cls: 0.0884, loss_rpn_bbox: 0.0629, loss_cls: 0.3814, acc: 89.2100, loss_bbox: 0.3227, loss: 0.8554, grad_norm: 2.2557\n",
      "2021-05-10 16:11:49,691 - mmdet - INFO - Epoch [5][450/655]\tlr: 2.000e-02, eta: 0:25:41, time: 0.318, data_time: 0.007, memory: 2096, loss_rpn_cls: 0.0793, loss_rpn_bbox: 0.0554, loss_cls: 0.3711, acc: 89.5117, loss_bbox: 0.3252, loss: 0.8311, grad_norm: 2.2103\n",
      "2021-05-10 16:12:05,755 - mmdet - INFO - Epoch [5][500/655]\tlr: 2.000e-02, eta: 0:25:25, time: 0.321, data_time: 0.007, memory: 2096, loss_rpn_cls: 0.0690, loss_rpn_bbox: 0.0550, loss_cls: 0.3594, acc: 89.7051, loss_bbox: 0.3182, loss: 0.8016, grad_norm: 2.0352\n",
      "2021-05-10 16:12:21,653 - mmdet - INFO - Epoch [5][550/655]\tlr: 2.000e-02, eta: 0:25:08, time: 0.318, data_time: 0.007, memory: 2096, loss_rpn_cls: 0.0700, loss_rpn_bbox: 0.0550, loss_cls: 0.3619, acc: 89.2666, loss_bbox: 0.3383, loss: 0.8251, grad_norm: 2.0483\n",
      "2021-05-10 16:12:37,667 - mmdet - INFO - Epoch [5][600/655]\tlr: 2.000e-02, eta: 0:24:52, time: 0.320, data_time: 0.007, memory: 2096, loss_rpn_cls: 0.0730, loss_rpn_bbox: 0.0558, loss_cls: 0.3493, acc: 89.7559, loss_bbox: 0.3182, loss: 0.7963, grad_norm: 2.1295\n",
      "2021-05-10 16:12:53,579 - mmdet - INFO - Epoch [5][650/655]\tlr: 2.000e-02, eta: 0:24:36, time: 0.318, data_time: 0.007, memory: 2096, loss_rpn_cls: 0.0771, loss_rpn_bbox: 0.0639, loss_cls: 0.3512, acc: 90.0264, loss_bbox: 0.3047, loss: 0.7969, grad_norm: 2.2715\n",
      "2021-05-10 16:12:55,211 - mmdet - INFO - Saving checkpoint at 5 epochs\n"
     ]
    },
    {
     "name": "stdout",
     "output_type": "stream",
     "text": [
      "[>>>>>>>>>>>>>>>>>>>>>>>>>>>>>] 655/655, 21.6 task/s, elapsed: 30s, ETA:     0s"
     ]
    },
    {
     "name": "stderr",
     "output_type": "stream",
     "text": [
      "2021-05-10 16:13:27,284 - mmdet - INFO - Evaluating bbox...\n"
     ]
    },
    {
     "name": "stdout",
     "output_type": "stream",
     "text": [
      "Loading and preparing results...\n",
      "DONE (t=0.66s)\n",
      "creating index...\n",
      "index created!\n",
      "Running per image evaluation...\n",
      "Evaluate annotation type *bbox*\n",
      "DONE (t=7.08s).\n",
      "Accumulating evaluation results...\n"
     ]
    },
    {
     "name": "stderr",
     "output_type": "stream",
     "text": [
      "2021-05-10 16:13:36,306 - mmdet - INFO - Epoch(val) [5][655]\tbbox_mAP: 0.0980, bbox_mAP_50: 0.1860, bbox_mAP_75: 0.0970, bbox_mAP_s: 0.0210, bbox_mAP_m: 0.0960, bbox_mAP_l: 0.1890, bbox_mAP_copypaste: 0.098 0.186 0.097 0.021 0.096 0.189\n"
     ]
    },
    {
     "name": "stdout",
     "output_type": "stream",
     "text": [
      "DONE (t=1.18s).\n",
      "Average Precision  (AP) @[ IoU=0.50:0.95 | area=   all | maxDets=100 ] = 0.098\n",
      "Average Precision  (AP) @[ IoU=0.50      | area=   all | maxDets=1000 ] = 0.186\n",
      "Average Precision  (AP) @[ IoU=0.75      | area=   all | maxDets=1000 ] = 0.097\n",
      "Average Precision  (AP) @[ IoU=0.50:0.95 | area= small | maxDets=1000 ] = 0.021\n",
      "Average Precision  (AP) @[ IoU=0.50:0.95 | area=medium | maxDets=1000 ] = 0.096\n",
      "Average Precision  (AP) @[ IoU=0.50:0.95 | area= large | maxDets=1000 ] = 0.189\n",
      "Average Recall     (AR) @[ IoU=0.50:0.95 | area=   all | maxDets=100 ] = 0.230\n",
      "Average Recall     (AR) @[ IoU=0.50:0.95 | area=   all | maxDets=300 ] = 0.230\n",
      "Average Recall     (AR) @[ IoU=0.50:0.95 | area=   all | maxDets=1000 ] = 0.230\n",
      "Average Recall     (AR) @[ IoU=0.50:0.95 | area= small | maxDets=1000 ] = 0.070\n",
      "Average Recall     (AR) @[ IoU=0.50:0.95 | area=medium | maxDets=1000 ] = 0.225\n",
      "Average Recall     (AR) @[ IoU=0.50:0.95 | area= large | maxDets=1000 ] = 0.413\n"
     ]
    },
    {
     "name": "stderr",
     "output_type": "stream",
     "text": [
      "2021-05-10 16:13:54,357 - mmdet - INFO - Epoch [6][50/655]\tlr: 2.000e-02, eta: 0:24:19, time: 0.361, data_time: 0.050, memory: 2096, loss_rpn_cls: 0.0543, loss_rpn_bbox: 0.0575, loss_cls: 0.3452, acc: 89.8906, loss_bbox: 0.3124, loss: 0.7694, grad_norm: 2.0657\n",
      "2021-05-10 16:14:10,528 - mmdet - INFO - Epoch [6][100/655]\tlr: 2.000e-02, eta: 0:24:03, time: 0.323, data_time: 0.007, memory: 2096, loss_rpn_cls: 0.0675, loss_rpn_bbox: 0.0640, loss_cls: 0.3654, acc: 89.5322, loss_bbox: 0.3206, loss: 0.8175, grad_norm: 2.2362\n",
      "2021-05-10 16:14:26,442 - mmdet - INFO - Epoch [6][150/655]\tlr: 2.000e-02, eta: 0:23:46, time: 0.318, data_time: 0.007, memory: 2096, loss_rpn_cls: 0.0744, loss_rpn_bbox: 0.0555, loss_cls: 0.3539, acc: 89.4248, loss_bbox: 0.3179, loss: 0.8017, grad_norm: 2.2083\n",
      "2021-05-10 16:14:42,769 - mmdet - INFO - Epoch [6][200/655]\tlr: 2.000e-02, eta: 0:23:31, time: 0.327, data_time: 0.007, memory: 2096, loss_rpn_cls: 0.0731, loss_rpn_bbox: 0.0599, loss_cls: 0.3605, acc: 89.4912, loss_bbox: 0.3232, loss: 0.8167, grad_norm: 2.1729\n",
      "2021-05-10 16:14:59,210 - mmdet - INFO - Epoch [6][250/655]\tlr: 2.000e-02, eta: 0:23:15, time: 0.329, data_time: 0.007, memory: 2096, loss_rpn_cls: 0.0650, loss_rpn_bbox: 0.0584, loss_cls: 0.3607, acc: 89.1553, loss_bbox: 0.3400, loss: 0.8242, grad_norm: 2.1968\n",
      "2021-05-10 16:15:15,194 - mmdet - INFO - Epoch [6][300/655]\tlr: 2.000e-02, eta: 0:22:59, time: 0.320, data_time: 0.007, memory: 2096, loss_rpn_cls: 0.0544, loss_rpn_bbox: 0.0538, loss_cls: 0.3243, acc: 90.3896, loss_bbox: 0.2923, loss: 0.7247, grad_norm: 1.9872\n",
      "2021-05-10 16:15:30,910 - mmdet - INFO - Epoch [6][350/655]\tlr: 2.000e-02, eta: 0:22:42, time: 0.314, data_time: 0.007, memory: 2096, loss_rpn_cls: 0.0667, loss_rpn_bbox: 0.0547, loss_cls: 0.3366, acc: 89.9287, loss_bbox: 0.3209, loss: 0.7789, grad_norm: 2.0379\n",
      "2021-05-10 16:15:46,767 - mmdet - INFO - Epoch [6][400/655]\tlr: 2.000e-02, eta: 0:22:26, time: 0.317, data_time: 0.007, memory: 2096, loss_rpn_cls: 0.0657, loss_rpn_bbox: 0.0559, loss_cls: 0.3516, acc: 89.5039, loss_bbox: 0.3222, loss: 0.7954, grad_norm: 2.1029\n",
      "2021-05-10 16:16:02,809 - mmdet - INFO - Epoch [6][450/655]\tlr: 2.000e-02, eta: 0:22:10, time: 0.321, data_time: 0.007, memory: 2096, loss_rpn_cls: 0.0605, loss_rpn_bbox: 0.0537, loss_cls: 0.3574, acc: 89.6699, loss_bbox: 0.3157, loss: 0.7874, grad_norm: 2.1559\n",
      "2021-05-10 16:16:18,970 - mmdet - INFO - Epoch [6][500/655]\tlr: 2.000e-02, eta: 0:21:54, time: 0.323, data_time: 0.007, memory: 2096, loss_rpn_cls: 0.0627, loss_rpn_bbox: 0.0557, loss_cls: 0.3788, acc: 88.8018, loss_bbox: 0.3500, loss: 0.8473, grad_norm: 2.1977\n",
      "2021-05-10 16:16:34,909 - mmdet - INFO - Epoch [6][550/655]\tlr: 2.000e-02, eta: 0:21:37, time: 0.319, data_time: 0.007, memory: 2096, loss_rpn_cls: 0.0667, loss_rpn_bbox: 0.0487, loss_cls: 0.3268, acc: 90.3037, loss_bbox: 0.2996, loss: 0.7418, grad_norm: 2.1385\n",
      "2021-05-10 16:16:51,073 - mmdet - INFO - Epoch [6][600/655]\tlr: 2.000e-02, eta: 0:21:21, time: 0.323, data_time: 0.007, memory: 2096, loss_rpn_cls: 0.0709, loss_rpn_bbox: 0.0664, loss_cls: 0.3783, acc: 88.8281, loss_bbox: 0.3479, loss: 0.8634, grad_norm: 2.1260\n",
      "2021-05-10 16:17:07,019 - mmdet - INFO - Epoch [6][650/655]\tlr: 2.000e-02, eta: 0:21:05, time: 0.319, data_time: 0.007, memory: 2096, loss_rpn_cls: 0.0731, loss_rpn_bbox: 0.0584, loss_cls: 0.3371, acc: 90.0654, loss_bbox: 0.3196, loss: 0.7882, grad_norm: 2.2222\n",
      "2021-05-10 16:17:08,663 - mmdet - INFO - Saving checkpoint at 6 epochs\n"
     ]
    },
    {
     "name": "stdout",
     "output_type": "stream",
     "text": [
      "[>>>>>>>>>>>>>>>>>>>>>>>>>>>>>] 655/655, 21.8 task/s, elapsed: 30s, ETA:     0s"
     ]
    },
    {
     "name": "stderr",
     "output_type": "stream",
     "text": [
      "2021-05-10 16:17:40,448 - mmdet - INFO - Evaluating bbox...\n"
     ]
    },
    {
     "name": "stdout",
     "output_type": "stream",
     "text": [
      "Loading and preparing results...\n",
      "DONE (t=1.14s)\n",
      "creating index...\n",
      "index created!\n",
      "Running per image evaluation...\n",
      "Evaluate annotation type *bbox*\n",
      "DONE (t=8.36s).\n",
      "Accumulating evaluation results...\n"
     ]
    },
    {
     "name": "stderr",
     "output_type": "stream",
     "text": [
      "2021-05-10 16:17:51,537 - mmdet - INFO - Epoch(val) [6][655]\tbbox_mAP: 0.0990, bbox_mAP_50: 0.1780, bbox_mAP_75: 0.0970, bbox_mAP_s: 0.0200, bbox_mAP_m: 0.0960, bbox_mAP_l: 0.1940, bbox_mAP_copypaste: 0.099 0.178 0.097 0.020 0.096 0.194\n"
     ]
    },
    {
     "name": "stdout",
     "output_type": "stream",
     "text": [
      "DONE (t=1.46s).\n",
      "Average Precision  (AP) @[ IoU=0.50:0.95 | area=   all | maxDets=100 ] = 0.099\n",
      "Average Precision  (AP) @[ IoU=0.50      | area=   all | maxDets=1000 ] = 0.178\n",
      "Average Precision  (AP) @[ IoU=0.75      | area=   all | maxDets=1000 ] = 0.097\n",
      "Average Precision  (AP) @[ IoU=0.50:0.95 | area= small | maxDets=1000 ] = 0.020\n",
      "Average Precision  (AP) @[ IoU=0.50:0.95 | area=medium | maxDets=1000 ] = 0.096\n",
      "Average Precision  (AP) @[ IoU=0.50:0.95 | area= large | maxDets=1000 ] = 0.194\n",
      "Average Recall     (AR) @[ IoU=0.50:0.95 | area=   all | maxDets=100 ] = 0.209\n",
      "Average Recall     (AR) @[ IoU=0.50:0.95 | area=   all | maxDets=300 ] = 0.209\n",
      "Average Recall     (AR) @[ IoU=0.50:0.95 | area=   all | maxDets=1000 ] = 0.209\n",
      "Average Recall     (AR) @[ IoU=0.50:0.95 | area= small | maxDets=1000 ] = 0.056\n",
      "Average Recall     (AR) @[ IoU=0.50:0.95 | area=medium | maxDets=1000 ] = 0.201\n",
      "Average Recall     (AR) @[ IoU=0.50:0.95 | area= large | maxDets=1000 ] = 0.392\n"
     ]
    },
    {
     "name": "stderr",
     "output_type": "stream",
     "text": [
      "2021-05-10 16:18:09,759 - mmdet - INFO - Epoch [7][50/655]\tlr: 2.000e-02, eta: 0:20:48, time: 0.364, data_time: 0.051, memory: 2096, loss_rpn_cls: 0.0662, loss_rpn_bbox: 0.0588, loss_cls: 0.3625, acc: 89.1016, loss_bbox: 0.3305, loss: 0.8180, grad_norm: 2.2865\n",
      "2021-05-10 16:18:25,859 - mmdet - INFO - Epoch [7][100/655]\tlr: 2.000e-02, eta: 0:20:32, time: 0.322, data_time: 0.007, memory: 2096, loss_rpn_cls: 0.0561, loss_rpn_bbox: 0.0505, loss_cls: 0.3241, acc: 90.5557, loss_bbox: 0.2916, loss: 0.7223, grad_norm: 2.0078\n",
      "2021-05-10 16:18:42,026 - mmdet - INFO - Epoch [7][150/655]\tlr: 2.000e-02, eta: 0:20:16, time: 0.323, data_time: 0.007, memory: 2096, loss_rpn_cls: 0.0504, loss_rpn_bbox: 0.0577, loss_cls: 0.3430, acc: 89.6533, loss_bbox: 0.3204, loss: 0.7715, grad_norm: 2.1439\n",
      "2021-05-10 16:18:58,109 - mmdet - INFO - Epoch [7][200/655]\tlr: 2.000e-02, eta: 0:20:00, time: 0.322, data_time: 0.007, memory: 2096, loss_rpn_cls: 0.0613, loss_rpn_bbox: 0.0575, loss_cls: 0.3574, acc: 89.2607, loss_bbox: 0.3283, loss: 0.8045, grad_norm: 2.2347\n",
      "2021-05-10 16:19:13,981 - mmdet - INFO - Epoch [7][250/655]\tlr: 2.000e-02, eta: 0:19:44, time: 0.317, data_time: 0.007, memory: 2096, loss_rpn_cls: 0.0532, loss_rpn_bbox: 0.0518, loss_cls: 0.3224, acc: 89.9873, loss_bbox: 0.2964, loss: 0.7237, grad_norm: 1.9779\n",
      "2021-05-10 16:19:29,978 - mmdet - INFO - Epoch [7][300/655]\tlr: 2.000e-02, eta: 0:19:27, time: 0.320, data_time: 0.007, memory: 2096, loss_rpn_cls: 0.0702, loss_rpn_bbox: 0.0610, loss_cls: 0.3363, acc: 90.2236, loss_bbox: 0.3173, loss: 0.7847, grad_norm: 2.3578\n",
      "2021-05-10 16:19:45,910 - mmdet - INFO - Epoch [7][350/655]\tlr: 2.000e-02, eta: 0:19:11, time: 0.319, data_time: 0.007, memory: 2096, loss_rpn_cls: 0.0686, loss_rpn_bbox: 0.0561, loss_cls: 0.3277, acc: 90.5449, loss_bbox: 0.3071, loss: 0.7594, grad_norm: 2.1712\n",
      "2021-05-10 16:20:02,033 - mmdet - INFO - Epoch [7][400/655]\tlr: 2.000e-02, eta: 0:18:55, time: 0.322, data_time: 0.007, memory: 2096, loss_rpn_cls: 0.0580, loss_rpn_bbox: 0.0553, loss_cls: 0.3311, acc: 90.2471, loss_bbox: 0.3088, loss: 0.7533, grad_norm: 2.1638\n",
      "2021-05-10 16:20:17,914 - mmdet - INFO - Epoch [7][450/655]\tlr: 2.000e-02, eta: 0:18:39, time: 0.318, data_time: 0.007, memory: 2096, loss_rpn_cls: 0.0665, loss_rpn_bbox: 0.0530, loss_cls: 0.3447, acc: 89.8555, loss_bbox: 0.3161, loss: 0.7803, grad_norm: 2.2499\n",
      "2021-05-10 16:20:33,721 - mmdet - INFO - Epoch [7][500/655]\tlr: 2.000e-02, eta: 0:18:23, time: 0.316, data_time: 0.007, memory: 2096, loss_rpn_cls: 0.0589, loss_rpn_bbox: 0.0498, loss_cls: 0.3376, acc: 90.1807, loss_bbox: 0.3117, loss: 0.7580, grad_norm: 2.2312\n",
      "2021-05-10 16:20:49,563 - mmdet - INFO - Epoch [7][550/655]\tlr: 2.000e-02, eta: 0:18:06, time: 0.317, data_time: 0.007, memory: 2096, loss_rpn_cls: 0.0635, loss_rpn_bbox: 0.0554, loss_cls: 0.3513, acc: 89.7168, loss_bbox: 0.3103, loss: 0.7805, grad_norm: 2.1312\n",
      "2021-05-10 16:21:05,372 - mmdet - INFO - Epoch [7][600/655]\tlr: 2.000e-02, eta: 0:17:50, time: 0.316, data_time: 0.007, memory: 2096, loss_rpn_cls: 0.0575, loss_rpn_bbox: 0.0598, loss_cls: 0.3391, acc: 90.0986, loss_bbox: 0.3186, loss: 0.7751, grad_norm: 2.0481\n",
      "2021-05-10 16:21:21,177 - mmdet - INFO - Epoch [7][650/655]\tlr: 2.000e-02, eta: 0:17:34, time: 0.316, data_time: 0.007, memory: 2096, loss_rpn_cls: 0.0576, loss_rpn_bbox: 0.0535, loss_cls: 0.3165, acc: 90.2422, loss_bbox: 0.2935, loss: 0.7211, grad_norm: 2.0801\n",
      "2021-05-10 16:21:22,794 - mmdet - INFO - Saving checkpoint at 7 epochs\n"
     ]
    },
    {
     "name": "stdout",
     "output_type": "stream",
     "text": [
      "[>>>>>>>>>>>>>>>>>>>>>>>>>>>>>] 655/655, 21.9 task/s, elapsed: 30s, ETA:     0s"
     ]
    },
    {
     "name": "stderr",
     "output_type": "stream",
     "text": [
      "2021-05-10 16:21:54,249 - mmdet - INFO - Evaluating bbox...\n"
     ]
    },
    {
     "name": "stdout",
     "output_type": "stream",
     "text": [
      "Loading and preparing results...\n",
      "DONE (t=0.83s)\n",
      "creating index...\n",
      "index created!\n",
      "Running per image evaluation...\n",
      "Evaluate annotation type *bbox*\n",
      "DONE (t=7.01s).\n",
      "Accumulating evaluation results...\n"
     ]
    },
    {
     "name": "stderr",
     "output_type": "stream",
     "text": [
      "2021-05-10 16:22:03,404 - mmdet - INFO - Epoch(val) [7][655]\tbbox_mAP: 0.0980, bbox_mAP_50: 0.1820, bbox_mAP_75: 0.0980, bbox_mAP_s: 0.0240, bbox_mAP_m: 0.0840, bbox_mAP_l: 0.1990, bbox_mAP_copypaste: 0.098 0.182 0.098 0.024 0.084 0.199\n"
     ]
    },
    {
     "name": "stdout",
     "output_type": "stream",
     "text": [
      "DONE (t=1.21s).\n",
      "Average Precision  (AP) @[ IoU=0.50:0.95 | area=   all | maxDets=100 ] = 0.098\n",
      "Average Precision  (AP) @[ IoU=0.50      | area=   all | maxDets=1000 ] = 0.182\n",
      "Average Precision  (AP) @[ IoU=0.75      | area=   all | maxDets=1000 ] = 0.098\n",
      "Average Precision  (AP) @[ IoU=0.50:0.95 | area= small | maxDets=1000 ] = 0.024\n",
      "Average Precision  (AP) @[ IoU=0.50:0.95 | area=medium | maxDets=1000 ] = 0.084\n",
      "Average Precision  (AP) @[ IoU=0.50:0.95 | area= large | maxDets=1000 ] = 0.199\n",
      "Average Recall     (AR) @[ IoU=0.50:0.95 | area=   all | maxDets=100 ] = 0.230\n",
      "Average Recall     (AR) @[ IoU=0.50:0.95 | area=   all | maxDets=300 ] = 0.230\n",
      "Average Recall     (AR) @[ IoU=0.50:0.95 | area=   all | maxDets=1000 ] = 0.230\n",
      "Average Recall     (AR) @[ IoU=0.50:0.95 | area= small | maxDets=1000 ] = 0.073\n",
      "Average Recall     (AR) @[ IoU=0.50:0.95 | area=medium | maxDets=1000 ] = 0.209\n",
      "Average Recall     (AR) @[ IoU=0.50:0.95 | area= large | maxDets=1000 ] = 0.424\n"
     ]
    },
    {
     "name": "stderr",
     "output_type": "stream",
     "text": [
      "2021-05-10 16:22:21,675 - mmdet - INFO - Epoch [8][50/655]\tlr: 2.000e-02, eta: 0:17:17, time: 0.365, data_time: 0.051, memory: 2096, loss_rpn_cls: 0.0540, loss_rpn_bbox: 0.0593, loss_cls: 0.3396, acc: 89.7607, loss_bbox: 0.3222, loss: 0.7750, grad_norm: 2.2979\n",
      "2021-05-10 16:22:37,996 - mmdet - INFO - Epoch [8][100/655]\tlr: 2.000e-02, eta: 0:17:01, time: 0.326, data_time: 0.007, memory: 2096, loss_rpn_cls: 0.0527, loss_rpn_bbox: 0.0521, loss_cls: 0.3087, acc: 90.6709, loss_bbox: 0.3127, loss: 0.7263, grad_norm: 2.1467\n",
      "2021-05-10 16:22:54,092 - mmdet - INFO - Epoch [8][150/655]\tlr: 2.000e-02, eta: 0:16:45, time: 0.322, data_time: 0.007, memory: 2096, loss_rpn_cls: 0.0424, loss_rpn_bbox: 0.0436, loss_cls: 0.2928, acc: 91.0801, loss_bbox: 0.2730, loss: 0.6518, grad_norm: 2.1164\n",
      "2021-05-10 16:23:10,051 - mmdet - INFO - Epoch [8][200/655]\tlr: 2.000e-02, eta: 0:16:28, time: 0.319, data_time: 0.007, memory: 2096, loss_rpn_cls: 0.0530, loss_rpn_bbox: 0.0540, loss_cls: 0.3323, acc: 89.9346, loss_bbox: 0.3159, loss: 0.7553, grad_norm: 2.2596\n",
      "2021-05-10 16:23:25,740 - mmdet - INFO - Epoch [8][250/655]\tlr: 2.000e-02, eta: 0:16:12, time: 0.314, data_time: 0.007, memory: 2096, loss_rpn_cls: 0.0521, loss_rpn_bbox: 0.0507, loss_cls: 0.3005, acc: 90.8125, loss_bbox: 0.2888, loss: 0.6921, grad_norm: 2.2050\n",
      "2021-05-10 16:23:41,840 - mmdet - INFO - Epoch [8][300/655]\tlr: 2.000e-02, eta: 0:15:56, time: 0.322, data_time: 0.007, memory: 2096, loss_rpn_cls: 0.0510, loss_rpn_bbox: 0.0516, loss_cls: 0.3031, acc: 90.7432, loss_bbox: 0.2930, loss: 0.6987, grad_norm: 2.0624\n",
      "2021-05-10 16:23:57,708 - mmdet - INFO - Epoch [8][350/655]\tlr: 2.000e-02, eta: 0:15:40, time: 0.317, data_time: 0.007, memory: 2096, loss_rpn_cls: 0.0602, loss_rpn_bbox: 0.0583, loss_cls: 0.3458, acc: 89.4316, loss_bbox: 0.3280, loss: 0.7924, grad_norm: 2.2713\n",
      "2021-05-10 16:24:13,735 - mmdet - INFO - Epoch [8][400/655]\tlr: 2.000e-02, eta: 0:15:24, time: 0.321, data_time: 0.007, memory: 2096, loss_rpn_cls: 0.0674, loss_rpn_bbox: 0.0571, loss_cls: 0.3509, acc: 89.4941, loss_bbox: 0.3297, loss: 0.8051, grad_norm: 2.3257\n",
      "2021-05-10 16:24:29,837 - mmdet - INFO - Epoch [8][450/655]\tlr: 2.000e-02, eta: 0:15:08, time: 0.322, data_time: 0.007, memory: 2096, loss_rpn_cls: 0.0566, loss_rpn_bbox: 0.0578, loss_cls: 0.3300, acc: 90.1055, loss_bbox: 0.3031, loss: 0.7475, grad_norm: 2.2558\n",
      "2021-05-10 16:24:46,067 - mmdet - INFO - Epoch [8][500/655]\tlr: 2.000e-02, eta: 0:14:52, time: 0.325, data_time: 0.007, memory: 2096, loss_rpn_cls: 0.0484, loss_rpn_bbox: 0.0526, loss_cls: 0.3361, acc: 90.0312, loss_bbox: 0.3054, loss: 0.7424, grad_norm: 2.1717\n",
      "2021-05-10 16:25:02,029 - mmdet - INFO - Epoch [8][550/655]\tlr: 2.000e-02, eta: 0:14:36, time: 0.319, data_time: 0.007, memory: 2096, loss_rpn_cls: 0.0671, loss_rpn_bbox: 0.0589, loss_cls: 0.3439, acc: 89.7539, loss_bbox: 0.3197, loss: 0.7897, grad_norm: 2.3557\n",
      "2021-05-10 16:25:17,865 - mmdet - INFO - Epoch [8][600/655]\tlr: 2.000e-02, eta: 0:14:19, time: 0.317, data_time: 0.007, memory: 2096, loss_rpn_cls: 0.0578, loss_rpn_bbox: 0.0589, loss_cls: 0.3161, acc: 90.5146, loss_bbox: 0.2960, loss: 0.7287, grad_norm: 2.1842\n",
      "2021-05-10 16:25:33,635 - mmdet - INFO - Epoch [8][650/655]\tlr: 2.000e-02, eta: 0:14:03, time: 0.315, data_time: 0.007, memory: 2096, loss_rpn_cls: 0.0535, loss_rpn_bbox: 0.0493, loss_cls: 0.3180, acc: 90.5205, loss_bbox: 0.2938, loss: 0.7146, grad_norm: 2.1706\n",
      "2021-05-10 16:25:35,231 - mmdet - INFO - Saving checkpoint at 8 epochs\n"
     ]
    },
    {
     "name": "stdout",
     "output_type": "stream",
     "text": [
      "[>>>>>>>>>>>>>>>>>>>>>>>>>>>>>] 655/655, 21.0 task/s, elapsed: 31s, ETA:     0s"
     ]
    },
    {
     "name": "stderr",
     "output_type": "stream",
     "text": [
      "2021-05-10 16:26:07,875 - mmdet - INFO - Evaluating bbox...\n"
     ]
    },
    {
     "name": "stdout",
     "output_type": "stream",
     "text": [
      "Loading and preparing results...\n",
      "DONE (t=0.62s)\n",
      "creating index...\n",
      "index created!\n",
      "Running per image evaluation...\n",
      "Evaluate annotation type *bbox*\n",
      "DONE (t=5.93s).\n",
      "Accumulating evaluation results...\n"
     ]
    },
    {
     "name": "stderr",
     "output_type": "stream",
     "text": [
      "2021-05-10 16:26:15,415 - mmdet - INFO - Epoch(val) [8][655]\tbbox_mAP: 0.1100, bbox_mAP_50: 0.2030, bbox_mAP_75: 0.1060, bbox_mAP_s: 0.0300, bbox_mAP_m: 0.1080, bbox_mAP_l: 0.2120, bbox_mAP_copypaste: 0.110 0.203 0.106 0.030 0.108 0.212\n"
     ]
    },
    {
     "name": "stdout",
     "output_type": "stream",
     "text": [
      "DONE (t=0.90s).\n",
      "Average Precision  (AP) @[ IoU=0.50:0.95 | area=   all | maxDets=100 ] = 0.110\n",
      "Average Precision  (AP) @[ IoU=0.50      | area=   all | maxDets=1000 ] = 0.203\n",
      "Average Precision  (AP) @[ IoU=0.75      | area=   all | maxDets=1000 ] = 0.106\n",
      "Average Precision  (AP) @[ IoU=0.50:0.95 | area= small | maxDets=1000 ] = 0.030\n",
      "Average Precision  (AP) @[ IoU=0.50:0.95 | area=medium | maxDets=1000 ] = 0.108\n",
      "Average Precision  (AP) @[ IoU=0.50:0.95 | area= large | maxDets=1000 ] = 0.212\n",
      "Average Recall     (AR) @[ IoU=0.50:0.95 | area=   all | maxDets=100 ] = 0.229\n",
      "Average Recall     (AR) @[ IoU=0.50:0.95 | area=   all | maxDets=300 ] = 0.229\n",
      "Average Recall     (AR) @[ IoU=0.50:0.95 | area=   all | maxDets=1000 ] = 0.229\n",
      "Average Recall     (AR) @[ IoU=0.50:0.95 | area= small | maxDets=1000 ] = 0.079\n",
      "Average Recall     (AR) @[ IoU=0.50:0.95 | area=medium | maxDets=1000 ] = 0.223\n",
      "Average Recall     (AR) @[ IoU=0.50:0.95 | area= large | maxDets=1000 ] = 0.401\n"
     ]
    },
    {
     "name": "stderr",
     "output_type": "stream",
     "text": [
      "2021-05-10 16:26:33,964 - mmdet - INFO - Epoch [9][50/655]\tlr: 2.000e-03, eta: 0:13:46, time: 0.371, data_time: 0.051, memory: 2096, loss_rpn_cls: 0.0419, loss_rpn_bbox: 0.0482, loss_cls: 0.2789, acc: 91.1602, loss_bbox: 0.2840, loss: 0.6530, grad_norm: 1.9409\n",
      "2021-05-10 16:26:49,837 - mmdet - INFO - Epoch [9][100/655]\tlr: 2.000e-03, eta: 0:13:30, time: 0.317, data_time: 0.007, memory: 2096, loss_rpn_cls: 0.0487, loss_rpn_bbox: 0.0526, loss_cls: 0.3237, acc: 90.0586, loss_bbox: 0.3129, loss: 0.7379, grad_norm: 2.0461\n",
      "2021-05-10 16:27:05,613 - mmdet - INFO - Epoch [9][150/655]\tlr: 2.000e-03, eta: 0:13:13, time: 0.316, data_time: 0.007, memory: 2096, loss_rpn_cls: 0.0394, loss_rpn_bbox: 0.0471, loss_cls: 0.2749, acc: 91.1875, loss_bbox: 0.2734, loss: 0.6347, grad_norm: 1.8706\n",
      "2021-05-10 16:27:21,399 - mmdet - INFO - Epoch [9][200/655]\tlr: 2.000e-03, eta: 0:12:57, time: 0.316, data_time: 0.007, memory: 2096, loss_rpn_cls: 0.0369, loss_rpn_bbox: 0.0432, loss_cls: 0.2741, acc: 91.6270, loss_bbox: 0.2803, loss: 0.6344, grad_norm: 1.9706\n",
      "2021-05-10 16:27:37,100 - mmdet - INFO - Epoch [9][250/655]\tlr: 2.000e-03, eta: 0:12:41, time: 0.314, data_time: 0.007, memory: 2096, loss_rpn_cls: 0.0326, loss_rpn_bbox: 0.0433, loss_cls: 0.2697, acc: 91.6035, loss_bbox: 0.2728, loss: 0.6184, grad_norm: 1.8988\n",
      "2021-05-10 16:27:52,841 - mmdet - INFO - Epoch [9][300/655]\tlr: 2.000e-03, eta: 0:12:25, time: 0.315, data_time: 0.007, memory: 2096, loss_rpn_cls: 0.0321, loss_rpn_bbox: 0.0416, loss_cls: 0.2514, acc: 92.2598, loss_bbox: 0.2584, loss: 0.5836, grad_norm: 1.8937\n",
      "2021-05-10 16:28:08,701 - mmdet - INFO - Epoch [9][350/655]\tlr: 2.000e-03, eta: 0:12:09, time: 0.317, data_time: 0.007, memory: 2096, loss_rpn_cls: 0.0330, loss_rpn_bbox: 0.0435, loss_cls: 0.2749, acc: 91.4141, loss_bbox: 0.2737, loss: 0.6250, grad_norm: 2.0126\n",
      "2021-05-10 16:28:24,821 - mmdet - INFO - Epoch [9][400/655]\tlr: 2.000e-03, eta: 0:11:53, time: 0.322, data_time: 0.007, memory: 2096, loss_rpn_cls: 0.0374, loss_rpn_bbox: 0.0519, loss_cls: 0.2911, acc: 90.7051, loss_bbox: 0.3081, loss: 0.6885, grad_norm: 2.1243\n",
      "2021-05-10 16:28:40,745 - mmdet - INFO - Epoch [9][450/655]\tlr: 2.000e-03, eta: 0:11:37, time: 0.318, data_time: 0.007, memory: 2096, loss_rpn_cls: 0.0339, loss_rpn_bbox: 0.0428, loss_cls: 0.2558, acc: 91.8799, loss_bbox: 0.2661, loss: 0.5985, grad_norm: 1.9163\n",
      "2021-05-10 16:28:56,719 - mmdet - INFO - Epoch [9][500/655]\tlr: 2.000e-03, eta: 0:11:20, time: 0.319, data_time: 0.007, memory: 2096, loss_rpn_cls: 0.0315, loss_rpn_bbox: 0.0427, loss_cls: 0.2534, acc: 92.0156, loss_bbox: 0.2583, loss: 0.5859, grad_norm: 1.9267\n",
      "2021-05-10 16:29:12,503 - mmdet - INFO - Epoch [9][550/655]\tlr: 2.000e-03, eta: 0:11:04, time: 0.316, data_time: 0.007, memory: 2096, loss_rpn_cls: 0.0338, loss_rpn_bbox: 0.0456, loss_cls: 0.2587, acc: 91.7285, loss_bbox: 0.2679, loss: 0.6060, grad_norm: 1.9581\n",
      "2021-05-10 16:29:28,808 - mmdet - INFO - Epoch [9][600/655]\tlr: 2.000e-03, eta: 0:10:48, time: 0.326, data_time: 0.007, memory: 2096, loss_rpn_cls: 0.0307, loss_rpn_bbox: 0.0464, loss_cls: 0.2734, acc: 91.1416, loss_bbox: 0.2838, loss: 0.6344, grad_norm: 1.9051\n",
      "2021-05-10 16:29:44,713 - mmdet - INFO - Epoch [9][650/655]\tlr: 2.000e-03, eta: 0:10:32, time: 0.318, data_time: 0.007, memory: 2096, loss_rpn_cls: 0.0290, loss_rpn_bbox: 0.0440, loss_cls: 0.2535, acc: 92.1025, loss_bbox: 0.2590, loss: 0.5855, grad_norm: 1.9737\n",
      "2021-05-10 16:29:46,362 - mmdet - INFO - Saving checkpoint at 9 epochs\n"
     ]
    },
    {
     "name": "stdout",
     "output_type": "stream",
     "text": [
      "[>>>>>>>>>>>>>>>>>>>>>>>>>>>>>] 655/655, 21.4 task/s, elapsed: 31s, ETA:     0s"
     ]
    },
    {
     "name": "stderr",
     "output_type": "stream",
     "text": [
      "2021-05-10 16:30:18,374 - mmdet - INFO - Evaluating bbox...\n"
     ]
    },
    {
     "name": "stdout",
     "output_type": "stream",
     "text": [
      "Loading and preparing results...\n",
      "DONE (t=0.57s)\n",
      "creating index...\n",
      "index created!\n",
      "Running per image evaluation...\n",
      "Evaluate annotation type *bbox*\n",
      "DONE (t=6.44s).\n",
      "Accumulating evaluation results...\n"
     ]
    },
    {
     "name": "stderr",
     "output_type": "stream",
     "text": [
      "2021-05-10 16:30:26,377 - mmdet - INFO - Epoch(val) [9][655]\tbbox_mAP: 0.1430, bbox_mAP_50: 0.2490, bbox_mAP_75: 0.1410, bbox_mAP_s: 0.0350, bbox_mAP_m: 0.1350, bbox_mAP_l: 0.2770, bbox_mAP_copypaste: 0.143 0.249 0.141 0.035 0.135 0.277\n"
     ]
    },
    {
     "name": "stdout",
     "output_type": "stream",
     "text": [
      "DONE (t=0.90s).\n",
      "Average Precision  (AP) @[ IoU=0.50:0.95 | area=   all | maxDets=100 ] = 0.143\n",
      "Average Precision  (AP) @[ IoU=0.50      | area=   all | maxDets=1000 ] = 0.249\n",
      "Average Precision  (AP) @[ IoU=0.75      | area=   all | maxDets=1000 ] = 0.141\n",
      "Average Precision  (AP) @[ IoU=0.50:0.95 | area= small | maxDets=1000 ] = 0.035\n",
      "Average Precision  (AP) @[ IoU=0.50:0.95 | area=medium | maxDets=1000 ] = 0.135\n",
      "Average Precision  (AP) @[ IoU=0.50:0.95 | area= large | maxDets=1000 ] = 0.277\n",
      "Average Recall     (AR) @[ IoU=0.50:0.95 | area=   all | maxDets=100 ] = 0.292\n",
      "Average Recall     (AR) @[ IoU=0.50:0.95 | area=   all | maxDets=300 ] = 0.292\n",
      "Average Recall     (AR) @[ IoU=0.50:0.95 | area=   all | maxDets=1000 ] = 0.292\n",
      "Average Recall     (AR) @[ IoU=0.50:0.95 | area= small | maxDets=1000 ] = 0.099\n",
      "Average Recall     (AR) @[ IoU=0.50:0.95 | area=medium | maxDets=1000 ] = 0.277\n",
      "Average Recall     (AR) @[ IoU=0.50:0.95 | area= large | maxDets=1000 ] = 0.504\n"
     ]
    },
    {
     "name": "stderr",
     "output_type": "stream",
     "text": [
      "2021-05-10 16:30:44,676 - mmdet - INFO - Epoch [10][50/655]\tlr: 2.000e-03, eta: 0:10:15, time: 0.366, data_time: 0.051, memory: 2096, loss_rpn_cls: 0.0307, loss_rpn_bbox: 0.0442, loss_cls: 0.2594, acc: 91.6738, loss_bbox: 0.2755, loss: 0.6099, grad_norm: 1.9085\n",
      "2021-05-10 16:31:00,558 - mmdet - INFO - Epoch [10][100/655]\tlr: 2.000e-03, eta: 0:09:59, time: 0.318, data_time: 0.007, memory: 2096, loss_rpn_cls: 0.0257, loss_rpn_bbox: 0.0371, loss_cls: 0.2357, acc: 92.4941, loss_bbox: 0.2361, loss: 0.5346, grad_norm: 1.8069\n",
      "2021-05-10 16:31:17,139 - mmdet - INFO - Epoch [10][150/655]\tlr: 2.000e-03, eta: 0:09:43, time: 0.332, data_time: 0.007, memory: 2096, loss_rpn_cls: 0.0301, loss_rpn_bbox: 0.0418, loss_cls: 0.2475, acc: 92.0205, loss_bbox: 0.2634, loss: 0.5828, grad_norm: 1.9906\n",
      "2021-05-10 16:31:33,024 - mmdet - INFO - Epoch [10][200/655]\tlr: 2.000e-03, eta: 0:09:27, time: 0.318, data_time: 0.007, memory: 2096, loss_rpn_cls: 0.0327, loss_rpn_bbox: 0.0436, loss_cls: 0.2637, acc: 91.3760, loss_bbox: 0.2948, loss: 0.6348, grad_norm: 2.0218\n",
      "2021-05-10 16:31:48,992 - mmdet - INFO - Epoch [10][250/655]\tlr: 2.000e-03, eta: 0:09:10, time: 0.319, data_time: 0.007, memory: 2096, loss_rpn_cls: 0.0310, loss_rpn_bbox: 0.0493, loss_cls: 0.2568, acc: 91.6396, loss_bbox: 0.2722, loss: 0.6093, grad_norm: 1.9786\n",
      "2021-05-10 16:32:05,045 - mmdet - INFO - Epoch [10][300/655]\tlr: 2.000e-03, eta: 0:08:54, time: 0.321, data_time: 0.007, memory: 2096, loss_rpn_cls: 0.0290, loss_rpn_bbox: 0.0493, loss_cls: 0.2687, acc: 91.5273, loss_bbox: 0.2768, loss: 0.6238, grad_norm: 1.9978\n",
      "2021-05-10 16:32:21,140 - mmdet - INFO - Epoch [10][350/655]\tlr: 2.000e-03, eta: 0:08:38, time: 0.322, data_time: 0.007, memory: 2096, loss_rpn_cls: 0.0247, loss_rpn_bbox: 0.0351, loss_cls: 0.2278, acc: 92.4961, loss_bbox: 0.2377, loss: 0.5253, grad_norm: 1.9006\n",
      "2021-05-10 16:32:37,120 - mmdet - INFO - Epoch [10][400/655]\tlr: 2.000e-03, eta: 0:08:22, time: 0.320, data_time: 0.007, memory: 2096, loss_rpn_cls: 0.0297, loss_rpn_bbox: 0.0440, loss_cls: 0.2479, acc: 92.0312, loss_bbox: 0.2648, loss: 0.5863, grad_norm: 2.0456\n",
      "2021-05-10 16:32:53,084 - mmdet - INFO - Epoch [10][450/655]\tlr: 2.000e-03, eta: 0:08:06, time: 0.319, data_time: 0.007, memory: 2096, loss_rpn_cls: 0.0312, loss_rpn_bbox: 0.0436, loss_cls: 0.2681, acc: 91.5830, loss_bbox: 0.2729, loss: 0.6158, grad_norm: 2.0044\n",
      "2021-05-10 16:33:09,534 - mmdet - INFO - Epoch [10][500/655]\tlr: 2.000e-03, eta: 0:07:50, time: 0.329, data_time: 0.007, memory: 2096, loss_rpn_cls: 0.0305, loss_rpn_bbox: 0.0494, loss_cls: 0.2728, acc: 91.3711, loss_bbox: 0.2851, loss: 0.6378, grad_norm: 2.1078\n",
      "2021-05-10 16:33:25,601 - mmdet - INFO - Epoch [10][550/655]\tlr: 2.000e-03, eta: 0:07:34, time: 0.321, data_time: 0.007, memory: 2096, loss_rpn_cls: 0.0308, loss_rpn_bbox: 0.0468, loss_cls: 0.2757, acc: 91.3516, loss_bbox: 0.2866, loss: 0.6400, grad_norm: 2.0320\n",
      "2021-05-10 16:33:41,449 - mmdet - INFO - Epoch [10][600/655]\tlr: 2.000e-03, eta: 0:07:18, time: 0.317, data_time: 0.007, memory: 2096, loss_rpn_cls: 0.0312, loss_rpn_bbox: 0.0407, loss_cls: 0.2564, acc: 91.9443, loss_bbox: 0.2635, loss: 0.5918, grad_norm: 2.0860\n",
      "2021-05-10 16:33:57,219 - mmdet - INFO - Epoch [10][650/655]\tlr: 2.000e-03, eta: 0:07:02, time: 0.315, data_time: 0.007, memory: 2096, loss_rpn_cls: 0.0337, loss_rpn_bbox: 0.0385, loss_cls: 0.2498, acc: 92.0859, loss_bbox: 0.2533, loss: 0.5753, grad_norm: 2.0768\n",
      "2021-05-10 16:33:58,861 - mmdet - INFO - Saving checkpoint at 10 epochs\n"
     ]
    },
    {
     "name": "stdout",
     "output_type": "stream",
     "text": [
      "[>>>>>>>>>>>>>>>>>>>>>>>>>>>>>] 655/655, 21.6 task/s, elapsed: 30s, ETA:     0s"
     ]
    },
    {
     "name": "stderr",
     "output_type": "stream",
     "text": [
      "2021-05-10 16:34:30,604 - mmdet - INFO - Evaluating bbox...\n"
     ]
    },
    {
     "name": "stdout",
     "output_type": "stream",
     "text": [
      "Loading and preparing results...\n",
      "DONE (t=0.56s)\n",
      "creating index...\n",
      "index created!\n",
      "Running per image evaluation...\n",
      "Evaluate annotation type *bbox*\n",
      "DONE (t=6.65s).\n",
      "Accumulating evaluation results...\n"
     ]
    },
    {
     "name": "stderr",
     "output_type": "stream",
     "text": [
      "2021-05-10 16:34:38,936 - mmdet - INFO - Epoch(val) [10][655]\tbbox_mAP: 0.1510, bbox_mAP_50: 0.2630, bbox_mAP_75: 0.1520, bbox_mAP_s: 0.0400, bbox_mAP_m: 0.1370, bbox_mAP_l: 0.2840, bbox_mAP_copypaste: 0.151 0.263 0.152 0.040 0.137 0.284\n"
     ]
    },
    {
     "name": "stdout",
     "output_type": "stream",
     "text": [
      "DONE (t=1.03s).\n",
      "Average Precision  (AP) @[ IoU=0.50:0.95 | area=   all | maxDets=100 ] = 0.151\n",
      "Average Precision  (AP) @[ IoU=0.50      | area=   all | maxDets=1000 ] = 0.263\n",
      "Average Precision  (AP) @[ IoU=0.75      | area=   all | maxDets=1000 ] = 0.152\n",
      "Average Precision  (AP) @[ IoU=0.50:0.95 | area= small | maxDets=1000 ] = 0.040\n",
      "Average Precision  (AP) @[ IoU=0.50:0.95 | area=medium | maxDets=1000 ] = 0.137\n",
      "Average Precision  (AP) @[ IoU=0.50:0.95 | area= large | maxDets=1000 ] = 0.284\n",
      "Average Recall     (AR) @[ IoU=0.50:0.95 | area=   all | maxDets=100 ] = 0.287\n",
      "Average Recall     (AR) @[ IoU=0.50:0.95 | area=   all | maxDets=300 ] = 0.287\n",
      "Average Recall     (AR) @[ IoU=0.50:0.95 | area=   all | maxDets=1000 ] = 0.287\n",
      "Average Recall     (AR) @[ IoU=0.50:0.95 | area= small | maxDets=1000 ] = 0.101\n",
      "Average Recall     (AR) @[ IoU=0.50:0.95 | area=medium | maxDets=1000 ] = 0.272\n",
      "Average Recall     (AR) @[ IoU=0.50:0.95 | area= large | maxDets=1000 ] = 0.498\n"
     ]
    },
    {
     "name": "stderr",
     "output_type": "stream",
     "text": [
      "2021-05-10 16:34:57,067 - mmdet - INFO - Epoch [11][50/655]\tlr: 2.000e-03, eta: 0:06:44, time: 0.362, data_time: 0.051, memory: 2096, loss_rpn_cls: 0.0234, loss_rpn_bbox: 0.0386, loss_cls: 0.2317, acc: 92.4795, loss_bbox: 0.2534, loss: 0.5470, grad_norm: 1.9172\n",
      "2021-05-10 16:35:13,062 - mmdet - INFO - Epoch [11][100/655]\tlr: 2.000e-03, eta: 0:06:28, time: 0.320, data_time: 0.007, memory: 2096, loss_rpn_cls: 0.0278, loss_rpn_bbox: 0.0483, loss_cls: 0.2615, acc: 91.3008, loss_bbox: 0.2989, loss: 0.6365, grad_norm: 2.0834\n",
      "2021-05-10 16:35:28,801 - mmdet - INFO - Epoch [11][150/655]\tlr: 2.000e-03, eta: 0:06:12, time: 0.315, data_time: 0.007, memory: 2096, loss_rpn_cls: 0.0263, loss_rpn_bbox: 0.0424, loss_cls: 0.2511, acc: 91.7939, loss_bbox: 0.2687, loss: 0.5884, grad_norm: 2.0319\n",
      "2021-05-10 16:35:44,566 - mmdet - INFO - Epoch [11][200/655]\tlr: 2.000e-03, eta: 0:05:56, time: 0.315, data_time: 0.007, memory: 2096, loss_rpn_cls: 0.0236, loss_rpn_bbox: 0.0381, loss_cls: 0.2288, acc: 92.6064, loss_bbox: 0.2390, loss: 0.5295, grad_norm: 1.9146\n",
      "2021-05-10 16:36:00,394 - mmdet - INFO - Epoch [11][250/655]\tlr: 2.000e-03, eta: 0:05:40, time: 0.317, data_time: 0.007, memory: 2096, loss_rpn_cls: 0.0305, loss_rpn_bbox: 0.0427, loss_cls: 0.2532, acc: 91.8076, loss_bbox: 0.2612, loss: 0.5876, grad_norm: 2.0929\n",
      "2021-05-10 16:36:16,303 - mmdet - INFO - Epoch [11][300/655]\tlr: 2.000e-03, eta: 0:05:24, time: 0.318, data_time: 0.007, memory: 2096, loss_rpn_cls: 0.0267, loss_rpn_bbox: 0.0401, loss_cls: 0.2293, acc: 92.5566, loss_bbox: 0.2477, loss: 0.5438, grad_norm: 1.9585\n",
      "2021-05-10 16:36:32,295 - mmdet - INFO - Epoch [11][350/655]\tlr: 2.000e-03, eta: 0:05:08, time: 0.320, data_time: 0.007, memory: 2096, loss_rpn_cls: 0.0279, loss_rpn_bbox: 0.0438, loss_cls: 0.2546, acc: 91.7432, loss_bbox: 0.2803, loss: 0.6066, grad_norm: 2.0900\n",
      "2021-05-10 16:36:48,315 - mmdet - INFO - Epoch [11][400/655]\tlr: 2.000e-03, eta: 0:04:52, time: 0.320, data_time: 0.007, memory: 2096, loss_rpn_cls: 0.0257, loss_rpn_bbox: 0.0408, loss_cls: 0.2272, acc: 92.6016, loss_bbox: 0.2432, loss: 0.5369, grad_norm: 1.9599\n",
      "2021-05-10 16:37:04,344 - mmdet - INFO - Epoch [11][450/655]\tlr: 2.000e-03, eta: 0:04:36, time: 0.321, data_time: 0.007, memory: 2096, loss_rpn_cls: 0.0264, loss_rpn_bbox: 0.0376, loss_cls: 0.2293, acc: 92.4814, loss_bbox: 0.2428, loss: 0.5361, grad_norm: 2.0687\n",
      "2021-05-10 16:37:20,383 - mmdet - INFO - Epoch [11][500/655]\tlr: 2.000e-03, eta: 0:04:20, time: 0.321, data_time: 0.007, memory: 2096, loss_rpn_cls: 0.0316, loss_rpn_bbox: 0.0454, loss_cls: 0.2663, acc: 91.4629, loss_bbox: 0.2813, loss: 0.6246, grad_norm: 2.1263\n",
      "2021-05-10 16:37:36,406 - mmdet - INFO - Epoch [11][550/655]\tlr: 2.000e-03, eta: 0:04:04, time: 0.320, data_time: 0.007, memory: 2096, loss_rpn_cls: 0.0268, loss_rpn_bbox: 0.0433, loss_cls: 0.2407, acc: 92.4023, loss_bbox: 0.2497, loss: 0.5604, grad_norm: 2.0521\n",
      "2021-05-10 16:37:52,508 - mmdet - INFO - Epoch [11][600/655]\tlr: 2.000e-03, eta: 0:03:47, time: 0.322, data_time: 0.007, memory: 2096, loss_rpn_cls: 0.0280, loss_rpn_bbox: 0.0447, loss_cls: 0.2506, acc: 91.6885, loss_bbox: 0.2724, loss: 0.5956, grad_norm: 2.0945\n",
      "2021-05-10 16:38:08,599 - mmdet - INFO - Epoch [11][650/655]\tlr: 2.000e-03, eta: 0:03:31, time: 0.322, data_time: 0.007, memory: 2096, loss_rpn_cls: 0.0269, loss_rpn_bbox: 0.0424, loss_cls: 0.2380, acc: 92.4287, loss_bbox: 0.2528, loss: 0.5600, grad_norm: 2.0622\n",
      "2021-05-10 16:38:10,287 - mmdet - INFO - Saving checkpoint at 11 epochs\n"
     ]
    },
    {
     "name": "stdout",
     "output_type": "stream",
     "text": [
      "[>>>>>>>>>>>>>>>>>>>>>>>>>>>>>] 655/655, 21.1 task/s, elapsed: 31s, ETA:     0s"
     ]
    },
    {
     "name": "stderr",
     "output_type": "stream",
     "text": [
      "2021-05-10 16:38:42,728 - mmdet - INFO - Evaluating bbox...\n"
     ]
    },
    {
     "name": "stdout",
     "output_type": "stream",
     "text": [
      "Loading and preparing results...\n",
      "DONE (t=0.59s)\n",
      "creating index...\n",
      "index created!\n",
      "Running per image evaluation...\n",
      "Evaluate annotation type *bbox*\n",
      "DONE (t=6.78s).\n",
      "Accumulating evaluation results...\n"
     ]
    },
    {
     "name": "stderr",
     "output_type": "stream",
     "text": [
      "2021-05-10 16:38:51,178 - mmdet - INFO - Epoch(val) [11][655]\tbbox_mAP: 0.1500, bbox_mAP_50: 0.2600, bbox_mAP_75: 0.1490, bbox_mAP_s: 0.0340, bbox_mAP_m: 0.1350, bbox_mAP_l: 0.2930, bbox_mAP_copypaste: 0.150 0.260 0.149 0.034 0.135 0.293\n"
     ]
    },
    {
     "name": "stdout",
     "output_type": "stream",
     "text": [
      "DONE (t=0.99s).\n",
      "Average Precision  (AP) @[ IoU=0.50:0.95 | area=   all | maxDets=100 ] = 0.150\n",
      "Average Precision  (AP) @[ IoU=0.50      | area=   all | maxDets=1000 ] = 0.260\n",
      "Average Precision  (AP) @[ IoU=0.75      | area=   all | maxDets=1000 ] = 0.149\n",
      "Average Precision  (AP) @[ IoU=0.50:0.95 | area= small | maxDets=1000 ] = 0.034\n",
      "Average Precision  (AP) @[ IoU=0.50:0.95 | area=medium | maxDets=1000 ] = 0.135\n",
      "Average Precision  (AP) @[ IoU=0.50:0.95 | area= large | maxDets=1000 ] = 0.293\n",
      "Average Recall     (AR) @[ IoU=0.50:0.95 | area=   all | maxDets=100 ] = 0.302\n",
      "Average Recall     (AR) @[ IoU=0.50:0.95 | area=   all | maxDets=300 ] = 0.302\n",
      "Average Recall     (AR) @[ IoU=0.50:0.95 | area=   all | maxDets=1000 ] = 0.302\n",
      "Average Recall     (AR) @[ IoU=0.50:0.95 | area= small | maxDets=1000 ] = 0.092\n",
      "Average Recall     (AR) @[ IoU=0.50:0.95 | area=medium | maxDets=1000 ] = 0.281\n",
      "Average Recall     (AR) @[ IoU=0.50:0.95 | area= large | maxDets=1000 ] = 0.506\n"
     ]
    },
    {
     "name": "stderr",
     "output_type": "stream",
     "text": [
      "2021-05-10 16:39:09,258 - mmdet - INFO - Epoch [12][50/655]\tlr: 2.000e-04, eta: 0:03:14, time: 0.361, data_time: 0.050, memory: 2096, loss_rpn_cls: 0.0243, loss_rpn_bbox: 0.0411, loss_cls: 0.2334, acc: 92.5205, loss_bbox: 0.2575, loss: 0.5563, grad_norm: 1.9679\n",
      "2021-05-10 16:39:25,045 - mmdet - INFO - Epoch [12][100/655]\tlr: 2.000e-04, eta: 0:02:58, time: 0.316, data_time: 0.007, memory: 2096, loss_rpn_cls: 0.0241, loss_rpn_bbox: 0.0433, loss_cls: 0.2417, acc: 92.2920, loss_bbox: 0.2588, loss: 0.5678, grad_norm: 2.0046\n",
      "2021-05-10 16:39:40,690 - mmdet - INFO - Epoch [12][150/655]\tlr: 2.000e-04, eta: 0:02:42, time: 0.313, data_time: 0.007, memory: 2096, loss_rpn_cls: 0.0226, loss_rpn_bbox: 0.0395, loss_cls: 0.2259, acc: 92.7354, loss_bbox: 0.2417, loss: 0.5296, grad_norm: 1.9566\n",
      "2021-05-10 16:39:56,529 - mmdet - INFO - Epoch [12][200/655]\tlr: 2.000e-04, eta: 0:02:26, time: 0.317, data_time: 0.007, memory: 2096, loss_rpn_cls: 0.0254, loss_rpn_bbox: 0.0423, loss_cls: 0.2390, acc: 91.9805, loss_bbox: 0.2580, loss: 0.5647, grad_norm: 2.0329\n",
      "2021-05-10 16:40:12,573 - mmdet - INFO - Epoch [12][250/655]\tlr: 2.000e-04, eta: 0:02:10, time: 0.321, data_time: 0.007, memory: 2096, loss_rpn_cls: 0.0240, loss_rpn_bbox: 0.0453, loss_cls: 0.2375, acc: 92.2148, loss_bbox: 0.2678, loss: 0.5745, grad_norm: 2.0222\n",
      "2021-05-10 16:40:28,820 - mmdet - INFO - Epoch [12][300/655]\tlr: 2.000e-04, eta: 0:01:53, time: 0.325, data_time: 0.007, memory: 2096, loss_rpn_cls: 0.0232, loss_rpn_bbox: 0.0398, loss_cls: 0.2211, acc: 92.8643, loss_bbox: 0.2452, loss: 0.5293, grad_norm: 1.9556\n",
      "2021-05-10 16:40:44,920 - mmdet - INFO - Epoch [12][350/655]\tlr: 2.000e-04, eta: 0:01:37, time: 0.322, data_time: 0.007, memory: 2096, loss_rpn_cls: 0.0226, loss_rpn_bbox: 0.0389, loss_cls: 0.2225, acc: 92.6553, loss_bbox: 0.2559, loss: 0.5399, grad_norm: 1.9523\n",
      "2021-05-10 16:41:00,950 - mmdet - INFO - Epoch [12][400/655]\tlr: 2.000e-04, eta: 0:01:21, time: 0.321, data_time: 0.007, memory: 2096, loss_rpn_cls: 0.0250, loss_rpn_bbox: 0.0402, loss_cls: 0.2355, acc: 92.2432, loss_bbox: 0.2548, loss: 0.5555, grad_norm: 1.9909\n",
      "2021-05-10 16:41:16,721 - mmdet - INFO - Epoch [12][450/655]\tlr: 2.000e-04, eta: 0:01:05, time: 0.315, data_time: 0.007, memory: 2096, loss_rpn_cls: 0.0252, loss_rpn_bbox: 0.0447, loss_cls: 0.2362, acc: 92.3643, loss_bbox: 0.2641, loss: 0.5702, grad_norm: 2.0480\n",
      "2021-05-10 16:41:32,569 - mmdet - INFO - Epoch [12][500/655]\tlr: 2.000e-04, eta: 0:00:49, time: 0.317, data_time: 0.007, memory: 2096, loss_rpn_cls: 0.0192, loss_rpn_bbox: 0.0296, loss_cls: 0.1951, acc: 93.4785, loss_bbox: 0.2198, loss: 0.4636, grad_norm: 1.9055\n",
      "2021-05-10 16:41:48,358 - mmdet - INFO - Epoch [12][550/655]\tlr: 2.000e-04, eta: 0:00:33, time: 0.316, data_time: 0.006, memory: 2096, loss_rpn_cls: 0.0233, loss_rpn_bbox: 0.0389, loss_cls: 0.2359, acc: 92.3379, loss_bbox: 0.2461, loss: 0.5442, grad_norm: 2.0366\n",
      "2021-05-10 16:42:04,864 - mmdet - INFO - Epoch [12][600/655]\tlr: 2.000e-04, eta: 0:00:17, time: 0.330, data_time: 0.007, memory: 2096, loss_rpn_cls: 0.0302, loss_rpn_bbox: 0.0494, loss_cls: 0.2547, acc: 91.8145, loss_bbox: 0.2792, loss: 0.6135, grad_norm: 2.1003\n",
      "2021-05-10 16:42:20,821 - mmdet - INFO - Epoch [12][650/655]\tlr: 2.000e-04, eta: 0:00:01, time: 0.319, data_time: 0.007, memory: 2096, loss_rpn_cls: 0.0242, loss_rpn_bbox: 0.0409, loss_cls: 0.2284, acc: 92.5039, loss_bbox: 0.2603, loss: 0.5538, grad_norm: 1.9917\n",
      "2021-05-10 16:42:22,486 - mmdet - INFO - Saving checkpoint at 12 epochs\n"
     ]
    },
    {
     "name": "stdout",
     "output_type": "stream",
     "text": [
      "[>>>>>>>>>>>>>>>>>>>>>>>>>>>>>] 655/655, 21.3 task/s, elapsed: 31s, ETA:     0s"
     ]
    },
    {
     "name": "stderr",
     "output_type": "stream",
     "text": [
      "2021-05-10 16:42:54,578 - mmdet - INFO - Evaluating bbox...\n"
     ]
    },
    {
     "name": "stdout",
     "output_type": "stream",
     "text": [
      "Loading and preparing results...\n",
      "DONE (t=0.57s)\n",
      "creating index...\n",
      "index created!\n",
      "Running per image evaluation...\n",
      "Evaluate annotation type *bbox*\n",
      "DONE (t=5.57s).\n",
      "Accumulating evaluation results...\n"
     ]
    },
    {
     "name": "stderr",
     "output_type": "stream",
     "text": [
      "2021-05-10 16:43:01,735 - mmdet - INFO - Epoch(val) [12][655]\tbbox_mAP: 0.1540, bbox_mAP_50: 0.2640, bbox_mAP_75: 0.1510, bbox_mAP_s: 0.0380, bbox_mAP_m: 0.1350, bbox_mAP_l: 0.3000, bbox_mAP_copypaste: 0.154 0.264 0.151 0.038 0.135 0.300\n"
     ]
    },
    {
     "name": "stdout",
     "output_type": "stream",
     "text": [
      "DONE (t=0.93s).\n",
      "Average Precision  (AP) @[ IoU=0.50:0.95 | area=   all | maxDets=100 ] = 0.154\n",
      "Average Precision  (AP) @[ IoU=0.50      | area=   all | maxDets=1000 ] = 0.264\n",
      "Average Precision  (AP) @[ IoU=0.75      | area=   all | maxDets=1000 ] = 0.151\n",
      "Average Precision  (AP) @[ IoU=0.50:0.95 | area= small | maxDets=1000 ] = 0.038\n",
      "Average Precision  (AP) @[ IoU=0.50:0.95 | area=medium | maxDets=1000 ] = 0.135\n",
      "Average Precision  (AP) @[ IoU=0.50:0.95 | area= large | maxDets=1000 ] = 0.300\n",
      "Average Recall     (AR) @[ IoU=0.50:0.95 | area=   all | maxDets=100 ] = 0.300\n",
      "Average Recall     (AR) @[ IoU=0.50:0.95 | area=   all | maxDets=300 ] = 0.300\n",
      "Average Recall     (AR) @[ IoU=0.50:0.95 | area=   all | maxDets=1000 ] = 0.300\n",
      "Average Recall     (AR) @[ IoU=0.50:0.95 | area= small | maxDets=1000 ] = 0.098\n",
      "Average Recall     (AR) @[ IoU=0.50:0.95 | area=medium | maxDets=1000 ] = 0.276\n",
      "Average Recall     (AR) @[ IoU=0.50:0.95 | area= large | maxDets=1000 ] = 0.519\n"
     ]
    }
   ],
   "source": [
    "train_detector(model, datasets[0], cfg, distributed=False, validate=True)"
   ]
  }
 ],
 "metadata": {
  "kernelspec": {
   "display_name": "Python 3",
   "language": "python",
   "name": "python3"
  },
  "language_info": {
   "codemirror_mode": {
    "name": "ipython",
    "version": 3
   },
   "file_extension": ".py",
   "mimetype": "text/x-python",
   "name": "python",
   "nbconvert_exporter": "python",
   "pygments_lexer": "ipython3",
   "version": "3.7.7"
  },
  "pycharm": {
   "stem_cell": {
    "cell_type": "raw",
    "metadata": {
     "collapsed": false
    },
    "source": []
   }
  }
 },
 "nbformat": 4,
 "nbformat_minor": 4
}
