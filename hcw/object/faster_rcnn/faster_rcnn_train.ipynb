{
 "cells": [
  {
   "cell_type": "code",
   "execution_count": 1,
   "metadata": {
    "pycharm": {
     "name": "#%%\n"
    }
   },
   "outputs": [
    {
     "name": "stderr",
     "output_type": "stream",
     "text": [
      "/opt/conda/lib/python3.7/site-packages/mmcv/utils/registry.py:250: UserWarning: The old API of register_module(module, force=False) is deprecated and will be removed, please use the new API register_module(name=None, force=False, module=None) instead.\n",
      "  'The old API of register_module(module, force=False) '\n"
     ]
    }
   ],
   "source": [
    "from mmcv import Config\n",
    "from mmdet.datasets import build_dataset\n",
    "from mmdet.models import build_detector\n",
    "from mmdet.apis import train_detector\n",
    "from mmdet.datasets import (build_dataloader, build_dataset,\n",
    "                            replace_ImageToTensor)\n",
    "from adamp import AdamP"
   ]
  },
  {
   "cell_type": "code",
   "execution_count": 2,
   "metadata": {
    "pycharm": {
     "name": "#%%\n"
    }
   },
   "outputs": [],
   "source": [
    "classes = (\"UNKNOWN\", \"General trash\", \"Paper\", \"Paper pack\", \"Metal\", \"Glass\", \n",
    "           \"Plastic\", \"Styrofoam\", \"Plastic bag\", \"Battery\", \"Clothing\")\n",
    "# config file 들고오기\n",
    "cfg = Config.fromfile('./configs/faster_rcnn/faster_rcnn_x101_64x4d_fpn_2x_coco.py')\n",
    "\n",
    "PREFIX = '../../input/data/'\n",
    "\n",
    "\n",
    "# dataset 바꾸기\n",
    "cfg.data.train.classes = classes\n",
    "cfg.data.train.img_prefix = PREFIX\n",
    "cfg.data.train.ann_file = PREFIX + 'train.json'\n",
    "cfg.data.train.pipeline[2]['img_scale'] = (512, 512)\n",
    "\n",
    "cfg.data.val.classes = classes\n",
    "cfg.data.val.img_prefix = PREFIX\n",
    "cfg.data.val.ann_file = PREFIX + 'val.json'\n",
    "cfg.data.val.pipeline[1]['img_scale'] = (512, 512)\n",
    "\n",
    "cfg.data.test.classes = classes\n",
    "cfg.data.test.img_prefix = PREFIX\n",
    "cfg.data.test.ann_file = PREFIX + 'test.json'\n",
    "cfg.data.test.pipeline[1]['img_scale'] = (512, 512)\n",
    "\n",
    "cfg.data.samples_per_gpu = 4\n",
    "\n",
    "cfg.seed=2020\n",
    "cfg.gpu_ids = [0]\n",
    "cfg.work_dir = './work_dirs/faster_rcnn_x101_64x4d_fpn_2x_trash'\n",
    "\n",
    "cfg.model.roi_head.bbox_head.num_classes = 11\n",
    "\n",
    "cfg.optimizer_config.grad_clip = dict(max_norm=35, norm_type=2)"
   ]
  },
  {
   "cell_type": "code",
   "execution_count": 3,
   "metadata": {
    "pycharm": {
     "name": "#%%\n"
    }
   },
   "outputs": [
    {
     "name": "stderr",
     "output_type": "stream",
     "text": [
      "2021-05-15 17:17:06,230 - mmdet - INFO - load model from: open-mmlab://resnext101_64x4d\n",
      "2021-05-15 17:17:06,231 - mmdet - INFO - Use load_from_openmmlab loader\n"
     ]
    }
   ],
   "source": [
    "model = build_detector(cfg.model)"
   ]
  },
  {
   "cell_type": "code",
   "execution_count": 4,
   "metadata": {
    "pycharm": {
     "name": "#%%\n"
    }
   },
   "outputs": [
    {
     "name": "stdout",
     "output_type": "stream",
     "text": [
      "loading annotations into memory...\n",
      "Done (t=3.18s)\n",
      "creating index...\n",
      "index created!\n"
     ]
    }
   ],
   "source": [
    "datasets = [build_dataset(cfg.data.train)]"
   ]
  },
  {
   "cell_type": "code",
   "execution_count": 5,
   "metadata": {
    "pycharm": {
     "name": "#%%\n"
    },
    "tags": []
   },
   "outputs": [
    {
     "name": "stdout",
     "output_type": "stream",
     "text": [
      "loading annotations into memory...\n"
     ]
    },
    {
     "name": "stderr",
     "output_type": "stream",
     "text": [
      "2021-05-15 17:17:13,736 - mmdet - INFO - Start running, host: root@3c39225fc7a4, work_dir: /opt/ml/code/mmdetection_trash/work_dirs/faster_rcnn_x101_64x4d_fpn_2x_trash\n",
      "2021-05-15 17:17:13,736 - mmdet - INFO - workflow: [('train', 1)], max: 40 epochs\n"
     ]
    },
    {
     "name": "stdout",
     "output_type": "stream",
     "text": [
      "Done (t=1.11s)\n",
      "creating index...\n",
      "index created!\n"
     ]
    },
    {
     "name": "stderr",
     "output_type": "stream",
     "text": [
      "2021-05-15 17:17:52,950 - mmdet - INFO - Epoch [1][50/655]\tlr: 9.890e-06, eta: 5:41:44, time: 0.784, data_time: 0.050, memory: 5379, loss_rpn_cls: 0.7052, loss_rpn_bbox: 0.1018, loss_cls: 2.3680, acc: 26.8535, loss_bbox: 0.0343, loss: 3.2093, grad_norm: 23.9411\n",
      "2021-05-15 17:18:29,287 - mmdet - INFO - Epoch [1][100/655]\tlr: 1.988e-05, eta: 5:28:36, time: 0.727, data_time: 0.006, memory: 5379, loss_rpn_cls: 0.7050, loss_rpn_bbox: 0.0857, loss_cls: 0.6816, acc: 97.6025, loss_bbox: 0.0359, loss: 1.5081, grad_norm: 14.0081\n",
      "2021-05-15 17:19:05,789 - mmdet - INFO - Epoch [1][150/655]\tlr: 2.987e-05, eta: 5:24:18, time: 0.730, data_time: 0.006, memory: 5380, loss_rpn_cls: 0.6866, loss_rpn_bbox: 0.0836, loss_cls: 0.2204, acc: 97.6719, loss_bbox: 0.0442, loss: 1.0348, grad_norm: 3.8991\n",
      "2021-05-15 17:19:43,531 - mmdet - INFO - Epoch [1][200/655]\tlr: 3.986e-05, eta: 5:24:32, time: 0.755, data_time: 0.006, memory: 5380, loss_rpn_cls: 0.6347, loss_rpn_bbox: 0.1078, loss_cls: 0.3376, acc: 96.2773, loss_bbox: 0.0904, loss: 1.1706, grad_norm: 4.6390\n",
      "2021-05-15 17:20:21,479 - mmdet - INFO - Epoch [1][250/655]\tlr: 4.985e-05, eta: 5:24:46, time: 0.759, data_time: 0.006, memory: 5380, loss_rpn_cls: 0.5447, loss_rpn_bbox: 0.1037, loss_cls: 0.3123, acc: 95.9014, loss_bbox: 0.1091, loss: 1.0698, grad_norm: 4.4983\n",
      "2021-05-15 17:20:59,807 - mmdet - INFO - Epoch [1][300/655]\tlr: 5.984e-05, eta: 5:25:16, time: 0.767, data_time: 0.006, memory: 5380, loss_rpn_cls: 0.4006, loss_rpn_bbox: 0.0796, loss_cls: 0.3045, acc: 95.1602, loss_bbox: 0.1536, loss: 0.9383, grad_norm: 4.3916\n",
      "2021-05-15 17:21:38,603 - mmdet - INFO - Epoch [1][350/655]\tlr: 6.983e-05, eta: 5:26:01, time: 0.776, data_time: 0.006, memory: 5380, loss_rpn_cls: 0.3041, loss_rpn_bbox: 0.0890, loss_cls: 0.3637, acc: 93.2090, loss_bbox: 0.2353, loss: 0.9921, grad_norm: 4.8110\n",
      "2021-05-15 17:22:17,288 - mmdet - INFO - Epoch [1][400/655]\tlr: 7.982e-05, eta: 5:26:18, time: 0.774, data_time: 0.006, memory: 5380, loss_rpn_cls: 0.2667, loss_rpn_bbox: 0.0833, loss_cls: 0.3680, acc: 92.1631, loss_bbox: 0.2790, loss: 0.9969, grad_norm: 4.3659\n",
      "2021-05-15 17:22:56,390 - mmdet - INFO - Epoch [1][450/655]\tlr: 8.981e-05, eta: 5:26:46, time: 0.782, data_time: 0.006, memory: 5380, loss_rpn_cls: 0.2610, loss_rpn_bbox: 0.0863, loss_cls: 0.3783, acc: 91.7051, loss_bbox: 0.2946, loss: 1.0202, grad_norm: 4.8038\n",
      "2021-05-15 17:23:35,050 - mmdet - INFO - Epoch [1][500/655]\tlr: 9.980e-05, eta: 5:26:38, time: 0.773, data_time: 0.006, memory: 5380, loss_rpn_cls: 0.2607, loss_rpn_bbox: 0.0917, loss_cls: 0.3843, acc: 91.1426, loss_bbox: 0.3160, loss: 1.0527, grad_norm: 4.7212\n",
      "2021-05-15 17:24:13,426 - mmdet - INFO - Epoch [1][550/655]\tlr: 1.000e-04, eta: 5:26:12, time: 0.768, data_time: 0.006, memory: 5380, loss_rpn_cls: 0.2276, loss_rpn_bbox: 0.0761, loss_cls: 0.3924, acc: 90.6865, loss_bbox: 0.3420, loss: 1.0381, grad_norm: 4.7883\n",
      "2021-05-15 17:24:51,898 - mmdet - INFO - Epoch [1][600/655]\tlr: 1.000e-04, eta: 5:25:47, time: 0.769, data_time: 0.006, memory: 5380, loss_rpn_cls: 0.2035, loss_rpn_bbox: 0.0736, loss_cls: 0.3436, acc: 91.7188, loss_bbox: 0.3073, loss: 0.9280, grad_norm: 4.6278\n",
      "2021-05-15 17:25:30,710 - mmdet - INFO - Epoch [1][650/655]\tlr: 1.000e-04, eta: 5:25:34, time: 0.776, data_time: 0.006, memory: 5380, loss_rpn_cls: 0.2401, loss_rpn_bbox: 0.0963, loss_cls: 0.4082, acc: 89.8369, loss_bbox: 0.3713, loss: 1.1159, grad_norm: 5.1633\n",
      "2021-05-15 17:25:34,612 - mmdet - INFO - Saving checkpoint at 1 epochs\n"
     ]
    },
    {
     "name": "stdout",
     "output_type": "stream",
     "text": [
      "[>>>>>>>>>>>>>>>>>>>>>>>>>>>>>] 655/655, 10.0 task/s, elapsed: 65s, ETA:     0s"
     ]
    },
    {
     "name": "stderr",
     "output_type": "stream",
     "text": [
      "2021-05-15 17:26:42,586 - mmdet - INFO - Evaluating bbox...\n"
     ]
    },
    {
     "name": "stdout",
     "output_type": "stream",
     "text": [
      "Loading and preparing results...\n",
      "DONE (t=0.55s)\n",
      "creating index...\n",
      "index created!\n",
      "Running per image evaluation...\n",
      "Evaluate annotation type *bbox*\n",
      "DONE (t=7.94s).\n",
      "Accumulating evaluation results...\n"
     ]
    },
    {
     "name": "stderr",
     "output_type": "stream",
     "text": [
      "2021-05-15 17:26:52,374 - mmdet - INFO - Epoch(val) [1][655]\tbbox_mAP: 0.0030, bbox_mAP_50: 0.0130, bbox_mAP_75: 0.0000, bbox_mAP_s: 0.0010, bbox_mAP_m: 0.0140, bbox_mAP_l: 0.0050, bbox_mAP_copypaste: 0.003 0.013 0.000 0.001 0.014 0.005\n"
     ]
    },
    {
     "name": "stdout",
     "output_type": "stream",
     "text": [
      "DONE (t=1.22s).\n",
      "Average Precision  (AP) @[ IoU=0.50:0.95 | area=   all | maxDets=100 ] = 0.003\n",
      "Average Precision  (AP) @[ IoU=0.50      | area=   all | maxDets=1000 ] = 0.013\n",
      "Average Precision  (AP) @[ IoU=0.75      | area=   all | maxDets=1000 ] = 0.000\n",
      "Average Precision  (AP) @[ IoU=0.50:0.95 | area= small | maxDets=1000 ] = 0.001\n",
      "Average Precision  (AP) @[ IoU=0.50:0.95 | area=medium | maxDets=1000 ] = 0.014\n",
      "Average Precision  (AP) @[ IoU=0.50:0.95 | area= large | maxDets=1000 ] = 0.005\n",
      "Average Recall     (AR) @[ IoU=0.50:0.95 | area=   all | maxDets=100 ] = 0.029\n",
      "Average Recall     (AR) @[ IoU=0.50:0.95 | area=   all | maxDets=300 ] = 0.029\n",
      "Average Recall     (AR) @[ IoU=0.50:0.95 | area=   all | maxDets=1000 ] = 0.029\n",
      "Average Recall     (AR) @[ IoU=0.50:0.95 | area= small | maxDets=1000 ] = 0.001\n",
      "Average Recall     (AR) @[ IoU=0.50:0.95 | area=medium | maxDets=1000 ] = 0.020\n",
      "Average Recall     (AR) @[ IoU=0.50:0.95 | area= large | maxDets=1000 ] = 0.062\n"
     ]
    },
    {
     "name": "stderr",
     "output_type": "stream",
     "text": [
      "2021-05-15 17:27:33,103 - mmdet - INFO - Epoch [2][50/655]\tlr: 1.000e-04, eta: 5:24:04, time: 0.814, data_time: 0.050, memory: 5380, loss_rpn_cls: 0.2204, loss_rpn_bbox: 0.0855, loss_cls: 0.3926, acc: 90.0312, loss_bbox: 0.3651, loss: 1.0636, grad_norm: 5.2944\n",
      "2021-05-15 17:28:11,436 - mmdet - INFO - Epoch [2][100/655]\tlr: 1.000e-04, eta: 5:23:32, time: 0.767, data_time: 0.006, memory: 5380, loss_rpn_cls: 0.1987, loss_rpn_bbox: 0.0803, loss_cls: 0.3920, acc: 90.2861, loss_bbox: 0.3603, loss: 1.0313, grad_norm: 5.4719\n",
      "2021-05-15 17:28:50,279 - mmdet - INFO - Epoch [2][150/655]\tlr: 1.000e-04, eta: 5:23:16, time: 0.777, data_time: 0.006, memory: 5380, loss_rpn_cls: 0.2018, loss_rpn_bbox: 0.0828, loss_cls: 0.3987, acc: 89.4082, loss_bbox: 0.3877, loss: 1.0710, grad_norm: 5.6790\n",
      "2021-05-15 17:29:28,566 - mmdet - INFO - Epoch [2][200/655]\tlr: 1.000e-04, eta: 5:22:41, time: 0.766, data_time: 0.006, memory: 5380, loss_rpn_cls: 0.1890, loss_rpn_bbox: 0.0787, loss_cls: 0.3730, acc: 90.1582, loss_bbox: 0.3682, loss: 1.0089, grad_norm: 6.6611\n",
      "2021-05-15 17:30:07,225 - mmdet - INFO - Epoch [2][250/655]\tlr: 1.000e-04, eta: 5:22:16, time: 0.773, data_time: 0.006, memory: 5380, loss_rpn_cls: 0.1717, loss_rpn_bbox: 0.0726, loss_cls: 0.3764, acc: 89.8818, loss_bbox: 0.3849, loss: 1.0056, grad_norm: 6.8035\n",
      "2021-05-15 17:30:45,605 - mmdet - INFO - Epoch [2][300/655]\tlr: 1.000e-04, eta: 5:21:42, time: 0.768, data_time: 0.006, memory: 5380, loss_rpn_cls: 0.1889, loss_rpn_bbox: 0.0924, loss_cls: 0.3865, acc: 89.2725, loss_bbox: 0.3911, loss: 1.0589, grad_norm: 7.3827\n",
      "2021-05-15 17:31:23,956 - mmdet - INFO - Epoch [2][350/655]\tlr: 1.000e-04, eta: 5:21:06, time: 0.767, data_time: 0.006, memory: 5380, loss_rpn_cls: 0.1864, loss_rpn_bbox: 0.0879, loss_cls: 0.3927, acc: 89.5762, loss_bbox: 0.3828, loss: 1.0499, grad_norm: 6.9252\n",
      "2021-05-15 17:32:02,195 - mmdet - INFO - Epoch [2][400/655]\tlr: 1.000e-04, eta: 5:20:28, time: 0.765, data_time: 0.006, memory: 5380, loss_rpn_cls: 0.1688, loss_rpn_bbox: 0.0733, loss_cls: 0.3629, acc: 90.3906, loss_bbox: 0.3599, loss: 0.9650, grad_norm: 6.9705\n",
      "2021-05-15 17:32:40,389 - mmdet - INFO - Epoch [2][450/655]\tlr: 1.000e-04, eta: 5:19:49, time: 0.764, data_time: 0.006, memory: 5380, loss_rpn_cls: 0.1800, loss_rpn_bbox: 0.0844, loss_cls: 0.4190, acc: 88.9453, loss_bbox: 0.4165, loss: 1.0999, grad_norm: 8.3410\n",
      "2021-05-15 17:33:18,544 - mmdet - INFO - Epoch [2][500/655]\tlr: 1.000e-04, eta: 5:19:09, time: 0.763, data_time: 0.006, memory: 5380, loss_rpn_cls: 0.1665, loss_rpn_bbox: 0.0800, loss_cls: 0.3802, acc: 89.6182, loss_bbox: 0.3846, loss: 1.0114, grad_norm: 7.6670\n",
      "2021-05-15 17:33:56,921 - mmdet - INFO - Epoch [2][550/655]\tlr: 1.000e-04, eta: 5:18:34, time: 0.768, data_time: 0.006, memory: 5380, loss_rpn_cls: 0.1808, loss_rpn_bbox: 0.0942, loss_cls: 0.3643, acc: 89.3828, loss_bbox: 0.3908, loss: 1.0301, grad_norm: 7.3333\n",
      "2021-05-15 17:34:35,154 - mmdet - INFO - Epoch [2][600/655]\tlr: 1.000e-04, eta: 5:17:56, time: 0.765, data_time: 0.006, memory: 5380, loss_rpn_cls: 0.1710, loss_rpn_bbox: 0.0845, loss_cls: 0.3817, acc: 89.6982, loss_bbox: 0.3819, loss: 1.0191, grad_norm: 8.2124\n",
      "2021-05-15 17:35:13,429 - mmdet - INFO - Epoch [2][650/655]\tlr: 1.000e-04, eta: 5:17:18, time: 0.765, data_time: 0.006, memory: 5380, loss_rpn_cls: 0.1682, loss_rpn_bbox: 0.0841, loss_cls: 0.3977, acc: 89.1602, loss_bbox: 0.4040, loss: 1.0541, grad_norm: 8.1472\n",
      "2021-05-15 17:35:17,306 - mmdet - INFO - Saving checkpoint at 2 epochs\n"
     ]
    },
    {
     "name": "stdout",
     "output_type": "stream",
     "text": [
      "[>>>>>>>>>>>>>>>>>>>>>>>>>>>>>] 655/655, 10.1 task/s, elapsed: 65s, ETA:     0s"
     ]
    },
    {
     "name": "stderr",
     "output_type": "stream",
     "text": [
      "2021-05-15 17:36:24,423 - mmdet - INFO - Evaluating bbox...\n"
     ]
    },
    {
     "name": "stdout",
     "output_type": "stream",
     "text": [
      "Loading and preparing results...\n",
      "DONE (t=0.61s)\n",
      "creating index...\n",
      "index created!\n",
      "Running per image evaluation...\n",
      "Evaluate annotation type *bbox*\n",
      "DONE (t=8.47s).\n",
      "Accumulating evaluation results...\n"
     ]
    },
    {
     "name": "stderr",
     "output_type": "stream",
     "text": [
      "2021-05-15 17:36:34,740 - mmdet - INFO - Epoch(val) [2][655]\tbbox_mAP: 0.0090, bbox_mAP_50: 0.0350, bbox_mAP_75: 0.0020, bbox_mAP_s: 0.0000, bbox_mAP_m: 0.0140, bbox_mAP_l: 0.0200, bbox_mAP_copypaste: 0.009 0.035 0.002 0.000 0.014 0.020\n"
     ]
    },
    {
     "name": "stdout",
     "output_type": "stream",
     "text": [
      "DONE (t=1.15s).\n",
      "Average Precision  (AP) @[ IoU=0.50:0.95 | area=   all | maxDets=100 ] = 0.009\n",
      "Average Precision  (AP) @[ IoU=0.50      | area=   all | maxDets=1000 ] = 0.035\n",
      "Average Precision  (AP) @[ IoU=0.75      | area=   all | maxDets=1000 ] = 0.002\n",
      "Average Precision  (AP) @[ IoU=0.50:0.95 | area= small | maxDets=1000 ] = 0.000\n",
      "Average Precision  (AP) @[ IoU=0.50:0.95 | area=medium | maxDets=1000 ] = 0.014\n",
      "Average Precision  (AP) @[ IoU=0.50:0.95 | area= large | maxDets=1000 ] = 0.020\n",
      "Average Recall     (AR) @[ IoU=0.50:0.95 | area=   all | maxDets=100 ] = 0.046\n",
      "Average Recall     (AR) @[ IoU=0.50:0.95 | area=   all | maxDets=300 ] = 0.046\n",
      "Average Recall     (AR) @[ IoU=0.50:0.95 | area=   all | maxDets=1000 ] = 0.046\n",
      "Average Recall     (AR) @[ IoU=0.50:0.95 | area= small | maxDets=1000 ] = 0.003\n",
      "Average Recall     (AR) @[ IoU=0.50:0.95 | area=medium | maxDets=1000 ] = 0.027\n",
      "Average Recall     (AR) @[ IoU=0.50:0.95 | area= large | maxDets=1000 ] = 0.114\n"
     ]
    },
    {
     "name": "stderr",
     "output_type": "stream",
     "text": [
      "2021-05-15 17:37:15,101 - mmdet - INFO - Epoch [3][50/655]\tlr: 1.000e-04, eta: 5:16:05, time: 0.807, data_time: 0.050, memory: 5380, loss_rpn_cls: 0.1581, loss_rpn_bbox: 0.0732, loss_cls: 0.3667, acc: 89.8418, loss_bbox: 0.3837, loss: 0.9816, grad_norm: 7.8709\n",
      "2021-05-15 17:37:53,251 - mmdet - INFO - Epoch [3][100/655]\tlr: 1.000e-04, eta: 5:15:26, time: 0.763, data_time: 0.006, memory: 5380, loss_rpn_cls: 0.1634, loss_rpn_bbox: 0.0828, loss_cls: 0.3937, acc: 89.0195, loss_bbox: 0.4160, loss: 1.0560, grad_norm: 8.1870\n",
      "2021-05-15 17:38:31,483 - mmdet - INFO - Epoch [3][150/655]\tlr: 1.000e-04, eta: 5:14:49, time: 0.765, data_time: 0.006, memory: 5380, loss_rpn_cls: 0.1282, loss_rpn_bbox: 0.0662, loss_cls: 0.3721, acc: 89.8301, loss_bbox: 0.3848, loss: 0.9513, grad_norm: 8.2695\n",
      "2021-05-15 17:39:09,719 - mmdet - INFO - Epoch [3][200/655]\tlr: 1.000e-04, eta: 5:14:12, time: 0.765, data_time: 0.006, memory: 5380, loss_rpn_cls: 0.1622, loss_rpn_bbox: 0.0890, loss_cls: 0.4198, acc: 88.3623, loss_bbox: 0.4452, loss: 1.1162, grad_norm: 7.9630\n",
      "2021-05-15 17:39:48,094 - mmdet - INFO - Epoch [3][250/655]\tlr: 1.000e-04, eta: 5:13:37, time: 0.767, data_time: 0.006, memory: 5380, loss_rpn_cls: 0.1672, loss_rpn_bbox: 0.0927, loss_cls: 0.4056, acc: 88.6260, loss_bbox: 0.4288, loss: 1.0943, grad_norm: 9.4516\n",
      "2021-05-15 17:40:26,375 - mmdet - INFO - Epoch [3][300/655]\tlr: 1.000e-04, eta: 5:13:00, time: 0.766, data_time: 0.006, memory: 5380, loss_rpn_cls: 0.1413, loss_rpn_bbox: 0.0760, loss_cls: 0.3699, acc: 89.8682, loss_bbox: 0.3881, loss: 0.9753, grad_norm: 8.0120\n",
      "2021-05-15 17:41:04,703 - mmdet - INFO - Epoch [3][350/655]\tlr: 1.000e-04, eta: 5:12:24, time: 0.767, data_time: 0.006, memory: 5380, loss_rpn_cls: 0.1606, loss_rpn_bbox: 0.0857, loss_cls: 0.3917, acc: 88.9971, loss_bbox: 0.4250, loss: 1.0629, grad_norm: 8.2548\n",
      "2021-05-15 17:41:43,257 - mmdet - INFO - Epoch [3][400/655]\tlr: 1.000e-04, eta: 5:11:51, time: 0.771, data_time: 0.006, memory: 5380, loss_rpn_cls: 0.1575, loss_rpn_bbox: 0.0784, loss_cls: 0.3736, acc: 89.5479, loss_bbox: 0.4028, loss: 1.0124, grad_norm: 9.1237\n",
      "2021-05-15 17:42:21,442 - mmdet - INFO - Epoch [3][450/655]\tlr: 1.000e-04, eta: 5:11:12, time: 0.764, data_time: 0.006, memory: 5380, loss_rpn_cls: 0.1416, loss_rpn_bbox: 0.0770, loss_cls: 0.3924, acc: 89.0068, loss_bbox: 0.4265, loss: 1.0375, grad_norm: 8.7994\n",
      "2021-05-15 17:42:59,726 - mmdet - INFO - Epoch [3][500/655]\tlr: 1.000e-04, eta: 5:10:35, time: 0.766, data_time: 0.006, memory: 5380, loss_rpn_cls: 0.1453, loss_rpn_bbox: 0.0751, loss_cls: 0.3770, acc: 89.4150, loss_bbox: 0.4088, loss: 1.0062, grad_norm: 9.3185\n",
      "2021-05-15 17:43:38,135 - mmdet - INFO - Epoch [3][550/655]\tlr: 1.000e-04, eta: 5:10:00, time: 0.768, data_time: 0.006, memory: 5380, loss_rpn_cls: 0.1498, loss_rpn_bbox: 0.0788, loss_cls: 0.3875, acc: 89.2334, loss_bbox: 0.4067, loss: 1.0228, grad_norm: 9.5495\n",
      "2021-05-15 17:44:16,777 - mmdet - INFO - Epoch [3][600/655]\tlr: 1.000e-04, eta: 5:09:27, time: 0.773, data_time: 0.006, memory: 5380, loss_rpn_cls: 0.1522, loss_rpn_bbox: 0.0902, loss_cls: 0.3902, acc: 88.7178, loss_bbox: 0.4326, loss: 1.0651, grad_norm: 8.7072\n",
      "2021-05-15 17:44:55,027 - mmdet - INFO - Epoch [3][650/655]\tlr: 1.000e-04, eta: 5:08:49, time: 0.765, data_time: 0.006, memory: 5380, loss_rpn_cls: 0.1588, loss_rpn_bbox: 0.0872, loss_cls: 0.4115, acc: 88.3271, loss_bbox: 0.4460, loss: 1.1035, grad_norm: 8.8870\n",
      "2021-05-15 17:44:58,913 - mmdet - INFO - Saving checkpoint at 3 epochs\n"
     ]
    },
    {
     "name": "stdout",
     "output_type": "stream",
     "text": [
      "[>>>>>>>>>>>>>>>>>>>>>>>>>>>>>] 655/655, 10.1 task/s, elapsed: 65s, ETA:     0s"
     ]
    },
    {
     "name": "stderr",
     "output_type": "stream",
     "text": [
      "2021-05-15 17:46:06,404 - mmdet - INFO - Evaluating bbox...\n"
     ]
    },
    {
     "name": "stdout",
     "output_type": "stream",
     "text": [
      "Loading and preparing results...\n",
      "DONE (t=0.96s)\n",
      "creating index...\n",
      "index created!\n",
      "Running per image evaluation...\n",
      "Evaluate annotation type *bbox*\n",
      "DONE (t=7.96s).\n",
      "Accumulating evaluation results...\n"
     ]
    },
    {
     "name": "stderr",
     "output_type": "stream",
     "text": [
      "2021-05-15 17:46:16,517 - mmdet - INFO - Epoch(val) [3][655]\tbbox_mAP: 0.0190, bbox_mAP_50: 0.0630, bbox_mAP_75: 0.0050, bbox_mAP_s: 0.0000, bbox_mAP_m: 0.0240, bbox_mAP_l: 0.0440, bbox_mAP_copypaste: 0.019 0.063 0.005 0.000 0.024 0.044\n"
     ]
    },
    {
     "name": "stdout",
     "output_type": "stream",
     "text": [
      "DONE (t=1.10s).\n",
      "Average Precision  (AP) @[ IoU=0.50:0.95 | area=   all | maxDets=100 ] = 0.019\n",
      "Average Precision  (AP) @[ IoU=0.50      | area=   all | maxDets=1000 ] = 0.063\n",
      "Average Precision  (AP) @[ IoU=0.75      | area=   all | maxDets=1000 ] = 0.005\n",
      "Average Precision  (AP) @[ IoU=0.50:0.95 | area= small | maxDets=1000 ] = 0.000\n",
      "Average Precision  (AP) @[ IoU=0.50:0.95 | area=medium | maxDets=1000 ] = 0.024\n",
      "Average Precision  (AP) @[ IoU=0.50:0.95 | area= large | maxDets=1000 ] = 0.044\n",
      "Average Recall     (AR) @[ IoU=0.50:0.95 | area=   all | maxDets=100 ] = 0.072\n",
      "Average Recall     (AR) @[ IoU=0.50:0.95 | area=   all | maxDets=300 ] = 0.072\n",
      "Average Recall     (AR) @[ IoU=0.50:0.95 | area=   all | maxDets=1000 ] = 0.072\n",
      "Average Recall     (AR) @[ IoU=0.50:0.95 | area= small | maxDets=1000 ] = 0.004\n",
      "Average Recall     (AR) @[ IoU=0.50:0.95 | area=medium | maxDets=1000 ] = 0.040\n",
      "Average Recall     (AR) @[ IoU=0.50:0.95 | area= large | maxDets=1000 ] = 0.186\n"
     ]
    },
    {
     "name": "stderr",
     "output_type": "stream",
     "text": [
      "2021-05-15 17:46:56,784 - mmdet - INFO - Epoch [4][50/655]\tlr: 1.000e-04, eta: 5:07:46, time: 0.805, data_time: 0.049, memory: 5380, loss_rpn_cls: 0.1367, loss_rpn_bbox: 0.0816, loss_cls: 0.3949, acc: 88.8418, loss_bbox: 0.4271, loss: 1.0403, grad_norm: 9.0826\n",
      "2021-05-15 17:47:35,051 - mmdet - INFO - Epoch [4][100/655]\tlr: 1.000e-04, eta: 5:07:09, time: 0.765, data_time: 0.006, memory: 5380, loss_rpn_cls: 0.1434, loss_rpn_bbox: 0.0823, loss_cls: 0.3964, acc: 88.7695, loss_bbox: 0.4360, loss: 1.0581, grad_norm: 9.5499\n",
      "2021-05-15 17:48:13,203 - mmdet - INFO - Epoch [4][150/655]\tlr: 1.000e-04, eta: 5:06:30, time: 0.763, data_time: 0.006, memory: 5380, loss_rpn_cls: 0.1490, loss_rpn_bbox: 0.0712, loss_cls: 0.3723, acc: 89.2744, loss_bbox: 0.4139, loss: 1.0063, grad_norm: 10.0827\n",
      "2021-05-15 17:48:51,192 - mmdet - INFO - Epoch [4][200/655]\tlr: 1.000e-04, eta: 5:05:50, time: 0.760, data_time: 0.006, memory: 5380, loss_rpn_cls: 0.1358, loss_rpn_bbox: 0.0725, loss_cls: 0.3839, acc: 88.9551, loss_bbox: 0.4189, loss: 1.0111, grad_norm: 9.2278\n",
      "2021-05-15 17:49:29,252 - mmdet - INFO - Epoch [4][250/655]\tlr: 1.000e-04, eta: 5:05:10, time: 0.761, data_time: 0.006, memory: 5380, loss_rpn_cls: 0.1301, loss_rpn_bbox: 0.0710, loss_cls: 0.3547, acc: 89.5713, loss_bbox: 0.3988, loss: 0.9546, grad_norm: 9.3991\n",
      "2021-05-15 17:50:07,237 - mmdet - INFO - Epoch [4][300/655]\tlr: 1.000e-04, eta: 5:04:30, time: 0.760, data_time: 0.006, memory: 5380, loss_rpn_cls: 0.1452, loss_rpn_bbox: 0.0900, loss_cls: 0.3912, acc: 88.6875, loss_bbox: 0.4377, loss: 1.0642, grad_norm: 8.9223\n",
      "2021-05-15 17:50:45,455 - mmdet - INFO - Epoch [4][350/655]\tlr: 1.000e-04, eta: 5:03:53, time: 0.764, data_time: 0.006, memory: 5380, loss_rpn_cls: 0.1327, loss_rpn_bbox: 0.0762, loss_cls: 0.3682, acc: 89.3340, loss_bbox: 0.4296, loss: 1.0067, grad_norm: 9.0915\n",
      "2021-05-15 17:51:23,420 - mmdet - INFO - Epoch [4][400/655]\tlr: 1.000e-04, eta: 5:03:12, time: 0.759, data_time: 0.006, memory: 5380, loss_rpn_cls: 0.1411, loss_rpn_bbox: 0.0832, loss_cls: 0.3968, acc: 88.8770, loss_bbox: 0.4359, loss: 1.0570, grad_norm: 9.8778\n",
      "2021-05-15 17:52:01,336 - mmdet - INFO - Epoch [4][450/655]\tlr: 1.000e-04, eta: 5:02:32, time: 0.758, data_time: 0.006, memory: 5380, loss_rpn_cls: 0.1404, loss_rpn_bbox: 0.0768, loss_cls: 0.3768, acc: 89.2568, loss_bbox: 0.4297, loss: 1.0236, grad_norm: 9.7425\n",
      "2021-05-15 17:52:39,277 - mmdet - INFO - Epoch [4][500/655]\tlr: 1.000e-04, eta: 5:01:52, time: 0.759, data_time: 0.006, memory: 5380, loss_rpn_cls: 0.1391, loss_rpn_bbox: 0.0844, loss_cls: 0.3771, acc: 89.0654, loss_bbox: 0.4277, loss: 1.0282, grad_norm: 9.3083\n",
      "2021-05-15 17:53:17,253 - mmdet - INFO - Epoch [4][550/655]\tlr: 1.000e-04, eta: 5:01:12, time: 0.760, data_time: 0.006, memory: 5380, loss_rpn_cls: 0.1328, loss_rpn_bbox: 0.0768, loss_cls: 0.3720, acc: 89.2881, loss_bbox: 0.4186, loss: 1.0003, grad_norm: 9.6679\n",
      "2021-05-15 17:53:55,157 - mmdet - INFO - Epoch [4][600/655]\tlr: 1.000e-04, eta: 5:00:31, time: 0.758, data_time: 0.006, memory: 5380, loss_rpn_cls: 0.1428, loss_rpn_bbox: 0.0768, loss_cls: 0.3782, acc: 89.3564, loss_bbox: 0.4140, loss: 1.0118, grad_norm: 9.6086\n",
      "2021-05-15 17:54:33,315 - mmdet - INFO - Epoch [4][650/655]\tlr: 1.000e-04, eta: 4:59:53, time: 0.763, data_time: 0.006, memory: 5380, loss_rpn_cls: 0.1409, loss_rpn_bbox: 0.0804, loss_cls: 0.3904, acc: 88.6367, loss_bbox: 0.4424, loss: 1.0542, grad_norm: 9.9941\n",
      "2021-05-15 17:54:37,290 - mmdet - INFO - Saving checkpoint at 4 epochs\n"
     ]
    },
    {
     "name": "stdout",
     "output_type": "stream",
     "text": [
      "[>>>>>>>>>>>>>>>>>>>>>>>>>>>>>] 655/655, 10.2 task/s, elapsed: 64s, ETA:     0s"
     ]
    },
    {
     "name": "stderr",
     "output_type": "stream",
     "text": [
      "2021-05-15 17:55:44,106 - mmdet - INFO - Evaluating bbox...\n"
     ]
    },
    {
     "name": "stdout",
     "output_type": "stream",
     "text": [
      "Loading and preparing results...\n",
      "DONE (t=0.99s)\n",
      "creating index...\n",
      "index created!\n",
      "Running per image evaluation...\n",
      "Evaluate annotation type *bbox*\n",
      "DONE (t=7.98s).\n",
      "Accumulating evaluation results...\n"
     ]
    },
    {
     "name": "stderr",
     "output_type": "stream",
     "text": [
      "2021-05-15 17:55:54,359 - mmdet - INFO - Epoch(val) [4][655]\tbbox_mAP: 0.0280, bbox_mAP_50: 0.0820, bbox_mAP_75: 0.0120, bbox_mAP_s: 0.0010, bbox_mAP_m: 0.0270, bbox_mAP_l: 0.0660, bbox_mAP_copypaste: 0.028 0.082 0.012 0.001 0.027 0.066\n"
     ]
    },
    {
     "name": "stdout",
     "output_type": "stream",
     "text": [
      "DONE (t=1.18s).\n",
      "Average Precision  (AP) @[ IoU=0.50:0.95 | area=   all | maxDets=100 ] = 0.028\n",
      "Average Precision  (AP) @[ IoU=0.50      | area=   all | maxDets=1000 ] = 0.082\n",
      "Average Precision  (AP) @[ IoU=0.75      | area=   all | maxDets=1000 ] = 0.012\n",
      "Average Precision  (AP) @[ IoU=0.50:0.95 | area= small | maxDets=1000 ] = 0.001\n",
      "Average Precision  (AP) @[ IoU=0.50:0.95 | area=medium | maxDets=1000 ] = 0.027\n",
      "Average Precision  (AP) @[ IoU=0.50:0.95 | area= large | maxDets=1000 ] = 0.066\n",
      "Average Recall     (AR) @[ IoU=0.50:0.95 | area=   all | maxDets=100 ] = 0.086\n",
      "Average Recall     (AR) @[ IoU=0.50:0.95 | area=   all | maxDets=300 ] = 0.086\n",
      "Average Recall     (AR) @[ IoU=0.50:0.95 | area=   all | maxDets=1000 ] = 0.086\n",
      "Average Recall     (AR) @[ IoU=0.50:0.95 | area= small | maxDets=1000 ] = 0.005\n",
      "Average Recall     (AR) @[ IoU=0.50:0.95 | area=medium | maxDets=1000 ] = 0.048\n",
      "Average Recall     (AR) @[ IoU=0.50:0.95 | area= large | maxDets=1000 ] = 0.223\n"
     ]
    },
    {
     "name": "stderr",
     "output_type": "stream",
     "text": [
      "2021-05-15 17:56:34,670 - mmdet - INFO - Epoch [5][50/655]\tlr: 1.000e-04, eta: 4:58:57, time: 0.806, data_time: 0.049, memory: 5380, loss_rpn_cls: 0.1407, loss_rpn_bbox: 0.0746, loss_cls: 0.3837, acc: 88.6221, loss_bbox: 0.4441, loss: 1.0431, grad_norm: 9.6992\n",
      "2021-05-15 17:57:13,287 - mmdet - INFO - Epoch [5][100/655]\tlr: 1.000e-04, eta: 4:58:23, time: 0.772, data_time: 0.006, memory: 5380, loss_rpn_cls: 0.1345, loss_rpn_bbox: 0.0847, loss_cls: 0.3905, acc: 88.6318, loss_bbox: 0.4538, loss: 1.0635, grad_norm: 10.0468\n",
      "2021-05-15 17:57:51,664 - mmdet - INFO - Epoch [5][150/655]\tlr: 1.000e-04, eta: 4:57:47, time: 0.768, data_time: 0.006, memory: 5380, loss_rpn_cls: 0.1240, loss_rpn_bbox: 0.0751, loss_cls: 0.3546, acc: 89.4590, loss_bbox: 0.4149, loss: 0.9685, grad_norm: 9.8461\n",
      "2021-05-15 17:58:30,067 - mmdet - INFO - Epoch [5][200/655]\tlr: 1.000e-04, eta: 4:57:11, time: 0.768, data_time: 0.006, memory: 5380, loss_rpn_cls: 0.1207, loss_rpn_bbox: 0.0692, loss_cls: 0.3639, acc: 89.4961, loss_bbox: 0.4076, loss: 0.9614, grad_norm: 9.6196\n",
      "2021-05-15 17:59:08,352 - mmdet - INFO - Epoch [5][250/655]\tlr: 1.000e-04, eta: 4:56:34, time: 0.766, data_time: 0.006, memory: 5380, loss_rpn_cls: 0.1289, loss_rpn_bbox: 0.0772, loss_cls: 0.3781, acc: 89.2393, loss_bbox: 0.4276, loss: 1.0117, grad_norm: 9.7092\n",
      "2021-05-15 17:59:46,262 - mmdet - INFO - Epoch [5][300/655]\tlr: 1.000e-04, eta: 4:55:54, time: 0.758, data_time: 0.006, memory: 5380, loss_rpn_cls: 0.1114, loss_rpn_bbox: 0.0658, loss_cls: 0.3593, acc: 89.6445, loss_bbox: 0.4104, loss: 0.9469, grad_norm: 9.7544\n",
      "2021-05-15 18:00:24,501 - mmdet - INFO - Epoch [5][350/655]\tlr: 1.000e-04, eta: 4:55:17, time: 0.765, data_time: 0.006, memory: 5380, loss_rpn_cls: 0.1259, loss_rpn_bbox: 0.0716, loss_cls: 0.3719, acc: 89.1514, loss_bbox: 0.4181, loss: 0.9876, grad_norm: 9.5614\n",
      "2021-05-15 18:01:02,653 - mmdet - INFO - Epoch [5][400/655]\tlr: 1.000e-04, eta: 4:54:39, time: 0.763, data_time: 0.006, memory: 5380, loss_rpn_cls: 0.1319, loss_rpn_bbox: 0.0768, loss_cls: 0.3673, acc: 89.2129, loss_bbox: 0.4284, loss: 1.0043, grad_norm: 10.1171\n",
      "2021-05-15 18:01:40,999 - mmdet - INFO - Epoch [5][450/655]\tlr: 1.000e-04, eta: 4:54:02, time: 0.767, data_time: 0.006, memory: 5380, loss_rpn_cls: 0.1269, loss_rpn_bbox: 0.0745, loss_cls: 0.3859, acc: 89.2754, loss_bbox: 0.4222, loss: 1.0095, grad_norm: 9.7497\n",
      "2021-05-15 18:02:19,682 - mmdet - INFO - Epoch [5][500/655]\tlr: 1.000e-04, eta: 4:53:28, time: 0.774, data_time: 0.006, memory: 5380, loss_rpn_cls: 0.1439, loss_rpn_bbox: 0.0927, loss_cls: 0.3953, acc: 88.6719, loss_bbox: 0.4459, loss: 1.0778, grad_norm: 10.4954\n",
      "2021-05-15 18:02:57,959 - mmdet - INFO - Epoch [5][550/655]\tlr: 1.000e-04, eta: 4:52:51, time: 0.766, data_time: 0.006, memory: 5380, loss_rpn_cls: 0.1327, loss_rpn_bbox: 0.0814, loss_cls: 0.3717, acc: 89.1719, loss_bbox: 0.4211, loss: 1.0069, grad_norm: 9.9277\n",
      "2021-05-15 18:03:36,348 - mmdet - INFO - Epoch [5][600/655]\tlr: 1.000e-04, eta: 4:52:14, time: 0.768, data_time: 0.006, memory: 5380, loss_rpn_cls: 0.1302, loss_rpn_bbox: 0.0756, loss_cls: 0.3728, acc: 88.8623, loss_bbox: 0.4326, loss: 1.0112, grad_norm: 10.0090\n",
      "2021-05-15 18:04:14,661 - mmdet - INFO - Epoch [5][650/655]\tlr: 1.000e-04, eta: 4:51:37, time: 0.766, data_time: 0.006, memory: 5380, loss_rpn_cls: 0.1415, loss_rpn_bbox: 0.0907, loss_cls: 0.3970, acc: 88.4131, loss_bbox: 0.4544, loss: 1.0836, grad_norm: 10.6274\n",
      "2021-05-15 18:04:18,545 - mmdet - INFO - Saving checkpoint at 5 epochs\n"
     ]
    },
    {
     "name": "stdout",
     "output_type": "stream",
     "text": [
      "[>>>>>>>>>>>>>>>>>>>>>>>>>>>>>] 655/655, 10.1 task/s, elapsed: 65s, ETA:     0s"
     ]
    },
    {
     "name": "stderr",
     "output_type": "stream",
     "text": [
      "2021-05-15 18:05:26,270 - mmdet - INFO - Evaluating bbox...\n"
     ]
    },
    {
     "name": "stdout",
     "output_type": "stream",
     "text": [
      "Loading and preparing results...\n",
      "DONE (t=0.60s)\n",
      "creating index...\n",
      "index created!\n",
      "Running per image evaluation...\n",
      "Evaluate annotation type *bbox*\n",
      "DONE (t=7.87s).\n",
      "Accumulating evaluation results...\n"
     ]
    },
    {
     "name": "stderr",
     "output_type": "stream",
     "text": [
      "2021-05-15 18:05:35,810 - mmdet - INFO - Epoch(val) [5][655]\tbbox_mAP: 0.0350, bbox_mAP_50: 0.0930, bbox_mAP_75: 0.0200, bbox_mAP_s: 0.0020, bbox_mAP_m: 0.0250, bbox_mAP_l: 0.0880, bbox_mAP_copypaste: 0.035 0.093 0.020 0.002 0.025 0.088\n"
     ]
    },
    {
     "name": "stdout",
     "output_type": "stream",
     "text": [
      "DONE (t=0.99s).\n",
      "Average Precision  (AP) @[ IoU=0.50:0.95 | area=   all | maxDets=100 ] = 0.035\n",
      "Average Precision  (AP) @[ IoU=0.50      | area=   all | maxDets=1000 ] = 0.093\n",
      "Average Precision  (AP) @[ IoU=0.75      | area=   all | maxDets=1000 ] = 0.020\n",
      "Average Precision  (AP) @[ IoU=0.50:0.95 | area= small | maxDets=1000 ] = 0.002\n",
      "Average Precision  (AP) @[ IoU=0.50:0.95 | area=medium | maxDets=1000 ] = 0.025\n",
      "Average Precision  (AP) @[ IoU=0.50:0.95 | area= large | maxDets=1000 ] = 0.088\n",
      "Average Recall     (AR) @[ IoU=0.50:0.95 | area=   all | maxDets=100 ] = 0.095\n",
      "Average Recall     (AR) @[ IoU=0.50:0.95 | area=   all | maxDets=300 ] = 0.095\n",
      "Average Recall     (AR) @[ IoU=0.50:0.95 | area=   all | maxDets=1000 ] = 0.095\n",
      "Average Recall     (AR) @[ IoU=0.50:0.95 | area= small | maxDets=1000 ] = 0.007\n",
      "Average Recall     (AR) @[ IoU=0.50:0.95 | area=medium | maxDets=1000 ] = 0.053\n",
      "Average Recall     (AR) @[ IoU=0.50:0.95 | area= large | maxDets=1000 ] = 0.235\n"
     ]
    },
    {
     "name": "stderr",
     "output_type": "stream",
     "text": [
      "2021-05-15 18:06:16,145 - mmdet - INFO - Epoch [6][50/655]\tlr: 1.000e-04, eta: 4:50:44, time: 0.807, data_time: 0.049, memory: 5380, loss_rpn_cls: 0.1217, loss_rpn_bbox: 0.0747, loss_cls: 0.3550, acc: 89.5830, loss_bbox: 0.4229, loss: 0.9743, grad_norm: 10.0984\n",
      "2021-05-15 18:06:54,298 - mmdet - INFO - Epoch [6][100/655]\tlr: 1.000e-04, eta: 4:50:06, time: 0.763, data_time: 0.006, memory: 5380, loss_rpn_cls: 0.1158, loss_rpn_bbox: 0.0698, loss_cls: 0.3520, acc: 89.8271, loss_bbox: 0.3987, loss: 0.9363, grad_norm: 10.1908\n",
      "2021-05-15 18:07:32,653 - mmdet - INFO - Epoch [6][150/655]\tlr: 1.000e-04, eta: 4:49:30, time: 0.767, data_time: 0.006, memory: 5380, loss_rpn_cls: 0.1120, loss_rpn_bbox: 0.0630, loss_cls: 0.3515, acc: 89.7207, loss_bbox: 0.4030, loss: 0.9295, grad_norm: 10.1564\n",
      "2021-05-15 18:08:10,818 - mmdet - INFO - Epoch [6][200/655]\tlr: 1.000e-04, eta: 4:48:52, time: 0.763, data_time: 0.006, memory: 5380, loss_rpn_cls: 0.1301, loss_rpn_bbox: 0.0824, loss_cls: 0.3714, acc: 89.2764, loss_bbox: 0.4247, loss: 1.0086, grad_norm: 9.9866\n",
      "2021-05-15 18:08:49,035 - mmdet - INFO - Epoch [6][250/655]\tlr: 1.000e-04, eta: 4:48:14, time: 0.764, data_time: 0.006, memory: 5380, loss_rpn_cls: 0.1109, loss_rpn_bbox: 0.0746, loss_cls: 0.3446, acc: 89.8223, loss_bbox: 0.4044, loss: 0.9345, grad_norm: 9.4275\n",
      "2021-05-15 18:09:27,323 - mmdet - INFO - Epoch [6][300/655]\tlr: 1.000e-04, eta: 4:47:37, time: 0.766, data_time: 0.006, memory: 5380, loss_rpn_cls: 0.1183, loss_rpn_bbox: 0.0726, loss_cls: 0.3641, acc: 89.3936, loss_bbox: 0.4253, loss: 0.9803, grad_norm: 9.8368\n",
      "2021-05-15 18:10:05,422 - mmdet - INFO - Epoch [6][350/655]\tlr: 1.000e-04, eta: 4:46:58, time: 0.762, data_time: 0.006, memory: 5380, loss_rpn_cls: 0.1254, loss_rpn_bbox: 0.0859, loss_cls: 0.3708, acc: 88.9033, loss_bbox: 0.4354, loss: 1.0174, grad_norm: 10.4478\n",
      "2021-05-15 18:10:43,523 - mmdet - INFO - Epoch [6][400/655]\tlr: 1.000e-04, eta: 4:46:20, time: 0.762, data_time: 0.006, memory: 5380, loss_rpn_cls: 0.1306, loss_rpn_bbox: 0.0840, loss_cls: 0.3925, acc: 88.4297, loss_bbox: 0.4496, loss: 1.0566, grad_norm: 10.5294\n",
      "2021-05-15 18:11:21,457 - mmdet - INFO - Epoch [6][450/655]\tlr: 1.000e-04, eta: 4:45:41, time: 0.759, data_time: 0.006, memory: 5380, loss_rpn_cls: 0.1256, loss_rpn_bbox: 0.0740, loss_cls: 0.3772, acc: 89.0479, loss_bbox: 0.4340, loss: 1.0108, grad_norm: 10.5615\n",
      "2021-05-15 18:11:59,378 - mmdet - INFO - Epoch [6][500/655]\tlr: 1.000e-04, eta: 4:45:01, time: 0.758, data_time: 0.006, memory: 5380, loss_rpn_cls: 0.1326, loss_rpn_bbox: 0.0857, loss_cls: 0.3688, acc: 89.0312, loss_bbox: 0.4293, loss: 1.0164, grad_norm: 9.9716\n",
      "2021-05-15 18:12:37,388 - mmdet - INFO - Epoch [6][550/655]\tlr: 1.000e-04, eta: 4:44:22, time: 0.760, data_time: 0.006, memory: 5380, loss_rpn_cls: 0.1146, loss_rpn_bbox: 0.0714, loss_cls: 0.3509, acc: 89.7803, loss_bbox: 0.4056, loss: 0.9424, grad_norm: 10.2996\n",
      "2021-05-15 18:13:15,581 - mmdet - INFO - Epoch [6][600/655]\tlr: 1.000e-04, eta: 4:43:45, time: 0.764, data_time: 0.006, memory: 5380, loss_rpn_cls: 0.1204, loss_rpn_bbox: 0.0741, loss_cls: 0.3786, acc: 88.8057, loss_bbox: 0.4438, loss: 1.0168, grad_norm: 10.3788\n",
      "2021-05-15 18:13:54,430 - mmdet - INFO - Epoch [6][650/655]\tlr: 1.000e-04, eta: 4:43:11, time: 0.777, data_time: 0.006, memory: 5380, loss_rpn_cls: 0.1286, loss_rpn_bbox: 0.0788, loss_cls: 0.3799, acc: 88.6875, loss_bbox: 0.4337, loss: 1.0209, grad_norm: 10.9549\n",
      "2021-05-15 18:13:58,352 - mmdet - INFO - Saving checkpoint at 6 epochs\n"
     ]
    },
    {
     "name": "stdout",
     "output_type": "stream",
     "text": [
      "[>>>>>>>>>>>>>>>>>>>>>>>>>>>>>] 655/655, 10.2 task/s, elapsed: 64s, ETA:     0s"
     ]
    },
    {
     "name": "stderr",
     "output_type": "stream",
     "text": [
      "2021-05-15 18:15:09,041 - mmdet - INFO - Evaluating bbox...\n"
     ]
    },
    {
     "name": "stdout",
     "output_type": "stream",
     "text": [
      "Loading and preparing results...\n",
      "DONE (t=0.54s)\n",
      "creating index...\n",
      "index created!\n",
      "Running per image evaluation...\n",
      "Evaluate annotation type *bbox*\n",
      "DONE (t=7.70s).\n",
      "Accumulating evaluation results...\n"
     ]
    },
    {
     "name": "stderr",
     "output_type": "stream",
     "text": [
      "2021-05-15 18:15:18,381 - mmdet - INFO - Epoch(val) [6][655]\tbbox_mAP: 0.0430, bbox_mAP_50: 0.1140, bbox_mAP_75: 0.0230, bbox_mAP_s: 0.0030, bbox_mAP_m: 0.0350, bbox_mAP_l: 0.1050, bbox_mAP_copypaste: 0.043 0.114 0.023 0.003 0.035 0.105\n"
     ]
    },
    {
     "name": "stdout",
     "output_type": "stream",
     "text": [
      "DONE (t=1.01s).\n",
      "Average Precision  (AP) @[ IoU=0.50:0.95 | area=   all | maxDets=100 ] = 0.043\n",
      "Average Precision  (AP) @[ IoU=0.50      | area=   all | maxDets=1000 ] = 0.114\n",
      "Average Precision  (AP) @[ IoU=0.75      | area=   all | maxDets=1000 ] = 0.023\n",
      "Average Precision  (AP) @[ IoU=0.50:0.95 | area= small | maxDets=1000 ] = 0.003\n",
      "Average Precision  (AP) @[ IoU=0.50:0.95 | area=medium | maxDets=1000 ] = 0.035\n",
      "Average Precision  (AP) @[ IoU=0.50:0.95 | area= large | maxDets=1000 ] = 0.105\n",
      "Average Recall     (AR) @[ IoU=0.50:0.95 | area=   all | maxDets=100 ] = 0.116\n",
      "Average Recall     (AR) @[ IoU=0.50:0.95 | area=   all | maxDets=300 ] = 0.116\n",
      "Average Recall     (AR) @[ IoU=0.50:0.95 | area=   all | maxDets=1000 ] = 0.116\n",
      "Average Recall     (AR) @[ IoU=0.50:0.95 | area= small | maxDets=1000 ] = 0.007\n",
      "Average Recall     (AR) @[ IoU=0.50:0.95 | area=medium | maxDets=1000 ] = 0.069\n",
      "Average Recall     (AR) @[ IoU=0.50:0.95 | area= large | maxDets=1000 ] = 0.289\n"
     ]
    },
    {
     "name": "stderr",
     "output_type": "stream",
     "text": [
      "2021-05-15 18:15:58,499 - mmdet - INFO - Epoch [7][50/655]\tlr: 1.000e-04, eta: 4:42:18, time: 0.802, data_time: 0.050, memory: 5380, loss_rpn_cls: 0.1288, loss_rpn_bbox: 0.0838, loss_cls: 0.3882, acc: 88.3145, loss_bbox: 0.4522, loss: 1.0530, grad_norm: 10.8799\n",
      "2021-05-15 18:16:36,497 - mmdet - INFO - Epoch [7][100/655]\tlr: 1.000e-04, eta: 4:41:40, time: 0.760, data_time: 0.006, memory: 5380, loss_rpn_cls: 0.1308, loss_rpn_bbox: 0.0861, loss_cls: 0.3982, acc: 88.2852, loss_bbox: 0.4580, loss: 1.0731, grad_norm: 10.1632\n",
      "2021-05-15 18:17:14,344 - mmdet - INFO - Epoch [7][150/655]\tlr: 1.000e-04, eta: 4:41:00, time: 0.757, data_time: 0.006, memory: 5380, loss_rpn_cls: 0.1090, loss_rpn_bbox: 0.0691, loss_cls: 0.3582, acc: 89.2939, loss_bbox: 0.4300, loss: 0.9663, grad_norm: 10.5673\n",
      "2021-05-15 18:17:52,134 - mmdet - INFO - Epoch [7][200/655]\tlr: 1.000e-04, eta: 4:40:20, time: 0.756, data_time: 0.006, memory: 5380, loss_rpn_cls: 0.1179, loss_rpn_bbox: 0.0749, loss_cls: 0.3802, acc: 88.9609, loss_bbox: 0.4255, loss: 0.9985, grad_norm: 10.2148\n",
      "2021-05-15 18:18:30,091 - mmdet - INFO - Epoch [7][250/655]\tlr: 1.000e-04, eta: 4:39:41, time: 0.759, data_time: 0.006, memory: 5380, loss_rpn_cls: 0.1094, loss_rpn_bbox: 0.0749, loss_cls: 0.3587, acc: 89.3682, loss_bbox: 0.4157, loss: 0.9587, grad_norm: 10.1499\n",
      "2021-05-15 18:19:08,033 - mmdet - INFO - Epoch [7][300/655]\tlr: 1.000e-04, eta: 4:39:02, time: 0.759, data_time: 0.006, memory: 5380, loss_rpn_cls: 0.1285, loss_rpn_bbox: 0.0831, loss_cls: 0.3867, acc: 88.4404, loss_bbox: 0.4592, loss: 1.0575, grad_norm: 10.4339\n",
      "2021-05-15 18:19:45,724 - mmdet - INFO - Epoch [7][350/655]\tlr: 1.000e-04, eta: 4:38:22, time: 0.754, data_time: 0.006, memory: 5380, loss_rpn_cls: 0.1019, loss_rpn_bbox: 0.0688, loss_cls: 0.3334, acc: 90.2783, loss_bbox: 0.3871, loss: 0.8912, grad_norm: 9.0709\n",
      "2021-05-15 18:20:23,491 - mmdet - INFO - Epoch [7][400/655]\tlr: 1.000e-04, eta: 4:37:42, time: 0.755, data_time: 0.006, memory: 5380, loss_rpn_cls: 0.1117, loss_rpn_bbox: 0.0663, loss_cls: 0.3424, acc: 90.2412, loss_bbox: 0.3890, loss: 0.9095, grad_norm: 10.6758\n",
      "2021-05-15 18:21:01,192 - mmdet - INFO - Epoch [7][450/655]\tlr: 1.000e-04, eta: 4:37:02, time: 0.754, data_time: 0.006, memory: 5380, loss_rpn_cls: 0.1017, loss_rpn_bbox: 0.0693, loss_cls: 0.3429, acc: 89.5283, loss_bbox: 0.4068, loss: 0.9206, grad_norm: 9.8021\n",
      "2021-05-15 18:21:39,007 - mmdet - INFO - Epoch [7][500/655]\tlr: 1.000e-04, eta: 4:36:23, time: 0.756, data_time: 0.006, memory: 5380, loss_rpn_cls: 0.1157, loss_rpn_bbox: 0.0701, loss_cls: 0.3481, acc: 89.6279, loss_bbox: 0.4096, loss: 0.9434, grad_norm: 10.3252\n",
      "2021-05-15 18:22:16,763 - mmdet - INFO - Epoch [7][550/655]\tlr: 1.000e-04, eta: 4:35:43, time: 0.755, data_time: 0.006, memory: 5380, loss_rpn_cls: 0.1140, loss_rpn_bbox: 0.0707, loss_cls: 0.3326, acc: 89.8516, loss_bbox: 0.4046, loss: 0.9219, grad_norm: 10.5484\n",
      "2021-05-15 18:22:54,612 - mmdet - INFO - Epoch [7][600/655]\tlr: 1.000e-04, eta: 4:35:04, time: 0.757, data_time: 0.006, memory: 5380, loss_rpn_cls: 0.1216, loss_rpn_bbox: 0.0817, loss_cls: 0.3922, acc: 88.3799, loss_bbox: 0.4549, loss: 1.0504, grad_norm: 10.5340\n",
      "2021-05-15 18:23:32,282 - mmdet - INFO - Epoch [7][650/655]\tlr: 1.000e-04, eta: 4:34:24, time: 0.753, data_time: 0.006, memory: 5380, loss_rpn_cls: 0.1117, loss_rpn_bbox: 0.0731, loss_cls: 0.3577, acc: 89.1357, loss_bbox: 0.4350, loss: 0.9775, grad_norm: 10.2289\n",
      "2021-05-15 18:23:36,058 - mmdet - INFO - Saving checkpoint at 7 epochs\n"
     ]
    },
    {
     "name": "stdout",
     "output_type": "stream",
     "text": [
      "[>>>>>>>>>>>>>>>>>>>>>>>>>>>>>] 655/655, 10.4 task/s, elapsed: 63s, ETA:     0s"
     ]
    },
    {
     "name": "stderr",
     "output_type": "stream",
     "text": [
      "2021-05-15 18:24:45,226 - mmdet - INFO - Evaluating bbox...\n"
     ]
    },
    {
     "name": "stdout",
     "output_type": "stream",
     "text": [
      "Loading and preparing results...\n",
      "DONE (t=0.49s)\n",
      "creating index...\n",
      "index created!\n",
      "Running per image evaluation...\n",
      "Evaluate annotation type *bbox*\n",
      "DONE (t=6.08s).\n",
      "Accumulating evaluation results...\n"
     ]
    },
    {
     "name": "stderr",
     "output_type": "stream",
     "text": [
      "2021-05-15 18:24:52,641 - mmdet - INFO - Epoch(val) [7][655]\tbbox_mAP: 0.0520, bbox_mAP_50: 0.1300, bbox_mAP_75: 0.0320, bbox_mAP_s: 0.0030, bbox_mAP_m: 0.0520, bbox_mAP_l: 0.1260, bbox_mAP_copypaste: 0.052 0.130 0.032 0.003 0.052 0.126\n"
     ]
    },
    {
     "name": "stdout",
     "output_type": "stream",
     "text": [
      "DONE (t=0.78s).\n",
      "Average Precision  (AP) @[ IoU=0.50:0.95 | area=   all | maxDets=100 ] = 0.052\n",
      "Average Precision  (AP) @[ IoU=0.50      | area=   all | maxDets=1000 ] = 0.130\n",
      "Average Precision  (AP) @[ IoU=0.75      | area=   all | maxDets=1000 ] = 0.032\n",
      "Average Precision  (AP) @[ IoU=0.50:0.95 | area= small | maxDets=1000 ] = 0.003\n",
      "Average Precision  (AP) @[ IoU=0.50:0.95 | area=medium | maxDets=1000 ] = 0.052\n",
      "Average Precision  (AP) @[ IoU=0.50:0.95 | area= large | maxDets=1000 ] = 0.126\n",
      "Average Recall     (AR) @[ IoU=0.50:0.95 | area=   all | maxDets=100 ] = 0.130\n",
      "Average Recall     (AR) @[ IoU=0.50:0.95 | area=   all | maxDets=300 ] = 0.130\n",
      "Average Recall     (AR) @[ IoU=0.50:0.95 | area=   all | maxDets=1000 ] = 0.130\n",
      "Average Recall     (AR) @[ IoU=0.50:0.95 | area= small | maxDets=1000 ] = 0.007\n",
      "Average Recall     (AR) @[ IoU=0.50:0.95 | area=medium | maxDets=1000 ] = 0.081\n",
      "Average Recall     (AR) @[ IoU=0.50:0.95 | area= large | maxDets=1000 ] = 0.323\n"
     ]
    },
    {
     "name": "stderr",
     "output_type": "stream",
     "text": [
      "2021-05-15 18:25:32,656 - mmdet - INFO - Epoch [8][50/655]\tlr: 1.000e-04, eta: 4:33:33, time: 0.800, data_time: 0.050, memory: 5380, loss_rpn_cls: 0.1122, loss_rpn_bbox: 0.0697, loss_cls: 0.3576, acc: 89.5928, loss_bbox: 0.4196, loss: 0.9591, grad_norm: 11.2965\n",
      "2021-05-15 18:26:10,342 - mmdet - INFO - Epoch [8][100/655]\tlr: 1.000e-04, eta: 4:32:54, time: 0.754, data_time: 0.006, memory: 5380, loss_rpn_cls: 0.1114, loss_rpn_bbox: 0.0781, loss_cls: 0.3705, acc: 88.9473, loss_bbox: 0.4259, loss: 0.9860, grad_norm: 9.9472\n",
      "2021-05-15 18:26:48,085 - mmdet - INFO - Epoch [8][150/655]\tlr: 1.000e-04, eta: 4:32:14, time: 0.755, data_time: 0.006, memory: 5380, loss_rpn_cls: 0.1033, loss_rpn_bbox: 0.0646, loss_cls: 0.3528, acc: 89.6562, loss_bbox: 0.4170, loss: 0.9376, grad_norm: 10.3933\n",
      "2021-05-15 18:27:25,819 - mmdet - INFO - Epoch [8][200/655]\tlr: 1.000e-04, eta: 4:31:35, time: 0.755, data_time: 0.006, memory: 5380, loss_rpn_cls: 0.1114, loss_rpn_bbox: 0.0705, loss_cls: 0.3523, acc: 89.3838, loss_bbox: 0.4256, loss: 0.9597, grad_norm: 9.7193\n",
      "2021-05-15 18:28:03,563 - mmdet - INFO - Epoch [8][250/655]\tlr: 1.000e-04, eta: 4:30:55, time: 0.755, data_time: 0.006, memory: 5380, loss_rpn_cls: 0.1104, loss_rpn_bbox: 0.0753, loss_cls: 0.3594, acc: 89.1377, loss_bbox: 0.4320, loss: 0.9772, grad_norm: 10.0964\n",
      "2021-05-15 18:28:41,390 - mmdet - INFO - Epoch [8][300/655]\tlr: 1.000e-04, eta: 4:30:16, time: 0.757, data_time: 0.006, memory: 5380, loss_rpn_cls: 0.0997, loss_rpn_bbox: 0.0688, loss_cls: 0.3543, acc: 89.0938, loss_bbox: 0.4358, loss: 0.9586, grad_norm: 10.4571\n",
      "2021-05-15 18:29:19,186 - mmdet - INFO - Epoch [8][350/655]\tlr: 1.000e-04, eta: 4:29:37, time: 0.756, data_time: 0.006, memory: 5380, loss_rpn_cls: 0.1199, loss_rpn_bbox: 0.0805, loss_cls: 0.3657, acc: 89.2812, loss_bbox: 0.4277, loss: 0.9939, grad_norm: 10.5807\n",
      "2021-05-15 18:29:57,605 - mmdet - INFO - Epoch [8][400/655]\tlr: 1.000e-04, eta: 4:29:01, time: 0.768, data_time: 0.006, memory: 5380, loss_rpn_cls: 0.1184, loss_rpn_bbox: 0.0799, loss_cls: 0.3694, acc: 88.9795, loss_bbox: 0.4345, loss: 1.0022, grad_norm: 10.4017\n",
      "2021-05-15 18:30:35,562 - mmdet - INFO - Epoch [8][450/655]\tlr: 1.000e-04, eta: 4:28:22, time: 0.759, data_time: 0.006, memory: 5380, loss_rpn_cls: 0.1071, loss_rpn_bbox: 0.0720, loss_cls: 0.3447, acc: 89.3545, loss_bbox: 0.4137, loss: 0.9374, grad_norm: 9.9067\n",
      "2021-05-15 18:31:13,310 - mmdet - INFO - Epoch [8][500/655]\tlr: 1.000e-04, eta: 4:27:43, time: 0.755, data_time: 0.006, memory: 5380, loss_rpn_cls: 0.1152, loss_rpn_bbox: 0.0786, loss_cls: 0.3868, acc: 88.6963, loss_bbox: 0.4482, loss: 1.0289, grad_norm: 11.2955\n",
      "2021-05-15 18:31:51,059 - mmdet - INFO - Epoch [8][550/655]\tlr: 1.000e-04, eta: 4:27:04, time: 0.755, data_time: 0.006, memory: 5380, loss_rpn_cls: 0.1043, loss_rpn_bbox: 0.0672, loss_cls: 0.3374, acc: 89.8984, loss_bbox: 0.3961, loss: 0.9051, grad_norm: 9.7677\n",
      "2021-05-15 18:32:28,900 - mmdet - INFO - Epoch [8][600/655]\tlr: 1.000e-04, eta: 4:26:25, time: 0.757, data_time: 0.006, memory: 5380, loss_rpn_cls: 0.1053, loss_rpn_bbox: 0.0746, loss_cls: 0.3671, acc: 89.2549, loss_bbox: 0.4105, loss: 0.9575, grad_norm: 10.4254\n",
      "2021-05-15 18:33:06,566 - mmdet - INFO - Epoch [8][650/655]\tlr: 1.000e-04, eta: 4:25:46, time: 0.753, data_time: 0.006, memory: 5380, loss_rpn_cls: 0.0998, loss_rpn_bbox: 0.0685, loss_cls: 0.3464, acc: 89.6250, loss_bbox: 0.4123, loss: 0.9271, grad_norm: 10.8860\n",
      "2021-05-15 18:33:10,397 - mmdet - INFO - Saving checkpoint at 8 epochs\n"
     ]
    },
    {
     "name": "stdout",
     "output_type": "stream",
     "text": [
      "[>>>>>>>>>>>>>>>>>>>>>>>>>>>>>] 655/655, 10.2 task/s, elapsed: 64s, ETA:     0s"
     ]
    },
    {
     "name": "stderr",
     "output_type": "stream",
     "text": [
      "2021-05-15 18:34:20,859 - mmdet - INFO - Evaluating bbox...\n"
     ]
    },
    {
     "name": "stdout",
     "output_type": "stream",
     "text": [
      "Loading and preparing results...\n",
      "DONE (t=0.97s)\n",
      "creating index...\n",
      "index created!\n",
      "Running per image evaluation...\n",
      "Evaluate annotation type *bbox*\n",
      "DONE (t=7.56s).\n",
      "Accumulating evaluation results...\n"
     ]
    },
    {
     "name": "stderr",
     "output_type": "stream",
     "text": [
      "2021-05-15 18:34:30,559 - mmdet - INFO - Epoch(val) [8][655]\tbbox_mAP: 0.0540, bbox_mAP_50: 0.1340, bbox_mAP_75: 0.0360, bbox_mAP_s: 0.0040, bbox_mAP_m: 0.0470, bbox_mAP_l: 0.1240, bbox_mAP_copypaste: 0.054 0.134 0.036 0.004 0.047 0.124\n"
     ]
    },
    {
     "name": "stdout",
     "output_type": "stream",
     "text": [
      "DONE (t=1.08s).\n",
      "Average Precision  (AP) @[ IoU=0.50:0.95 | area=   all | maxDets=100 ] = 0.054\n",
      "Average Precision  (AP) @[ IoU=0.50      | area=   all | maxDets=1000 ] = 0.134\n",
      "Average Precision  (AP) @[ IoU=0.75      | area=   all | maxDets=1000 ] = 0.036\n",
      "Average Precision  (AP) @[ IoU=0.50:0.95 | area= small | maxDets=1000 ] = 0.004\n",
      "Average Precision  (AP) @[ IoU=0.50:0.95 | area=medium | maxDets=1000 ] = 0.047\n",
      "Average Precision  (AP) @[ IoU=0.50:0.95 | area= large | maxDets=1000 ] = 0.124\n",
      "Average Recall     (AR) @[ IoU=0.50:0.95 | area=   all | maxDets=100 ] = 0.141\n",
      "Average Recall     (AR) @[ IoU=0.50:0.95 | area=   all | maxDets=300 ] = 0.141\n",
      "Average Recall     (AR) @[ IoU=0.50:0.95 | area=   all | maxDets=1000 ] = 0.141\n",
      "Average Recall     (AR) @[ IoU=0.50:0.95 | area= small | maxDets=1000 ] = 0.012\n",
      "Average Recall     (AR) @[ IoU=0.50:0.95 | area=medium | maxDets=1000 ] = 0.089\n",
      "Average Recall     (AR) @[ IoU=0.50:0.95 | area= large | maxDets=1000 ] = 0.334\n"
     ]
    },
    {
     "name": "stderr",
     "output_type": "stream",
     "text": [
      "2021-05-15 18:35:10,560 - mmdet - INFO - Epoch [9][50/655]\tlr: 1.000e-04, eta: 4:24:56, time: 0.800, data_time: 0.050, memory: 5380, loss_rpn_cls: 0.1013, loss_rpn_bbox: 0.0744, loss_cls: 0.3445, acc: 89.2754, loss_bbox: 0.4317, loss: 0.9519, grad_norm: 10.1251\n",
      "2021-05-15 18:35:48,366 - mmdet - INFO - Epoch [9][100/655]\tlr: 1.000e-04, eta: 4:24:18, time: 0.756, data_time: 0.006, memory: 5380, loss_rpn_cls: 0.0954, loss_rpn_bbox: 0.0676, loss_cls: 0.3562, acc: 89.4219, loss_bbox: 0.4157, loss: 0.9349, grad_norm: 10.2226\n",
      "2021-05-15 18:36:26,180 - mmdet - INFO - Epoch [9][150/655]\tlr: 1.000e-04, eta: 4:23:39, time: 0.756, data_time: 0.006, memory: 5380, loss_rpn_cls: 0.1112, loss_rpn_bbox: 0.0752, loss_cls: 0.3660, acc: 89.2744, loss_bbox: 0.4313, loss: 0.9837, grad_norm: 10.6595\n",
      "2021-05-15 18:37:04,066 - mmdet - INFO - Epoch [9][200/655]\tlr: 1.000e-04, eta: 4:23:00, time: 0.758, data_time: 0.006, memory: 5380, loss_rpn_cls: 0.1055, loss_rpn_bbox: 0.0831, loss_cls: 0.3582, acc: 88.9961, loss_bbox: 0.4389, loss: 0.9858, grad_norm: 10.6288\n",
      "2021-05-15 18:37:41,821 - mmdet - INFO - Epoch [9][250/655]\tlr: 1.000e-04, eta: 4:22:21, time: 0.755, data_time: 0.006, memory: 5380, loss_rpn_cls: 0.1109, loss_rpn_bbox: 0.0717, loss_cls: 0.3647, acc: 88.9541, loss_bbox: 0.4418, loss: 0.9891, grad_norm: 10.7001\n",
      "2021-05-15 18:38:19,639 - mmdet - INFO - Epoch [9][300/655]\tlr: 1.000e-04, eta: 4:21:43, time: 0.756, data_time: 0.006, memory: 5380, loss_rpn_cls: 0.0904, loss_rpn_bbox: 0.0631, loss_cls: 0.3419, acc: 89.7900, loss_bbox: 0.3951, loss: 0.8904, grad_norm: 10.5842\n",
      "2021-05-15 18:38:57,385 - mmdet - INFO - Epoch [9][350/655]\tlr: 1.000e-04, eta: 4:21:04, time: 0.755, data_time: 0.006, memory: 5380, loss_rpn_cls: 0.0938, loss_rpn_bbox: 0.0675, loss_cls: 0.3523, acc: 89.6445, loss_bbox: 0.4142, loss: 0.9277, grad_norm: 10.4416\n",
      "2021-05-15 18:39:35,102 - mmdet - INFO - Epoch [9][400/655]\tlr: 1.000e-04, eta: 4:20:25, time: 0.754, data_time: 0.006, memory: 5380, loss_rpn_cls: 0.0955, loss_rpn_bbox: 0.0686, loss_cls: 0.3600, acc: 89.5400, loss_bbox: 0.4164, loss: 0.9404, grad_norm: 10.8446\n",
      "2021-05-15 18:40:12,763 - mmdet - INFO - Epoch [9][450/655]\tlr: 1.000e-04, eta: 4:19:45, time: 0.753, data_time: 0.006, memory: 5380, loss_rpn_cls: 0.1020, loss_rpn_bbox: 0.0663, loss_cls: 0.3360, acc: 89.7539, loss_bbox: 0.4102, loss: 0.9145, grad_norm: 10.7389\n",
      "2021-05-15 18:40:50,262 - mmdet - INFO - Epoch [9][500/655]\tlr: 1.000e-04, eta: 4:19:06, time: 0.750, data_time: 0.006, memory: 5380, loss_rpn_cls: 0.0970, loss_rpn_bbox: 0.0703, loss_cls: 0.3599, acc: 89.3242, loss_bbox: 0.4176, loss: 0.9448, grad_norm: 10.6117\n",
      "2021-05-15 18:41:27,853 - mmdet - INFO - Epoch [9][550/655]\tlr: 1.000e-04, eta: 4:18:26, time: 0.752, data_time: 0.006, memory: 5380, loss_rpn_cls: 0.1016, loss_rpn_bbox: 0.0689, loss_cls: 0.3499, acc: 89.2881, loss_bbox: 0.4234, loss: 0.9438, grad_norm: 10.4540\n",
      "2021-05-15 18:42:05,706 - mmdet - INFO - Epoch [9][600/655]\tlr: 1.000e-04, eta: 4:17:48, time: 0.757, data_time: 0.006, memory: 5380, loss_rpn_cls: 0.1128, loss_rpn_bbox: 0.0762, loss_cls: 0.3633, acc: 89.1992, loss_bbox: 0.4300, loss: 0.9822, grad_norm: 11.3546\n",
      "2021-05-15 18:42:43,659 - mmdet - INFO - Epoch [9][650/655]\tlr: 1.000e-04, eta: 4:17:10, time: 0.759, data_time: 0.006, memory: 5380, loss_rpn_cls: 0.1091, loss_rpn_bbox: 0.0804, loss_cls: 0.3655, acc: 88.9170, loss_bbox: 0.4348, loss: 0.9899, grad_norm: 10.1515\n",
      "2021-05-15 18:42:47,489 - mmdet - INFO - Saving checkpoint at 9 epochs\n"
     ]
    },
    {
     "name": "stdout",
     "output_type": "stream",
     "text": [
      "[>>>>>>>>>>>>>>>>>>>>>>>>>>>>>] 655/655, 10.3 task/s, elapsed: 64s, ETA:     0s"
     ]
    },
    {
     "name": "stderr",
     "output_type": "stream",
     "text": [
      "2021-05-15 18:43:57,833 - mmdet - INFO - Evaluating bbox...\n"
     ]
    },
    {
     "name": "stdout",
     "output_type": "stream",
     "text": [
      "Loading and preparing results...\n",
      "DONE (t=0.55s)\n",
      "creating index...\n",
      "index created!\n",
      "Running per image evaluation...\n",
      "Evaluate annotation type *bbox*\n",
      "DONE (t=7.86s).\n",
      "Accumulating evaluation results...\n"
     ]
    },
    {
     "name": "stderr",
     "output_type": "stream",
     "text": [
      "2021-05-15 18:44:07,409 - mmdet - INFO - Epoch(val) [9][655]\tbbox_mAP: 0.0620, bbox_mAP_50: 0.1440, bbox_mAP_75: 0.0460, bbox_mAP_s: 0.0040, bbox_mAP_m: 0.0480, bbox_mAP_l: 0.1460, bbox_mAP_copypaste: 0.062 0.144 0.046 0.004 0.048 0.146\n"
     ]
    },
    {
     "name": "stdout",
     "output_type": "stream",
     "text": [
      "DONE (t=1.07s).\n",
      "Average Precision  (AP) @[ IoU=0.50:0.95 | area=   all | maxDets=100 ] = 0.062\n",
      "Average Precision  (AP) @[ IoU=0.50      | area=   all | maxDets=1000 ] = 0.144\n",
      "Average Precision  (AP) @[ IoU=0.75      | area=   all | maxDets=1000 ] = 0.046\n",
      "Average Precision  (AP) @[ IoU=0.50:0.95 | area= small | maxDets=1000 ] = 0.004\n",
      "Average Precision  (AP) @[ IoU=0.50:0.95 | area=medium | maxDets=1000 ] = 0.048\n",
      "Average Precision  (AP) @[ IoU=0.50:0.95 | area= large | maxDets=1000 ] = 0.146\n",
      "Average Recall     (AR) @[ IoU=0.50:0.95 | area=   all | maxDets=100 ] = 0.149\n",
      "Average Recall     (AR) @[ IoU=0.50:0.95 | area=   all | maxDets=300 ] = 0.149\n",
      "Average Recall     (AR) @[ IoU=0.50:0.95 | area=   all | maxDets=1000 ] = 0.149\n",
      "Average Recall     (AR) @[ IoU=0.50:0.95 | area= small | maxDets=1000 ] = 0.012\n",
      "Average Recall     (AR) @[ IoU=0.50:0.95 | area=medium | maxDets=1000 ] = 0.095\n",
      "Average Recall     (AR) @[ IoU=0.50:0.95 | area= large | maxDets=1000 ] = 0.350\n"
     ]
    },
    {
     "name": "stderr",
     "output_type": "stream",
     "text": [
      "2021-05-15 18:44:47,255 - mmdet - INFO - Epoch [10][50/655]\tlr: 1.000e-04, eta: 4:16:21, time: 0.797, data_time: 0.050, memory: 5380, loss_rpn_cls: 0.0900, loss_rpn_bbox: 0.0591, loss_cls: 0.3246, acc: 90.2676, loss_bbox: 0.3885, loss: 0.8621, grad_norm: 10.9810\n",
      "2021-05-15 18:45:24,966 - mmdet - INFO - Epoch [10][100/655]\tlr: 1.000e-04, eta: 4:15:42, time: 0.754, data_time: 0.006, memory: 5380, loss_rpn_cls: 0.1036, loss_rpn_bbox: 0.0702, loss_cls: 0.3527, acc: 89.4648, loss_bbox: 0.4239, loss: 0.9505, grad_norm: 10.8692\n",
      "2021-05-15 18:46:02,709 - mmdet - INFO - Epoch [10][150/655]\tlr: 1.000e-04, eta: 4:15:04, time: 0.755, data_time: 0.006, memory: 5380, loss_rpn_cls: 0.1000, loss_rpn_bbox: 0.0700, loss_cls: 0.3582, acc: 89.2178, loss_bbox: 0.4249, loss: 0.9531, grad_norm: 10.5654\n",
      "2021-05-15 18:46:40,299 - mmdet - INFO - Epoch [10][200/655]\tlr: 1.000e-04, eta: 4:14:25, time: 0.752, data_time: 0.006, memory: 5380, loss_rpn_cls: 0.0850, loss_rpn_bbox: 0.0644, loss_cls: 0.3331, acc: 90.0801, loss_bbox: 0.3854, loss: 0.8679, grad_norm: 9.7784\n",
      "2021-05-15 18:47:17,941 - mmdet - INFO - Epoch [10][250/655]\tlr: 1.000e-04, eta: 4:13:46, time: 0.753, data_time: 0.006, memory: 5380, loss_rpn_cls: 0.1032, loss_rpn_bbox: 0.0794, loss_cls: 0.3774, acc: 88.8535, loss_bbox: 0.4439, loss: 1.0040, grad_norm: 10.7281\n",
      "2021-05-15 18:47:55,550 - mmdet - INFO - Epoch [10][300/655]\tlr: 1.000e-04, eta: 4:13:06, time: 0.752, data_time: 0.006, memory: 5380, loss_rpn_cls: 0.0968, loss_rpn_bbox: 0.0723, loss_cls: 0.3377, acc: 89.8555, loss_bbox: 0.4119, loss: 0.9186, grad_norm: 10.4583\n",
      "2021-05-15 18:48:32,963 - mmdet - INFO - Epoch [10][350/655]\tlr: 1.000e-04, eta: 4:12:27, time: 0.748, data_time: 0.006, memory: 5380, loss_rpn_cls: 0.0941, loss_rpn_bbox: 0.0690, loss_cls: 0.3379, acc: 90.1055, loss_bbox: 0.3908, loss: 0.8917, grad_norm: 10.4262\n",
      "2021-05-15 18:49:10,694 - mmdet - INFO - Epoch [10][400/655]\tlr: 1.000e-04, eta: 4:11:48, time: 0.755, data_time: 0.006, memory: 5380, loss_rpn_cls: 0.1007, loss_rpn_bbox: 0.0784, loss_cls: 0.3734, acc: 88.8076, loss_bbox: 0.4415, loss: 0.9941, grad_norm: 10.9123\n",
      "2021-05-15 18:49:48,423 - mmdet - INFO - Epoch [10][450/655]\tlr: 1.000e-04, eta: 4:11:09, time: 0.755, data_time: 0.006, memory: 5380, loss_rpn_cls: 0.1032, loss_rpn_bbox: 0.0798, loss_cls: 0.3710, acc: 88.4199, loss_bbox: 0.4565, loss: 1.0107, grad_norm: 10.8247\n",
      "2021-05-15 18:50:26,318 - mmdet - INFO - Epoch [10][500/655]\tlr: 1.000e-04, eta: 4:10:31, time: 0.758, data_time: 0.006, memory: 5380, loss_rpn_cls: 0.1154, loss_rpn_bbox: 0.0798, loss_cls: 0.3614, acc: 88.9307, loss_bbox: 0.4357, loss: 0.9922, grad_norm: 11.2562\n",
      "2021-05-15 18:51:04,055 - mmdet - INFO - Epoch [10][550/655]\tlr: 1.000e-04, eta: 4:09:53, time: 0.755, data_time: 0.006, memory: 5380, loss_rpn_cls: 0.0869, loss_rpn_bbox: 0.0669, loss_cls: 0.3691, acc: 88.9375, loss_bbox: 0.4387, loss: 0.9616, grad_norm: 11.6168\n",
      "2021-05-15 18:51:41,693 - mmdet - INFO - Epoch [10][600/655]\tlr: 1.000e-04, eta: 4:09:14, time: 0.753, data_time: 0.006, memory: 5380, loss_rpn_cls: 0.0918, loss_rpn_bbox: 0.0610, loss_cls: 0.3656, acc: 88.9688, loss_bbox: 0.4358, loss: 0.9541, grad_norm: 11.2801\n",
      "2021-05-15 18:52:19,459 - mmdet - INFO - Epoch [10][650/655]\tlr: 1.000e-04, eta: 4:08:35, time: 0.755, data_time: 0.006, memory: 5380, loss_rpn_cls: 0.0885, loss_rpn_bbox: 0.0647, loss_cls: 0.3498, acc: 89.4092, loss_bbox: 0.4256, loss: 0.9286, grad_norm: 10.5310\n",
      "2021-05-15 18:52:23,295 - mmdet - INFO - Saving checkpoint at 10 epochs\n"
     ]
    },
    {
     "name": "stdout",
     "output_type": "stream",
     "text": [
      "[>>>>>>>>>>>>>>>>>>>>>>>>>>>>>] 655/655, 10.3 task/s, elapsed: 63s, ETA:     0s"
     ]
    },
    {
     "name": "stderr",
     "output_type": "stream",
     "text": [
      "2021-05-15 18:53:33,473 - mmdet - INFO - Evaluating bbox...\n"
     ]
    },
    {
     "name": "stdout",
     "output_type": "stream",
     "text": [
      "Loading and preparing results...\n",
      "DONE (t=0.52s)\n",
      "creating index...\n",
      "index created!\n",
      "Running per image evaluation...\n",
      "Evaluate annotation type *bbox*\n",
      "DONE (t=7.76s).\n",
      "Accumulating evaluation results...\n"
     ]
    },
    {
     "name": "stderr",
     "output_type": "stream",
     "text": [
      "2021-05-15 18:53:42,866 - mmdet - INFO - Epoch(val) [10][655]\tbbox_mAP: 0.0690, bbox_mAP_50: 0.1610, bbox_mAP_75: 0.0480, bbox_mAP_s: 0.0050, bbox_mAP_m: 0.0500, bbox_mAP_l: 0.1600, bbox_mAP_copypaste: 0.069 0.161 0.048 0.005 0.050 0.160\n"
     ]
    },
    {
     "name": "stdout",
     "output_type": "stream",
     "text": [
      "DONE (t=1.03s).\n",
      "Average Precision  (AP) @[ IoU=0.50:0.95 | area=   all | maxDets=100 ] = 0.069\n",
      "Average Precision  (AP) @[ IoU=0.50      | area=   all | maxDets=1000 ] = 0.161\n",
      "Average Precision  (AP) @[ IoU=0.75      | area=   all | maxDets=1000 ] = 0.048\n",
      "Average Precision  (AP) @[ IoU=0.50:0.95 | area= small | maxDets=1000 ] = 0.005\n",
      "Average Precision  (AP) @[ IoU=0.50:0.95 | area=medium | maxDets=1000 ] = 0.050\n",
      "Average Precision  (AP) @[ IoU=0.50:0.95 | area= large | maxDets=1000 ] = 0.160\n",
      "Average Recall     (AR) @[ IoU=0.50:0.95 | area=   all | maxDets=100 ] = 0.167\n",
      "Average Recall     (AR) @[ IoU=0.50:0.95 | area=   all | maxDets=300 ] = 0.167\n",
      "Average Recall     (AR) @[ IoU=0.50:0.95 | area=   all | maxDets=1000 ] = 0.167\n",
      "Average Recall     (AR) @[ IoU=0.50:0.95 | area= small | maxDets=1000 ] = 0.016\n",
      "Average Recall     (AR) @[ IoU=0.50:0.95 | area=medium | maxDets=1000 ] = 0.117\n",
      "Average Recall     (AR) @[ IoU=0.50:0.95 | area= large | maxDets=1000 ] = 0.366\n"
     ]
    },
    {
     "name": "stderr",
     "output_type": "stream",
     "text": [
      "2021-05-15 18:54:22,463 - mmdet - INFO - Epoch [11][50/655]\tlr: 1.000e-04, eta: 4:07:47, time: 0.792, data_time: 0.049, memory: 5380, loss_rpn_cls: 0.0860, loss_rpn_bbox: 0.0624, loss_cls: 0.3408, acc: 89.8535, loss_bbox: 0.3958, loss: 0.8850, grad_norm: 10.6293\n",
      "2021-05-15 18:55:00,196 - mmdet - INFO - Epoch [11][100/655]\tlr: 1.000e-04, eta: 4:07:09, time: 0.755, data_time: 0.006, memory: 5380, loss_rpn_cls: 0.1058, loss_rpn_bbox: 0.0829, loss_cls: 0.3583, acc: 89.0322, loss_bbox: 0.4393, loss: 0.9862, grad_norm: 10.5443\n",
      "2021-05-15 18:55:37,994 - mmdet - INFO - Epoch [11][150/655]\tlr: 1.000e-04, eta: 4:06:30, time: 0.756, data_time: 0.006, memory: 5380, loss_rpn_cls: 0.0945, loss_rpn_bbox: 0.0754, loss_cls: 0.3702, acc: 88.6885, loss_bbox: 0.4551, loss: 0.9951, grad_norm: 10.9979\n",
      "2021-05-15 18:56:15,890 - mmdet - INFO - Epoch [11][200/655]\tlr: 1.000e-04, eta: 4:05:52, time: 0.758, data_time: 0.006, memory: 5380, loss_rpn_cls: 0.0944, loss_rpn_bbox: 0.0739, loss_cls: 0.3450, acc: 89.3301, loss_bbox: 0.4213, loss: 0.9347, grad_norm: 10.2466\n",
      "2021-05-15 18:56:53,711 - mmdet - INFO - Epoch [11][250/655]\tlr: 1.000e-04, eta: 4:05:14, time: 0.756, data_time: 0.006, memory: 5380, loss_rpn_cls: 0.0847, loss_rpn_bbox: 0.0639, loss_cls: 0.3273, acc: 90.0234, loss_bbox: 0.3957, loss: 0.8716, grad_norm: 10.8444\n",
      "2021-05-15 18:57:32,053 - mmdet - INFO - Epoch [11][300/655]\tlr: 1.000e-04, eta: 4:04:37, time: 0.767, data_time: 0.006, memory: 5380, loss_rpn_cls: 0.0962, loss_rpn_bbox: 0.0759, loss_cls: 0.3616, acc: 88.8545, loss_bbox: 0.4422, loss: 0.9758, grad_norm: 10.2054\n",
      "2021-05-15 18:58:09,795 - mmdet - INFO - Epoch [11][350/655]\tlr: 1.000e-04, eta: 4:03:59, time: 0.755, data_time: 0.006, memory: 5380, loss_rpn_cls: 0.0841, loss_rpn_bbox: 0.0652, loss_cls: 0.3260, acc: 90.2285, loss_bbox: 0.3881, loss: 0.8634, grad_norm: 10.0204\n",
      "2021-05-15 18:58:47,611 - mmdet - INFO - Epoch [11][400/655]\tlr: 1.000e-04, eta: 4:03:21, time: 0.756, data_time: 0.006, memory: 5380, loss_rpn_cls: 0.0955, loss_rpn_bbox: 0.0655, loss_cls: 0.3459, acc: 89.5537, loss_bbox: 0.4187, loss: 0.9255, grad_norm: 11.0969\n",
      "2021-05-15 18:59:25,368 - mmdet - INFO - Epoch [11][450/655]\tlr: 1.000e-04, eta: 4:02:42, time: 0.755, data_time: 0.006, memory: 5380, loss_rpn_cls: 0.0901, loss_rpn_bbox: 0.0620, loss_cls: 0.3454, acc: 89.5244, loss_bbox: 0.4151, loss: 0.9126, grad_norm: 10.9206\n",
      "2021-05-15 19:00:02,987 - mmdet - INFO - Epoch [11][500/655]\tlr: 1.000e-04, eta: 4:02:04, time: 0.752, data_time: 0.006, memory: 5380, loss_rpn_cls: 0.0824, loss_rpn_bbox: 0.0633, loss_cls: 0.3422, acc: 89.8652, loss_bbox: 0.3973, loss: 0.8852, grad_norm: 10.6960\n",
      "2021-05-15 19:00:40,583 - mmdet - INFO - Epoch [11][550/655]\tlr: 1.000e-04, eta: 4:01:25, time: 0.752, data_time: 0.006, memory: 5380, loss_rpn_cls: 0.0995, loss_rpn_bbox: 0.0752, loss_cls: 0.3452, acc: 89.4219, loss_bbox: 0.4306, loss: 0.9505, grad_norm: 10.4935\n",
      "2021-05-15 19:01:18,230 - mmdet - INFO - Epoch [11][600/655]\tlr: 1.000e-04, eta: 4:00:46, time: 0.753, data_time: 0.006, memory: 5380, loss_rpn_cls: 0.1014, loss_rpn_bbox: 0.0737, loss_cls: 0.3570, acc: 89.0771, loss_bbox: 0.4292, loss: 0.9613, grad_norm: 10.5135\n",
      "2021-05-15 19:01:55,813 - mmdet - INFO - Epoch [11][650/655]\tlr: 1.000e-04, eta: 4:00:07, time: 0.752, data_time: 0.006, memory: 5380, loss_rpn_cls: 0.0889, loss_rpn_bbox: 0.0660, loss_cls: 0.3612, acc: 89.2158, loss_bbox: 0.4178, loss: 0.9339, grad_norm: 10.8022\n",
      "2021-05-15 19:01:59,682 - mmdet - INFO - Saving checkpoint at 11 epochs\n"
     ]
    },
    {
     "name": "stdout",
     "output_type": "stream",
     "text": [
      "[>>>>>>>>>>>>>>>>>>>>>>>>>>>>>] 655/655, 10.3 task/s, elapsed: 64s, ETA:     0s"
     ]
    },
    {
     "name": "stderr",
     "output_type": "stream",
     "text": [
      "2021-05-15 19:03:05,722 - mmdet - INFO - Evaluating bbox...\n"
     ]
    },
    {
     "name": "stdout",
     "output_type": "stream",
     "text": [
      "Loading and preparing results...\n",
      "DONE (t=0.53s)\n",
      "creating index...\n",
      "index created!\n",
      "Running per image evaluation...\n",
      "Evaluate annotation type *bbox*\n",
      "DONE (t=7.28s).\n",
      "Accumulating evaluation results...\n"
     ]
    },
    {
     "name": "stderr",
     "output_type": "stream",
     "text": [
      "2021-05-15 19:03:14,566 - mmdet - INFO - Epoch(val) [11][655]\tbbox_mAP: 0.0700, bbox_mAP_50: 0.1620, bbox_mAP_75: 0.0500, bbox_mAP_s: 0.0060, bbox_mAP_m: 0.0450, bbox_mAP_l: 0.1630, bbox_mAP_copypaste: 0.070 0.162 0.050 0.006 0.045 0.163\n"
     ]
    },
    {
     "name": "stdout",
     "output_type": "stream",
     "text": [
      "DONE (t=0.95s).\n",
      "Average Precision  (AP) @[ IoU=0.50:0.95 | area=   all | maxDets=100 ] = 0.070\n",
      "Average Precision  (AP) @[ IoU=0.50      | area=   all | maxDets=1000 ] = 0.162\n",
      "Average Precision  (AP) @[ IoU=0.75      | area=   all | maxDets=1000 ] = 0.050\n",
      "Average Precision  (AP) @[ IoU=0.50:0.95 | area= small | maxDets=1000 ] = 0.006\n",
      "Average Precision  (AP) @[ IoU=0.50:0.95 | area=medium | maxDets=1000 ] = 0.045\n",
      "Average Precision  (AP) @[ IoU=0.50:0.95 | area= large | maxDets=1000 ] = 0.163\n",
      "Average Recall     (AR) @[ IoU=0.50:0.95 | area=   all | maxDets=100 ] = 0.161\n",
      "Average Recall     (AR) @[ IoU=0.50:0.95 | area=   all | maxDets=300 ] = 0.161\n",
      "Average Recall     (AR) @[ IoU=0.50:0.95 | area=   all | maxDets=1000 ] = 0.161\n",
      "Average Recall     (AR) @[ IoU=0.50:0.95 | area= small | maxDets=1000 ] = 0.016\n",
      "Average Recall     (AR) @[ IoU=0.50:0.95 | area=medium | maxDets=1000 ] = 0.115\n",
      "Average Recall     (AR) @[ IoU=0.50:0.95 | area= large | maxDets=1000 ] = 0.356\n"
     ]
    },
    {
     "name": "stderr",
     "output_type": "stream",
     "text": [
      "2021-05-15 19:03:54,566 - mmdet - INFO - Epoch [12][50/655]\tlr: 1.000e-04, eta: 3:59:21, time: 0.800, data_time: 0.049, memory: 5380, loss_rpn_cls: 0.0812, loss_rpn_bbox: 0.0648, loss_cls: 0.3327, acc: 89.8359, loss_bbox: 0.3999, loss: 0.8787, grad_norm: 10.1214\n",
      "2021-05-15 19:04:32,301 - mmdet - INFO - Epoch [12][100/655]\tlr: 1.000e-04, eta: 3:58:43, time: 0.755, data_time: 0.006, memory: 5380, loss_rpn_cls: 0.0925, loss_rpn_bbox: 0.0721, loss_cls: 0.3675, acc: 89.0869, loss_bbox: 0.4400, loss: 0.9722, grad_norm: 10.7525\n",
      "2021-05-15 19:05:10,002 - mmdet - INFO - Epoch [12][150/655]\tlr: 1.000e-04, eta: 3:58:04, time: 0.754, data_time: 0.006, memory: 5380, loss_rpn_cls: 0.0800, loss_rpn_bbox: 0.0673, loss_cls: 0.3402, acc: 89.4863, loss_bbox: 0.4284, loss: 0.9159, grad_norm: 10.3299\n",
      "2021-05-15 19:05:47,590 - mmdet - INFO - Epoch [12][200/655]\tlr: 1.000e-04, eta: 3:57:26, time: 0.752, data_time: 0.006, memory: 5380, loss_rpn_cls: 0.0928, loss_rpn_bbox: 0.0753, loss_cls: 0.3642, acc: 89.1895, loss_bbox: 0.4301, loss: 0.9624, grad_norm: 11.6266\n",
      "2021-05-15 19:06:25,877 - mmdet - INFO - Epoch [12][250/655]\tlr: 1.000e-04, eta: 3:56:49, time: 0.766, data_time: 0.006, memory: 5380, loss_rpn_cls: 0.0895, loss_rpn_bbox: 0.0688, loss_cls: 0.3430, acc: 89.8027, loss_bbox: 0.4018, loss: 0.9031, grad_norm: 10.6635\n",
      "2021-05-15 19:07:03,392 - mmdet - INFO - Epoch [12][300/655]\tlr: 1.000e-04, eta: 3:56:10, time: 0.750, data_time: 0.006, memory: 5380, loss_rpn_cls: 0.0915, loss_rpn_bbox: 0.0716, loss_cls: 0.3528, acc: 89.3271, loss_bbox: 0.4239, loss: 0.9399, grad_norm: 10.8144\n",
      "2021-05-15 19:07:41,123 - mmdet - INFO - Epoch [12][350/655]\tlr: 1.000e-04, eta: 3:55:32, time: 0.755, data_time: 0.006, memory: 5380, loss_rpn_cls: 0.0924, loss_rpn_bbox: 0.0636, loss_cls: 0.3408, acc: 89.7529, loss_bbox: 0.4106, loss: 0.9074, grad_norm: 10.7519\n",
      "2021-05-15 19:08:18,630 - mmdet - INFO - Epoch [12][400/655]\tlr: 1.000e-04, eta: 3:54:53, time: 0.750, data_time: 0.006, memory: 5380, loss_rpn_cls: 0.0768, loss_rpn_bbox: 0.0551, loss_cls: 0.3224, acc: 90.2393, loss_bbox: 0.3863, loss: 0.8407, grad_norm: 9.8945\n",
      "2021-05-15 19:08:56,216 - mmdet - INFO - Epoch [12][450/655]\tlr: 1.000e-04, eta: 3:54:14, time: 0.752, data_time: 0.006, memory: 5380, loss_rpn_cls: 0.0882, loss_rpn_bbox: 0.0644, loss_cls: 0.3350, acc: 89.9121, loss_bbox: 0.3967, loss: 0.8844, grad_norm: 10.8625\n",
      "2021-05-15 19:09:33,891 - mmdet - INFO - Epoch [12][500/655]\tlr: 1.000e-04, eta: 3:53:36, time: 0.754, data_time: 0.006, memory: 5380, loss_rpn_cls: 0.0945, loss_rpn_bbox: 0.0708, loss_cls: 0.3551, acc: 89.1777, loss_bbox: 0.4328, loss: 0.9532, grad_norm: 11.6554\n",
      "2021-05-15 19:10:11,509 - mmdet - INFO - Epoch [12][550/655]\tlr: 1.000e-04, eta: 3:52:57, time: 0.752, data_time: 0.006, memory: 5380, loss_rpn_cls: 0.0954, loss_rpn_bbox: 0.0805, loss_cls: 0.3706, acc: 88.4707, loss_bbox: 0.4581, loss: 1.0046, grad_norm: 10.9181\n",
      "2021-05-15 19:10:49,227 - mmdet - INFO - Epoch [12][600/655]\tlr: 1.000e-04, eta: 3:52:19, time: 0.754, data_time: 0.006, memory: 5380, loss_rpn_cls: 0.0929, loss_rpn_bbox: 0.0764, loss_cls: 0.3786, acc: 88.5391, loss_bbox: 0.4383, loss: 0.9863, grad_norm: 11.4354\n",
      "2021-05-15 19:11:26,618 - mmdet - INFO - Epoch [12][650/655]\tlr: 1.000e-04, eta: 3:51:40, time: 0.748, data_time: 0.006, memory: 5380, loss_rpn_cls: 0.0846, loss_rpn_bbox: 0.0608, loss_cls: 0.3269, acc: 90.0469, loss_bbox: 0.3981, loss: 0.8703, grad_norm: 10.1879\n",
      "2021-05-15 19:11:30,415 - mmdet - INFO - Saving checkpoint at 12 epochs\n"
     ]
    },
    {
     "name": "stdout",
     "output_type": "stream",
     "text": [
      "[>>>>>>>>>>>>>>>>>>>>>>>>>>>>>] 655/655, 10.4 task/s, elapsed: 63s, ETA:     0s"
     ]
    },
    {
     "name": "stderr",
     "output_type": "stream",
     "text": [
      "2021-05-15 19:12:36,481 - mmdet - INFO - Evaluating bbox...\n"
     ]
    },
    {
     "name": "stdout",
     "output_type": "stream",
     "text": [
      "Loading and preparing results...\n",
      "DONE (t=0.58s)\n",
      "creating index...\n",
      "index created!\n",
      "Running per image evaluation...\n",
      "Evaluate annotation type *bbox*\n",
      "DONE (t=7.51s).\n",
      "Accumulating evaluation results...\n"
     ]
    },
    {
     "name": "stderr",
     "output_type": "stream",
     "text": [
      "2021-05-15 19:12:45,727 - mmdet - INFO - Epoch(val) [12][655]\tbbox_mAP: 0.0750, bbox_mAP_50: 0.1710, bbox_mAP_75: 0.0550, bbox_mAP_s: 0.0040, bbox_mAP_m: 0.0570, bbox_mAP_l: 0.1740, bbox_mAP_copypaste: 0.075 0.171 0.055 0.004 0.057 0.174\n"
     ]
    },
    {
     "name": "stdout",
     "output_type": "stream",
     "text": [
      "DONE (t=1.07s).\n",
      "Average Precision  (AP) @[ IoU=0.50:0.95 | area=   all | maxDets=100 ] = 0.075\n",
      "Average Precision  (AP) @[ IoU=0.50      | area=   all | maxDets=1000 ] = 0.171\n",
      "Average Precision  (AP) @[ IoU=0.75      | area=   all | maxDets=1000 ] = 0.055\n",
      "Average Precision  (AP) @[ IoU=0.50:0.95 | area= small | maxDets=1000 ] = 0.004\n",
      "Average Precision  (AP) @[ IoU=0.50:0.95 | area=medium | maxDets=1000 ] = 0.057\n",
      "Average Precision  (AP) @[ IoU=0.50:0.95 | area= large | maxDets=1000 ] = 0.174\n",
      "Average Recall     (AR) @[ IoU=0.50:0.95 | area=   all | maxDets=100 ] = 0.164\n",
      "Average Recall     (AR) @[ IoU=0.50:0.95 | area=   all | maxDets=300 ] = 0.164\n",
      "Average Recall     (AR) @[ IoU=0.50:0.95 | area=   all | maxDets=1000 ] = 0.164\n",
      "Average Recall     (AR) @[ IoU=0.50:0.95 | area= small | maxDets=1000 ] = 0.017\n",
      "Average Recall     (AR) @[ IoU=0.50:0.95 | area=medium | maxDets=1000 ] = 0.125\n",
      "Average Recall     (AR) @[ IoU=0.50:0.95 | area= large | maxDets=1000 ] = 0.356\n"
     ]
    },
    {
     "name": "stderr",
     "output_type": "stream",
     "text": [
      "2021-05-15 19:13:25,321 - mmdet - INFO - Epoch [13][50/655]\tlr: 1.000e-04, eta: 3:50:53, time: 0.792, data_time: 0.050, memory: 5380, loss_rpn_cls: 0.0906, loss_rpn_bbox: 0.0722, loss_cls: 0.3468, acc: 89.4131, loss_bbox: 0.4131, loss: 0.9228, grad_norm: 11.4431\n",
      "2021-05-15 19:14:02,760 - mmdet - INFO - Epoch [13][100/655]\tlr: 1.000e-04, eta: 3:50:14, time: 0.749, data_time: 0.006, memory: 5380, loss_rpn_cls: 0.0860, loss_rpn_bbox: 0.0589, loss_cls: 0.3291, acc: 89.9199, loss_bbox: 0.4131, loss: 0.8870, grad_norm: 10.6456\n",
      "2021-05-15 19:14:40,320 - mmdet - INFO - Epoch [13][150/655]\tlr: 1.000e-04, eta: 3:49:36, time: 0.751, data_time: 0.006, memory: 5380, loss_rpn_cls: 0.0935, loss_rpn_bbox: 0.0713, loss_cls: 0.3737, acc: 88.6543, loss_bbox: 0.4571, loss: 0.9955, grad_norm: 11.2642\n",
      "2021-05-15 19:15:18,055 - mmdet - INFO - Epoch [13][200/655]\tlr: 1.000e-04, eta: 3:48:58, time: 0.755, data_time: 0.006, memory: 5380, loss_rpn_cls: 0.0922, loss_rpn_bbox: 0.0703, loss_cls: 0.3432, acc: 89.6211, loss_bbox: 0.4277, loss: 0.9335, grad_norm: 10.7609\n",
      "2021-05-15 19:15:55,696 - mmdet - INFO - Epoch [13][250/655]\tlr: 1.000e-04, eta: 3:48:19, time: 0.753, data_time: 0.006, memory: 5380, loss_rpn_cls: 0.0726, loss_rpn_bbox: 0.0582, loss_cls: 0.3174, acc: 90.2178, loss_bbox: 0.3746, loss: 0.8228, grad_norm: 10.2918\n",
      "2021-05-15 19:16:33,253 - mmdet - INFO - Epoch [13][300/655]\tlr: 1.000e-04, eta: 3:47:41, time: 0.751, data_time: 0.006, memory: 5380, loss_rpn_cls: 0.0822, loss_rpn_bbox: 0.0659, loss_cls: 0.3426, acc: 89.6055, loss_bbox: 0.4191, loss: 0.9098, grad_norm: 10.4591\n",
      "2021-05-15 19:17:10,891 - mmdet - INFO - Epoch [13][350/655]\tlr: 1.000e-04, eta: 3:47:02, time: 0.753, data_time: 0.006, memory: 5380, loss_rpn_cls: 0.0906, loss_rpn_bbox: 0.0783, loss_cls: 0.3714, acc: 88.7852, loss_bbox: 0.4416, loss: 0.9819, grad_norm: 10.6843\n",
      "2021-05-15 19:17:48,626 - mmdet - INFO - Epoch [13][400/655]\tlr: 1.000e-04, eta: 3:46:24, time: 0.755, data_time: 0.006, memory: 5380, loss_rpn_cls: 0.0989, loss_rpn_bbox: 0.0838, loss_cls: 0.3666, acc: 88.7715, loss_bbox: 0.4409, loss: 0.9901, grad_norm: 11.1861\n",
      "2021-05-15 19:18:26,244 - mmdet - INFO - Epoch [13][450/655]\tlr: 1.000e-04, eta: 3:45:46, time: 0.752, data_time: 0.006, memory: 5380, loss_rpn_cls: 0.0797, loss_rpn_bbox: 0.0610, loss_cls: 0.3493, acc: 89.5244, loss_bbox: 0.4037, loss: 0.8937, grad_norm: 10.6350\n",
      "2021-05-15 19:19:03,717 - mmdet - INFO - Epoch [13][500/655]\tlr: 1.000e-04, eta: 3:45:07, time: 0.749, data_time: 0.006, memory: 5380, loss_rpn_cls: 0.0835, loss_rpn_bbox: 0.0625, loss_cls: 0.3150, acc: 90.1240, loss_bbox: 0.3965, loss: 0.8575, grad_norm: 10.1181\n",
      "2021-05-15 19:19:41,212 - mmdet - INFO - Epoch [13][550/655]\tlr: 1.000e-04, eta: 3:44:29, time: 0.750, data_time: 0.006, memory: 5380, loss_rpn_cls: 0.0800, loss_rpn_bbox: 0.0620, loss_cls: 0.3402, acc: 89.5879, loss_bbox: 0.4064, loss: 0.8886, grad_norm: 10.2396\n",
      "2021-05-15 19:20:19,181 - mmdet - INFO - Epoch [13][600/655]\tlr: 1.000e-04, eta: 3:43:51, time: 0.759, data_time: 0.006, memory: 5380, loss_rpn_cls: 0.0751, loss_rpn_bbox: 0.0630, loss_cls: 0.3339, acc: 89.7832, loss_bbox: 0.3997, loss: 0.8718, grad_norm: 10.1581\n",
      "2021-05-15 19:20:57,708 - mmdet - INFO - Epoch [13][650/655]\tlr: 1.000e-04, eta: 3:43:14, time: 0.771, data_time: 0.006, memory: 5380, loss_rpn_cls: 0.0887, loss_rpn_bbox: 0.0758, loss_cls: 0.3370, acc: 89.5645, loss_bbox: 0.4208, loss: 0.9224, grad_norm: 10.3089\n",
      "2021-05-15 19:21:01,611 - mmdet - INFO - Saving checkpoint at 13 epochs\n"
     ]
    },
    {
     "name": "stdout",
     "output_type": "stream",
     "text": [
      "[>>>>>>>>>>>>>>>>>>>>>>>>>>>>>] 655/655, 10.3 task/s, elapsed: 64s, ETA:     0s"
     ]
    },
    {
     "name": "stderr",
     "output_type": "stream",
     "text": [
      "2021-05-15 19:22:07,473 - mmdet - INFO - Evaluating bbox...\n"
     ]
    },
    {
     "name": "stdout",
     "output_type": "stream",
     "text": [
      "Loading and preparing results...\n",
      "DONE (t=0.50s)\n",
      "creating index...\n",
      "index created!\n",
      "Running per image evaluation...\n",
      "Evaluate annotation type *bbox*\n",
      "DONE (t=6.64s).\n",
      "Accumulating evaluation results...\n"
     ]
    },
    {
     "name": "stderr",
     "output_type": "stream",
     "text": [
      "2021-05-15 19:22:15,522 - mmdet - INFO - Epoch(val) [13][655]\tbbox_mAP: 0.0830, bbox_mAP_50: 0.1830, bbox_mAP_75: 0.0660, bbox_mAP_s: 0.0050, bbox_mAP_m: 0.0670, bbox_mAP_l: 0.1940, bbox_mAP_copypaste: 0.083 0.183 0.066 0.005 0.067 0.194\n"
     ]
    },
    {
     "name": "stdout",
     "output_type": "stream",
     "text": [
      "DONE (t=0.83s).\n",
      "Average Precision  (AP) @[ IoU=0.50:0.95 | area=   all | maxDets=100 ] = 0.083\n",
      "Average Precision  (AP) @[ IoU=0.50      | area=   all | maxDets=1000 ] = 0.183\n",
      "Average Precision  (AP) @[ IoU=0.75      | area=   all | maxDets=1000 ] = 0.066\n",
      "Average Precision  (AP) @[ IoU=0.50:0.95 | area= small | maxDets=1000 ] = 0.005\n",
      "Average Precision  (AP) @[ IoU=0.50:0.95 | area=medium | maxDets=1000 ] = 0.067\n",
      "Average Precision  (AP) @[ IoU=0.50:0.95 | area= large | maxDets=1000 ] = 0.194\n",
      "Average Recall     (AR) @[ IoU=0.50:0.95 | area=   all | maxDets=100 ] = 0.175\n",
      "Average Recall     (AR) @[ IoU=0.50:0.95 | area=   all | maxDets=300 ] = 0.175\n",
      "Average Recall     (AR) @[ IoU=0.50:0.95 | area=   all | maxDets=1000 ] = 0.175\n",
      "Average Recall     (AR) @[ IoU=0.50:0.95 | area= small | maxDets=1000 ] = 0.015\n",
      "Average Recall     (AR) @[ IoU=0.50:0.95 | area=medium | maxDets=1000 ] = 0.119\n",
      "Average Recall     (AR) @[ IoU=0.50:0.95 | area= large | maxDets=1000 ] = 0.384\n"
     ]
    },
    {
     "name": "stderr",
     "output_type": "stream",
     "text": [
      "2021-05-15 19:22:55,386 - mmdet - INFO - Epoch [14][50/655]\tlr: 1.000e-04, eta: 3:42:29, time: 0.797, data_time: 0.050, memory: 5380, loss_rpn_cls: 0.0842, loss_rpn_bbox: 0.0749, loss_cls: 0.3432, acc: 89.7461, loss_bbox: 0.4032, loss: 0.9055, grad_norm: 10.2339\n",
      "2021-05-15 19:23:33,122 - mmdet - INFO - Epoch [14][100/655]\tlr: 1.000e-04, eta: 3:41:51, time: 0.755, data_time: 0.006, memory: 5380, loss_rpn_cls: 0.0789, loss_rpn_bbox: 0.0636, loss_cls: 0.3005, acc: 90.5898, loss_bbox: 0.3762, loss: 0.8192, grad_norm: 10.5314\n",
      "2021-05-15 19:24:10,695 - mmdet - INFO - Epoch [14][150/655]\tlr: 1.000e-04, eta: 3:41:13, time: 0.751, data_time: 0.006, memory: 5380, loss_rpn_cls: 0.0744, loss_rpn_bbox: 0.0623, loss_cls: 0.3393, acc: 89.5820, loss_bbox: 0.4166, loss: 0.8926, grad_norm: 10.4276\n",
      "2021-05-15 19:24:48,302 - mmdet - INFO - Epoch [14][200/655]\tlr: 1.000e-04, eta: 3:40:34, time: 0.752, data_time: 0.006, memory: 5380, loss_rpn_cls: 0.0889, loss_rpn_bbox: 0.0680, loss_cls: 0.3522, acc: 89.4570, loss_bbox: 0.4128, loss: 0.9219, grad_norm: 11.1213\n",
      "2021-05-15 19:25:25,920 - mmdet - INFO - Epoch [14][250/655]\tlr: 1.000e-04, eta: 3:39:56, time: 0.752, data_time: 0.006, memory: 5380, loss_rpn_cls: 0.0786, loss_rpn_bbox: 0.0643, loss_cls: 0.3364, acc: 89.4580, loss_bbox: 0.4162, loss: 0.8955, grad_norm: 10.4501\n",
      "2021-05-15 19:26:03,469 - mmdet - INFO - Epoch [14][300/655]\tlr: 1.000e-04, eta: 3:39:18, time: 0.751, data_time: 0.006, memory: 5380, loss_rpn_cls: 0.0846, loss_rpn_bbox: 0.0687, loss_cls: 0.3256, acc: 89.8428, loss_bbox: 0.3996, loss: 0.8784, grad_norm: 10.6743\n",
      "2021-05-15 19:26:41,015 - mmdet - INFO - Epoch [14][350/655]\tlr: 1.000e-04, eta: 3:38:39, time: 0.751, data_time: 0.006, memory: 5380, loss_rpn_cls: 0.0845, loss_rpn_bbox: 0.0656, loss_cls: 0.3541, acc: 89.2881, loss_bbox: 0.4358, loss: 0.9400, grad_norm: 10.8872\n",
      "2021-05-15 19:27:18,678 - mmdet - INFO - Epoch [14][400/655]\tlr: 1.000e-04, eta: 3:38:01, time: 0.753, data_time: 0.006, memory: 5380, loss_rpn_cls: 0.0719, loss_rpn_bbox: 0.0587, loss_cls: 0.3311, acc: 89.8408, loss_bbox: 0.4049, loss: 0.8666, grad_norm: 10.6407\n",
      "2021-05-15 19:27:56,252 - mmdet - INFO - Epoch [14][450/655]\tlr: 1.000e-04, eta: 3:37:23, time: 0.751, data_time: 0.006, memory: 5380, loss_rpn_cls: 0.0812, loss_rpn_bbox: 0.0632, loss_cls: 0.3278, acc: 89.9424, loss_bbox: 0.4040, loss: 0.8762, grad_norm: 10.8918\n",
      "2021-05-15 19:28:34,079 - mmdet - INFO - Epoch [14][500/655]\tlr: 1.000e-04, eta: 3:36:45, time: 0.757, data_time: 0.006, memory: 5380, loss_rpn_cls: 0.0782, loss_rpn_bbox: 0.0604, loss_cls: 0.3255, acc: 90.0225, loss_bbox: 0.4037, loss: 0.8678, grad_norm: 10.7084\n",
      "2021-05-15 19:29:12,009 - mmdet - INFO - Epoch [14][550/655]\tlr: 1.000e-04, eta: 3:36:07, time: 0.759, data_time: 0.006, memory: 5380, loss_rpn_cls: 0.0847, loss_rpn_bbox: 0.0728, loss_cls: 0.3496, acc: 89.0576, loss_bbox: 0.4216, loss: 0.9286, grad_norm: 10.8921\n",
      "2021-05-15 19:29:50,015 - mmdet - INFO - Epoch [14][600/655]\tlr: 1.000e-04, eta: 3:35:30, time: 0.760, data_time: 0.006, memory: 5380, loss_rpn_cls: 0.0879, loss_rpn_bbox: 0.0737, loss_cls: 0.3503, acc: 89.4062, loss_bbox: 0.4328, loss: 0.9447, grad_norm: 10.5077\n",
      "2021-05-15 19:30:27,563 - mmdet - INFO - Epoch [14][650/655]\tlr: 1.000e-04, eta: 3:34:51, time: 0.751, data_time: 0.006, memory: 5380, loss_rpn_cls: 0.0916, loss_rpn_bbox: 0.0687, loss_cls: 0.3605, acc: 89.0449, loss_bbox: 0.4336, loss: 0.9543, grad_norm: 11.5247\n",
      "2021-05-15 19:30:31,389 - mmdet - INFO - Saving checkpoint at 14 epochs\n"
     ]
    },
    {
     "name": "stdout",
     "output_type": "stream",
     "text": [
      "[>>>>>>>>>>>>>>>>>>>>>>>>>>>>>] 655/655, 10.2 task/s, elapsed: 64s, ETA:     0s"
     ]
    },
    {
     "name": "stderr",
     "output_type": "stream",
     "text": [
      "2021-05-15 19:31:37,673 - mmdet - INFO - Evaluating bbox...\n"
     ]
    },
    {
     "name": "stdout",
     "output_type": "stream",
     "text": [
      "Loading and preparing results...\n",
      "DONE (t=0.91s)\n",
      "creating index...\n",
      "index created!\n",
      "Running per image evaluation...\n",
      "Evaluate annotation type *bbox*\n",
      "DONE (t=7.77s).\n",
      "Accumulating evaluation results...\n"
     ]
    },
    {
     "name": "stderr",
     "output_type": "stream",
     "text": [
      "2021-05-15 19:31:47,442 - mmdet - INFO - Epoch(val) [14][655]\tbbox_mAP: 0.0840, bbox_mAP_50: 0.1840, bbox_mAP_75: 0.0630, bbox_mAP_s: 0.0050, bbox_mAP_m: 0.0630, bbox_mAP_l: 0.1930, bbox_mAP_copypaste: 0.084 0.184 0.063 0.005 0.063 0.193\n"
     ]
    },
    {
     "name": "stdout",
     "output_type": "stream",
     "text": [
      "DONE (t=1.00s).\n",
      "Average Precision  (AP) @[ IoU=0.50:0.95 | area=   all | maxDets=100 ] = 0.084\n",
      "Average Precision  (AP) @[ IoU=0.50      | area=   all | maxDets=1000 ] = 0.184\n",
      "Average Precision  (AP) @[ IoU=0.75      | area=   all | maxDets=1000 ] = 0.063\n",
      "Average Precision  (AP) @[ IoU=0.50:0.95 | area= small | maxDets=1000 ] = 0.005\n",
      "Average Precision  (AP) @[ IoU=0.50:0.95 | area=medium | maxDets=1000 ] = 0.063\n",
      "Average Precision  (AP) @[ IoU=0.50:0.95 | area= large | maxDets=1000 ] = 0.193\n",
      "Average Recall     (AR) @[ IoU=0.50:0.95 | area=   all | maxDets=100 ] = 0.181\n",
      "Average Recall     (AR) @[ IoU=0.50:0.95 | area=   all | maxDets=300 ] = 0.181\n",
      "Average Recall     (AR) @[ IoU=0.50:0.95 | area=   all | maxDets=1000 ] = 0.181\n",
      "Average Recall     (AR) @[ IoU=0.50:0.95 | area= small | maxDets=1000 ] = 0.016\n",
      "Average Recall     (AR) @[ IoU=0.50:0.95 | area=medium | maxDets=1000 ] = 0.136\n",
      "Average Recall     (AR) @[ IoU=0.50:0.95 | area= large | maxDets=1000 ] = 0.387\n"
     ]
    },
    {
     "name": "stderr",
     "output_type": "stream",
     "text": [
      "2021-05-15 19:32:27,647 - mmdet - INFO - Epoch [15][50/655]\tlr: 1.000e-04, eta: 3:34:07, time: 0.804, data_time: 0.050, memory: 5380, loss_rpn_cls: 0.0813, loss_rpn_bbox: 0.0670, loss_cls: 0.3380, acc: 89.6523, loss_bbox: 0.4118, loss: 0.8981, grad_norm: 10.6499\n",
      "2021-05-15 19:33:05,364 - mmdet - INFO - Epoch [15][100/655]\tlr: 1.000e-04, eta: 3:33:29, time: 0.754, data_time: 0.006, memory: 5380, loss_rpn_cls: 0.0844, loss_rpn_bbox: 0.0718, loss_cls: 0.3637, acc: 88.8984, loss_bbox: 0.4494, loss: 0.9692, grad_norm: 11.3530\n",
      "2021-05-15 19:33:43,023 - mmdet - INFO - Epoch [15][150/655]\tlr: 1.000e-04, eta: 3:32:51, time: 0.753, data_time: 0.006, memory: 5380, loss_rpn_cls: 0.0686, loss_rpn_bbox: 0.0563, loss_cls: 0.3175, acc: 90.2285, loss_bbox: 0.3937, loss: 0.8360, grad_norm: 10.1634\n",
      "2021-05-15 19:34:20,737 - mmdet - INFO - Epoch [15][200/655]\tlr: 1.000e-04, eta: 3:32:13, time: 0.754, data_time: 0.006, memory: 5380, loss_rpn_cls: 0.0828, loss_rpn_bbox: 0.0684, loss_cls: 0.3532, acc: 89.1270, loss_bbox: 0.4325, loss: 0.9369, grad_norm: 11.2784\n",
      "2021-05-15 19:34:58,081 - mmdet - INFO - Epoch [15][250/655]\tlr: 1.000e-04, eta: 3:31:34, time: 0.747, data_time: 0.006, memory: 5380, loss_rpn_cls: 0.0799, loss_rpn_bbox: 0.0658, loss_cls: 0.3256, acc: 90.1738, loss_bbox: 0.3922, loss: 0.8635, grad_norm: 10.1143\n",
      "2021-05-15 19:35:35,790 - mmdet - INFO - Epoch [15][300/655]\tlr: 1.000e-04, eta: 3:30:56, time: 0.754, data_time: 0.006, memory: 5380, loss_rpn_cls: 0.0774, loss_rpn_bbox: 0.0650, loss_cls: 0.3454, acc: 89.3057, loss_bbox: 0.4113, loss: 0.8991, grad_norm: 11.1081\n",
      "2021-05-15 19:36:14,065 - mmdet - INFO - Epoch [15][350/655]\tlr: 1.000e-04, eta: 3:30:19, time: 0.766, data_time: 0.007, memory: 5380, loss_rpn_cls: 0.0758, loss_rpn_bbox: 0.0633, loss_cls: 0.3445, acc: 89.5645, loss_bbox: 0.4227, loss: 0.9064, grad_norm: 10.5096\n",
      "2021-05-15 19:36:51,636 - mmdet - INFO - Epoch [15][400/655]\tlr: 1.000e-04, eta: 3:29:41, time: 0.751, data_time: 0.006, memory: 5380, loss_rpn_cls: 0.0765, loss_rpn_bbox: 0.0665, loss_cls: 0.3086, acc: 90.3271, loss_bbox: 0.3901, loss: 0.8418, grad_norm: 10.0916\n",
      "2021-05-15 19:37:29,062 - mmdet - INFO - Epoch [15][450/655]\tlr: 1.000e-04, eta: 3:29:02, time: 0.749, data_time: 0.006, memory: 5380, loss_rpn_cls: 0.0787, loss_rpn_bbox: 0.0674, loss_cls: 0.3482, acc: 89.1436, loss_bbox: 0.4354, loss: 0.9297, grad_norm: 10.8933\n",
      "2021-05-15 19:38:06,741 - mmdet - INFO - Epoch [15][500/655]\tlr: 1.000e-04, eta: 3:28:24, time: 0.754, data_time: 0.006, memory: 5380, loss_rpn_cls: 0.0814, loss_rpn_bbox: 0.0642, loss_cls: 0.3184, acc: 90.0137, loss_bbox: 0.4040, loss: 0.8680, grad_norm: 11.2533\n",
      "2021-05-15 19:38:44,136 - mmdet - INFO - Epoch [15][550/655]\tlr: 1.000e-04, eta: 3:27:46, time: 0.748, data_time: 0.006, memory: 5380, loss_rpn_cls: 0.0818, loss_rpn_bbox: 0.0655, loss_cls: 0.3212, acc: 89.9521, loss_bbox: 0.3901, loss: 0.8587, grad_norm: 10.9453\n",
      "2021-05-15 19:39:21,566 - mmdet - INFO - Epoch [15][600/655]\tlr: 1.000e-04, eta: 3:27:07, time: 0.749, data_time: 0.006, memory: 5380, loss_rpn_cls: 0.0770, loss_rpn_bbox: 0.0622, loss_cls: 0.3354, acc: 89.9316, loss_bbox: 0.3971, loss: 0.8718, grad_norm: 10.6519\n",
      "2021-05-15 19:39:58,976 - mmdet - INFO - Epoch [15][650/655]\tlr: 1.000e-04, eta: 3:26:29, time: 0.748, data_time: 0.006, memory: 5380, loss_rpn_cls: 0.0879, loss_rpn_bbox: 0.0725, loss_cls: 0.3478, acc: 89.2158, loss_bbox: 0.4322, loss: 0.9405, grad_norm: 11.9481\n",
      "2021-05-15 19:40:02,799 - mmdet - INFO - Saving checkpoint at 15 epochs\n"
     ]
    },
    {
     "name": "stdout",
     "output_type": "stream",
     "text": [
      "[>>>>>>>>>>>>>>>>>>>>>>>>>>>>>] 655/655, 10.2 task/s, elapsed: 64s, ETA:     0s"
     ]
    },
    {
     "name": "stderr",
     "output_type": "stream",
     "text": [
      "2021-05-15 19:41:09,313 - mmdet - INFO - Evaluating bbox...\n"
     ]
    },
    {
     "name": "stdout",
     "output_type": "stream",
     "text": [
      "Loading and preparing results...\n",
      "DONE (t=0.51s)\n",
      "creating index...\n",
      "index created!\n",
      "Running per image evaluation...\n",
      "Evaluate annotation type *bbox*\n",
      "DONE (t=5.82s).\n",
      "Accumulating evaluation results...\n"
     ]
    },
    {
     "name": "stderr",
     "output_type": "stream",
     "text": [
      "2021-05-15 19:41:16,445 - mmdet - INFO - Epoch(val) [15][655]\tbbox_mAP: 0.0870, bbox_mAP_50: 0.1880, bbox_mAP_75: 0.0690, bbox_mAP_s: 0.0070, bbox_mAP_m: 0.0850, bbox_mAP_l: 0.2000, bbox_mAP_copypaste: 0.087 0.188 0.069 0.007 0.085 0.200\n"
     ]
    },
    {
     "name": "stdout",
     "output_type": "stream",
     "text": [
      "DONE (t=0.74s).\n",
      "Average Precision  (AP) @[ IoU=0.50:0.95 | area=   all | maxDets=100 ] = 0.087\n",
      "Average Precision  (AP) @[ IoU=0.50      | area=   all | maxDets=1000 ] = 0.188\n",
      "Average Precision  (AP) @[ IoU=0.75      | area=   all | maxDets=1000 ] = 0.069\n",
      "Average Precision  (AP) @[ IoU=0.50:0.95 | area= small | maxDets=1000 ] = 0.007\n",
      "Average Precision  (AP) @[ IoU=0.50:0.95 | area=medium | maxDets=1000 ] = 0.085\n",
      "Average Precision  (AP) @[ IoU=0.50:0.95 | area= large | maxDets=1000 ] = 0.200\n",
      "Average Recall     (AR) @[ IoU=0.50:0.95 | area=   all | maxDets=100 ] = 0.190\n",
      "Average Recall     (AR) @[ IoU=0.50:0.95 | area=   all | maxDets=300 ] = 0.190\n",
      "Average Recall     (AR) @[ IoU=0.50:0.95 | area=   all | maxDets=1000 ] = 0.190\n",
      "Average Recall     (AR) @[ IoU=0.50:0.95 | area= small | maxDets=1000 ] = 0.015\n",
      "Average Recall     (AR) @[ IoU=0.50:0.95 | area=medium | maxDets=1000 ] = 0.135\n",
      "Average Recall     (AR) @[ IoU=0.50:0.95 | area= large | maxDets=1000 ] = 0.395\n"
     ]
    },
    {
     "name": "stderr",
     "output_type": "stream",
     "text": [
      "2021-05-15 19:41:56,165 - mmdet - INFO - Epoch [16][50/655]\tlr: 1.000e-04, eta: 3:25:44, time: 0.794, data_time: 0.050, memory: 5380, loss_rpn_cls: 0.0714, loss_rpn_bbox: 0.0607, loss_cls: 0.3287, acc: 90.0264, loss_bbox: 0.3996, loss: 0.8604, grad_norm: 11.0203\n",
      "2021-05-15 19:42:33,836 - mmdet - INFO - Epoch [16][100/655]\tlr: 1.000e-04, eta: 3:25:06, time: 0.753, data_time: 0.006, memory: 5380, loss_rpn_cls: 0.0830, loss_rpn_bbox: 0.0673, loss_cls: 0.3596, acc: 88.8271, loss_bbox: 0.4421, loss: 0.9519, grad_norm: 10.9369\n",
      "2021-05-15 19:43:11,362 - mmdet - INFO - Epoch [16][150/655]\tlr: 1.000e-04, eta: 3:24:28, time: 0.751, data_time: 0.006, memory: 5380, loss_rpn_cls: 0.0797, loss_rpn_bbox: 0.0771, loss_cls: 0.3430, acc: 89.5391, loss_bbox: 0.4220, loss: 0.9219, grad_norm: 11.1027\n",
      "2021-05-15 19:43:49,000 - mmdet - INFO - Epoch [16][200/655]\tlr: 1.000e-04, eta: 3:23:49, time: 0.753, data_time: 0.006, memory: 5380, loss_rpn_cls: 0.0838, loss_rpn_bbox: 0.0763, loss_cls: 0.3596, acc: 88.8438, loss_bbox: 0.4426, loss: 0.9622, grad_norm: 10.8776\n",
      "2021-05-15 19:44:26,670 - mmdet - INFO - Epoch [16][250/655]\tlr: 1.000e-04, eta: 3:23:11, time: 0.753, data_time: 0.006, memory: 5380, loss_rpn_cls: 0.0755, loss_rpn_bbox: 0.0560, loss_cls: 0.3200, acc: 90.0576, loss_bbox: 0.3971, loss: 0.8487, grad_norm: 11.2344\n",
      "2021-05-15 19:45:04,253 - mmdet - INFO - Epoch [16][300/655]\tlr: 1.000e-04, eta: 3:22:33, time: 0.752, data_time: 0.006, memory: 5380, loss_rpn_cls: 0.0793, loss_rpn_bbox: 0.0671, loss_cls: 0.3469, acc: 89.3086, loss_bbox: 0.4247, loss: 0.9181, grad_norm: 11.0156\n",
      "2021-05-15 19:45:41,717 - mmdet - INFO - Epoch [16][350/655]\tlr: 1.000e-04, eta: 3:21:55, time: 0.749, data_time: 0.006, memory: 5380, loss_rpn_cls: 0.0738, loss_rpn_bbox: 0.0595, loss_cls: 0.3210, acc: 90.2344, loss_bbox: 0.3893, loss: 0.8437, grad_norm: 10.7563\n",
      "2021-05-15 19:46:19,411 - mmdet - INFO - Epoch [16][400/655]\tlr: 1.000e-04, eta: 3:21:17, time: 0.754, data_time: 0.006, memory: 5380, loss_rpn_cls: 0.0820, loss_rpn_bbox: 0.0756, loss_cls: 0.3380, acc: 89.5205, loss_bbox: 0.4191, loss: 0.9148, grad_norm: 10.9437\n",
      "2021-05-15 19:46:56,796 - mmdet - INFO - Epoch [16][450/655]\tlr: 1.000e-04, eta: 3:20:38, time: 0.748, data_time: 0.006, memory: 5380, loss_rpn_cls: 0.0738, loss_rpn_bbox: 0.0621, loss_cls: 0.3118, acc: 90.3994, loss_bbox: 0.3837, loss: 0.8315, grad_norm: 10.3515\n",
      "2021-05-15 19:47:34,315 - mmdet - INFO - Epoch [16][500/655]\tlr: 1.000e-04, eta: 3:20:00, time: 0.750, data_time: 0.006, memory: 5380, loss_rpn_cls: 0.0803, loss_rpn_bbox: 0.0653, loss_cls: 0.3365, acc: 89.7002, loss_bbox: 0.4211, loss: 0.9033, grad_norm: 11.1059\n",
      "2021-05-15 19:48:11,718 - mmdet - INFO - Epoch [16][550/655]\tlr: 1.000e-04, eta: 3:19:22, time: 0.748, data_time: 0.006, memory: 5380, loss_rpn_cls: 0.0660, loss_rpn_bbox: 0.0581, loss_cls: 0.3185, acc: 90.1094, loss_bbox: 0.3891, loss: 0.8317, grad_norm: 10.3789\n",
      "2021-05-15 19:48:49,022 - mmdet - INFO - Epoch [16][600/655]\tlr: 1.000e-04, eta: 3:18:43, time: 0.746, data_time: 0.006, memory: 5380, loss_rpn_cls: 0.0742, loss_rpn_bbox: 0.0604, loss_cls: 0.3168, acc: 90.2910, loss_bbox: 0.3849, loss: 0.8363, grad_norm: 10.3010\n",
      "2021-05-15 19:49:26,534 - mmdet - INFO - Epoch [16][650/655]\tlr: 1.000e-04, eta: 3:18:05, time: 0.750, data_time: 0.006, memory: 5380, loss_rpn_cls: 0.0710, loss_rpn_bbox: 0.0612, loss_cls: 0.3127, acc: 90.0449, loss_bbox: 0.3936, loss: 0.8385, grad_norm: 10.7245\n",
      "2021-05-15 19:49:30,339 - mmdet - INFO - Saving checkpoint at 16 epochs\n"
     ]
    },
    {
     "name": "stdout",
     "output_type": "stream",
     "text": [
      "[>>>>>>>>>>>>>>>>>>>>>>>>>>>>>] 655/655, 10.2 task/s, elapsed: 64s, ETA:     0s"
     ]
    },
    {
     "name": "stderr",
     "output_type": "stream",
     "text": [
      "2021-05-15 19:50:37,002 - mmdet - INFO - Evaluating bbox...\n"
     ]
    },
    {
     "name": "stdout",
     "output_type": "stream",
     "text": [
      "Loading and preparing results...\n",
      "DONE (t=0.53s)\n",
      "creating index...\n",
      "index created!\n",
      "Running per image evaluation...\n",
      "Evaluate annotation type *bbox*\n",
      "DONE (t=7.65s).\n",
      "Accumulating evaluation results...\n"
     ]
    },
    {
     "name": "stderr",
     "output_type": "stream",
     "text": [
      "2021-05-15 19:50:46,249 - mmdet - INFO - Epoch(val) [16][655]\tbbox_mAP: 0.0910, bbox_mAP_50: 0.1960, bbox_mAP_75: 0.0740, bbox_mAP_s: 0.0060, bbox_mAP_m: 0.0720, bbox_mAP_l: 0.2110, bbox_mAP_copypaste: 0.091 0.196 0.074 0.006 0.072 0.211\n"
     ]
    },
    {
     "name": "stdout",
     "output_type": "stream",
     "text": [
      "DONE (t=0.98s).\n",
      "Average Precision  (AP) @[ IoU=0.50:0.95 | area=   all | maxDets=100 ] = 0.091\n",
      "Average Precision  (AP) @[ IoU=0.50      | area=   all | maxDets=1000 ] = 0.196\n",
      "Average Precision  (AP) @[ IoU=0.75      | area=   all | maxDets=1000 ] = 0.074\n",
      "Average Precision  (AP) @[ IoU=0.50:0.95 | area= small | maxDets=1000 ] = 0.006\n",
      "Average Precision  (AP) @[ IoU=0.50:0.95 | area=medium | maxDets=1000 ] = 0.072\n",
      "Average Precision  (AP) @[ IoU=0.50:0.95 | area= large | maxDets=1000 ] = 0.211\n",
      "Average Recall     (AR) @[ IoU=0.50:0.95 | area=   all | maxDets=100 ] = 0.193\n",
      "Average Recall     (AR) @[ IoU=0.50:0.95 | area=   all | maxDets=300 ] = 0.193\n",
      "Average Recall     (AR) @[ IoU=0.50:0.95 | area=   all | maxDets=1000 ] = 0.193\n",
      "Average Recall     (AR) @[ IoU=0.50:0.95 | area= small | maxDets=1000 ] = 0.018\n",
      "Average Recall     (AR) @[ IoU=0.50:0.95 | area=medium | maxDets=1000 ] = 0.145\n",
      "Average Recall     (AR) @[ IoU=0.50:0.95 | area= large | maxDets=1000 ] = 0.406\n"
     ]
    },
    {
     "name": "stderr",
     "output_type": "stream",
     "text": [
      "2021-05-15 19:51:25,924 - mmdet - INFO - Epoch [17][50/655]\tlr: 1.000e-05, eta: 3:17:21, time: 0.793, data_time: 0.050, memory: 5380, loss_rpn_cls: 0.0671, loss_rpn_bbox: 0.0562, loss_cls: 0.2967, acc: 90.6250, loss_bbox: 0.3880, loss: 0.8081, grad_norm: 9.4121\n",
      "2021-05-15 19:52:03,801 - mmdet - INFO - Epoch [17][100/655]\tlr: 1.000e-05, eta: 3:16:43, time: 0.758, data_time: 0.006, memory: 5380, loss_rpn_cls: 0.0801, loss_rpn_bbox: 0.0739, loss_cls: 0.3453, acc: 89.2119, loss_bbox: 0.4347, loss: 0.9340, grad_norm: 9.7149\n",
      "2021-05-15 19:52:41,550 - mmdet - INFO - Epoch [17][150/655]\tlr: 1.000e-05, eta: 3:16:05, time: 0.755, data_time: 0.006, memory: 5380, loss_rpn_cls: 0.0701, loss_rpn_bbox: 0.0623, loss_cls: 0.3277, acc: 89.6045, loss_bbox: 0.4277, loss: 0.8878, grad_norm: 10.1382\n",
      "2021-05-15 19:53:19,038 - mmdet - INFO - Epoch [17][200/655]\tlr: 1.000e-05, eta: 3:15:27, time: 0.750, data_time: 0.006, memory: 5380, loss_rpn_cls: 0.0739, loss_rpn_bbox: 0.0646, loss_cls: 0.3176, acc: 90.0859, loss_bbox: 0.4044, loss: 0.8606, grad_norm: 9.7473\n",
      "2021-05-15 19:53:56,679 - mmdet - INFO - Epoch [17][250/655]\tlr: 1.000e-05, eta: 3:14:49, time: 0.753, data_time: 0.006, memory: 5380, loss_rpn_cls: 0.0788, loss_rpn_bbox: 0.0707, loss_cls: 0.3327, acc: 89.6172, loss_bbox: 0.4219, loss: 0.9042, grad_norm: 9.8353\n",
      "2021-05-15 19:54:34,177 - mmdet - INFO - Epoch [17][300/655]\tlr: 1.000e-05, eta: 3:14:11, time: 0.750, data_time: 0.006, memory: 5380, loss_rpn_cls: 0.0704, loss_rpn_bbox: 0.0595, loss_cls: 0.3016, acc: 90.4570, loss_bbox: 0.3881, loss: 0.8195, grad_norm: 9.4937\n",
      "2021-05-15 19:55:11,697 - mmdet - INFO - Epoch [17][350/655]\tlr: 1.000e-05, eta: 3:13:33, time: 0.750, data_time: 0.006, memory: 5380, loss_rpn_cls: 0.0705, loss_rpn_bbox: 0.0699, loss_cls: 0.3286, acc: 89.6709, loss_bbox: 0.4039, loss: 0.8728, grad_norm: 10.1718\n",
      "2021-05-15 19:55:49,199 - mmdet - INFO - Epoch [17][400/655]\tlr: 1.000e-05, eta: 3:12:55, time: 0.750, data_time: 0.006, memory: 5380, loss_rpn_cls: 0.0737, loss_rpn_bbox: 0.0592, loss_cls: 0.3191, acc: 90.1445, loss_bbox: 0.4070, loss: 0.8589, grad_norm: 9.9254\n",
      "2021-05-15 19:56:26,703 - mmdet - INFO - Epoch [17][450/655]\tlr: 1.000e-05, eta: 3:12:16, time: 0.750, data_time: 0.006, memory: 5380, loss_rpn_cls: 0.0687, loss_rpn_bbox: 0.0600, loss_cls: 0.3085, acc: 90.3584, loss_bbox: 0.3834, loss: 0.8206, grad_norm: 9.8982\n",
      "2021-05-15 19:57:04,214 - mmdet - INFO - Epoch [17][500/655]\tlr: 1.000e-05, eta: 3:11:38, time: 0.750, data_time: 0.006, memory: 5380, loss_rpn_cls: 0.0716, loss_rpn_bbox: 0.0650, loss_cls: 0.3032, acc: 90.5244, loss_bbox: 0.3804, loss: 0.8203, grad_norm: 9.6476\n",
      "2021-05-15 19:57:41,751 - mmdet - INFO - Epoch [17][550/655]\tlr: 1.000e-05, eta: 3:11:00, time: 0.751, data_time: 0.006, memory: 5380, loss_rpn_cls: 0.0685, loss_rpn_bbox: 0.0620, loss_cls: 0.3247, acc: 90.1914, loss_bbox: 0.3921, loss: 0.8472, grad_norm: 9.8466\n",
      "2021-05-15 19:58:19,285 - mmdet - INFO - Epoch [17][600/655]\tlr: 1.000e-05, eta: 3:10:22, time: 0.751, data_time: 0.006, memory: 5380, loss_rpn_cls: 0.0658, loss_rpn_bbox: 0.0573, loss_cls: 0.3146, acc: 90.2744, loss_bbox: 0.3960, loss: 0.8337, grad_norm: 9.7558\n",
      "2021-05-15 19:58:56,806 - mmdet - INFO - Epoch [17][650/655]\tlr: 1.000e-05, eta: 3:09:44, time: 0.750, data_time: 0.006, memory: 5380, loss_rpn_cls: 0.0754, loss_rpn_bbox: 0.0648, loss_cls: 0.3247, acc: 89.6045, loss_bbox: 0.4230, loss: 0.8879, grad_norm: 10.3021\n",
      "2021-05-15 19:59:00,622 - mmdet - INFO - Saving checkpoint at 17 epochs\n"
     ]
    },
    {
     "name": "stdout",
     "output_type": "stream",
     "text": [
      "[>>>>>>>>>>>>>>>>>>>>>>>>>>>>>] 655/655, 10.3 task/s, elapsed: 64s, ETA:     0s"
     ]
    },
    {
     "name": "stderr",
     "output_type": "stream",
     "text": [
      "2021-05-15 20:00:06,752 - mmdet - INFO - Evaluating bbox...\n"
     ]
    },
    {
     "name": "stdout",
     "output_type": "stream",
     "text": [
      "Loading and preparing results...\n",
      "DONE (t=0.52s)\n",
      "creating index...\n",
      "index created!\n",
      "Running per image evaluation...\n",
      "Evaluate annotation type *bbox*\n",
      "DONE (t=6.99s).\n",
      "Accumulating evaluation results...\n"
     ]
    },
    {
     "name": "stderr",
     "output_type": "stream",
     "text": [
      "2021-05-15 20:00:15,253 - mmdet - INFO - Epoch(val) [17][655]\tbbox_mAP: 0.0960, bbox_mAP_50: 0.2070, bbox_mAP_75: 0.0760, bbox_mAP_s: 0.0060, bbox_mAP_m: 0.0680, bbox_mAP_l: 0.2180, bbox_mAP_copypaste: 0.096 0.207 0.076 0.006 0.068 0.218\n"
     ]
    },
    {
     "name": "stdout",
     "output_type": "stream",
     "text": [
      "DONE (t=0.91s).\n",
      "Average Precision  (AP) @[ IoU=0.50:0.95 | area=   all | maxDets=100 ] = 0.096\n",
      "Average Precision  (AP) @[ IoU=0.50      | area=   all | maxDets=1000 ] = 0.207\n",
      "Average Precision  (AP) @[ IoU=0.75      | area=   all | maxDets=1000 ] = 0.076\n",
      "Average Precision  (AP) @[ IoU=0.50:0.95 | area= small | maxDets=1000 ] = 0.006\n",
      "Average Precision  (AP) @[ IoU=0.50:0.95 | area=medium | maxDets=1000 ] = 0.068\n",
      "Average Precision  (AP) @[ IoU=0.50:0.95 | area= large | maxDets=1000 ] = 0.218\n",
      "Average Recall     (AR) @[ IoU=0.50:0.95 | area=   all | maxDets=100 ] = 0.195\n",
      "Average Recall     (AR) @[ IoU=0.50:0.95 | area=   all | maxDets=300 ] = 0.195\n",
      "Average Recall     (AR) @[ IoU=0.50:0.95 | area=   all | maxDets=1000 ] = 0.195\n",
      "Average Recall     (AR) @[ IoU=0.50:0.95 | area= small | maxDets=1000 ] = 0.020\n",
      "Average Recall     (AR) @[ IoU=0.50:0.95 | area=medium | maxDets=1000 ] = 0.147\n",
      "Average Recall     (AR) @[ IoU=0.50:0.95 | area= large | maxDets=1000 ] = 0.409\n"
     ]
    },
    {
     "name": "stderr",
     "output_type": "stream",
     "text": [
      "2021-05-15 20:00:54,898 - mmdet - INFO - Epoch [18][50/655]\tlr: 1.000e-05, eta: 3:09:00, time: 0.793, data_time: 0.050, memory: 5380, loss_rpn_cls: 0.0671, loss_rpn_bbox: 0.0575, loss_cls: 0.3041, acc: 90.5479, loss_bbox: 0.3840, loss: 0.8128, grad_norm: 10.0068\n",
      "2021-05-15 20:01:32,579 - mmdet - INFO - Epoch [18][100/655]\tlr: 1.000e-05, eta: 3:08:22, time: 0.754, data_time: 0.006, memory: 5380, loss_rpn_cls: 0.0743, loss_rpn_bbox: 0.0710, loss_cls: 0.3289, acc: 89.7021, loss_bbox: 0.4207, loss: 0.8949, grad_norm: 9.8863\n",
      "2021-05-15 20:02:10,092 - mmdet - INFO - Epoch [18][150/655]\tlr: 1.000e-05, eta: 3:07:44, time: 0.750, data_time: 0.006, memory: 5380, loss_rpn_cls: 0.0749, loss_rpn_bbox: 0.0639, loss_cls: 0.3140, acc: 90.1660, loss_bbox: 0.4039, loss: 0.8566, grad_norm: 10.3332\n",
      "2021-05-15 20:02:47,686 - mmdet - INFO - Epoch [18][200/655]\tlr: 1.000e-05, eta: 3:07:06, time: 0.752, data_time: 0.006, memory: 5380, loss_rpn_cls: 0.0765, loss_rpn_bbox: 0.0627, loss_cls: 0.3061, acc: 90.5039, loss_bbox: 0.3924, loss: 0.8376, grad_norm: 9.7301\n",
      "2021-05-15 20:03:25,512 - mmdet - INFO - Epoch [18][250/655]\tlr: 1.000e-05, eta: 3:06:28, time: 0.757, data_time: 0.006, memory: 5380, loss_rpn_cls: 0.0747, loss_rpn_bbox: 0.0722, loss_cls: 0.3386, acc: 89.1719, loss_bbox: 0.4411, loss: 0.9266, grad_norm: 10.1310\n",
      "2021-05-15 20:04:03,240 - mmdet - INFO - Epoch [18][300/655]\tlr: 1.000e-05, eta: 3:05:50, time: 0.755, data_time: 0.006, memory: 5380, loss_rpn_cls: 0.0674, loss_rpn_bbox: 0.0568, loss_cls: 0.3160, acc: 90.1357, loss_bbox: 0.3954, loss: 0.8356, grad_norm: 10.1872\n",
      "2021-05-15 20:04:40,950 - mmdet - INFO - Epoch [18][350/655]\tlr: 1.000e-05, eta: 3:05:13, time: 0.754, data_time: 0.006, memory: 5380, loss_rpn_cls: 0.0830, loss_rpn_bbox: 0.0791, loss_cls: 0.3684, acc: 88.3633, loss_bbox: 0.4630, loss: 0.9935, grad_norm: 10.1678\n",
      "2021-05-15 20:05:18,530 - mmdet - INFO - Epoch [18][400/655]\tlr: 1.000e-05, eta: 3:04:35, time: 0.752, data_time: 0.006, memory: 5380, loss_rpn_cls: 0.0634, loss_rpn_bbox: 0.0546, loss_cls: 0.3214, acc: 90.1182, loss_bbox: 0.3934, loss: 0.8328, grad_norm: 10.3189\n",
      "2021-05-15 20:05:56,019 - mmdet - INFO - Epoch [18][450/655]\tlr: 1.000e-05, eta: 3:03:56, time: 0.750, data_time: 0.006, memory: 5380, loss_rpn_cls: 0.0792, loss_rpn_bbox: 0.0678, loss_cls: 0.3287, acc: 89.8730, loss_bbox: 0.4119, loss: 0.8876, grad_norm: 10.6580\n",
      "2021-05-15 20:06:33,530 - mmdet - INFO - Epoch [18][500/655]\tlr: 1.000e-05, eta: 3:03:18, time: 0.750, data_time: 0.006, memory: 5380, loss_rpn_cls: 0.0710, loss_rpn_bbox: 0.0647, loss_cls: 0.3092, acc: 90.4150, loss_bbox: 0.3877, loss: 0.8326, grad_norm: 10.2273\n",
      "2021-05-15 20:07:11,055 - mmdet - INFO - Epoch [18][550/655]\tlr: 1.000e-05, eta: 3:02:40, time: 0.751, data_time: 0.006, memory: 5380, loss_rpn_cls: 0.0621, loss_rpn_bbox: 0.0528, loss_cls: 0.2992, acc: 90.5820, loss_bbox: 0.3885, loss: 0.8026, grad_norm: 9.8820\n",
      "2021-05-15 20:07:48,554 - mmdet - INFO - Epoch [18][600/655]\tlr: 1.000e-05, eta: 3:02:02, time: 0.750, data_time: 0.006, memory: 5380, loss_rpn_cls: 0.0645, loss_rpn_bbox: 0.0580, loss_cls: 0.2932, acc: 90.8125, loss_bbox: 0.3630, loss: 0.7787, grad_norm: 9.7414\n",
      "2021-05-15 20:08:26,007 - mmdet - INFO - Epoch [18][650/655]\tlr: 1.000e-05, eta: 3:01:24, time: 0.749, data_time: 0.006, memory: 5380, loss_rpn_cls: 0.0718, loss_rpn_bbox: 0.0633, loss_cls: 0.3144, acc: 90.1611, loss_bbox: 0.3955, loss: 0.8449, grad_norm: 10.0419\n",
      "2021-05-15 20:08:29,814 - mmdet - INFO - Saving checkpoint at 18 epochs\n"
     ]
    },
    {
     "name": "stdout",
     "output_type": "stream",
     "text": [
      "[>>>>>>>>>>>>>>>>>>>>>>>>>>>>>] 655/655, 10.2 task/s, elapsed: 64s, ETA:     0s"
     ]
    },
    {
     "name": "stderr",
     "output_type": "stream",
     "text": [
      "2021-05-15 20:09:36,232 - mmdet - INFO - Evaluating bbox...\n"
     ]
    },
    {
     "name": "stdout",
     "output_type": "stream",
     "text": [
      "Loading and preparing results...\n",
      "DONE (t=0.51s)\n",
      "creating index...\n",
      "index created!\n",
      "Running per image evaluation...\n",
      "Evaluate annotation type *bbox*\n",
      "DONE (t=7.06s).\n",
      "Accumulating evaluation results...\n"
     ]
    },
    {
     "name": "stderr",
     "output_type": "stream",
     "text": [
      "2021-05-15 20:09:44,781 - mmdet - INFO - Epoch(val) [18][655]\tbbox_mAP: 0.0970, bbox_mAP_50: 0.2060, bbox_mAP_75: 0.0760, bbox_mAP_s: 0.0060, bbox_mAP_m: 0.0700, bbox_mAP_l: 0.2210, bbox_mAP_copypaste: 0.097 0.206 0.076 0.006 0.070 0.221\n"
     ]
    },
    {
     "name": "stdout",
     "output_type": "stream",
     "text": [
      "DONE (t=0.90s).\n",
      "Average Precision  (AP) @[ IoU=0.50:0.95 | area=   all | maxDets=100 ] = 0.097\n",
      "Average Precision  (AP) @[ IoU=0.50      | area=   all | maxDets=1000 ] = 0.206\n",
      "Average Precision  (AP) @[ IoU=0.75      | area=   all | maxDets=1000 ] = 0.076\n",
      "Average Precision  (AP) @[ IoU=0.50:0.95 | area= small | maxDets=1000 ] = 0.006\n",
      "Average Precision  (AP) @[ IoU=0.50:0.95 | area=medium | maxDets=1000 ] = 0.070\n",
      "Average Precision  (AP) @[ IoU=0.50:0.95 | area= large | maxDets=1000 ] = 0.221\n",
      "Average Recall     (AR) @[ IoU=0.50:0.95 | area=   all | maxDets=100 ] = 0.193\n",
      "Average Recall     (AR) @[ IoU=0.50:0.95 | area=   all | maxDets=300 ] = 0.193\n",
      "Average Recall     (AR) @[ IoU=0.50:0.95 | area=   all | maxDets=1000 ] = 0.193\n",
      "Average Recall     (AR) @[ IoU=0.50:0.95 | area= small | maxDets=1000 ] = 0.020\n",
      "Average Recall     (AR) @[ IoU=0.50:0.95 | area=medium | maxDets=1000 ] = 0.154\n",
      "Average Recall     (AR) @[ IoU=0.50:0.95 | area= large | maxDets=1000 ] = 0.401\n"
     ]
    },
    {
     "name": "stderr",
     "output_type": "stream",
     "text": [
      "2021-05-15 20:10:24,975 - mmdet - INFO - Epoch [19][50/655]\tlr: 1.000e-05, eta: 3:00:41, time: 0.804, data_time: 0.050, memory: 5380, loss_rpn_cls: 0.0574, loss_rpn_bbox: 0.0490, loss_cls: 0.2681, acc: 91.6406, loss_bbox: 0.3439, loss: 0.7184, grad_norm: 9.5626\n",
      "2021-05-15 20:11:02,996 - mmdet - INFO - Epoch [19][100/655]\tlr: 1.000e-05, eta: 3:00:04, time: 0.760, data_time: 0.006, memory: 5380, loss_rpn_cls: 0.0785, loss_rpn_bbox: 0.0706, loss_cls: 0.3188, acc: 89.7266, loss_bbox: 0.4257, loss: 0.8936, grad_norm: 10.1926\n",
      "2021-05-15 20:11:40,524 - mmdet - INFO - Epoch [19][150/655]\tlr: 1.000e-05, eta: 2:59:26, time: 0.751, data_time: 0.006, memory: 5380, loss_rpn_cls: 0.0634, loss_rpn_bbox: 0.0558, loss_cls: 0.2824, acc: 91.0078, loss_bbox: 0.3730, loss: 0.7745, grad_norm: 10.0435\n",
      "2021-05-15 20:12:18,173 - mmdet - INFO - Epoch [19][200/655]\tlr: 1.000e-05, eta: 2:58:48, time: 0.753, data_time: 0.006, memory: 5380, loss_rpn_cls: 0.0653, loss_rpn_bbox: 0.0642, loss_cls: 0.2991, acc: 90.5244, loss_bbox: 0.3892, loss: 0.8177, grad_norm: 10.1631\n",
      "2021-05-15 20:12:55,755 - mmdet - INFO - Epoch [19][250/655]\tlr: 1.000e-05, eta: 2:58:10, time: 0.752, data_time: 0.006, memory: 5380, loss_rpn_cls: 0.0712, loss_rpn_bbox: 0.0650, loss_cls: 0.3466, acc: 89.2461, loss_bbox: 0.4334, loss: 0.9162, grad_norm: 10.9390\n",
      "2021-05-15 20:13:33,368 - mmdet - INFO - Epoch [19][300/655]\tlr: 1.000e-05, eta: 2:57:32, time: 0.752, data_time: 0.006, memory: 5380, loss_rpn_cls: 0.0668, loss_rpn_bbox: 0.0580, loss_cls: 0.2971, acc: 90.5303, loss_bbox: 0.3809, loss: 0.8028, grad_norm: 9.8110\n",
      "2021-05-15 20:14:10,965 - mmdet - INFO - Epoch [19][350/655]\tlr: 1.000e-05, eta: 2:56:54, time: 0.752, data_time: 0.006, memory: 5380, loss_rpn_cls: 0.0664, loss_rpn_bbox: 0.0638, loss_cls: 0.3162, acc: 90.0771, loss_bbox: 0.3953, loss: 0.8416, grad_norm: 10.3650\n",
      "2021-05-15 20:14:48,650 - mmdet - INFO - Epoch [19][400/655]\tlr: 1.000e-05, eta: 2:56:16, time: 0.754, data_time: 0.006, memory: 5380, loss_rpn_cls: 0.0788, loss_rpn_bbox: 0.0680, loss_cls: 0.3236, acc: 89.8857, loss_bbox: 0.4101, loss: 0.8805, grad_norm: 10.5141\n",
      "2021-05-15 20:15:26,338 - mmdet - INFO - Epoch [19][450/655]\tlr: 1.000e-05, eta: 2:55:38, time: 0.754, data_time: 0.006, memory: 5380, loss_rpn_cls: 0.0771, loss_rpn_bbox: 0.0647, loss_cls: 0.3367, acc: 89.6455, loss_bbox: 0.4018, loss: 0.8803, grad_norm: 10.6832\n",
      "2021-05-15 20:16:04,145 - mmdet - INFO - Epoch [19][500/655]\tlr: 1.000e-05, eta: 2:55:01, time: 0.756, data_time: 0.006, memory: 5380, loss_rpn_cls: 0.0742, loss_rpn_bbox: 0.0680, loss_cls: 0.3321, acc: 89.5625, loss_bbox: 0.4280, loss: 0.9024, grad_norm: 10.4274\n",
      "2021-05-15 20:16:41,519 - mmdet - INFO - Epoch [19][550/655]\tlr: 1.000e-05, eta: 2:54:22, time: 0.747, data_time: 0.006, memory: 5380, loss_rpn_cls: 0.0702, loss_rpn_bbox: 0.0575, loss_cls: 0.3021, acc: 90.5674, loss_bbox: 0.3740, loss: 0.8037, grad_norm: 10.0475\n",
      "2021-05-15 20:17:19,127 - mmdet - INFO - Epoch [19][600/655]\tlr: 1.000e-05, eta: 2:53:44, time: 0.752, data_time: 0.006, memory: 5380, loss_rpn_cls: 0.0757, loss_rpn_bbox: 0.0668, loss_cls: 0.3358, acc: 89.7969, loss_bbox: 0.4147, loss: 0.8930, grad_norm: 10.2566\n",
      "2021-05-15 20:17:56,847 - mmdet - INFO - Epoch [19][650/655]\tlr: 1.000e-05, eta: 2:53:07, time: 0.754, data_time: 0.006, memory: 5380, loss_rpn_cls: 0.0806, loss_rpn_bbox: 0.0703, loss_cls: 0.3587, acc: 88.6641, loss_bbox: 0.4620, loss: 0.9716, grad_norm: 11.0098\n",
      "2021-05-15 20:18:00,685 - mmdet - INFO - Saving checkpoint at 19 epochs\n"
     ]
    },
    {
     "name": "stdout",
     "output_type": "stream",
     "text": [
      "[>>>>>>>>>>>>>>>>>>>>>>>>>>>>>] 655/655, 10.2 task/s, elapsed: 64s, ETA:     0s"
     ]
    },
    {
     "name": "stderr",
     "output_type": "stream",
     "text": [
      "2021-05-15 20:19:07,436 - mmdet - INFO - Evaluating bbox...\n"
     ]
    },
    {
     "name": "stdout",
     "output_type": "stream",
     "text": [
      "Loading and preparing results...\n",
      "DONE (t=0.91s)\n",
      "creating index...\n",
      "index created!\n",
      "Running per image evaluation...\n",
      "Evaluate annotation type *bbox*\n",
      "DONE (t=6.96s).\n",
      "Accumulating evaluation results...\n"
     ]
    },
    {
     "name": "stderr",
     "output_type": "stream",
     "text": [
      "2021-05-15 20:19:16,360 - mmdet - INFO - Epoch(val) [19][655]\tbbox_mAP: 0.0970, bbox_mAP_50: 0.2110, bbox_mAP_75: 0.0760, bbox_mAP_s: 0.0060, bbox_mAP_m: 0.0680, bbox_mAP_l: 0.2220, bbox_mAP_copypaste: 0.097 0.211 0.076 0.006 0.068 0.222\n"
     ]
    },
    {
     "name": "stdout",
     "output_type": "stream",
     "text": [
      "DONE (t=0.98s).\n",
      "Average Precision  (AP) @[ IoU=0.50:0.95 | area=   all | maxDets=100 ] = 0.097\n",
      "Average Precision  (AP) @[ IoU=0.50      | area=   all | maxDets=1000 ] = 0.211\n",
      "Average Precision  (AP) @[ IoU=0.75      | area=   all | maxDets=1000 ] = 0.076\n",
      "Average Precision  (AP) @[ IoU=0.50:0.95 | area= small | maxDets=1000 ] = 0.006\n",
      "Average Precision  (AP) @[ IoU=0.50:0.95 | area=medium | maxDets=1000 ] = 0.068\n",
      "Average Precision  (AP) @[ IoU=0.50:0.95 | area= large | maxDets=1000 ] = 0.222\n",
      "Average Recall     (AR) @[ IoU=0.50:0.95 | area=   all | maxDets=100 ] = 0.196\n",
      "Average Recall     (AR) @[ IoU=0.50:0.95 | area=   all | maxDets=300 ] = 0.196\n",
      "Average Recall     (AR) @[ IoU=0.50:0.95 | area=   all | maxDets=1000 ] = 0.196\n",
      "Average Recall     (AR) @[ IoU=0.50:0.95 | area= small | maxDets=1000 ] = 0.021\n",
      "Average Recall     (AR) @[ IoU=0.50:0.95 | area=medium | maxDets=1000 ] = 0.153\n",
      "Average Recall     (AR) @[ IoU=0.50:0.95 | area= large | maxDets=1000 ] = 0.412\n"
     ]
    },
    {
     "name": "stderr",
     "output_type": "stream",
     "text": [
      "2021-05-15 20:19:56,170 - mmdet - INFO - Epoch [20][50/655]\tlr: 1.000e-05, eta: 2:52:23, time: 0.796, data_time: 0.050, memory: 5380, loss_rpn_cls: 0.0766, loss_rpn_bbox: 0.0663, loss_cls: 0.3227, acc: 89.8330, loss_bbox: 0.4116, loss: 0.8772, grad_norm: 9.9711\n",
      "2021-05-15 20:20:33,949 - mmdet - INFO - Epoch [20][100/655]\tlr: 1.000e-05, eta: 2:51:46, time: 0.756, data_time: 0.006, memory: 5380, loss_rpn_cls: 0.0631, loss_rpn_bbox: 0.0628, loss_cls: 0.3095, acc: 90.3516, loss_bbox: 0.3962, loss: 0.8316, grad_norm: 10.3487\n",
      "2021-05-15 20:21:11,371 - mmdet - INFO - Epoch [20][150/655]\tlr: 1.000e-05, eta: 2:51:08, time: 0.748, data_time: 0.006, memory: 5380, loss_rpn_cls: 0.0688, loss_rpn_bbox: 0.0582, loss_cls: 0.3168, acc: 90.2090, loss_bbox: 0.4001, loss: 0.8439, grad_norm: 10.1290\n",
      "2021-05-15 20:21:49,142 - mmdet - INFO - Epoch [20][200/655]\tlr: 1.000e-05, eta: 2:50:30, time: 0.755, data_time: 0.006, memory: 5380, loss_rpn_cls: 0.0647, loss_rpn_bbox: 0.0548, loss_cls: 0.2785, acc: 91.2168, loss_bbox: 0.3550, loss: 0.7530, grad_norm: 9.8055\n",
      "2021-05-15 20:22:26,970 - mmdet - INFO - Epoch [20][250/655]\tlr: 1.000e-05, eta: 2:49:52, time: 0.757, data_time: 0.006, memory: 5380, loss_rpn_cls: 0.0678, loss_rpn_bbox: 0.0566, loss_cls: 0.2967, acc: 90.6191, loss_bbox: 0.3825, loss: 0.8036, grad_norm: 10.2808\n",
      "2021-05-15 20:23:04,468 - mmdet - INFO - Epoch [20][300/655]\tlr: 1.000e-05, eta: 2:49:14, time: 0.750, data_time: 0.006, memory: 5380, loss_rpn_cls: 0.0766, loss_rpn_bbox: 0.0686, loss_cls: 0.3231, acc: 89.7080, loss_bbox: 0.4158, loss: 0.8842, grad_norm: 10.5492\n",
      "2021-05-15 20:23:41,884 - mmdet - INFO - Epoch [20][350/655]\tlr: 1.000e-05, eta: 2:48:36, time: 0.748, data_time: 0.006, memory: 5380, loss_rpn_cls: 0.0714, loss_rpn_bbox: 0.0665, loss_cls: 0.3255, acc: 90.0469, loss_bbox: 0.4081, loss: 0.8716, grad_norm: 10.4541\n",
      "2021-05-15 20:24:19,459 - mmdet - INFO - Epoch [20][400/655]\tlr: 1.000e-05, eta: 2:47:58, time: 0.751, data_time: 0.006, memory: 5380, loss_rpn_cls: 0.0726, loss_rpn_bbox: 0.0694, loss_cls: 0.3321, acc: 89.5684, loss_bbox: 0.4144, loss: 0.8884, grad_norm: 10.1016\n",
      "2021-05-15 20:24:57,037 - mmdet - INFO - Epoch [20][450/655]\tlr: 1.000e-05, eta: 2:47:20, time: 0.752, data_time: 0.006, memory: 5380, loss_rpn_cls: 0.0719, loss_rpn_bbox: 0.0627, loss_cls: 0.3319, acc: 89.7607, loss_bbox: 0.4122, loss: 0.8787, grad_norm: 10.8428\n",
      "2021-05-15 20:25:34,631 - mmdet - INFO - Epoch [20][500/655]\tlr: 1.000e-05, eta: 2:46:42, time: 0.752, data_time: 0.006, memory: 5380, loss_rpn_cls: 0.0684, loss_rpn_bbox: 0.0641, loss_cls: 0.3168, acc: 90.0420, loss_bbox: 0.3969, loss: 0.8463, grad_norm: 10.5743\n",
      "2021-05-15 20:26:12,332 - mmdet - INFO - Epoch [20][550/655]\tlr: 1.000e-05, eta: 2:46:05, time: 0.754, data_time: 0.006, memory: 5380, loss_rpn_cls: 0.0796, loss_rpn_bbox: 0.0705, loss_cls: 0.3406, acc: 89.4473, loss_bbox: 0.4283, loss: 0.9190, grad_norm: 10.6655\n",
      "2021-05-15 20:26:49,947 - mmdet - INFO - Epoch [20][600/655]\tlr: 1.000e-05, eta: 2:45:27, time: 0.752, data_time: 0.006, memory: 5380, loss_rpn_cls: 0.0726, loss_rpn_bbox: 0.0589, loss_cls: 0.3245, acc: 89.8379, loss_bbox: 0.4170, loss: 0.8730, grad_norm: 10.6334\n",
      "2021-05-15 20:27:27,593 - mmdet - INFO - Epoch [20][650/655]\tlr: 1.000e-05, eta: 2:44:49, time: 0.753, data_time: 0.006, memory: 5380, loss_rpn_cls: 0.0667, loss_rpn_bbox: 0.0588, loss_cls: 0.3007, acc: 90.3584, loss_bbox: 0.3886, loss: 0.8147, grad_norm: 10.0276\n",
      "2021-05-15 20:27:31,416 - mmdet - INFO - Saving checkpoint at 20 epochs\n"
     ]
    },
    {
     "name": "stdout",
     "output_type": "stream",
     "text": [
      "[>>>>>>>>>>>>>>>>>>>>>>>>>>>>>] 655/655, 10.2 task/s, elapsed: 64s, ETA:     0s"
     ]
    },
    {
     "name": "stderr",
     "output_type": "stream",
     "text": [
      "2021-05-15 20:28:38,492 - mmdet - INFO - Evaluating bbox...\n"
     ]
    },
    {
     "name": "stdout",
     "output_type": "stream",
     "text": [
      "Loading and preparing results...\n",
      "DONE (t=0.57s)\n",
      "creating index...\n",
      "index created!\n",
      "Running per image evaluation...\n",
      "Evaluate annotation type *bbox*\n",
      "DONE (t=7.13s).\n",
      "Accumulating evaluation results...\n"
     ]
    },
    {
     "name": "stderr",
     "output_type": "stream",
     "text": [
      "2021-05-15 20:28:47,181 - mmdet - INFO - Epoch(val) [20][655]\tbbox_mAP: 0.0980, bbox_mAP_50: 0.2100, bbox_mAP_75: 0.0780, bbox_mAP_s: 0.0060, bbox_mAP_m: 0.0720, bbox_mAP_l: 0.2210, bbox_mAP_copypaste: 0.098 0.210 0.078 0.006 0.072 0.221\n"
     ]
    },
    {
     "name": "stdout",
     "output_type": "stream",
     "text": [
      "DONE (t=0.91s).\n",
      "Average Precision  (AP) @[ IoU=0.50:0.95 | area=   all | maxDets=100 ] = 0.098\n",
      "Average Precision  (AP) @[ IoU=0.50      | area=   all | maxDets=1000 ] = 0.210\n",
      "Average Precision  (AP) @[ IoU=0.75      | area=   all | maxDets=1000 ] = 0.078\n",
      "Average Precision  (AP) @[ IoU=0.50:0.95 | area= small | maxDets=1000 ] = 0.006\n",
      "Average Precision  (AP) @[ IoU=0.50:0.95 | area=medium | maxDets=1000 ] = 0.072\n",
      "Average Precision  (AP) @[ IoU=0.50:0.95 | area= large | maxDets=1000 ] = 0.221\n",
      "Average Recall     (AR) @[ IoU=0.50:0.95 | area=   all | maxDets=100 ] = 0.199\n",
      "Average Recall     (AR) @[ IoU=0.50:0.95 | area=   all | maxDets=300 ] = 0.199\n",
      "Average Recall     (AR) @[ IoU=0.50:0.95 | area=   all | maxDets=1000 ] = 0.199\n",
      "Average Recall     (AR) @[ IoU=0.50:0.95 | area= small | maxDets=1000 ] = 0.020\n",
      "Average Recall     (AR) @[ IoU=0.50:0.95 | area=medium | maxDets=1000 ] = 0.160\n",
      "Average Recall     (AR) @[ IoU=0.50:0.95 | area= large | maxDets=1000 ] = 0.405\n"
     ]
    },
    {
     "name": "stderr",
     "output_type": "stream",
     "text": [
      "2021-05-15 20:29:27,047 - mmdet - INFO - Epoch [21][50/655]\tlr: 1.000e-05, eta: 2:44:06, time: 0.797, data_time: 0.051, memory: 5380, loss_rpn_cls: 0.0685, loss_rpn_bbox: 0.0573, loss_cls: 0.3113, acc: 90.0771, loss_bbox: 0.4059, loss: 0.8429, grad_norm: 10.0713\n",
      "2021-05-15 20:30:04,909 - mmdet - INFO - Epoch [21][100/655]\tlr: 1.000e-05, eta: 2:43:28, time: 0.757, data_time: 0.006, memory: 5380, loss_rpn_cls: 0.0599, loss_rpn_bbox: 0.0547, loss_cls: 0.2915, acc: 91.1367, loss_bbox: 0.3650, loss: 0.7711, grad_norm: 9.9898\n",
      "2021-05-15 20:30:42,591 - mmdet - INFO - Epoch [21][150/655]\tlr: 1.000e-05, eta: 2:42:51, time: 0.754, data_time: 0.006, memory: 5380, loss_rpn_cls: 0.0703, loss_rpn_bbox: 0.0642, loss_cls: 0.3011, acc: 90.5762, loss_bbox: 0.3797, loss: 0.8152, grad_norm: 10.2359\n",
      "2021-05-15 20:31:20,158 - mmdet - INFO - Epoch [21][200/655]\tlr: 1.000e-05, eta: 2:42:13, time: 0.751, data_time: 0.006, memory: 5380, loss_rpn_cls: 0.0656, loss_rpn_bbox: 0.0570, loss_cls: 0.2903, acc: 90.7432, loss_bbox: 0.3715, loss: 0.7845, grad_norm: 10.0520\n",
      "2021-05-15 20:31:57,873 - mmdet - INFO - Epoch [21][250/655]\tlr: 1.000e-05, eta: 2:41:35, time: 0.754, data_time: 0.006, memory: 5380, loss_rpn_cls: 0.0773, loss_rpn_bbox: 0.0711, loss_cls: 0.3403, acc: 89.0107, loss_bbox: 0.4446, loss: 0.9333, grad_norm: 10.9886\n",
      "2021-05-15 20:32:35,543 - mmdet - INFO - Epoch [21][300/655]\tlr: 1.000e-05, eta: 2:40:57, time: 0.753, data_time: 0.006, memory: 5380, loss_rpn_cls: 0.0731, loss_rpn_bbox: 0.0666, loss_cls: 0.3410, acc: 89.2383, loss_bbox: 0.4428, loss: 0.9234, grad_norm: 10.9140\n",
      "2021-05-15 20:33:13,058 - mmdet - INFO - Epoch [21][350/655]\tlr: 1.000e-05, eta: 2:40:19, time: 0.750, data_time: 0.006, memory: 5380, loss_rpn_cls: 0.0737, loss_rpn_bbox: 0.0645, loss_cls: 0.3192, acc: 90.2334, loss_bbox: 0.3975, loss: 0.8550, grad_norm: 10.8634\n",
      "2021-05-15 20:33:50,515 - mmdet - INFO - Epoch [21][400/655]\tlr: 1.000e-05, eta: 2:39:41, time: 0.749, data_time: 0.006, memory: 5380, loss_rpn_cls: 0.0617, loss_rpn_bbox: 0.0513, loss_cls: 0.2888, acc: 91.0342, loss_bbox: 0.3630, loss: 0.7648, grad_norm: 9.7645\n",
      "2021-05-15 20:34:28,004 - mmdet - INFO - Epoch [21][450/655]\tlr: 1.000e-05, eta: 2:39:03, time: 0.750, data_time: 0.006, memory: 5380, loss_rpn_cls: 0.0783, loss_rpn_bbox: 0.0671, loss_cls: 0.3240, acc: 89.8799, loss_bbox: 0.3963, loss: 0.8657, grad_norm: 11.0756\n",
      "2021-05-15 20:35:05,561 - mmdet - INFO - Epoch [21][500/655]\tlr: 1.000e-05, eta: 2:38:25, time: 0.751, data_time: 0.006, memory: 5380, loss_rpn_cls: 0.0724, loss_rpn_bbox: 0.0650, loss_cls: 0.3193, acc: 89.9121, loss_bbox: 0.4176, loss: 0.8742, grad_norm: 10.4992\n",
      "2021-05-15 20:35:43,121 - mmdet - INFO - Epoch [21][550/655]\tlr: 1.000e-05, eta: 2:37:48, time: 0.751, data_time: 0.006, memory: 5380, loss_rpn_cls: 0.0715, loss_rpn_bbox: 0.0604, loss_cls: 0.3157, acc: 89.8457, loss_bbox: 0.4036, loss: 0.8512, grad_norm: 10.9034\n",
      "2021-05-15 20:36:20,706 - mmdet - INFO - Epoch [21][600/655]\tlr: 1.000e-05, eta: 2:37:10, time: 0.752, data_time: 0.006, memory: 5380, loss_rpn_cls: 0.0663, loss_rpn_bbox: 0.0660, loss_cls: 0.3150, acc: 90.2646, loss_bbox: 0.4013, loss: 0.8485, grad_norm: 10.5254\n",
      "2021-05-15 20:36:58,275 - mmdet - INFO - Epoch [21][650/655]\tlr: 1.000e-05, eta: 2:36:32, time: 0.751, data_time: 0.006, memory: 5380, loss_rpn_cls: 0.0802, loss_rpn_bbox: 0.0752, loss_cls: 0.3329, acc: 89.4883, loss_bbox: 0.4244, loss: 0.9128, grad_norm: 10.5242\n",
      "2021-05-15 20:37:02,112 - mmdet - INFO - Saving checkpoint at 21 epochs\n"
     ]
    },
    {
     "name": "stdout",
     "output_type": "stream",
     "text": [
      "[>>>>>>>>>>>>>>>>>>>>>>>>>>>>>] 655/655, 10.2 task/s, elapsed: 64s, ETA:     0s"
     ]
    },
    {
     "name": "stderr",
     "output_type": "stream",
     "text": [
      "2021-05-15 20:38:08,554 - mmdet - INFO - Evaluating bbox...\n"
     ]
    },
    {
     "name": "stdout",
     "output_type": "stream",
     "text": [
      "Loading and preparing results...\n",
      "DONE (t=0.54s)\n",
      "creating index...\n",
      "index created!\n",
      "Running per image evaluation...\n",
      "Evaluate annotation type *bbox*\n",
      "DONE (t=7.01s).\n",
      "Accumulating evaluation results...\n"
     ]
    },
    {
     "name": "stderr",
     "output_type": "stream",
     "text": [
      "2021-05-15 20:38:17,104 - mmdet - INFO - Epoch(val) [21][655]\tbbox_mAP: 0.0980, bbox_mAP_50: 0.2130, bbox_mAP_75: 0.0780, bbox_mAP_s: 0.0060, bbox_mAP_m: 0.0710, bbox_mAP_l: 0.2220, bbox_mAP_copypaste: 0.098 0.213 0.078 0.006 0.071 0.222\n"
     ]
    },
    {
     "name": "stdout",
     "output_type": "stream",
     "text": [
      "DONE (t=0.92s).\n",
      "Average Precision  (AP) @[ IoU=0.50:0.95 | area=   all | maxDets=100 ] = 0.098\n",
      "Average Precision  (AP) @[ IoU=0.50      | area=   all | maxDets=1000 ] = 0.213\n",
      "Average Precision  (AP) @[ IoU=0.75      | area=   all | maxDets=1000 ] = 0.078\n",
      "Average Precision  (AP) @[ IoU=0.50:0.95 | area= small | maxDets=1000 ] = 0.006\n",
      "Average Precision  (AP) @[ IoU=0.50:0.95 | area=medium | maxDets=1000 ] = 0.071\n",
      "Average Precision  (AP) @[ IoU=0.50:0.95 | area= large | maxDets=1000 ] = 0.222\n",
      "Average Recall     (AR) @[ IoU=0.50:0.95 | area=   all | maxDets=100 ] = 0.202\n",
      "Average Recall     (AR) @[ IoU=0.50:0.95 | area=   all | maxDets=300 ] = 0.202\n",
      "Average Recall     (AR) @[ IoU=0.50:0.95 | area=   all | maxDets=1000 ] = 0.202\n",
      "Average Recall     (AR) @[ IoU=0.50:0.95 | area= small | maxDets=1000 ] = 0.021\n",
      "Average Recall     (AR) @[ IoU=0.50:0.95 | area=medium | maxDets=1000 ] = 0.158\n",
      "Average Recall     (AR) @[ IoU=0.50:0.95 | area= large | maxDets=1000 ] = 0.419\n"
     ]
    },
    {
     "name": "stderr",
     "output_type": "stream",
     "text": [
      "2021-05-15 20:38:56,961 - mmdet - INFO - Epoch [22][50/655]\tlr: 1.000e-05, eta: 2:35:49, time: 0.797, data_time: 0.051, memory: 5380, loss_rpn_cls: 0.0694, loss_rpn_bbox: 0.0606, loss_cls: 0.3085, acc: 90.1787, loss_bbox: 0.3917, loss: 0.8301, grad_norm: 10.1741\n",
      "2021-05-15 20:39:34,622 - mmdet - INFO - Epoch [22][100/655]\tlr: 1.000e-05, eta: 2:35:11, time: 0.753, data_time: 0.006, memory: 5380, loss_rpn_cls: 0.0671, loss_rpn_bbox: 0.0604, loss_cls: 0.3050, acc: 90.5186, loss_bbox: 0.3883, loss: 0.8208, grad_norm: 10.4230\n",
      "2021-05-15 20:40:12,246 - mmdet - INFO - Epoch [22][150/655]\tlr: 1.000e-05, eta: 2:34:33, time: 0.752, data_time: 0.006, memory: 5380, loss_rpn_cls: 0.0689, loss_rpn_bbox: 0.0612, loss_cls: 0.3061, acc: 90.3906, loss_bbox: 0.3933, loss: 0.8295, grad_norm: 10.3475\n",
      "2021-05-15 20:40:49,857 - mmdet - INFO - Epoch [22][200/655]\tlr: 1.000e-05, eta: 2:33:56, time: 0.752, data_time: 0.006, memory: 5380, loss_rpn_cls: 0.0809, loss_rpn_bbox: 0.0731, loss_cls: 0.3537, acc: 88.6436, loss_bbox: 0.4595, loss: 0.9672, grad_norm: 11.3357\n",
      "2021-05-15 20:41:27,314 - mmdet - INFO - Epoch [22][250/655]\tlr: 1.000e-05, eta: 2:33:18, time: 0.749, data_time: 0.006, memory: 5380, loss_rpn_cls: 0.0686, loss_rpn_bbox: 0.0603, loss_cls: 0.3080, acc: 90.3945, loss_bbox: 0.3901, loss: 0.8269, grad_norm: 10.6867\n",
      "2021-05-15 20:42:04,846 - mmdet - INFO - Epoch [22][300/655]\tlr: 1.000e-05, eta: 2:32:40, time: 0.751, data_time: 0.006, memory: 5380, loss_rpn_cls: 0.0687, loss_rpn_bbox: 0.0594, loss_cls: 0.3013, acc: 90.4756, loss_bbox: 0.3844, loss: 0.8137, grad_norm: 10.4495\n",
      "2021-05-15 20:42:42,420 - mmdet - INFO - Epoch [22][350/655]\tlr: 1.000e-05, eta: 2:32:02, time: 0.751, data_time: 0.006, memory: 5380, loss_rpn_cls: 0.0707, loss_rpn_bbox: 0.0577, loss_cls: 0.3022, acc: 90.5332, loss_bbox: 0.3878, loss: 0.8184, grad_norm: 10.6083\n",
      "2021-05-15 20:43:20,062 - mmdet - INFO - Epoch [22][400/655]\tlr: 1.000e-05, eta: 2:31:24, time: 0.753, data_time: 0.006, memory: 5380, loss_rpn_cls: 0.0602, loss_rpn_bbox: 0.0563, loss_cls: 0.3013, acc: 90.3467, loss_bbox: 0.3849, loss: 0.8027, grad_norm: 10.2711\n",
      "2021-05-15 20:43:57,744 - mmdet - INFO - Epoch [22][450/655]\tlr: 1.000e-05, eta: 2:30:46, time: 0.754, data_time: 0.006, memory: 5380, loss_rpn_cls: 0.0716, loss_rpn_bbox: 0.0636, loss_cls: 0.3210, acc: 89.8975, loss_bbox: 0.4057, loss: 0.8619, grad_norm: 10.7332\n",
      "2021-05-15 20:44:35,313 - mmdet - INFO - Epoch [22][500/655]\tlr: 1.000e-05, eta: 2:30:09, time: 0.751, data_time: 0.006, memory: 5380, loss_rpn_cls: 0.0748, loss_rpn_bbox: 0.0688, loss_cls: 0.3340, acc: 89.6406, loss_bbox: 0.4142, loss: 0.8918, grad_norm: 10.8175\n",
      "2021-05-15 20:45:12,844 - mmdet - INFO - Epoch [22][550/655]\tlr: 1.000e-05, eta: 2:29:31, time: 0.751, data_time: 0.006, memory: 5380, loss_rpn_cls: 0.0670, loss_rpn_bbox: 0.0660, loss_cls: 0.3140, acc: 90.0801, loss_bbox: 0.3862, loss: 0.8332, grad_norm: 10.6700\n",
      "2021-05-15 20:45:50,325 - mmdet - INFO - Epoch [22][600/655]\tlr: 1.000e-05, eta: 2:28:53, time: 0.750, data_time: 0.006, memory: 5380, loss_rpn_cls: 0.0714, loss_rpn_bbox: 0.0648, loss_cls: 0.3140, acc: 90.1191, loss_bbox: 0.4180, loss: 0.8681, grad_norm: 10.7408\n",
      "2021-05-15 20:46:27,972 - mmdet - INFO - Epoch [22][650/655]\tlr: 1.000e-05, eta: 2:28:15, time: 0.753, data_time: 0.006, memory: 5380, loss_rpn_cls: 0.0730, loss_rpn_bbox: 0.0687, loss_cls: 0.3311, acc: 89.7363, loss_bbox: 0.4144, loss: 0.8872, grad_norm: 11.1562\n",
      "2021-05-15 20:46:31,803 - mmdet - INFO - Saving checkpoint at 22 epochs\n"
     ]
    },
    {
     "name": "stdout",
     "output_type": "stream",
     "text": [
      "[>>>>>>>>>>>>>>>>>>>>>>>>>>>>>] 655/655, 10.3 task/s, elapsed: 64s, ETA:     0s"
     ]
    },
    {
     "name": "stderr",
     "output_type": "stream",
     "text": [
      "2021-05-15 20:47:37,688 - mmdet - INFO - Evaluating bbox...\n"
     ]
    },
    {
     "name": "stdout",
     "output_type": "stream",
     "text": [
      "Loading and preparing results...\n",
      "DONE (t=0.58s)\n",
      "creating index...\n",
      "index created!\n",
      "Running per image evaluation...\n",
      "Evaluate annotation type *bbox*\n",
      "DONE (t=7.18s).\n",
      "Accumulating evaluation results...\n"
     ]
    },
    {
     "name": "stderr",
     "output_type": "stream",
     "text": [
      "2021-05-15 20:47:46,485 - mmdet - INFO - Epoch(val) [22][655]\tbbox_mAP: 0.0980, bbox_mAP_50: 0.2140, bbox_mAP_75: 0.0790, bbox_mAP_s: 0.0060, bbox_mAP_m: 0.0710, bbox_mAP_l: 0.2260, bbox_mAP_copypaste: 0.098 0.214 0.079 0.006 0.071 0.226\n"
     ]
    },
    {
     "name": "stdout",
     "output_type": "stream",
     "text": [
      "DONE (t=0.96s).\n",
      "Average Precision  (AP) @[ IoU=0.50:0.95 | area=   all | maxDets=100 ] = 0.098\n",
      "Average Precision  (AP) @[ IoU=0.50      | area=   all | maxDets=1000 ] = 0.214\n",
      "Average Precision  (AP) @[ IoU=0.75      | area=   all | maxDets=1000 ] = 0.079\n",
      "Average Precision  (AP) @[ IoU=0.50:0.95 | area= small | maxDets=1000 ] = 0.006\n",
      "Average Precision  (AP) @[ IoU=0.50:0.95 | area=medium | maxDets=1000 ] = 0.071\n",
      "Average Precision  (AP) @[ IoU=0.50:0.95 | area= large | maxDets=1000 ] = 0.226\n",
      "Average Recall     (AR) @[ IoU=0.50:0.95 | area=   all | maxDets=100 ] = 0.201\n",
      "Average Recall     (AR) @[ IoU=0.50:0.95 | area=   all | maxDets=300 ] = 0.201\n",
      "Average Recall     (AR) @[ IoU=0.50:0.95 | area=   all | maxDets=1000 ] = 0.201\n",
      "Average Recall     (AR) @[ IoU=0.50:0.95 | area= small | maxDets=1000 ] = 0.023\n",
      "Average Recall     (AR) @[ IoU=0.50:0.95 | area=medium | maxDets=1000 ] = 0.163\n",
      "Average Recall     (AR) @[ IoU=0.50:0.95 | area= large | maxDets=1000 ] = 0.413\n"
     ]
    },
    {
     "name": "stderr",
     "output_type": "stream",
     "text": [
      "2021-05-15 20:48:26,210 - mmdet - INFO - Epoch [23][50/655]\tlr: 1.000e-06, eta: 2:27:32, time: 0.794, data_time: 0.050, memory: 5380, loss_rpn_cls: 0.0764, loss_rpn_bbox: 0.0684, loss_cls: 0.3227, acc: 89.7441, loss_bbox: 0.4174, loss: 0.8848, grad_norm: 10.3075\n",
      "2021-05-15 20:49:03,720 - mmdet - INFO - Epoch [23][100/655]\tlr: 1.000e-06, eta: 2:26:54, time: 0.750, data_time: 0.006, memory: 5380, loss_rpn_cls: 0.0691, loss_rpn_bbox: 0.0637, loss_cls: 0.3082, acc: 90.3818, loss_bbox: 0.3909, loss: 0.8318, grad_norm: 10.4763\n",
      "2021-05-15 20:49:41,084 - mmdet - INFO - Epoch [23][150/655]\tlr: 1.000e-06, eta: 2:26:16, time: 0.747, data_time: 0.006, memory: 5380, loss_rpn_cls: 0.0698, loss_rpn_bbox: 0.0606, loss_cls: 0.3009, acc: 90.6084, loss_bbox: 0.3689, loss: 0.8002, grad_norm: 10.2076\n",
      "2021-05-15 20:50:18,624 - mmdet - INFO - Epoch [23][200/655]\tlr: 1.000e-06, eta: 2:25:38, time: 0.751, data_time: 0.006, memory: 5380, loss_rpn_cls: 0.0635, loss_rpn_bbox: 0.0603, loss_cls: 0.3072, acc: 90.0264, loss_bbox: 0.4007, loss: 0.8317, grad_norm: 10.5159\n",
      "2021-05-15 20:50:56,197 - mmdet - INFO - Epoch [23][250/655]\tlr: 1.000e-06, eta: 2:25:01, time: 0.751, data_time: 0.006, memory: 5380, loss_rpn_cls: 0.0860, loss_rpn_bbox: 0.0732, loss_cls: 0.3422, acc: 89.2451, loss_bbox: 0.4440, loss: 0.9455, grad_norm: 10.8719\n",
      "2021-05-15 20:51:33,647 - mmdet - INFO - Epoch [23][300/655]\tlr: 1.000e-06, eta: 2:24:23, time: 0.749, data_time: 0.006, memory: 5380, loss_rpn_cls: 0.0700, loss_rpn_bbox: 0.0592, loss_cls: 0.3072, acc: 90.3750, loss_bbox: 0.3928, loss: 0.8291, grad_norm: 10.5549\n",
      "2021-05-15 20:52:11,146 - mmdet - INFO - Epoch [23][350/655]\tlr: 1.000e-06, eta: 2:23:45, time: 0.750, data_time: 0.006, memory: 5380, loss_rpn_cls: 0.0740, loss_rpn_bbox: 0.0688, loss_cls: 0.3434, acc: 89.2021, loss_bbox: 0.4311, loss: 0.9174, grad_norm: 10.5173\n",
      "2021-05-15 20:52:48,601 - mmdet - INFO - Epoch [23][400/655]\tlr: 1.000e-06, eta: 2:23:07, time: 0.749, data_time: 0.006, memory: 5380, loss_rpn_cls: 0.0636, loss_rpn_bbox: 0.0560, loss_cls: 0.2971, acc: 90.4658, loss_bbox: 0.3815, loss: 0.7982, grad_norm: 10.2218\n",
      "2021-05-15 20:53:26,094 - mmdet - INFO - Epoch [23][450/655]\tlr: 1.000e-06, eta: 2:22:29, time: 0.750, data_time: 0.006, memory: 5380, loss_rpn_cls: 0.0668, loss_rpn_bbox: 0.0665, loss_cls: 0.3156, acc: 89.8926, loss_bbox: 0.4102, loss: 0.8591, grad_norm: 10.2105\n",
      "2021-05-15 20:54:03,700 - mmdet - INFO - Epoch [23][500/655]\tlr: 1.000e-06, eta: 2:21:51, time: 0.752, data_time: 0.006, memory: 5380, loss_rpn_cls: 0.0621, loss_rpn_bbox: 0.0626, loss_cls: 0.2908, acc: 90.7051, loss_bbox: 0.3735, loss: 0.7890, grad_norm: 10.5083\n",
      "2021-05-15 20:54:41,113 - mmdet - INFO - Epoch [23][550/655]\tlr: 1.000e-06, eta: 2:21:13, time: 0.748, data_time: 0.006, memory: 5380, loss_rpn_cls: 0.0648, loss_rpn_bbox: 0.0572, loss_cls: 0.3030, acc: 90.4551, loss_bbox: 0.3908, loss: 0.8158, grad_norm: 10.5509\n",
      "2021-05-15 20:55:18,592 - mmdet - INFO - Epoch [23][600/655]\tlr: 1.000e-06, eta: 2:20:36, time: 0.750, data_time: 0.006, memory: 5380, loss_rpn_cls: 0.0728, loss_rpn_bbox: 0.0692, loss_cls: 0.3337, acc: 89.5156, loss_bbox: 0.4229, loss: 0.8986, grad_norm: 10.2520\n",
      "2021-05-15 20:55:55,812 - mmdet - INFO - Epoch [23][650/655]\tlr: 1.000e-06, eta: 2:19:58, time: 0.744, data_time: 0.006, memory: 5380, loss_rpn_cls: 0.0619, loss_rpn_bbox: 0.0518, loss_cls: 0.2889, acc: 91.0283, loss_bbox: 0.3620, loss: 0.7647, grad_norm: 10.1902\n",
      "2021-05-15 20:55:59,594 - mmdet - INFO - Saving checkpoint at 23 epochs\n"
     ]
    },
    {
     "name": "stdout",
     "output_type": "stream",
     "text": [
      "[>>>>>>>>>>>>>>>>>>>>>>>>>>>>>] 655/655, 10.3 task/s, elapsed: 63s, ETA:     0s"
     ]
    },
    {
     "name": "stderr",
     "output_type": "stream",
     "text": [
      "2021-05-15 20:57:05,232 - mmdet - INFO - Evaluating bbox...\n"
     ]
    },
    {
     "name": "stdout",
     "output_type": "stream",
     "text": [
      "Loading and preparing results...\n",
      "DONE (t=0.52s)\n",
      "creating index...\n",
      "index created!\n",
      "Running per image evaluation...\n",
      "Evaluate annotation type *bbox*\n",
      "DONE (t=7.02s).\n",
      "Accumulating evaluation results...\n"
     ]
    },
    {
     "name": "stderr",
     "output_type": "stream",
     "text": [
      "2021-05-15 20:57:13,773 - mmdet - INFO - Epoch(val) [23][655]\tbbox_mAP: 0.0990, bbox_mAP_50: 0.2120, bbox_mAP_75: 0.0790, bbox_mAP_s: 0.0060, bbox_mAP_m: 0.0700, bbox_mAP_l: 0.2260, bbox_mAP_copypaste: 0.099 0.212 0.079 0.006 0.070 0.226\n"
     ]
    },
    {
     "name": "stdout",
     "output_type": "stream",
     "text": [
      "DONE (t=0.92s).\n",
      "Average Precision  (AP) @[ IoU=0.50:0.95 | area=   all | maxDets=100 ] = 0.099\n",
      "Average Precision  (AP) @[ IoU=0.50      | area=   all | maxDets=1000 ] = 0.212\n",
      "Average Precision  (AP) @[ IoU=0.75      | area=   all | maxDets=1000 ] = 0.079\n",
      "Average Precision  (AP) @[ IoU=0.50:0.95 | area= small | maxDets=1000 ] = 0.006\n",
      "Average Precision  (AP) @[ IoU=0.50:0.95 | area=medium | maxDets=1000 ] = 0.070\n",
      "Average Precision  (AP) @[ IoU=0.50:0.95 | area= large | maxDets=1000 ] = 0.226\n",
      "Average Recall     (AR) @[ IoU=0.50:0.95 | area=   all | maxDets=100 ] = 0.200\n",
      "Average Recall     (AR) @[ IoU=0.50:0.95 | area=   all | maxDets=300 ] = 0.200\n",
      "Average Recall     (AR) @[ IoU=0.50:0.95 | area=   all | maxDets=1000 ] = 0.200\n",
      "Average Recall     (AR) @[ IoU=0.50:0.95 | area= small | maxDets=1000 ] = 0.021\n",
      "Average Recall     (AR) @[ IoU=0.50:0.95 | area=medium | maxDets=1000 ] = 0.159\n",
      "Average Recall     (AR) @[ IoU=0.50:0.95 | area= large | maxDets=1000 ] = 0.419\n"
     ]
    },
    {
     "name": "stderr",
     "output_type": "stream",
     "text": [
      "2021-05-15 20:57:53,526 - mmdet - INFO - Epoch [24][50/655]\tlr: 1.000e-06, eta: 2:19:15, time: 0.795, data_time: 0.050, memory: 5380, loss_rpn_cls: 0.0649, loss_rpn_bbox: 0.0556, loss_cls: 0.3112, acc: 90.3994, loss_bbox: 0.3908, loss: 0.8226, grad_norm: 10.6167\n",
      "2021-05-15 20:58:31,303 - mmdet - INFO - Epoch [24][100/655]\tlr: 1.000e-06, eta: 2:18:37, time: 0.756, data_time: 0.006, memory: 5380, loss_rpn_cls: 0.0646, loss_rpn_bbox: 0.0543, loss_cls: 0.2887, acc: 90.9268, loss_bbox: 0.3673, loss: 0.7749, grad_norm: 10.5359\n",
      "2021-05-15 20:59:09,106 - mmdet - INFO - Epoch [24][150/655]\tlr: 1.000e-06, eta: 2:18:00, time: 0.756, data_time: 0.006, memory: 5380, loss_rpn_cls: 0.0865, loss_rpn_bbox: 0.0770, loss_cls: 0.3436, acc: 88.9131, loss_bbox: 0.4541, loss: 0.9612, grad_norm: 11.0104\n",
      "2021-05-15 20:59:46,511 - mmdet - INFO - Epoch [24][200/655]\tlr: 1.000e-06, eta: 2:17:22, time: 0.748, data_time: 0.006, memory: 5380, loss_rpn_cls: 0.0638, loss_rpn_bbox: 0.0537, loss_cls: 0.2994, acc: 90.6943, loss_bbox: 0.3714, loss: 0.7882, grad_norm: 10.5642\n",
      "2021-05-15 21:00:23,969 - mmdet - INFO - Epoch [24][250/655]\tlr: 1.000e-06, eta: 2:16:44, time: 0.749, data_time: 0.006, memory: 5380, loss_rpn_cls: 0.0616, loss_rpn_bbox: 0.0632, loss_cls: 0.2960, acc: 90.5059, loss_bbox: 0.3838, loss: 0.8045, grad_norm: 10.0458\n",
      "2021-05-15 21:01:01,718 - mmdet - INFO - Epoch [24][300/655]\tlr: 1.000e-06, eta: 2:16:06, time: 0.755, data_time: 0.006, memory: 5380, loss_rpn_cls: 0.0721, loss_rpn_bbox: 0.0655, loss_cls: 0.3434, acc: 89.2695, loss_bbox: 0.4216, loss: 0.9026, grad_norm: 10.6869\n",
      "2021-05-15 21:01:39,357 - mmdet - INFO - Epoch [24][350/655]\tlr: 1.000e-06, eta: 2:15:29, time: 0.753, data_time: 0.006, memory: 5380, loss_rpn_cls: 0.0741, loss_rpn_bbox: 0.0624, loss_cls: 0.3227, acc: 90.0811, loss_bbox: 0.4031, loss: 0.8623, grad_norm: 10.4168\n",
      "2021-05-15 21:02:16,774 - mmdet - INFO - Epoch [24][400/655]\tlr: 1.000e-06, eta: 2:14:51, time: 0.748, data_time: 0.006, memory: 5380, loss_rpn_cls: 0.0619, loss_rpn_bbox: 0.0565, loss_cls: 0.2934, acc: 90.6133, loss_bbox: 0.3879, loss: 0.7997, grad_norm: 10.3545\n",
      "2021-05-15 21:02:54,184 - mmdet - INFO - Epoch [24][450/655]\tlr: 1.000e-06, eta: 2:14:13, time: 0.748, data_time: 0.006, memory: 5380, loss_rpn_cls: 0.0702, loss_rpn_bbox: 0.0570, loss_cls: 0.3068, acc: 90.3818, loss_bbox: 0.3944, loss: 0.8284, grad_norm: 10.5345\n",
      "2021-05-15 21:03:31,544 - mmdet - INFO - Epoch [24][500/655]\tlr: 1.000e-06, eta: 2:13:35, time: 0.747, data_time: 0.006, memory: 5380, loss_rpn_cls: 0.0586, loss_rpn_bbox: 0.0594, loss_cls: 0.2975, acc: 90.7891, loss_bbox: 0.3781, loss: 0.7936, grad_norm: 10.1071\n",
      "2021-05-15 21:04:09,184 - mmdet - INFO - Epoch [24][550/655]\tlr: 1.000e-06, eta: 2:12:57, time: 0.753, data_time: 0.006, memory: 5380, loss_rpn_cls: 0.0797, loss_rpn_bbox: 0.0733, loss_cls: 0.3480, acc: 88.7842, loss_bbox: 0.4566, loss: 0.9575, grad_norm: 10.7823\n",
      "2021-05-15 21:04:46,705 - mmdet - INFO - Epoch [24][600/655]\tlr: 1.000e-06, eta: 2:12:19, time: 0.750, data_time: 0.006, memory: 5380, loss_rpn_cls: 0.0746, loss_rpn_bbox: 0.0733, loss_cls: 0.3279, acc: 89.8711, loss_bbox: 0.4122, loss: 0.8880, grad_norm: 10.3365\n",
      "2021-05-15 21:05:24,016 - mmdet - INFO - Epoch [24][650/655]\tlr: 1.000e-06, eta: 2:11:41, time: 0.746, data_time: 0.006, memory: 5380, loss_rpn_cls: 0.0654, loss_rpn_bbox: 0.0621, loss_cls: 0.2899, acc: 90.6729, loss_bbox: 0.3791, loss: 0.7964, grad_norm: 10.0419\n",
      "2021-05-15 21:05:27,821 - mmdet - INFO - Saving checkpoint at 24 epochs\n"
     ]
    },
    {
     "name": "stdout",
     "output_type": "stream",
     "text": [
      "[>>>>>>>>>>>>>>>>>>>>>>>>>>>>>] 655/655, 10.3 task/s, elapsed: 64s, ETA:     0s"
     ]
    },
    {
     "name": "stderr",
     "output_type": "stream",
     "text": [
      "2021-05-15 21:06:34,018 - mmdet - INFO - Evaluating bbox...\n"
     ]
    },
    {
     "name": "stdout",
     "output_type": "stream",
     "text": [
      "Loading and preparing results...\n",
      "DONE (t=0.52s)\n",
      "creating index...\n",
      "index created!\n",
      "Running per image evaluation...\n",
      "Evaluate annotation type *bbox*\n",
      "DONE (t=6.55s).\n",
      "Accumulating evaluation results...\n"
     ]
    },
    {
     "name": "stderr",
     "output_type": "stream",
     "text": [
      "2021-05-15 21:06:42,051 - mmdet - INFO - Epoch(val) [24][655]\tbbox_mAP: 0.0990, bbox_mAP_50: 0.2150, bbox_mAP_75: 0.0780, bbox_mAP_s: 0.0060, bbox_mAP_m: 0.0720, bbox_mAP_l: 0.2260, bbox_mAP_copypaste: 0.099 0.215 0.078 0.006 0.072 0.226\n"
     ]
    },
    {
     "name": "stdout",
     "output_type": "stream",
     "text": [
      "DONE (t=0.89s).\n",
      "Average Precision  (AP) @[ IoU=0.50:0.95 | area=   all | maxDets=100 ] = 0.099\n",
      "Average Precision  (AP) @[ IoU=0.50      | area=   all | maxDets=1000 ] = 0.215\n",
      "Average Precision  (AP) @[ IoU=0.75      | area=   all | maxDets=1000 ] = 0.078\n",
      "Average Precision  (AP) @[ IoU=0.50:0.95 | area= small | maxDets=1000 ] = 0.006\n",
      "Average Precision  (AP) @[ IoU=0.50:0.95 | area=medium | maxDets=1000 ] = 0.072\n",
      "Average Precision  (AP) @[ IoU=0.50:0.95 | area= large | maxDets=1000 ] = 0.226\n",
      "Average Recall     (AR) @[ IoU=0.50:0.95 | area=   all | maxDets=100 ] = 0.202\n",
      "Average Recall     (AR) @[ IoU=0.50:0.95 | area=   all | maxDets=300 ] = 0.202\n",
      "Average Recall     (AR) @[ IoU=0.50:0.95 | area=   all | maxDets=1000 ] = 0.202\n",
      "Average Recall     (AR) @[ IoU=0.50:0.95 | area= small | maxDets=1000 ] = 0.020\n",
      "Average Recall     (AR) @[ IoU=0.50:0.95 | area=medium | maxDets=1000 ] = 0.162\n",
      "Average Recall     (AR) @[ IoU=0.50:0.95 | area= large | maxDets=1000 ] = 0.418\n"
     ]
    },
    {
     "name": "stderr",
     "output_type": "stream",
     "text": [
      "2021-05-15 21:07:22,171 - mmdet - INFO - Epoch [25][50/655]\tlr: 1.000e-06, eta: 2:10:59, time: 0.802, data_time: 0.050, memory: 5380, loss_rpn_cls: 0.0707, loss_rpn_bbox: 0.0655, loss_cls: 0.3166, acc: 90.0625, loss_bbox: 0.4108, loss: 0.8637, grad_norm: 10.7801\n",
      "2021-05-15 21:07:59,753 - mmdet - INFO - Epoch [25][100/655]\tlr: 1.000e-06, eta: 2:10:21, time: 0.752, data_time: 0.006, memory: 5380, loss_rpn_cls: 0.0620, loss_rpn_bbox: 0.0554, loss_cls: 0.2840, acc: 91.0459, loss_bbox: 0.3630, loss: 0.7644, grad_norm: 10.2480\n",
      "2021-05-15 21:08:37,387 - mmdet - INFO - Epoch [25][150/655]\tlr: 1.000e-06, eta: 2:09:44, time: 0.753, data_time: 0.006, memory: 5380, loss_rpn_cls: 0.0755, loss_rpn_bbox: 0.0708, loss_cls: 0.3221, acc: 89.8408, loss_bbox: 0.4184, loss: 0.8869, grad_norm: 10.3606\n",
      "2021-05-15 21:09:14,965 - mmdet - INFO - Epoch [25][200/655]\tlr: 1.000e-06, eta: 2:09:06, time: 0.752, data_time: 0.006, memory: 5380, loss_rpn_cls: 0.0629, loss_rpn_bbox: 0.0596, loss_cls: 0.2995, acc: 90.3428, loss_bbox: 0.3885, loss: 0.8106, grad_norm: 9.9086\n",
      "2021-05-15 21:09:52,617 - mmdet - INFO - Epoch [25][250/655]\tlr: 1.000e-06, eta: 2:08:28, time: 0.753, data_time: 0.006, memory: 5380, loss_rpn_cls: 0.0712, loss_rpn_bbox: 0.0592, loss_cls: 0.3188, acc: 89.8750, loss_bbox: 0.4146, loss: 0.8638, grad_norm: 10.7861\n",
      "2021-05-15 21:10:30,455 - mmdet - INFO - Epoch [25][300/655]\tlr: 1.000e-06, eta: 2:07:51, time: 0.757, data_time: 0.006, memory: 5380, loss_rpn_cls: 0.0689, loss_rpn_bbox: 0.0671, loss_cls: 0.3142, acc: 89.9941, loss_bbox: 0.4045, loss: 0.8547, grad_norm: 10.3834\n",
      "2021-05-15 21:11:08,062 - mmdet - INFO - Epoch [25][350/655]\tlr: 1.000e-06, eta: 2:07:13, time: 0.752, data_time: 0.006, memory: 5380, loss_rpn_cls: 0.0692, loss_rpn_bbox: 0.0617, loss_cls: 0.3122, acc: 89.9443, loss_bbox: 0.3923, loss: 0.8354, grad_norm: 10.3063\n",
      "2021-05-15 21:11:45,455 - mmdet - INFO - Epoch [25][400/655]\tlr: 1.000e-06, eta: 2:06:35, time: 0.748, data_time: 0.006, memory: 5380, loss_rpn_cls: 0.0705, loss_rpn_bbox: 0.0652, loss_cls: 0.3211, acc: 90.1250, loss_bbox: 0.4051, loss: 0.8618, grad_norm: 10.4295\n",
      "2021-05-15 21:12:23,045 - mmdet - INFO - Epoch [25][450/655]\tlr: 1.000e-06, eta: 2:05:57, time: 0.752, data_time: 0.006, memory: 5380, loss_rpn_cls: 0.0680, loss_rpn_bbox: 0.0640, loss_cls: 0.3111, acc: 90.2139, loss_bbox: 0.3983, loss: 0.8414, grad_norm: 10.3026\n",
      "2021-05-15 21:13:00,572 - mmdet - INFO - Epoch [25][500/655]\tlr: 1.000e-06, eta: 2:05:20, time: 0.751, data_time: 0.006, memory: 5380, loss_rpn_cls: 0.0732, loss_rpn_bbox: 0.0644, loss_cls: 0.3261, acc: 89.7412, loss_bbox: 0.4101, loss: 0.8739, grad_norm: 10.2826\n",
      "2021-05-15 21:13:38,062 - mmdet - INFO - Epoch [25][550/655]\tlr: 1.000e-06, eta: 2:04:42, time: 0.750, data_time: 0.006, memory: 5380, loss_rpn_cls: 0.0752, loss_rpn_bbox: 0.0683, loss_cls: 0.3343, acc: 89.6465, loss_bbox: 0.4149, loss: 0.8928, grad_norm: 10.7008\n",
      "2021-05-15 21:14:15,622 - mmdet - INFO - Epoch [25][600/655]\tlr: 1.000e-06, eta: 2:04:04, time: 0.751, data_time: 0.006, memory: 5380, loss_rpn_cls: 0.0609, loss_rpn_bbox: 0.0520, loss_cls: 0.2948, acc: 90.6826, loss_bbox: 0.3801, loss: 0.7877, grad_norm: 9.9983\n",
      "2021-05-15 21:14:53,206 - mmdet - INFO - Epoch [25][650/655]\tlr: 1.000e-06, eta: 2:03:26, time: 0.752, data_time: 0.006, memory: 5380, loss_rpn_cls: 0.0666, loss_rpn_bbox: 0.0639, loss_cls: 0.3217, acc: 89.8662, loss_bbox: 0.4087, loss: 0.8609, grad_norm: 10.9414\n",
      "2021-05-15 21:14:57,048 - mmdet - INFO - Saving checkpoint at 25 epochs\n"
     ]
    },
    {
     "name": "stdout",
     "output_type": "stream",
     "text": [
      "[>>>>>>>>>>>>>>>>>>>>>>>>>>>>>] 655/655, 10.3 task/s, elapsed: 64s, ETA:     0s"
     ]
    },
    {
     "name": "stderr",
     "output_type": "stream",
     "text": [
      "2021-05-15 21:16:03,720 - mmdet - INFO - Evaluating bbox...\n"
     ]
    },
    {
     "name": "stdout",
     "output_type": "stream",
     "text": [
      "Loading and preparing results...\n",
      "DONE (t=0.52s)\n",
      "creating index...\n",
      "index created!\n",
      "Running per image evaluation...\n",
      "Evaluate annotation type *bbox*\n",
      "DONE (t=6.92s).\n",
      "Accumulating evaluation results...\n"
     ]
    },
    {
     "name": "stderr",
     "output_type": "stream",
     "text": [
      "2021-05-15 21:16:12,146 - mmdet - INFO - Epoch(val) [25][655]\tbbox_mAP: 0.0990, bbox_mAP_50: 0.2120, bbox_mAP_75: 0.0780, bbox_mAP_s: 0.0060, bbox_mAP_m: 0.0720, bbox_mAP_l: 0.2250, bbox_mAP_copypaste: 0.099 0.212 0.078 0.006 0.072 0.225\n"
     ]
    },
    {
     "name": "stdout",
     "output_type": "stream",
     "text": [
      "DONE (t=0.91s).\n",
      "Average Precision  (AP) @[ IoU=0.50:0.95 | area=   all | maxDets=100 ] = 0.099\n",
      "Average Precision  (AP) @[ IoU=0.50      | area=   all | maxDets=1000 ] = 0.212\n",
      "Average Precision  (AP) @[ IoU=0.75      | area=   all | maxDets=1000 ] = 0.078\n",
      "Average Precision  (AP) @[ IoU=0.50:0.95 | area= small | maxDets=1000 ] = 0.006\n",
      "Average Precision  (AP) @[ IoU=0.50:0.95 | area=medium | maxDets=1000 ] = 0.072\n",
      "Average Precision  (AP) @[ IoU=0.50:0.95 | area= large | maxDets=1000 ] = 0.225\n",
      "Average Recall     (AR) @[ IoU=0.50:0.95 | area=   all | maxDets=100 ] = 0.202\n",
      "Average Recall     (AR) @[ IoU=0.50:0.95 | area=   all | maxDets=300 ] = 0.202\n",
      "Average Recall     (AR) @[ IoU=0.50:0.95 | area=   all | maxDets=1000 ] = 0.202\n",
      "Average Recall     (AR) @[ IoU=0.50:0.95 | area= small | maxDets=1000 ] = 0.020\n",
      "Average Recall     (AR) @[ IoU=0.50:0.95 | area=medium | maxDets=1000 ] = 0.164\n",
      "Average Recall     (AR) @[ IoU=0.50:0.95 | area= large | maxDets=1000 ] = 0.418\n"
     ]
    },
    {
     "name": "stderr",
     "output_type": "stream",
     "text": [
      "2021-05-15 21:16:51,931 - mmdet - INFO - Epoch [26][50/655]\tlr: 1.000e-06, eta: 2:02:44, time: 0.795, data_time: 0.050, memory: 5380, loss_rpn_cls: 0.0787, loss_rpn_bbox: 0.0617, loss_cls: 0.3163, acc: 90.1523, loss_bbox: 0.3935, loss: 0.8502, grad_norm: 10.6186\n",
      "2021-05-15 21:17:29,975 - mmdet - INFO - Epoch [26][100/655]\tlr: 1.000e-06, eta: 2:02:06, time: 0.761, data_time: 0.006, memory: 5380, loss_rpn_cls: 0.0585, loss_rpn_bbox: 0.0514, loss_cls: 0.2792, acc: 90.9043, loss_bbox: 0.3669, loss: 0.7561, grad_norm: 9.9264\n",
      "2021-05-15 21:18:07,689 - mmdet - INFO - Epoch [26][150/655]\tlr: 1.000e-06, eta: 2:01:29, time: 0.754, data_time: 0.006, memory: 5380, loss_rpn_cls: 0.0621, loss_rpn_bbox: 0.0628, loss_cls: 0.3034, acc: 90.2031, loss_bbox: 0.3917, loss: 0.8200, grad_norm: 9.9959\n",
      "2021-05-15 21:18:45,235 - mmdet - INFO - Epoch [26][200/655]\tlr: 1.000e-06, eta: 2:00:51, time: 0.751, data_time: 0.006, memory: 5380, loss_rpn_cls: 0.0655, loss_rpn_bbox: 0.0589, loss_cls: 0.2965, acc: 90.7568, loss_bbox: 0.3814, loss: 0.8022, grad_norm: 10.5166\n",
      "2021-05-15 21:19:22,775 - mmdet - INFO - Epoch [26][250/655]\tlr: 1.000e-06, eta: 2:00:13, time: 0.751, data_time: 0.006, memory: 5380, loss_rpn_cls: 0.0731, loss_rpn_bbox: 0.0645, loss_cls: 0.3181, acc: 90.1963, loss_bbox: 0.3958, loss: 0.8515, grad_norm: 10.5040\n",
      "2021-05-15 21:20:00,250 - mmdet - INFO - Epoch [26][300/655]\tlr: 1.000e-06, eta: 1:59:35, time: 0.749, data_time: 0.006, memory: 5380, loss_rpn_cls: 0.0676, loss_rpn_bbox: 0.0630, loss_cls: 0.2915, acc: 90.9404, loss_bbox: 0.3726, loss: 0.7947, grad_norm: 10.3557\n",
      "2021-05-15 21:20:37,724 - mmdet - INFO - Epoch [26][350/655]\tlr: 1.000e-06, eta: 1:58:58, time: 0.749, data_time: 0.006, memory: 5380, loss_rpn_cls: 0.0591, loss_rpn_bbox: 0.0553, loss_cls: 0.2787, acc: 91.1533, loss_bbox: 0.3595, loss: 0.7526, grad_norm: 10.3013\n",
      "2021-05-15 21:21:15,425 - mmdet - INFO - Epoch [26][400/655]\tlr: 1.000e-06, eta: 1:58:20, time: 0.754, data_time: 0.006, memory: 5380, loss_rpn_cls: 0.0733, loss_rpn_bbox: 0.0667, loss_cls: 0.3473, acc: 89.1680, loss_bbox: 0.4435, loss: 0.9308, grad_norm: 10.9225\n",
      "2021-05-15 21:21:53,087 - mmdet - INFO - Epoch [26][450/655]\tlr: 1.000e-06, eta: 1:57:42, time: 0.753, data_time: 0.006, memory: 5380, loss_rpn_cls: 0.0737, loss_rpn_bbox: 0.0665, loss_cls: 0.3376, acc: 89.4941, loss_bbox: 0.4282, loss: 0.9060, grad_norm: 10.8268\n",
      "2021-05-15 21:22:30,553 - mmdet - INFO - Epoch [26][500/655]\tlr: 1.000e-06, eta: 1:57:05, time: 0.749, data_time: 0.006, memory: 5380, loss_rpn_cls: 0.0717, loss_rpn_bbox: 0.0693, loss_cls: 0.3462, acc: 89.1924, loss_bbox: 0.4324, loss: 0.9195, grad_norm: 10.4567\n",
      "2021-05-15 21:23:07,957 - mmdet - INFO - Epoch [26][550/655]\tlr: 1.000e-06, eta: 1:56:27, time: 0.748, data_time: 0.006, memory: 5380, loss_rpn_cls: 0.0767, loss_rpn_bbox: 0.0690, loss_cls: 0.3259, acc: 89.7773, loss_bbox: 0.4103, loss: 0.8819, grad_norm: 10.7761\n",
      "2021-05-15 21:23:45,327 - mmdet - INFO - Epoch [26][600/655]\tlr: 1.000e-06, eta: 1:55:49, time: 0.747, data_time: 0.006, memory: 5380, loss_rpn_cls: 0.0720, loss_rpn_bbox: 0.0653, loss_cls: 0.3169, acc: 90.0527, loss_bbox: 0.4048, loss: 0.8591, grad_norm: 10.4116\n",
      "2021-05-15 21:24:22,714 - mmdet - INFO - Epoch [26][650/655]\tlr: 1.000e-06, eta: 1:55:11, time: 0.748, data_time: 0.006, memory: 5380, loss_rpn_cls: 0.0731, loss_rpn_bbox: 0.0594, loss_cls: 0.3243, acc: 89.5195, loss_bbox: 0.4253, loss: 0.8822, grad_norm: 10.7116\n",
      "2021-05-15 21:24:26,489 - mmdet - INFO - Saving checkpoint at 26 epochs\n"
     ]
    },
    {
     "name": "stdout",
     "output_type": "stream",
     "text": [
      "[>>>>>>>>>>>>>>>>>>>>>>>>>>>>>] 655/655, 10.3 task/s, elapsed: 64s, ETA:     0s"
     ]
    },
    {
     "name": "stderr",
     "output_type": "stream",
     "text": [
      "2021-05-15 21:25:32,291 - mmdet - INFO - Evaluating bbox...\n"
     ]
    },
    {
     "name": "stdout",
     "output_type": "stream",
     "text": [
      "Loading and preparing results...\n",
      "DONE (t=0.90s)\n",
      "creating index...\n",
      "index created!\n",
      "Running per image evaluation...\n",
      "Evaluate annotation type *bbox*\n",
      "DONE (t=6.55s).\n",
      "Accumulating evaluation results...\n"
     ]
    },
    {
     "name": "stderr",
     "output_type": "stream",
     "text": [
      "2021-05-15 21:25:40,730 - mmdet - INFO - Epoch(val) [26][655]\tbbox_mAP: 0.0990, bbox_mAP_50: 0.2120, bbox_mAP_75: 0.0780, bbox_mAP_s: 0.0060, bbox_mAP_m: 0.0700, bbox_mAP_l: 0.2260, bbox_mAP_copypaste: 0.099 0.212 0.078 0.006 0.070 0.226\n"
     ]
    },
    {
     "name": "stdout",
     "output_type": "stream",
     "text": [
      "DONE (t=0.91s).\n",
      "Average Precision  (AP) @[ IoU=0.50:0.95 | area=   all | maxDets=100 ] = 0.099\n",
      "Average Precision  (AP) @[ IoU=0.50      | area=   all | maxDets=1000 ] = 0.212\n",
      "Average Precision  (AP) @[ IoU=0.75      | area=   all | maxDets=1000 ] = 0.078\n",
      "Average Precision  (AP) @[ IoU=0.50:0.95 | area= small | maxDets=1000 ] = 0.006\n",
      "Average Precision  (AP) @[ IoU=0.50:0.95 | area=medium | maxDets=1000 ] = 0.070\n",
      "Average Precision  (AP) @[ IoU=0.50:0.95 | area= large | maxDets=1000 ] = 0.226\n",
      "Average Recall     (AR) @[ IoU=0.50:0.95 | area=   all | maxDets=100 ] = 0.205\n",
      "Average Recall     (AR) @[ IoU=0.50:0.95 | area=   all | maxDets=300 ] = 0.205\n",
      "Average Recall     (AR) @[ IoU=0.50:0.95 | area=   all | maxDets=1000 ] = 0.205\n",
      "Average Recall     (AR) @[ IoU=0.50:0.95 | area= small | maxDets=1000 ] = 0.020\n",
      "Average Recall     (AR) @[ IoU=0.50:0.95 | area=medium | maxDets=1000 ] = 0.164\n",
      "Average Recall     (AR) @[ IoU=0.50:0.95 | area= large | maxDets=1000 ] = 0.424\n"
     ]
    },
    {
     "name": "stderr",
     "output_type": "stream",
     "text": [
      "2021-05-15 21:26:20,451 - mmdet - INFO - Epoch [27][50/655]\tlr: 1.000e-06, eta: 1:54:29, time: 0.794, data_time: 0.050, memory: 5380, loss_rpn_cls: 0.0694, loss_rpn_bbox: 0.0580, loss_cls: 0.2938, acc: 90.9141, loss_bbox: 0.3634, loss: 0.7846, grad_norm: 10.6947\n",
      "2021-05-15 21:26:58,062 - mmdet - INFO - Epoch [27][100/655]\tlr: 1.000e-06, eta: 1:53:51, time: 0.752, data_time: 0.006, memory: 5380, loss_rpn_cls: 0.0654, loss_rpn_bbox: 0.0577, loss_cls: 0.3097, acc: 90.1826, loss_bbox: 0.3904, loss: 0.8232, grad_norm: 10.6744\n",
      "2021-05-15 21:27:35,811 - mmdet - INFO - Epoch [27][150/655]\tlr: 1.000e-06, eta: 1:53:13, time: 0.755, data_time: 0.006, memory: 5380, loss_rpn_cls: 0.0653, loss_rpn_bbox: 0.0640, loss_cls: 0.3442, acc: 89.3154, loss_bbox: 0.4218, loss: 0.8954, grad_norm: 10.7278\n",
      "2021-05-15 21:28:13,165 - mmdet - INFO - Epoch [27][200/655]\tlr: 1.000e-06, eta: 1:52:36, time: 0.747, data_time: 0.006, memory: 5380, loss_rpn_cls: 0.0618, loss_rpn_bbox: 0.0547, loss_cls: 0.2895, acc: 91.0840, loss_bbox: 0.3610, loss: 0.7671, grad_norm: 10.4385\n",
      "2021-05-15 21:28:50,505 - mmdet - INFO - Epoch [27][250/655]\tlr: 1.000e-06, eta: 1:51:58, time: 0.747, data_time: 0.006, memory: 5380, loss_rpn_cls: 0.0664, loss_rpn_bbox: 0.0611, loss_cls: 0.3024, acc: 90.5576, loss_bbox: 0.3791, loss: 0.8090, grad_norm: 10.4107\n",
      "2021-05-15 21:29:28,045 - mmdet - INFO - Epoch [27][300/655]\tlr: 1.000e-06, eta: 1:51:20, time: 0.751, data_time: 0.006, memory: 5380, loss_rpn_cls: 0.0719, loss_rpn_bbox: 0.0639, loss_cls: 0.3083, acc: 90.1553, loss_bbox: 0.4112, loss: 0.8554, grad_norm: 10.3165\n",
      "2021-05-15 21:30:05,601 - mmdet - INFO - Epoch [27][350/655]\tlr: 1.000e-06, eta: 1:50:42, time: 0.751, data_time: 0.006, memory: 5380, loss_rpn_cls: 0.0627, loss_rpn_bbox: 0.0582, loss_cls: 0.2840, acc: 90.7441, loss_bbox: 0.3739, loss: 0.7788, grad_norm: 10.1577\n",
      "2021-05-15 21:30:43,294 - mmdet - INFO - Epoch [27][400/655]\tlr: 1.000e-06, eta: 1:50:05, time: 0.754, data_time: 0.006, memory: 5380, loss_rpn_cls: 0.0795, loss_rpn_bbox: 0.0651, loss_cls: 0.3093, acc: 90.0312, loss_bbox: 0.4084, loss: 0.8622, grad_norm: 10.3295\n",
      "2021-05-15 21:31:20,833 - mmdet - INFO - Epoch [27][450/655]\tlr: 1.000e-06, eta: 1:49:27, time: 0.751, data_time: 0.006, memory: 5380, loss_rpn_cls: 0.0733, loss_rpn_bbox: 0.0659, loss_cls: 0.3097, acc: 90.0293, loss_bbox: 0.3944, loss: 0.8433, grad_norm: 10.3909\n",
      "2021-05-15 21:31:58,468 - mmdet - INFO - Epoch [27][500/655]\tlr: 1.000e-06, eta: 1:48:49, time: 0.753, data_time: 0.006, memory: 5380, loss_rpn_cls: 0.0641, loss_rpn_bbox: 0.0605, loss_cls: 0.3150, acc: 89.9238, loss_bbox: 0.4063, loss: 0.8460, grad_norm: 10.3861\n",
      "2021-05-15 21:32:36,121 - mmdet - INFO - Epoch [27][550/655]\tlr: 1.000e-06, eta: 1:48:12, time: 0.753, data_time: 0.006, memory: 5380, loss_rpn_cls: 0.0750, loss_rpn_bbox: 0.0772, loss_cls: 0.3323, acc: 89.4453, loss_bbox: 0.4288, loss: 0.9133, grad_norm: 10.9676\n",
      "2021-05-15 21:33:13,689 - mmdet - INFO - Epoch [27][600/655]\tlr: 1.000e-06, eta: 1:47:34, time: 0.751, data_time: 0.006, memory: 5380, loss_rpn_cls: 0.0750, loss_rpn_bbox: 0.0689, loss_cls: 0.3412, acc: 89.3330, loss_bbox: 0.4341, loss: 0.9192, grad_norm: 10.4988\n",
      "2021-05-15 21:33:51,157 - mmdet - INFO - Epoch [27][650/655]\tlr: 1.000e-06, eta: 1:46:56, time: 0.749, data_time: 0.006, memory: 5380, loss_rpn_cls: 0.0734, loss_rpn_bbox: 0.0624, loss_cls: 0.3341, acc: 89.5820, loss_bbox: 0.4314, loss: 0.9013, grad_norm: 10.7169\n",
      "2021-05-15 21:33:54,961 - mmdet - INFO - Saving checkpoint at 27 epochs\n"
     ]
    },
    {
     "name": "stdout",
     "output_type": "stream",
     "text": [
      "[>>>>>>>>>>>>>>>>>>>>>>>>>>>>>] 655/655, 10.3 task/s, elapsed: 63s, ETA:     0s"
     ]
    },
    {
     "name": "stderr",
     "output_type": "stream",
     "text": [
      "2021-05-15 21:35:01,057 - mmdet - INFO - Evaluating bbox...\n"
     ]
    },
    {
     "name": "stdout",
     "output_type": "stream",
     "text": [
      "Loading and preparing results...\n",
      "DONE (t=0.55s)\n",
      "creating index...\n",
      "index created!\n",
      "Running per image evaluation...\n",
      "Evaluate annotation type *bbox*\n",
      "DONE (t=7.30s).\n",
      "Accumulating evaluation results...\n"
     ]
    },
    {
     "name": "stderr",
     "output_type": "stream",
     "text": [
      "2021-05-15 21:35:09,882 - mmdet - INFO - Epoch(val) [27][655]\tbbox_mAP: 0.0990, bbox_mAP_50: 0.2130, bbox_mAP_75: 0.0790, bbox_mAP_s: 0.0060, bbox_mAP_m: 0.0720, bbox_mAP_l: 0.2250, bbox_mAP_copypaste: 0.099 0.213 0.079 0.006 0.072 0.225\n"
     ]
    },
    {
     "name": "stdout",
     "output_type": "stream",
     "text": [
      "DONE (t=0.90s).\n",
      "Average Precision  (AP) @[ IoU=0.50:0.95 | area=   all | maxDets=100 ] = 0.099\n",
      "Average Precision  (AP) @[ IoU=0.50      | area=   all | maxDets=1000 ] = 0.213\n",
      "Average Precision  (AP) @[ IoU=0.75      | area=   all | maxDets=1000 ] = 0.079\n",
      "Average Precision  (AP) @[ IoU=0.50:0.95 | area= small | maxDets=1000 ] = 0.006\n",
      "Average Precision  (AP) @[ IoU=0.50:0.95 | area=medium | maxDets=1000 ] = 0.072\n",
      "Average Precision  (AP) @[ IoU=0.50:0.95 | area= large | maxDets=1000 ] = 0.225\n",
      "Average Recall     (AR) @[ IoU=0.50:0.95 | area=   all | maxDets=100 ] = 0.202\n",
      "Average Recall     (AR) @[ IoU=0.50:0.95 | area=   all | maxDets=300 ] = 0.202\n",
      "Average Recall     (AR) @[ IoU=0.50:0.95 | area=   all | maxDets=1000 ] = 0.202\n",
      "Average Recall     (AR) @[ IoU=0.50:0.95 | area= small | maxDets=1000 ] = 0.020\n",
      "Average Recall     (AR) @[ IoU=0.50:0.95 | area=medium | maxDets=1000 ] = 0.164\n",
      "Average Recall     (AR) @[ IoU=0.50:0.95 | area= large | maxDets=1000 ] = 0.416\n"
     ]
    },
    {
     "name": "stderr",
     "output_type": "stream",
     "text": [
      "2021-05-15 21:35:49,715 - mmdet - INFO - Epoch [28][50/655]\tlr: 1.000e-06, eta: 1:46:14, time: 0.796, data_time: 0.050, memory: 5380, loss_rpn_cls: 0.0697, loss_rpn_bbox: 0.0676, loss_cls: 0.3112, acc: 90.2617, loss_bbox: 0.4025, loss: 0.8510, grad_norm: 10.6105\n",
      "2021-05-15 21:36:27,338 - mmdet - INFO - Epoch [28][100/655]\tlr: 1.000e-06, eta: 1:45:36, time: 0.752, data_time: 0.006, memory: 5380, loss_rpn_cls: 0.0580, loss_rpn_bbox: 0.0532, loss_cls: 0.2839, acc: 90.9238, loss_bbox: 0.3644, loss: 0.7594, grad_norm: 9.7608\n",
      "2021-05-15 21:37:04,949 - mmdet - INFO - Epoch [28][150/655]\tlr: 1.000e-06, eta: 1:44:59, time: 0.752, data_time: 0.006, memory: 5380, loss_rpn_cls: 0.0730, loss_rpn_bbox: 0.0651, loss_cls: 0.3264, acc: 89.5859, loss_bbox: 0.4138, loss: 0.8782, grad_norm: 10.8666\n",
      "2021-05-15 21:37:42,659 - mmdet - INFO - Epoch [28][200/655]\tlr: 1.000e-06, eta: 1:44:21, time: 0.754, data_time: 0.006, memory: 5380, loss_rpn_cls: 0.0746, loss_rpn_bbox: 0.0657, loss_cls: 0.3212, acc: 89.9658, loss_bbox: 0.3989, loss: 0.8605, grad_norm: 10.4220\n",
      "2021-05-15 21:38:20,138 - mmdet - INFO - Epoch [28][250/655]\tlr: 1.000e-06, eta: 1:43:43, time: 0.750, data_time: 0.006, memory: 5380, loss_rpn_cls: 0.0747, loss_rpn_bbox: 0.0658, loss_cls: 0.3215, acc: 89.7988, loss_bbox: 0.4231, loss: 0.8851, grad_norm: 10.2350\n",
      "2021-05-15 21:38:57,530 - mmdet - INFO - Epoch [28][300/655]\tlr: 1.000e-06, eta: 1:43:06, time: 0.748, data_time: 0.006, memory: 5380, loss_rpn_cls: 0.0702, loss_rpn_bbox: 0.0634, loss_cls: 0.3311, acc: 89.7031, loss_bbox: 0.4149, loss: 0.8797, grad_norm: 10.6815\n",
      "2021-05-15 21:39:34,956 - mmdet - INFO - Epoch [28][350/655]\tlr: 1.000e-06, eta: 1:42:28, time: 0.749, data_time: 0.006, memory: 5380, loss_rpn_cls: 0.0675, loss_rpn_bbox: 0.0604, loss_cls: 0.3183, acc: 90.0479, loss_bbox: 0.3956, loss: 0.8418, grad_norm: 10.9363\n",
      "2021-05-15 21:40:12,564 - mmdet - INFO - Epoch [28][400/655]\tlr: 1.000e-06, eta: 1:41:50, time: 0.752, data_time: 0.006, memory: 5380, loss_rpn_cls: 0.0650, loss_rpn_bbox: 0.0632, loss_cls: 0.3247, acc: 89.6260, loss_bbox: 0.4147, loss: 0.8676, grad_norm: 11.0862\n",
      "2021-05-15 21:40:50,057 - mmdet - INFO - Epoch [28][450/655]\tlr: 1.000e-06, eta: 1:41:12, time: 0.750, data_time: 0.006, memory: 5380, loss_rpn_cls: 0.0689, loss_rpn_bbox: 0.0604, loss_cls: 0.3011, acc: 90.5293, loss_bbox: 0.3985, loss: 0.8289, grad_norm: 10.4915\n",
      "2021-05-15 21:41:27,894 - mmdet - INFO - Epoch [28][500/655]\tlr: 1.000e-06, eta: 1:40:35, time: 0.757, data_time: 0.006, memory: 5380, loss_rpn_cls: 0.0621, loss_rpn_bbox: 0.0563, loss_cls: 0.2905, acc: 90.8418, loss_bbox: 0.3630, loss: 0.7719, grad_norm: 10.5771\n",
      "2021-05-15 21:42:06,023 - mmdet - INFO - Epoch [28][550/655]\tlr: 1.000e-06, eta: 1:39:57, time: 0.763, data_time: 0.006, memory: 5380, loss_rpn_cls: 0.0814, loss_rpn_bbox: 0.0692, loss_cls: 0.3433, acc: 89.3350, loss_bbox: 0.4307, loss: 0.9246, grad_norm: 10.5517\n",
      "2021-05-15 21:42:43,713 - mmdet - INFO - Epoch [28][600/655]\tlr: 1.000e-06, eta: 1:39:20, time: 0.754, data_time: 0.006, memory: 5380, loss_rpn_cls: 0.0728, loss_rpn_bbox: 0.0673, loss_cls: 0.3216, acc: 89.6807, loss_bbox: 0.4115, loss: 0.8732, grad_norm: 10.6139\n",
      "2021-05-15 21:43:21,183 - mmdet - INFO - Epoch [28][650/655]\tlr: 1.000e-06, eta: 1:38:42, time: 0.749, data_time: 0.006, memory: 5380, loss_rpn_cls: 0.0613, loss_rpn_bbox: 0.0548, loss_cls: 0.2809, acc: 91.1426, loss_bbox: 0.3651, loss: 0.7621, grad_norm: 10.3557\n",
      "2021-05-15 21:43:24,984 - mmdet - INFO - Saving checkpoint at 28 epochs\n"
     ]
    },
    {
     "name": "stdout",
     "output_type": "stream",
     "text": [
      "[>>>>>>>>>>>>>>>>>>>>>>>>>>>>>] 655/655, 10.3 task/s, elapsed: 63s, ETA:     0s"
     ]
    },
    {
     "name": "stderr",
     "output_type": "stream",
     "text": [
      "2021-05-15 21:44:30,812 - mmdet - INFO - Evaluating bbox...\n"
     ]
    },
    {
     "name": "stdout",
     "output_type": "stream",
     "text": [
      "Loading and preparing results...\n",
      "DONE (t=0.52s)\n",
      "creating index...\n",
      "index created!\n",
      "Running per image evaluation...\n",
      "Evaluate annotation type *bbox*\n",
      "DONE (t=6.97s).\n",
      "Accumulating evaluation results...\n"
     ]
    },
    {
     "name": "stderr",
     "output_type": "stream",
     "text": [
      "2021-05-15 21:44:39,344 - mmdet - INFO - Epoch(val) [28][655]\tbbox_mAP: 0.0990, bbox_mAP_50: 0.2130, bbox_mAP_75: 0.0790, bbox_mAP_s: 0.0060, bbox_mAP_m: 0.0700, bbox_mAP_l: 0.2260, bbox_mAP_copypaste: 0.099 0.213 0.079 0.006 0.070 0.226\n"
     ]
    },
    {
     "name": "stdout",
     "output_type": "stream",
     "text": [
      "DONE (t=0.96s).\n",
      "Average Precision  (AP) @[ IoU=0.50:0.95 | area=   all | maxDets=100 ] = 0.099\n",
      "Average Precision  (AP) @[ IoU=0.50      | area=   all | maxDets=1000 ] = 0.213\n",
      "Average Precision  (AP) @[ IoU=0.75      | area=   all | maxDets=1000 ] = 0.079\n",
      "Average Precision  (AP) @[ IoU=0.50:0.95 | area= small | maxDets=1000 ] = 0.006\n",
      "Average Precision  (AP) @[ IoU=0.50:0.95 | area=medium | maxDets=1000 ] = 0.070\n",
      "Average Precision  (AP) @[ IoU=0.50:0.95 | area= large | maxDets=1000 ] = 0.226\n",
      "Average Recall     (AR) @[ IoU=0.50:0.95 | area=   all | maxDets=100 ] = 0.200\n",
      "Average Recall     (AR) @[ IoU=0.50:0.95 | area=   all | maxDets=300 ] = 0.200\n",
      "Average Recall     (AR) @[ IoU=0.50:0.95 | area=   all | maxDets=1000 ] = 0.200\n",
      "Average Recall     (AR) @[ IoU=0.50:0.95 | area= small | maxDets=1000 ] = 0.019\n",
      "Average Recall     (AR) @[ IoU=0.50:0.95 | area=medium | maxDets=1000 ] = 0.161\n",
      "Average Recall     (AR) @[ IoU=0.50:0.95 | area= large | maxDets=1000 ] = 0.418\n"
     ]
    },
    {
     "name": "stderr",
     "output_type": "stream",
     "text": [
      "2021-05-15 21:45:19,392 - mmdet - INFO - Epoch [29][50/655]\tlr: 1.000e-06, eta: 1:38:00, time: 0.801, data_time: 0.052, memory: 5380, loss_rpn_cls: 0.0603, loss_rpn_bbox: 0.0553, loss_cls: 0.2920, acc: 90.6719, loss_bbox: 0.3797, loss: 0.7873, grad_norm: 10.7912\n",
      "2021-05-15 21:45:57,145 - mmdet - INFO - Epoch [29][100/655]\tlr: 1.000e-06, eta: 1:37:22, time: 0.755, data_time: 0.006, memory: 5380, loss_rpn_cls: 0.0734, loss_rpn_bbox: 0.0664, loss_cls: 0.3279, acc: 89.5586, loss_bbox: 0.4135, loss: 0.8813, grad_norm: 10.7194\n",
      "2021-05-15 21:46:34,620 - mmdet - INFO - Epoch [29][150/655]\tlr: 1.000e-06, eta: 1:36:45, time: 0.750, data_time: 0.006, memory: 5380, loss_rpn_cls: 0.0678, loss_rpn_bbox: 0.0572, loss_cls: 0.3062, acc: 90.2109, loss_bbox: 0.3982, loss: 0.8295, grad_norm: 10.2672\n",
      "2021-05-15 21:47:12,329 - mmdet - INFO - Epoch [29][200/655]\tlr: 1.000e-06, eta: 1:36:07, time: 0.754, data_time: 0.006, memory: 5380, loss_rpn_cls: 0.0713, loss_rpn_bbox: 0.0649, loss_cls: 0.3155, acc: 89.9668, loss_bbox: 0.4088, loss: 0.8605, grad_norm: 10.2461\n",
      "2021-05-15 21:47:49,868 - mmdet - INFO - Epoch [29][250/655]\tlr: 1.000e-06, eta: 1:35:29, time: 0.751, data_time: 0.006, memory: 5380, loss_rpn_cls: 0.0721, loss_rpn_bbox: 0.0645, loss_cls: 0.3152, acc: 89.9355, loss_bbox: 0.4021, loss: 0.8539, grad_norm: 10.7169\n",
      "2021-05-15 21:48:27,584 - mmdet - INFO - Epoch [29][300/655]\tlr: 1.000e-06, eta: 1:34:52, time: 0.754, data_time: 0.006, memory: 5380, loss_rpn_cls: 0.0733, loss_rpn_bbox: 0.0715, loss_cls: 0.3301, acc: 89.2568, loss_bbox: 0.4418, loss: 0.9167, grad_norm: 10.8070\n",
      "2021-05-15 21:49:05,084 - mmdet - INFO - Epoch [29][350/655]\tlr: 1.000e-06, eta: 1:34:14, time: 0.750, data_time: 0.006, memory: 5380, loss_rpn_cls: 0.0678, loss_rpn_bbox: 0.0633, loss_cls: 0.3239, acc: 90.0195, loss_bbox: 0.4021, loss: 0.8571, grad_norm: 10.5776\n",
      "2021-05-15 21:49:42,449 - mmdet - INFO - Epoch [29][400/655]\tlr: 1.000e-06, eta: 1:33:36, time: 0.747, data_time: 0.006, memory: 5380, loss_rpn_cls: 0.0613, loss_rpn_bbox: 0.0555, loss_cls: 0.2827, acc: 91.1719, loss_bbox: 0.3612, loss: 0.7607, grad_norm: 10.1206\n",
      "2021-05-15 21:50:19,908 - mmdet - INFO - Epoch [29][450/655]\tlr: 1.000e-06, eta: 1:32:59, time: 0.749, data_time: 0.006, memory: 5380, loss_rpn_cls: 0.0709, loss_rpn_bbox: 0.0619, loss_cls: 0.3139, acc: 90.0615, loss_bbox: 0.4007, loss: 0.8475, grad_norm: 9.9754\n",
      "2021-05-15 21:50:57,548 - mmdet - INFO - Epoch [29][500/655]\tlr: 1.000e-06, eta: 1:32:21, time: 0.753, data_time: 0.006, memory: 5380, loss_rpn_cls: 0.0751, loss_rpn_bbox: 0.0684, loss_cls: 0.3417, acc: 89.2441, loss_bbox: 0.4384, loss: 0.9236, grad_norm: 11.0959\n",
      "2021-05-15 21:51:35,187 - mmdet - INFO - Epoch [29][550/655]\tlr: 1.000e-06, eta: 1:31:43, time: 0.753, data_time: 0.006, memory: 5380, loss_rpn_cls: 0.0683, loss_rpn_bbox: 0.0632, loss_cls: 0.2970, acc: 90.7031, loss_bbox: 0.3781, loss: 0.8066, grad_norm: 10.1918\n",
      "2021-05-15 21:52:12,715 - mmdet - INFO - Epoch [29][600/655]\tlr: 1.000e-06, eta: 1:31:06, time: 0.751, data_time: 0.006, memory: 5380, loss_rpn_cls: 0.0674, loss_rpn_bbox: 0.0575, loss_cls: 0.3023, acc: 90.6230, loss_bbox: 0.3836, loss: 0.8108, grad_norm: 10.4830\n",
      "2021-05-15 21:52:50,218 - mmdet - INFO - Epoch [29][650/655]\tlr: 1.000e-06, eta: 1:30:28, time: 0.750, data_time: 0.006, memory: 5380, loss_rpn_cls: 0.0764, loss_rpn_bbox: 0.0658, loss_cls: 0.3130, acc: 90.2217, loss_bbox: 0.3900, loss: 0.8452, grad_norm: 10.8907\n",
      "2021-05-15 21:52:54,047 - mmdet - INFO - Saving checkpoint at 29 epochs\n"
     ]
    },
    {
     "name": "stdout",
     "output_type": "stream",
     "text": [
      "[>>>>>>>>>>>>>>>>>>>>>>>>>>>>>] 655/655, 10.3 task/s, elapsed: 64s, ETA:     0s"
     ]
    },
    {
     "name": "stderr",
     "output_type": "stream",
     "text": [
      "2021-05-15 21:54:00,267 - mmdet - INFO - Evaluating bbox...\n"
     ]
    },
    {
     "name": "stdout",
     "output_type": "stream",
     "text": [
      "Loading and preparing results...\n",
      "DONE (t=0.53s)\n",
      "creating index...\n",
      "index created!\n",
      "Running per image evaluation...\n",
      "Evaluate annotation type *bbox*\n",
      "DONE (t=7.11s).\n",
      "Accumulating evaluation results...\n"
     ]
    },
    {
     "name": "stderr",
     "output_type": "stream",
     "text": [
      "2021-05-15 21:54:08,898 - mmdet - INFO - Epoch(val) [29][655]\tbbox_mAP: 0.0990, bbox_mAP_50: 0.2140, bbox_mAP_75: 0.0780, bbox_mAP_s: 0.0060, bbox_mAP_m: 0.0710, bbox_mAP_l: 0.2250, bbox_mAP_copypaste: 0.099 0.214 0.078 0.006 0.071 0.225\n"
     ]
    },
    {
     "name": "stdout",
     "output_type": "stream",
     "text": [
      "DONE (t=0.91s).\n",
      "Average Precision  (AP) @[ IoU=0.50:0.95 | area=   all | maxDets=100 ] = 0.099\n",
      "Average Precision  (AP) @[ IoU=0.50      | area=   all | maxDets=1000 ] = 0.214\n",
      "Average Precision  (AP) @[ IoU=0.75      | area=   all | maxDets=1000 ] = 0.078\n",
      "Average Precision  (AP) @[ IoU=0.50:0.95 | area= small | maxDets=1000 ] = 0.006\n",
      "Average Precision  (AP) @[ IoU=0.50:0.95 | area=medium | maxDets=1000 ] = 0.071\n",
      "Average Precision  (AP) @[ IoU=0.50:0.95 | area= large | maxDets=1000 ] = 0.225\n",
      "Average Recall     (AR) @[ IoU=0.50:0.95 | area=   all | maxDets=100 ] = 0.201\n",
      "Average Recall     (AR) @[ IoU=0.50:0.95 | area=   all | maxDets=300 ] = 0.201\n",
      "Average Recall     (AR) @[ IoU=0.50:0.95 | area=   all | maxDets=1000 ] = 0.201\n",
      "Average Recall     (AR) @[ IoU=0.50:0.95 | area= small | maxDets=1000 ] = 0.020\n",
      "Average Recall     (AR) @[ IoU=0.50:0.95 | area=medium | maxDets=1000 ] = 0.161\n",
      "Average Recall     (AR) @[ IoU=0.50:0.95 | area= large | maxDets=1000 ] = 0.418\n"
     ]
    },
    {
     "name": "stderr",
     "output_type": "stream",
     "text": [
      "2021-05-15 21:54:48,714 - mmdet - INFO - Epoch [30][50/655]\tlr: 1.000e-06, eta: 1:29:46, time: 0.796, data_time: 0.050, memory: 5380, loss_rpn_cls: 0.0738, loss_rpn_bbox: 0.0684, loss_cls: 0.3240, acc: 89.7461, loss_bbox: 0.4154, loss: 0.8816, grad_norm: 10.2132\n",
      "2021-05-15 21:55:26,200 - mmdet - INFO - Epoch [30][100/655]\tlr: 1.000e-06, eta: 1:29:08, time: 0.750, data_time: 0.006, memory: 5380, loss_rpn_cls: 0.0734, loss_rpn_bbox: 0.0661, loss_cls: 0.3240, acc: 89.8730, loss_bbox: 0.4176, loss: 0.8811, grad_norm: 10.2144\n",
      "2021-05-15 21:56:03,621 - mmdet - INFO - Epoch [30][150/655]\tlr: 1.000e-06, eta: 1:28:31, time: 0.748, data_time: 0.006, memory: 5380, loss_rpn_cls: 0.0680, loss_rpn_bbox: 0.0635, loss_cls: 0.3016, acc: 90.4570, loss_bbox: 0.3935, loss: 0.8266, grad_norm: 10.4245\n",
      "2021-05-15 21:56:41,015 - mmdet - INFO - Epoch [30][200/655]\tlr: 1.000e-06, eta: 1:27:53, time: 0.748, data_time: 0.006, memory: 5380, loss_rpn_cls: 0.0704, loss_rpn_bbox: 0.0685, loss_cls: 0.3284, acc: 89.7783, loss_bbox: 0.4037, loss: 0.8710, grad_norm: 10.6939\n",
      "2021-05-15 21:57:18,511 - mmdet - INFO - Epoch [30][250/655]\tlr: 1.000e-06, eta: 1:27:15, time: 0.750, data_time: 0.006, memory: 5380, loss_rpn_cls: 0.0732, loss_rpn_bbox: 0.0686, loss_cls: 0.3299, acc: 89.8184, loss_bbox: 0.4118, loss: 0.8835, grad_norm: 10.6870\n",
      "2021-05-15 21:57:55,929 - mmdet - INFO - Epoch [30][300/655]\tlr: 1.000e-06, eta: 1:26:37, time: 0.748, data_time: 0.006, memory: 5380, loss_rpn_cls: 0.0657, loss_rpn_bbox: 0.0604, loss_cls: 0.3139, acc: 89.9307, loss_bbox: 0.4108, loss: 0.8508, grad_norm: 10.3885\n",
      "2021-05-15 21:58:33,356 - mmdet - INFO - Epoch [30][350/655]\tlr: 1.000e-06, eta: 1:26:00, time: 0.749, data_time: 0.006, memory: 5380, loss_rpn_cls: 0.0706, loss_rpn_bbox: 0.0615, loss_cls: 0.3211, acc: 89.8975, loss_bbox: 0.4088, loss: 0.8620, grad_norm: 10.5198\n",
      "2021-05-15 21:59:11,031 - mmdet - INFO - Epoch [30][400/655]\tlr: 1.000e-06, eta: 1:25:22, time: 0.754, data_time: 0.006, memory: 5380, loss_rpn_cls: 0.0665, loss_rpn_bbox: 0.0599, loss_cls: 0.3160, acc: 90.1982, loss_bbox: 0.3973, loss: 0.8398, grad_norm: 10.6984\n",
      "2021-05-15 21:59:48,709 - mmdet - INFO - Epoch [30][450/655]\tlr: 1.000e-06, eta: 1:24:44, time: 0.754, data_time: 0.006, memory: 5380, loss_rpn_cls: 0.0676, loss_rpn_bbox: 0.0549, loss_cls: 0.3026, acc: 90.3496, loss_bbox: 0.3921, loss: 0.8173, grad_norm: 10.2720\n",
      "2021-05-15 22:00:26,237 - mmdet - INFO - Epoch [30][500/655]\tlr: 1.000e-06, eta: 1:24:07, time: 0.751, data_time: 0.006, memory: 5380, loss_rpn_cls: 0.0604, loss_rpn_bbox: 0.0540, loss_cls: 0.2703, acc: 91.2500, loss_bbox: 0.3569, loss: 0.7416, grad_norm: 10.1349\n",
      "2021-05-15 22:01:03,928 - mmdet - INFO - Epoch [30][550/655]\tlr: 1.000e-06, eta: 1:23:29, time: 0.754, data_time: 0.006, memory: 5380, loss_rpn_cls: 0.0758, loss_rpn_bbox: 0.0682, loss_cls: 0.3181, acc: 89.9717, loss_bbox: 0.3995, loss: 0.8617, grad_norm: 10.8168\n",
      "2021-05-15 22:01:41,596 - mmdet - INFO - Epoch [30][600/655]\tlr: 1.000e-06, eta: 1:22:52, time: 0.753, data_time: 0.006, memory: 5380, loss_rpn_cls: 0.0659, loss_rpn_bbox: 0.0593, loss_cls: 0.3013, acc: 90.6641, loss_bbox: 0.3912, loss: 0.8177, grad_norm: 10.2608\n",
      "2021-05-15 22:02:19,372 - mmdet - INFO - Epoch [30][650/655]\tlr: 1.000e-06, eta: 1:22:14, time: 0.756, data_time: 0.006, memory: 5380, loss_rpn_cls: 0.0688, loss_rpn_bbox: 0.0627, loss_cls: 0.3132, acc: 89.9785, loss_bbox: 0.4032, loss: 0.8478, grad_norm: 10.4375\n",
      "2021-05-15 22:02:23,194 - mmdet - INFO - Saving checkpoint at 30 epochs\n"
     ]
    },
    {
     "name": "stdout",
     "output_type": "stream",
     "text": [
      "[>>>>>>>>>>>>>>>>>>>>>>>>>>>>>] 655/655, 10.2 task/s, elapsed: 64s, ETA:     0s"
     ]
    },
    {
     "name": "stderr",
     "output_type": "stream",
     "text": [
      "2021-05-15 22:03:29,828 - mmdet - INFO - Evaluating bbox...\n"
     ]
    },
    {
     "name": "stdout",
     "output_type": "stream",
     "text": [
      "Loading and preparing results...\n",
      "DONE (t=0.53s)\n",
      "creating index...\n",
      "index created!\n",
      "Running per image evaluation...\n",
      "Evaluate annotation type *bbox*\n",
      "DONE (t=6.59s).\n",
      "Accumulating evaluation results...\n"
     ]
    },
    {
     "name": "stderr",
     "output_type": "stream",
     "text": [
      "2021-05-15 22:03:37,937 - mmdet - INFO - Epoch(val) [30][655]\tbbox_mAP: 0.0990, bbox_mAP_50: 0.2150, bbox_mAP_75: 0.0790, bbox_mAP_s: 0.0060, bbox_mAP_m: 0.0730, bbox_mAP_l: 0.2240, bbox_mAP_copypaste: 0.099 0.215 0.079 0.006 0.073 0.224\n"
     ]
    },
    {
     "name": "stdout",
     "output_type": "stream",
     "text": [
      "DONE (t=0.91s).\n",
      "Average Precision  (AP) @[ IoU=0.50:0.95 | area=   all | maxDets=100 ] = 0.099\n",
      "Average Precision  (AP) @[ IoU=0.50      | area=   all | maxDets=1000 ] = 0.215\n",
      "Average Precision  (AP) @[ IoU=0.75      | area=   all | maxDets=1000 ] = 0.079\n",
      "Average Precision  (AP) @[ IoU=0.50:0.95 | area= small | maxDets=1000 ] = 0.006\n",
      "Average Precision  (AP) @[ IoU=0.50:0.95 | area=medium | maxDets=1000 ] = 0.073\n",
      "Average Precision  (AP) @[ IoU=0.50:0.95 | area= large | maxDets=1000 ] = 0.224\n",
      "Average Recall     (AR) @[ IoU=0.50:0.95 | area=   all | maxDets=100 ] = 0.203\n",
      "Average Recall     (AR) @[ IoU=0.50:0.95 | area=   all | maxDets=300 ] = 0.203\n",
      "Average Recall     (AR) @[ IoU=0.50:0.95 | area=   all | maxDets=1000 ] = 0.203\n",
      "Average Recall     (AR) @[ IoU=0.50:0.95 | area= small | maxDets=1000 ] = 0.019\n",
      "Average Recall     (AR) @[ IoU=0.50:0.95 | area=medium | maxDets=1000 ] = 0.165\n",
      "Average Recall     (AR) @[ IoU=0.50:0.95 | area= large | maxDets=1000 ] = 0.416\n"
     ]
    },
    {
     "name": "stderr",
     "output_type": "stream",
     "text": [
      "2021-05-15 22:04:17,788 - mmdet - INFO - Epoch [31][50/655]\tlr: 1.000e-06, eta: 1:21:32, time: 0.797, data_time: 0.050, memory: 5380, loss_rpn_cls: 0.0711, loss_rpn_bbox: 0.0656, loss_cls: 0.3098, acc: 90.2715, loss_bbox: 0.3927, loss: 0.8392, grad_norm: 10.7028\n",
      "2021-05-15 22:04:55,576 - mmdet - INFO - Epoch [31][100/655]\tlr: 1.000e-06, eta: 1:20:54, time: 0.756, data_time: 0.006, memory: 5380, loss_rpn_cls: 0.0725, loss_rpn_bbox: 0.0677, loss_cls: 0.3280, acc: 89.6309, loss_bbox: 0.4138, loss: 0.8820, grad_norm: 10.4309\n",
      "2021-05-15 22:05:33,313 - mmdet - INFO - Epoch [31][150/655]\tlr: 1.000e-06, eta: 1:20:17, time: 0.755, data_time: 0.006, memory: 5380, loss_rpn_cls: 0.0641, loss_rpn_bbox: 0.0564, loss_cls: 0.3096, acc: 90.2949, loss_bbox: 0.3911, loss: 0.8213, grad_norm: 10.4816\n",
      "2021-05-15 22:06:11,026 - mmdet - INFO - Epoch [31][200/655]\tlr: 1.000e-06, eta: 1:19:39, time: 0.754, data_time: 0.006, memory: 5380, loss_rpn_cls: 0.0722, loss_rpn_bbox: 0.0619, loss_cls: 0.3299, acc: 89.6650, loss_bbox: 0.4141, loss: 0.8782, grad_norm: 10.8188\n",
      "2021-05-15 22:06:48,680 - mmdet - INFO - Epoch [31][250/655]\tlr: 1.000e-06, eta: 1:19:02, time: 0.753, data_time: 0.006, memory: 5380, loss_rpn_cls: 0.0726, loss_rpn_bbox: 0.0698, loss_cls: 0.3136, acc: 89.8848, loss_bbox: 0.4061, loss: 0.8621, grad_norm: 10.5757\n",
      "2021-05-15 22:07:26,286 - mmdet - INFO - Epoch [31][300/655]\tlr: 1.000e-06, eta: 1:18:24, time: 0.752, data_time: 0.006, memory: 5380, loss_rpn_cls: 0.0718, loss_rpn_bbox: 0.0614, loss_cls: 0.3135, acc: 90.0967, loss_bbox: 0.3945, loss: 0.8412, grad_norm: 10.4916\n",
      "2021-05-15 22:08:04,055 - mmdet - INFO - Epoch [31][350/655]\tlr: 1.000e-06, eta: 1:17:46, time: 0.755, data_time: 0.006, memory: 5380, loss_rpn_cls: 0.0619, loss_rpn_bbox: 0.0625, loss_cls: 0.3125, acc: 90.1025, loss_bbox: 0.4040, loss: 0.8409, grad_norm: 10.8715\n",
      "2021-05-15 22:08:41,619 - mmdet - INFO - Epoch [31][400/655]\tlr: 1.000e-06, eta: 1:17:09, time: 0.751, data_time: 0.006, memory: 5380, loss_rpn_cls: 0.0644, loss_rpn_bbox: 0.0545, loss_cls: 0.2943, acc: 90.6895, loss_bbox: 0.3881, loss: 0.8014, grad_norm: 10.4838\n",
      "2021-05-15 22:09:19,232 - mmdet - INFO - Epoch [31][450/655]\tlr: 1.000e-06, eta: 1:16:31, time: 0.752, data_time: 0.006, memory: 5380, loss_rpn_cls: 0.0690, loss_rpn_bbox: 0.0637, loss_cls: 0.2996, acc: 90.5049, loss_bbox: 0.3867, loss: 0.8189, grad_norm: 10.0554\n",
      "2021-05-15 22:09:56,785 - mmdet - INFO - Epoch [31][500/655]\tlr: 1.000e-06, eta: 1:15:53, time: 0.751, data_time: 0.006, memory: 5380, loss_rpn_cls: 0.0639, loss_rpn_bbox: 0.0589, loss_cls: 0.2992, acc: 90.4102, loss_bbox: 0.3912, loss: 0.8132, grad_norm: 10.4675\n",
      "2021-05-15 22:10:34,470 - mmdet - INFO - Epoch [31][550/655]\tlr: 1.000e-06, eta: 1:15:16, time: 0.754, data_time: 0.006, memory: 5380, loss_rpn_cls: 0.0733, loss_rpn_bbox: 0.0640, loss_cls: 0.3451, acc: 89.3750, loss_bbox: 0.4263, loss: 0.9087, grad_norm: 10.8678\n",
      "2021-05-15 22:11:12,121 - mmdet - INFO - Epoch [31][600/655]\tlr: 1.000e-06, eta: 1:14:38, time: 0.753, data_time: 0.006, memory: 5380, loss_rpn_cls: 0.0731, loss_rpn_bbox: 0.0663, loss_cls: 0.3101, acc: 90.0850, loss_bbox: 0.4172, loss: 0.8667, grad_norm: 10.1482\n",
      "2021-05-15 22:11:49,548 - mmdet - INFO - Epoch [31][650/655]\tlr: 1.000e-06, eta: 1:14:00, time: 0.749, data_time: 0.006, memory: 5380, loss_rpn_cls: 0.0658, loss_rpn_bbox: 0.0580, loss_cls: 0.2997, acc: 90.6533, loss_bbox: 0.3744, loss: 0.7979, grad_norm: 10.5985\n",
      "2021-05-15 22:11:53,372 - mmdet - INFO - Saving checkpoint at 31 epochs\n"
     ]
    },
    {
     "name": "stdout",
     "output_type": "stream",
     "text": [
      "[>>>>>>>>>>>>>>>>>>>>>>>>>>>>>] 655/655, 10.2 task/s, elapsed: 64s, ETA:     0s"
     ]
    },
    {
     "name": "stderr",
     "output_type": "stream",
     "text": [
      "2021-05-15 22:13:00,141 - mmdet - INFO - Evaluating bbox...\n"
     ]
    },
    {
     "name": "stdout",
     "output_type": "stream",
     "text": [
      "Loading and preparing results...\n",
      "DONE (t=0.51s)\n",
      "creating index...\n",
      "index created!\n",
      "Running per image evaluation...\n",
      "Evaluate annotation type *bbox*\n",
      "DONE (t=6.92s).\n",
      "Accumulating evaluation results...\n"
     ]
    },
    {
     "name": "stderr",
     "output_type": "stream",
     "text": [
      "2021-05-15 22:13:08,595 - mmdet - INFO - Epoch(val) [31][655]\tbbox_mAP: 0.1000, bbox_mAP_50: 0.2160, bbox_mAP_75: 0.0790, bbox_mAP_s: 0.0060, bbox_mAP_m: 0.0720, bbox_mAP_l: 0.2260, bbox_mAP_copypaste: 0.100 0.216 0.079 0.006 0.072 0.226\n"
     ]
    },
    {
     "name": "stdout",
     "output_type": "stream",
     "text": [
      "DONE (t=0.94s).\n",
      "Average Precision  (AP) @[ IoU=0.50:0.95 | area=   all | maxDets=100 ] = 0.100\n",
      "Average Precision  (AP) @[ IoU=0.50      | area=   all | maxDets=1000 ] = 0.216\n",
      "Average Precision  (AP) @[ IoU=0.75      | area=   all | maxDets=1000 ] = 0.079\n",
      "Average Precision  (AP) @[ IoU=0.50:0.95 | area= small | maxDets=1000 ] = 0.006\n",
      "Average Precision  (AP) @[ IoU=0.50:0.95 | area=medium | maxDets=1000 ] = 0.072\n",
      "Average Precision  (AP) @[ IoU=0.50:0.95 | area= large | maxDets=1000 ] = 0.226\n",
      "Average Recall     (AR) @[ IoU=0.50:0.95 | area=   all | maxDets=100 ] = 0.203\n",
      "Average Recall     (AR) @[ IoU=0.50:0.95 | area=   all | maxDets=300 ] = 0.203\n",
      "Average Recall     (AR) @[ IoU=0.50:0.95 | area=   all | maxDets=1000 ] = 0.203\n",
      "Average Recall     (AR) @[ IoU=0.50:0.95 | area= small | maxDets=1000 ] = 0.021\n",
      "Average Recall     (AR) @[ IoU=0.50:0.95 | area=medium | maxDets=1000 ] = 0.163\n",
      "Average Recall     (AR) @[ IoU=0.50:0.95 | area= large | maxDets=1000 ] = 0.417\n"
     ]
    },
    {
     "name": "stderr",
     "output_type": "stream",
     "text": [
      "2021-05-15 22:13:48,555 - mmdet - INFO - Epoch [32][50/655]\tlr: 1.000e-06, eta: 1:13:19, time: 0.799, data_time: 0.050, memory: 5380, loss_rpn_cls: 0.0584, loss_rpn_bbox: 0.0581, loss_cls: 0.3046, acc: 90.3721, loss_bbox: 0.3839, loss: 0.8050, grad_norm: 10.4248\n",
      "2021-05-15 22:14:26,376 - mmdet - INFO - Epoch [32][100/655]\tlr: 1.000e-06, eta: 1:12:41, time: 0.756, data_time: 0.006, memory: 5380, loss_rpn_cls: 0.0690, loss_rpn_bbox: 0.0629, loss_cls: 0.3222, acc: 90.0449, loss_bbox: 0.3989, loss: 0.8531, grad_norm: 10.4408\n",
      "2021-05-15 22:15:04,064 - mmdet - INFO - Epoch [32][150/655]\tlr: 1.000e-06, eta: 1:12:03, time: 0.754, data_time: 0.006, memory: 5380, loss_rpn_cls: 0.0776, loss_rpn_bbox: 0.0633, loss_cls: 0.3254, acc: 89.5674, loss_bbox: 0.4172, loss: 0.8835, grad_norm: 10.4192\n",
      "2021-05-15 22:15:41,591 - mmdet - INFO - Epoch [32][200/655]\tlr: 1.000e-06, eta: 1:11:26, time: 0.751, data_time: 0.006, memory: 5380, loss_rpn_cls: 0.0607, loss_rpn_bbox: 0.0564, loss_cls: 0.2796, acc: 91.1670, loss_bbox: 0.3512, loss: 0.7478, grad_norm: 10.1120\n",
      "2021-05-15 22:16:19,366 - mmdet - INFO - Epoch [32][250/655]\tlr: 1.000e-06, eta: 1:10:48, time: 0.755, data_time: 0.006, memory: 5380, loss_rpn_cls: 0.0629, loss_rpn_bbox: 0.0592, loss_cls: 0.3016, acc: 90.3730, loss_bbox: 0.3990, loss: 0.8227, grad_norm: 10.6761\n",
      "2021-05-15 22:16:57,113 - mmdet - INFO - Epoch [32][300/655]\tlr: 1.000e-06, eta: 1:10:11, time: 0.755, data_time: 0.006, memory: 5380, loss_rpn_cls: 0.0724, loss_rpn_bbox: 0.0671, loss_cls: 0.3253, acc: 89.9092, loss_bbox: 0.4087, loss: 0.8736, grad_norm: 10.8676\n",
      "2021-05-15 22:17:34,754 - mmdet - INFO - Epoch [32][350/655]\tlr: 1.000e-06, eta: 1:09:33, time: 0.753, data_time: 0.006, memory: 5380, loss_rpn_cls: 0.0745, loss_rpn_bbox: 0.0716, loss_cls: 0.3234, acc: 89.7500, loss_bbox: 0.4065, loss: 0.8759, grad_norm: 10.8748\n",
      "2021-05-15 22:18:12,376 - mmdet - INFO - Epoch [32][400/655]\tlr: 1.000e-06, eta: 1:08:55, time: 0.752, data_time: 0.006, memory: 5380, loss_rpn_cls: 0.0659, loss_rpn_bbox: 0.0560, loss_cls: 0.2967, acc: 90.7930, loss_bbox: 0.3806, loss: 0.7992, grad_norm: 10.7295\n",
      "2021-05-15 22:18:49,972 - mmdet - INFO - Epoch [32][450/655]\tlr: 1.000e-06, eta: 1:08:18, time: 0.752, data_time: 0.006, memory: 5380, loss_rpn_cls: 0.0761, loss_rpn_bbox: 0.0707, loss_cls: 0.3326, acc: 89.6445, loss_bbox: 0.4245, loss: 0.9040, grad_norm: 10.8269\n",
      "2021-05-15 22:19:27,585 - mmdet - INFO - Epoch [32][500/655]\tlr: 1.000e-06, eta: 1:07:40, time: 0.752, data_time: 0.006, memory: 5380, loss_rpn_cls: 0.0735, loss_rpn_bbox: 0.0641, loss_cls: 0.3160, acc: 90.1221, loss_bbox: 0.4003, loss: 0.8539, grad_norm: 10.5266\n",
      "2021-05-15 22:20:05,737 - mmdet - INFO - Epoch [32][550/655]\tlr: 1.000e-06, eta: 1:07:03, time: 0.763, data_time: 0.006, memory: 5380, loss_rpn_cls: 0.0740, loss_rpn_bbox: 0.0647, loss_cls: 0.3199, acc: 89.8057, loss_bbox: 0.4228, loss: 0.8813, grad_norm: 10.0457\n",
      "2021-05-15 22:20:44,366 - mmdet - INFO - Epoch [32][600/655]\tlr: 1.000e-06, eta: 1:06:25, time: 0.773, data_time: 0.006, memory: 5380, loss_rpn_cls: 0.0704, loss_rpn_bbox: 0.0617, loss_cls: 0.3114, acc: 89.9775, loss_bbox: 0.3966, loss: 0.8400, grad_norm: 10.8702\n",
      "2021-05-15 22:21:21,962 - mmdet - INFO - Epoch [32][650/655]\tlr: 1.000e-06, eta: 1:05:47, time: 0.752, data_time: 0.006, memory: 5380, loss_rpn_cls: 0.0652, loss_rpn_bbox: 0.0586, loss_cls: 0.3117, acc: 90.1328, loss_bbox: 0.4077, loss: 0.8432, grad_norm: 10.5097\n",
      "2021-05-15 22:21:25,778 - mmdet - INFO - Saving checkpoint at 32 epochs\n"
     ]
    },
    {
     "name": "stdout",
     "output_type": "stream",
     "text": [
      "[>>>>>>>>>>>>>>>>>>>>>>>>>>>>>] 655/655, 10.3 task/s, elapsed: 63s, ETA:     0s"
     ]
    },
    {
     "name": "stderr",
     "output_type": "stream",
     "text": [
      "2021-05-15 22:22:31,865 - mmdet - INFO - Evaluating bbox...\n"
     ]
    },
    {
     "name": "stdout",
     "output_type": "stream",
     "text": [
      "Loading and preparing results...\n",
      "DONE (t=0.52s)\n",
      "creating index...\n",
      "index created!\n",
      "Running per image evaluation...\n",
      "Evaluate annotation type *bbox*\n",
      "DONE (t=6.54s).\n",
      "Accumulating evaluation results...\n"
     ]
    },
    {
     "name": "stderr",
     "output_type": "stream",
     "text": [
      "2021-05-15 22:22:39,932 - mmdet - INFO - Epoch(val) [32][655]\tbbox_mAP: 0.0990, bbox_mAP_50: 0.2130, bbox_mAP_75: 0.0790, bbox_mAP_s: 0.0060, bbox_mAP_m: 0.0710, bbox_mAP_l: 0.2260, bbox_mAP_copypaste: 0.099 0.213 0.079 0.006 0.071 0.226\n"
     ]
    },
    {
     "name": "stdout",
     "output_type": "stream",
     "text": [
      "DONE (t=0.93s).\n",
      "Average Precision  (AP) @[ IoU=0.50:0.95 | area=   all | maxDets=100 ] = 0.099\n",
      "Average Precision  (AP) @[ IoU=0.50      | area=   all | maxDets=1000 ] = 0.213\n",
      "Average Precision  (AP) @[ IoU=0.75      | area=   all | maxDets=1000 ] = 0.079\n",
      "Average Precision  (AP) @[ IoU=0.50:0.95 | area= small | maxDets=1000 ] = 0.006\n",
      "Average Precision  (AP) @[ IoU=0.50:0.95 | area=medium | maxDets=1000 ] = 0.071\n",
      "Average Precision  (AP) @[ IoU=0.50:0.95 | area= large | maxDets=1000 ] = 0.226\n",
      "Average Recall     (AR) @[ IoU=0.50:0.95 | area=   all | maxDets=100 ] = 0.202\n",
      "Average Recall     (AR) @[ IoU=0.50:0.95 | area=   all | maxDets=300 ] = 0.202\n",
      "Average Recall     (AR) @[ IoU=0.50:0.95 | area=   all | maxDets=1000 ] = 0.202\n",
      "Average Recall     (AR) @[ IoU=0.50:0.95 | area= small | maxDets=1000 ] = 0.020\n",
      "Average Recall     (AR) @[ IoU=0.50:0.95 | area=medium | maxDets=1000 ] = 0.163\n",
      "Average Recall     (AR) @[ IoU=0.50:0.95 | area= large | maxDets=1000 ] = 0.419\n"
     ]
    },
    {
     "name": "stderr",
     "output_type": "stream",
     "text": [
      "2021-05-15 22:23:19,613 - mmdet - INFO - Epoch [33][50/655]\tlr: 1.000e-06, eta: 1:05:06, time: 0.793, data_time: 0.050, memory: 5380, loss_rpn_cls: 0.0711, loss_rpn_bbox: 0.0680, loss_cls: 0.3253, acc: 89.5625, loss_bbox: 0.4259, loss: 0.8903, grad_norm: 10.7387\n",
      "2021-05-15 22:23:57,143 - mmdet - INFO - Epoch [33][100/655]\tlr: 1.000e-06, eta: 1:04:28, time: 0.751, data_time: 0.006, memory: 5380, loss_rpn_cls: 0.0692, loss_rpn_bbox: 0.0648, loss_cls: 0.3114, acc: 89.9121, loss_bbox: 0.4065, loss: 0.8519, grad_norm: 10.1767\n",
      "2021-05-15 22:24:34,656 - mmdet - INFO - Epoch [33][150/655]\tlr: 1.000e-06, eta: 1:03:50, time: 0.750, data_time: 0.006, memory: 5380, loss_rpn_cls: 0.0684, loss_rpn_bbox: 0.0572, loss_cls: 0.2937, acc: 90.9199, loss_bbox: 0.3808, loss: 0.8002, grad_norm: 10.2321\n",
      "2021-05-15 22:25:12,282 - mmdet - INFO - Epoch [33][200/655]\tlr: 1.000e-06, eta: 1:03:13, time: 0.753, data_time: 0.006, memory: 5380, loss_rpn_cls: 0.0712, loss_rpn_bbox: 0.0636, loss_cls: 0.3183, acc: 89.9590, loss_bbox: 0.4014, loss: 0.8546, grad_norm: 10.6922\n",
      "2021-05-15 22:25:49,886 - mmdet - INFO - Epoch [33][250/655]\tlr: 1.000e-06, eta: 1:02:35, time: 0.752, data_time: 0.006, memory: 5380, loss_rpn_cls: 0.0747, loss_rpn_bbox: 0.0702, loss_cls: 0.3371, acc: 89.5078, loss_bbox: 0.4222, loss: 0.9042, grad_norm: 11.0263\n",
      "2021-05-15 22:26:27,892 - mmdet - INFO - Epoch [33][300/655]\tlr: 1.000e-06, eta: 1:01:58, time: 0.760, data_time: 0.006, memory: 5380, loss_rpn_cls: 0.0705, loss_rpn_bbox: 0.0597, loss_cls: 0.3227, acc: 89.9111, loss_bbox: 0.4120, loss: 0.8649, grad_norm: 10.6366\n",
      "2021-05-15 22:27:05,925 - mmdet - INFO - Epoch [33][350/655]\tlr: 1.000e-06, eta: 1:01:20, time: 0.761, data_time: 0.006, memory: 5380, loss_rpn_cls: 0.0576, loss_rpn_bbox: 0.0539, loss_cls: 0.2858, acc: 90.9883, loss_bbox: 0.3656, loss: 0.7629, grad_norm: 10.4234\n",
      "2021-05-15 22:27:43,289 - mmdet - INFO - Epoch [33][400/655]\tlr: 1.000e-06, eta: 1:00:42, time: 0.747, data_time: 0.006, memory: 5380, loss_rpn_cls: 0.0719, loss_rpn_bbox: 0.0606, loss_cls: 0.3005, acc: 90.5215, loss_bbox: 0.3943, loss: 0.8273, grad_norm: 11.1750\n",
      "2021-05-15 22:28:20,764 - mmdet - INFO - Epoch [33][450/655]\tlr: 1.000e-06, eta: 1:00:05, time: 0.750, data_time: 0.006, memory: 5380, loss_rpn_cls: 0.0730, loss_rpn_bbox: 0.0690, loss_cls: 0.3303, acc: 89.4775, loss_bbox: 0.4305, loss: 0.9029, grad_norm: 10.3545\n",
      "2021-05-15 22:28:58,265 - mmdet - INFO - Epoch [33][500/655]\tlr: 1.000e-06, eta: 0:59:27, time: 0.750, data_time: 0.006, memory: 5380, loss_rpn_cls: 0.0682, loss_rpn_bbox: 0.0648, loss_cls: 0.3110, acc: 90.3545, loss_bbox: 0.3865, loss: 0.8306, grad_norm: 10.9321\n",
      "2021-05-15 22:29:35,629 - mmdet - INFO - Epoch [33][550/655]\tlr: 1.000e-06, eta: 0:58:49, time: 0.747, data_time: 0.006, memory: 5380, loss_rpn_cls: 0.0640, loss_rpn_bbox: 0.0535, loss_cls: 0.3038, acc: 90.5088, loss_bbox: 0.3771, loss: 0.7984, grad_norm: 10.3516\n",
      "2021-05-15 22:30:13,328 - mmdet - INFO - Epoch [33][600/655]\tlr: 1.000e-06, eta: 0:58:12, time: 0.754, data_time: 0.006, memory: 5380, loss_rpn_cls: 0.0689, loss_rpn_bbox: 0.0646, loss_cls: 0.3236, acc: 89.6377, loss_bbox: 0.4150, loss: 0.8721, grad_norm: 10.8180\n",
      "2021-05-15 22:30:51,000 - mmdet - INFO - Epoch [33][650/655]\tlr: 1.000e-06, eta: 0:57:34, time: 0.753, data_time: 0.006, memory: 5380, loss_rpn_cls: 0.0712, loss_rpn_bbox: 0.0629, loss_cls: 0.3162, acc: 90.1152, loss_bbox: 0.4026, loss: 0.8528, grad_norm: 10.4910\n",
      "2021-05-15 22:30:54,803 - mmdet - INFO - Saving checkpoint at 33 epochs\n"
     ]
    },
    {
     "name": "stdout",
     "output_type": "stream",
     "text": [
      "[>>>>>>>>>>>>>>>>>>>>>>>>>>>>>] 655/655, 10.3 task/s, elapsed: 63s, ETA:     0s"
     ]
    },
    {
     "name": "stderr",
     "output_type": "stream",
     "text": [
      "2021-05-15 22:32:00,953 - mmdet - INFO - Evaluating bbox...\n"
     ]
    },
    {
     "name": "stdout",
     "output_type": "stream",
     "text": [
      "Loading and preparing results...\n",
      "DONE (t=0.93s)\n",
      "creating index...\n",
      "index created!\n",
      "Running per image evaluation...\n",
      "Evaluate annotation type *bbox*\n",
      "DONE (t=6.62s).\n",
      "Accumulating evaluation results...\n"
     ]
    },
    {
     "name": "stderr",
     "output_type": "stream",
     "text": [
      "2021-05-15 22:32:09,496 - mmdet - INFO - Epoch(val) [33][655]\tbbox_mAP: 0.0990, bbox_mAP_50: 0.2140, bbox_mAP_75: 0.0790, bbox_mAP_s: 0.0060, bbox_mAP_m: 0.0700, bbox_mAP_l: 0.2270, bbox_mAP_copypaste: 0.099 0.214 0.079 0.006 0.070 0.227\n"
     ]
    },
    {
     "name": "stdout",
     "output_type": "stream",
     "text": [
      "DONE (t=0.92s).\n",
      "Average Precision  (AP) @[ IoU=0.50:0.95 | area=   all | maxDets=100 ] = 0.099\n",
      "Average Precision  (AP) @[ IoU=0.50      | area=   all | maxDets=1000 ] = 0.214\n",
      "Average Precision  (AP) @[ IoU=0.75      | area=   all | maxDets=1000 ] = 0.079\n",
      "Average Precision  (AP) @[ IoU=0.50:0.95 | area= small | maxDets=1000 ] = 0.006\n",
      "Average Precision  (AP) @[ IoU=0.50:0.95 | area=medium | maxDets=1000 ] = 0.070\n",
      "Average Precision  (AP) @[ IoU=0.50:0.95 | area= large | maxDets=1000 ] = 0.227\n",
      "Average Recall     (AR) @[ IoU=0.50:0.95 | area=   all | maxDets=100 ] = 0.200\n",
      "Average Recall     (AR) @[ IoU=0.50:0.95 | area=   all | maxDets=300 ] = 0.200\n",
      "Average Recall     (AR) @[ IoU=0.50:0.95 | area=   all | maxDets=1000 ] = 0.200\n",
      "Average Recall     (AR) @[ IoU=0.50:0.95 | area= small | maxDets=1000 ] = 0.021\n",
      "Average Recall     (AR) @[ IoU=0.50:0.95 | area=medium | maxDets=1000 ] = 0.161\n",
      "Average Recall     (AR) @[ IoU=0.50:0.95 | area= large | maxDets=1000 ] = 0.418\n"
     ]
    },
    {
     "name": "stderr",
     "output_type": "stream",
     "text": [
      "2021-05-15 22:32:49,145 - mmdet - INFO - Epoch [34][50/655]\tlr: 1.000e-06, eta: 0:56:52, time: 0.793, data_time: 0.050, memory: 5380, loss_rpn_cls: 0.0689, loss_rpn_bbox: 0.0620, loss_cls: 0.3264, acc: 89.6230, loss_bbox: 0.4205, loss: 0.8777, grad_norm: 10.5805\n",
      "2021-05-15 22:33:26,677 - mmdet - INFO - Epoch [34][100/655]\tlr: 1.000e-06, eta: 0:56:15, time: 0.751, data_time: 0.006, memory: 5380, loss_rpn_cls: 0.0701, loss_rpn_bbox: 0.0667, loss_cls: 0.3152, acc: 89.9600, loss_bbox: 0.3984, loss: 0.8504, grad_norm: 10.5777\n",
      "2021-05-15 22:34:04,280 - mmdet - INFO - Epoch [34][150/655]\tlr: 1.000e-06, eta: 0:55:37, time: 0.752, data_time: 0.006, memory: 5380, loss_rpn_cls: 0.0697, loss_rpn_bbox: 0.0647, loss_cls: 0.3065, acc: 90.2656, loss_bbox: 0.3928, loss: 0.8338, grad_norm: 10.7489\n",
      "2021-05-15 22:34:41,889 - mmdet - INFO - Epoch [34][200/655]\tlr: 1.000e-06, eta: 0:54:59, time: 0.752, data_time: 0.006, memory: 5380, loss_rpn_cls: 0.0698, loss_rpn_bbox: 0.0676, loss_cls: 0.3282, acc: 89.5645, loss_bbox: 0.4201, loss: 0.8858, grad_norm: 10.4154\n",
      "2021-05-15 22:35:19,646 - mmdet - INFO - Epoch [34][250/655]\tlr: 1.000e-06, eta: 0:54:22, time: 0.755, data_time: 0.006, memory: 5380, loss_rpn_cls: 0.0792, loss_rpn_bbox: 0.0719, loss_cls: 0.3273, acc: 89.5986, loss_bbox: 0.4239, loss: 0.9022, grad_norm: 10.7376\n",
      "2021-05-15 22:35:57,187 - mmdet - INFO - Epoch [34][300/655]\tlr: 1.000e-06, eta: 0:53:44, time: 0.751, data_time: 0.006, memory: 5380, loss_rpn_cls: 0.0651, loss_rpn_bbox: 0.0566, loss_cls: 0.2920, acc: 90.8096, loss_bbox: 0.3773, loss: 0.7909, grad_norm: 10.1887\n",
      "2021-05-15 22:36:34,773 - mmdet - INFO - Epoch [34][350/655]\tlr: 1.000e-06, eta: 0:53:06, time: 0.752, data_time: 0.006, memory: 5380, loss_rpn_cls: 0.0681, loss_rpn_bbox: 0.0583, loss_cls: 0.3057, acc: 90.3545, loss_bbox: 0.3973, loss: 0.8294, grad_norm: 10.5587\n",
      "2021-05-15 22:37:12,648 - mmdet - INFO - Epoch [34][400/655]\tlr: 1.000e-06, eta: 0:52:29, time: 0.757, data_time: 0.006, memory: 5380, loss_rpn_cls: 0.0657, loss_rpn_bbox: 0.0592, loss_cls: 0.2996, acc: 90.5420, loss_bbox: 0.3912, loss: 0.8156, grad_norm: 10.6391\n",
      "2021-05-15 22:37:50,247 - mmdet - INFO - Epoch [34][450/655]\tlr: 1.000e-06, eta: 0:51:51, time: 0.752, data_time: 0.006, memory: 5380, loss_rpn_cls: 0.0653, loss_rpn_bbox: 0.0555, loss_cls: 0.2947, acc: 90.7803, loss_bbox: 0.3764, loss: 0.7919, grad_norm: 10.2453\n",
      "2021-05-15 22:38:27,912 - mmdet - INFO - Epoch [34][500/655]\tlr: 1.000e-06, eta: 0:51:14, time: 0.753, data_time: 0.006, memory: 5380, loss_rpn_cls: 0.0697, loss_rpn_bbox: 0.0643, loss_cls: 0.3177, acc: 90.1943, loss_bbox: 0.3999, loss: 0.8517, grad_norm: 10.9685\n",
      "2021-05-15 22:39:05,585 - mmdet - INFO - Epoch [34][550/655]\tlr: 1.000e-06, eta: 0:50:36, time: 0.753, data_time: 0.006, memory: 5380, loss_rpn_cls: 0.0725, loss_rpn_bbox: 0.0644, loss_cls: 0.3323, acc: 89.5420, loss_bbox: 0.4118, loss: 0.8810, grad_norm: 10.7212\n",
      "2021-05-15 22:39:43,215 - mmdet - INFO - Epoch [34][600/655]\tlr: 1.000e-06, eta: 0:49:58, time: 0.753, data_time: 0.006, memory: 5380, loss_rpn_cls: 0.0689, loss_rpn_bbox: 0.0672, loss_cls: 0.3160, acc: 90.1328, loss_bbox: 0.3982, loss: 0.8503, grad_norm: 10.5644\n",
      "2021-05-15 22:40:20,916 - mmdet - INFO - Epoch [34][650/655]\tlr: 1.000e-06, eta: 0:49:21, time: 0.754, data_time: 0.006, memory: 5380, loss_rpn_cls: 0.0626, loss_rpn_bbox: 0.0565, loss_cls: 0.3042, acc: 90.2529, loss_bbox: 0.3880, loss: 0.8113, grad_norm: 10.3942\n",
      "2021-05-15 22:40:24,728 - mmdet - INFO - Saving checkpoint at 34 epochs\n"
     ]
    },
    {
     "name": "stdout",
     "output_type": "stream",
     "text": [
      "[>>>>>>>>>>>>>>>>>>>>>>>>>>>>>] 655/655, 10.4 task/s, elapsed: 63s, ETA:     0s"
     ]
    },
    {
     "name": "stderr",
     "output_type": "stream",
     "text": [
      "2021-05-15 22:41:30,424 - mmdet - INFO - Evaluating bbox...\n"
     ]
    },
    {
     "name": "stdout",
     "output_type": "stream",
     "text": [
      "Loading and preparing results...\n",
      "DONE (t=0.57s)\n",
      "creating index...\n",
      "index created!\n",
      "Running per image evaluation...\n",
      "Evaluate annotation type *bbox*\n",
      "DONE (t=6.47s).\n",
      "Accumulating evaluation results...\n"
     ]
    },
    {
     "name": "stderr",
     "output_type": "stream",
     "text": [
      "2021-05-15 22:41:38,437 - mmdet - INFO - Epoch(val) [34][655]\tbbox_mAP: 0.1000, bbox_mAP_50: 0.2180, bbox_mAP_75: 0.0790, bbox_mAP_s: 0.0060, bbox_mAP_m: 0.0740, bbox_mAP_l: 0.2260, bbox_mAP_copypaste: 0.100 0.218 0.079 0.006 0.074 0.226\n"
     ]
    },
    {
     "name": "stdout",
     "output_type": "stream",
     "text": [
      "DONE (t=0.89s).\n",
      "Average Precision  (AP) @[ IoU=0.50:0.95 | area=   all | maxDets=100 ] = 0.100\n",
      "Average Precision  (AP) @[ IoU=0.50      | area=   all | maxDets=1000 ] = 0.218\n",
      "Average Precision  (AP) @[ IoU=0.75      | area=   all | maxDets=1000 ] = 0.079\n",
      "Average Precision  (AP) @[ IoU=0.50:0.95 | area= small | maxDets=1000 ] = 0.006\n",
      "Average Precision  (AP) @[ IoU=0.50:0.95 | area=medium | maxDets=1000 ] = 0.074\n",
      "Average Precision  (AP) @[ IoU=0.50:0.95 | area= large | maxDets=1000 ] = 0.226\n",
      "Average Recall     (AR) @[ IoU=0.50:0.95 | area=   all | maxDets=100 ] = 0.209\n",
      "Average Recall     (AR) @[ IoU=0.50:0.95 | area=   all | maxDets=300 ] = 0.209\n",
      "Average Recall     (AR) @[ IoU=0.50:0.95 | area=   all | maxDets=1000 ] = 0.209\n",
      "Average Recall     (AR) @[ IoU=0.50:0.95 | area= small | maxDets=1000 ] = 0.020\n",
      "Average Recall     (AR) @[ IoU=0.50:0.95 | area=medium | maxDets=1000 ] = 0.168\n",
      "Average Recall     (AR) @[ IoU=0.50:0.95 | area= large | maxDets=1000 ] = 0.425\n"
     ]
    },
    {
     "name": "stderr",
     "output_type": "stream",
     "text": [
      "2021-05-15 22:42:18,434 - mmdet - INFO - Epoch [35][50/655]\tlr: 1.000e-06, eta: 0:48:39, time: 0.800, data_time: 0.051, memory: 5380, loss_rpn_cls: 0.0659, loss_rpn_bbox: 0.0619, loss_cls: 0.3171, acc: 90.0039, loss_bbox: 0.4007, loss: 0.8455, grad_norm: 10.7968\n",
      "2021-05-15 22:42:56,055 - mmdet - INFO - Epoch [35][100/655]\tlr: 1.000e-06, eta: 0:48:02, time: 0.752, data_time: 0.006, memory: 5380, loss_rpn_cls: 0.0745, loss_rpn_bbox: 0.0642, loss_cls: 0.2967, acc: 90.6982, loss_bbox: 0.3784, loss: 0.8137, grad_norm: 10.5946\n",
      "2021-05-15 22:43:33,828 - mmdet - INFO - Epoch [35][150/655]\tlr: 1.000e-06, eta: 0:47:24, time: 0.755, data_time: 0.006, memory: 5380, loss_rpn_cls: 0.0720, loss_rpn_bbox: 0.0606, loss_cls: 0.3019, acc: 90.3232, loss_bbox: 0.4057, loss: 0.8402, grad_norm: 10.4794\n",
      "2021-05-15 22:44:11,557 - mmdet - INFO - Epoch [35][200/655]\tlr: 1.000e-06, eta: 0:46:46, time: 0.755, data_time: 0.006, memory: 5380, loss_rpn_cls: 0.0788, loss_rpn_bbox: 0.0752, loss_cls: 0.3380, acc: 89.2354, loss_bbox: 0.4311, loss: 0.9231, grad_norm: 10.9025\n",
      "2021-05-15 22:44:49,342 - mmdet - INFO - Epoch [35][250/655]\tlr: 1.000e-06, eta: 0:46:09, time: 0.756, data_time: 0.006, memory: 5380, loss_rpn_cls: 0.0666, loss_rpn_bbox: 0.0581, loss_cls: 0.2901, acc: 90.9121, loss_bbox: 0.3753, loss: 0.7901, grad_norm: 9.9171\n",
      "2021-05-15 22:45:26,865 - mmdet - INFO - Epoch [35][300/655]\tlr: 1.000e-06, eta: 0:45:31, time: 0.750, data_time: 0.006, memory: 5380, loss_rpn_cls: 0.0692, loss_rpn_bbox: 0.0599, loss_cls: 0.3102, acc: 90.4707, loss_bbox: 0.3878, loss: 0.8271, grad_norm: 10.8030\n",
      "2021-05-15 22:46:04,648 - mmdet - INFO - Epoch [35][350/655]\tlr: 1.000e-06, eta: 0:44:53, time: 0.756, data_time: 0.006, memory: 5380, loss_rpn_cls: 0.0587, loss_rpn_bbox: 0.0509, loss_cls: 0.3003, acc: 90.8379, loss_bbox: 0.3725, loss: 0.7824, grad_norm: 10.4695\n",
      "2021-05-15 22:46:42,402 - mmdet - INFO - Epoch [35][400/655]\tlr: 1.000e-06, eta: 0:44:16, time: 0.755, data_time: 0.006, memory: 5380, loss_rpn_cls: 0.0610, loss_rpn_bbox: 0.0583, loss_cls: 0.3069, acc: 90.1670, loss_bbox: 0.3971, loss: 0.8233, grad_norm: 10.3507\n",
      "2021-05-15 22:47:20,013 - mmdet - INFO - Epoch [35][450/655]\tlr: 1.000e-06, eta: 0:43:38, time: 0.752, data_time: 0.006, memory: 5380, loss_rpn_cls: 0.0784, loss_rpn_bbox: 0.0674, loss_cls: 0.3265, acc: 89.7285, loss_bbox: 0.4130, loss: 0.8852, grad_norm: 10.9610\n",
      "2021-05-15 22:47:57,659 - mmdet - INFO - Epoch [35][500/655]\tlr: 1.000e-06, eta: 0:43:01, time: 0.753, data_time: 0.006, memory: 5380, loss_rpn_cls: 0.0673, loss_rpn_bbox: 0.0611, loss_cls: 0.3046, acc: 90.2842, loss_bbox: 0.3969, loss: 0.8298, grad_norm: 10.2470\n",
      "2021-05-15 22:48:35,219 - mmdet - INFO - Epoch [35][550/655]\tlr: 1.000e-06, eta: 0:42:23, time: 0.751, data_time: 0.006, memory: 5380, loss_rpn_cls: 0.0681, loss_rpn_bbox: 0.0625, loss_cls: 0.3153, acc: 90.0000, loss_bbox: 0.4013, loss: 0.8472, grad_norm: 10.3610\n",
      "2021-05-15 22:49:12,891 - mmdet - INFO - Epoch [35][600/655]\tlr: 1.000e-06, eta: 0:41:45, time: 0.753, data_time: 0.006, memory: 5380, loss_rpn_cls: 0.0778, loss_rpn_bbox: 0.0687, loss_cls: 0.3238, acc: 89.6836, loss_bbox: 0.4187, loss: 0.8890, grad_norm: 11.4293\n",
      "2021-05-15 22:49:50,512 - mmdet - INFO - Epoch [35][650/655]\tlr: 1.000e-06, eta: 0:41:08, time: 0.752, data_time: 0.006, memory: 5380, loss_rpn_cls: 0.0670, loss_rpn_bbox: 0.0658, loss_cls: 0.3240, acc: 89.9688, loss_bbox: 0.4085, loss: 0.8652, grad_norm: 10.5946\n",
      "2021-05-15 22:49:54,323 - mmdet - INFO - Saving checkpoint at 35 epochs\n"
     ]
    },
    {
     "name": "stdout",
     "output_type": "stream",
     "text": [
      "[>>>>>>>>>>>>>>>>>>>>>>>>>>>>>] 655/655, 10.2 task/s, elapsed: 64s, ETA:     0s"
     ]
    },
    {
     "name": "stderr",
     "output_type": "stream",
     "text": [
      "2021-05-15 22:51:01,300 - mmdet - INFO - Evaluating bbox...\n"
     ]
    },
    {
     "name": "stdout",
     "output_type": "stream",
     "text": [
      "Loading and preparing results...\n",
      "DONE (t=0.94s)\n",
      "creating index...\n",
      "index created!\n",
      "Running per image evaluation...\n",
      "Evaluate annotation type *bbox*\n",
      "DONE (t=6.87s).\n",
      "Accumulating evaluation results...\n"
     ]
    },
    {
     "name": "stderr",
     "output_type": "stream",
     "text": [
      "2021-05-15 22:51:10,141 - mmdet - INFO - Epoch(val) [35][655]\tbbox_mAP: 0.0990, bbox_mAP_50: 0.2130, bbox_mAP_75: 0.0780, bbox_mAP_s: 0.0060, bbox_mAP_m: 0.0690, bbox_mAP_l: 0.2260, bbox_mAP_copypaste: 0.099 0.213 0.078 0.006 0.069 0.226\n"
     ]
    },
    {
     "name": "stdout",
     "output_type": "stream",
     "text": [
      "DONE (t=0.96s).\n",
      "Average Precision  (AP) @[ IoU=0.50:0.95 | area=   all | maxDets=100 ] = 0.099\n",
      "Average Precision  (AP) @[ IoU=0.50      | area=   all | maxDets=1000 ] = 0.213\n",
      "Average Precision  (AP) @[ IoU=0.75      | area=   all | maxDets=1000 ] = 0.078\n",
      "Average Precision  (AP) @[ IoU=0.50:0.95 | area= small | maxDets=1000 ] = 0.006\n",
      "Average Precision  (AP) @[ IoU=0.50:0.95 | area=medium | maxDets=1000 ] = 0.069\n",
      "Average Precision  (AP) @[ IoU=0.50:0.95 | area= large | maxDets=1000 ] = 0.226\n",
      "Average Recall     (AR) @[ IoU=0.50:0.95 | area=   all | maxDets=100 ] = 0.200\n",
      "Average Recall     (AR) @[ IoU=0.50:0.95 | area=   all | maxDets=300 ] = 0.200\n",
      "Average Recall     (AR) @[ IoU=0.50:0.95 | area=   all | maxDets=1000 ] = 0.200\n",
      "Average Recall     (AR) @[ IoU=0.50:0.95 | area= small | maxDets=1000 ] = 0.021\n",
      "Average Recall     (AR) @[ IoU=0.50:0.95 | area=medium | maxDets=1000 ] = 0.159\n",
      "Average Recall     (AR) @[ IoU=0.50:0.95 | area= large | maxDets=1000 ] = 0.419\n"
     ]
    },
    {
     "name": "stderr",
     "output_type": "stream",
     "text": [
      "2021-05-15 22:51:49,866 - mmdet - INFO - Epoch [36][50/655]\tlr: 1.000e-06, eta: 0:40:26, time: 0.794, data_time: 0.050, memory: 5380, loss_rpn_cls: 0.0672, loss_rpn_bbox: 0.0575, loss_cls: 0.3117, acc: 90.2754, loss_bbox: 0.3915, loss: 0.8278, grad_norm: 10.7335\n",
      "2021-05-15 22:52:27,554 - mmdet - INFO - Epoch [36][100/655]\tlr: 1.000e-06, eta: 0:39:49, time: 0.754, data_time: 0.006, memory: 5380, loss_rpn_cls: 0.0712, loss_rpn_bbox: 0.0631, loss_cls: 0.3259, acc: 89.5957, loss_bbox: 0.4202, loss: 0.8804, grad_norm: 10.9553\n",
      "2021-05-15 22:53:05,218 - mmdet - INFO - Epoch [36][150/655]\tlr: 1.000e-06, eta: 0:39:11, time: 0.753, data_time: 0.006, memory: 5380, loss_rpn_cls: 0.0750, loss_rpn_bbox: 0.0700, loss_cls: 0.3391, acc: 89.3594, loss_bbox: 0.4272, loss: 0.9112, grad_norm: 10.6093\n",
      "2021-05-15 22:53:42,819 - mmdet - INFO - Epoch [36][200/655]\tlr: 1.000e-06, eta: 0:38:33, time: 0.752, data_time: 0.006, memory: 5380, loss_rpn_cls: 0.0625, loss_rpn_bbox: 0.0580, loss_cls: 0.3060, acc: 90.3770, loss_bbox: 0.3856, loss: 0.8121, grad_norm: 9.9645\n",
      "2021-05-15 22:54:20,361 - mmdet - INFO - Epoch [36][250/655]\tlr: 1.000e-06, eta: 0:37:56, time: 0.751, data_time: 0.006, memory: 5380, loss_rpn_cls: 0.0702, loss_rpn_bbox: 0.0621, loss_cls: 0.3137, acc: 90.0850, loss_bbox: 0.4141, loss: 0.8600, grad_norm: 10.7196\n",
      "2021-05-15 22:54:57,929 - mmdet - INFO - Epoch [36][300/655]\tlr: 1.000e-06, eta: 0:37:18, time: 0.751, data_time: 0.006, memory: 5380, loss_rpn_cls: 0.0688, loss_rpn_bbox: 0.0608, loss_cls: 0.3020, acc: 90.3740, loss_bbox: 0.3889, loss: 0.8205, grad_norm: 10.5106\n",
      "2021-05-15 22:55:35,911 - mmdet - INFO - Epoch [36][350/655]\tlr: 1.000e-06, eta: 0:36:40, time: 0.760, data_time: 0.006, memory: 5380, loss_rpn_cls: 0.0691, loss_rpn_bbox: 0.0683, loss_cls: 0.3285, acc: 89.5830, loss_bbox: 0.4240, loss: 0.8899, grad_norm: 10.7602\n",
      "2021-05-15 22:56:13,512 - mmdet - INFO - Epoch [36][400/655]\tlr: 1.000e-06, eta: 0:36:03, time: 0.752, data_time: 0.006, memory: 5380, loss_rpn_cls: 0.0658, loss_rpn_bbox: 0.0604, loss_cls: 0.2904, acc: 90.6953, loss_bbox: 0.3848, loss: 0.8014, grad_norm: 10.4473\n",
      "2021-05-15 22:56:51,117 - mmdet - INFO - Epoch [36][450/655]\tlr: 1.000e-06, eta: 0:35:25, time: 0.752, data_time: 0.006, memory: 5380, loss_rpn_cls: 0.0780, loss_rpn_bbox: 0.0692, loss_cls: 0.3239, acc: 90.0469, loss_bbox: 0.4037, loss: 0.8749, grad_norm: 10.9073\n",
      "2021-05-15 22:57:28,897 - mmdet - INFO - Epoch [36][500/655]\tlr: 1.000e-06, eta: 0:34:48, time: 0.756, data_time: 0.006, memory: 5380, loss_rpn_cls: 0.0818, loss_rpn_bbox: 0.0750, loss_cls: 0.3359, acc: 89.3955, loss_bbox: 0.4318, loss: 0.9245, grad_norm: 10.3608\n",
      "2021-05-15 22:58:06,459 - mmdet - INFO - Epoch [36][550/655]\tlr: 1.000e-06, eta: 0:34:10, time: 0.751, data_time: 0.006, memory: 5380, loss_rpn_cls: 0.0523, loss_rpn_bbox: 0.0486, loss_cls: 0.2750, acc: 91.3623, loss_bbox: 0.3399, loss: 0.7158, grad_norm: 10.3583\n",
      "2021-05-15 22:58:44,179 - mmdet - INFO - Epoch [36][600/655]\tlr: 1.000e-06, eta: 0:33:32, time: 0.754, data_time: 0.006, memory: 5380, loss_rpn_cls: 0.0650, loss_rpn_bbox: 0.0558, loss_cls: 0.2931, acc: 90.8096, loss_bbox: 0.3791, loss: 0.7930, grad_norm: 10.7170\n",
      "2021-05-15 22:59:21,832 - mmdet - INFO - Epoch [36][650/655]\tlr: 1.000e-06, eta: 0:32:55, time: 0.753, data_time: 0.006, memory: 5380, loss_rpn_cls: 0.0706, loss_rpn_bbox: 0.0633, loss_cls: 0.3265, acc: 89.4424, loss_bbox: 0.4197, loss: 0.8801, grad_norm: 10.4805\n",
      "2021-05-15 22:59:25,653 - mmdet - INFO - Saving checkpoint at 36 epochs\n"
     ]
    },
    {
     "name": "stdout",
     "output_type": "stream",
     "text": [
      "[>>>>>>>>>>>>>>>>>>>>>>>>>>>>>] 655/655, 10.3 task/s, elapsed: 64s, ETA:     0s"
     ]
    },
    {
     "name": "stderr",
     "output_type": "stream",
     "text": [
      "2021-05-15 23:00:32,244 - mmdet - INFO - Evaluating bbox...\n"
     ]
    },
    {
     "name": "stdout",
     "output_type": "stream",
     "text": [
      "Loading and preparing results...\n",
      "DONE (t=0.54s)\n",
      "creating index...\n",
      "index created!\n",
      "Running per image evaluation...\n",
      "Evaluate annotation type *bbox*\n",
      "DONE (t=7.30s).\n",
      "Accumulating evaluation results...\n"
     ]
    },
    {
     "name": "stderr",
     "output_type": "stream",
     "text": [
      "2021-05-15 23:00:41,090 - mmdet - INFO - Epoch(val) [36][655]\tbbox_mAP: 0.1000, bbox_mAP_50: 0.2190, bbox_mAP_75: 0.0790, bbox_mAP_s: 0.0060, bbox_mAP_m: 0.0710, bbox_mAP_l: 0.2280, bbox_mAP_copypaste: 0.100 0.219 0.079 0.006 0.071 0.228\n"
     ]
    },
    {
     "name": "stdout",
     "output_type": "stream",
     "text": [
      "DONE (t=0.93s).\n",
      "Average Precision  (AP) @[ IoU=0.50:0.95 | area=   all | maxDets=100 ] = 0.100\n",
      "Average Precision  (AP) @[ IoU=0.50      | area=   all | maxDets=1000 ] = 0.219\n",
      "Average Precision  (AP) @[ IoU=0.75      | area=   all | maxDets=1000 ] = 0.079\n",
      "Average Precision  (AP) @[ IoU=0.50:0.95 | area= small | maxDets=1000 ] = 0.006\n",
      "Average Precision  (AP) @[ IoU=0.50:0.95 | area=medium | maxDets=1000 ] = 0.071\n",
      "Average Precision  (AP) @[ IoU=0.50:0.95 | area= large | maxDets=1000 ] = 0.228\n",
      "Average Recall     (AR) @[ IoU=0.50:0.95 | area=   all | maxDets=100 ] = 0.204\n",
      "Average Recall     (AR) @[ IoU=0.50:0.95 | area=   all | maxDets=300 ] = 0.204\n",
      "Average Recall     (AR) @[ IoU=0.50:0.95 | area=   all | maxDets=1000 ] = 0.204\n",
      "Average Recall     (AR) @[ IoU=0.50:0.95 | area= small | maxDets=1000 ] = 0.020\n",
      "Average Recall     (AR) @[ IoU=0.50:0.95 | area=medium | maxDets=1000 ] = 0.161\n",
      "Average Recall     (AR) @[ IoU=0.50:0.95 | area= large | maxDets=1000 ] = 0.421\n"
     ]
    },
    {
     "name": "stderr",
     "output_type": "stream",
     "text": [
      "2021-05-15 23:01:21,068 - mmdet - INFO - Epoch [37][50/655]\tlr: 1.000e-06, eta: 0:32:13, time: 0.799, data_time: 0.051, memory: 5380, loss_rpn_cls: 0.0711, loss_rpn_bbox: 0.0592, loss_cls: 0.3271, acc: 89.7578, loss_bbox: 0.4024, loss: 0.8597, grad_norm: 10.8001\n",
      "2021-05-15 23:01:58,686 - mmdet - INFO - Epoch [37][100/655]\tlr: 1.000e-06, eta: 0:31:36, time: 0.752, data_time: 0.006, memory: 5380, loss_rpn_cls: 0.0631, loss_rpn_bbox: 0.0591, loss_cls: 0.3057, acc: 90.2705, loss_bbox: 0.3861, loss: 0.8139, grad_norm: 10.2850\n",
      "2021-05-15 23:02:36,275 - mmdet - INFO - Epoch [37][150/655]\tlr: 1.000e-06, eta: 0:30:58, time: 0.752, data_time: 0.006, memory: 5380, loss_rpn_cls: 0.0734, loss_rpn_bbox: 0.0689, loss_cls: 0.3144, acc: 89.9717, loss_bbox: 0.3989, loss: 0.8555, grad_norm: 10.4564\n",
      "2021-05-15 23:03:13,813 - mmdet - INFO - Epoch [37][200/655]\tlr: 1.000e-06, eta: 0:30:20, time: 0.751, data_time: 0.006, memory: 5380, loss_rpn_cls: 0.0724, loss_rpn_bbox: 0.0621, loss_cls: 0.3088, acc: 90.0674, loss_bbox: 0.4128, loss: 0.8561, grad_norm: 10.5173\n",
      "2021-05-15 23:03:51,283 - mmdet - INFO - Epoch [37][250/655]\tlr: 1.000e-06, eta: 0:29:43, time: 0.749, data_time: 0.006, memory: 5380, loss_rpn_cls: 0.0697, loss_rpn_bbox: 0.0665, loss_cls: 0.3270, acc: 89.7129, loss_bbox: 0.4186, loss: 0.8819, grad_norm: 10.4939\n",
      "2021-05-15 23:04:28,713 - mmdet - INFO - Epoch [37][300/655]\tlr: 1.000e-06, eta: 0:29:05, time: 0.749, data_time: 0.006, memory: 5380, loss_rpn_cls: 0.0626, loss_rpn_bbox: 0.0553, loss_cls: 0.3005, acc: 90.4229, loss_bbox: 0.3845, loss: 0.8029, grad_norm: 10.4108\n",
      "2021-05-15 23:05:06,192 - mmdet - INFO - Epoch [37][350/655]\tlr: 1.000e-06, eta: 0:28:27, time: 0.750, data_time: 0.006, memory: 5380, loss_rpn_cls: 0.0674, loss_rpn_bbox: 0.0619, loss_cls: 0.3157, acc: 90.0811, loss_bbox: 0.4067, loss: 0.8518, grad_norm: 10.6173\n",
      "2021-05-15 23:05:43,895 - mmdet - INFO - Epoch [37][400/655]\tlr: 1.000e-06, eta: 0:27:50, time: 0.754, data_time: 0.006, memory: 5380, loss_rpn_cls: 0.0710, loss_rpn_bbox: 0.0668, loss_cls: 0.3213, acc: 90.0889, loss_bbox: 0.4104, loss: 0.8696, grad_norm: 10.7889\n",
      "2021-05-15 23:06:21,625 - mmdet - INFO - Epoch [37][450/655]\tlr: 1.000e-06, eta: 0:27:12, time: 0.755, data_time: 0.006, memory: 5380, loss_rpn_cls: 0.0743, loss_rpn_bbox: 0.0615, loss_cls: 0.3249, acc: 89.7803, loss_bbox: 0.4211, loss: 0.8819, grad_norm: 10.9457\n",
      "2021-05-15 23:06:59,386 - mmdet - INFO - Epoch [37][500/655]\tlr: 1.000e-06, eta: 0:26:35, time: 0.755, data_time: 0.006, memory: 5380, loss_rpn_cls: 0.0718, loss_rpn_bbox: 0.0643, loss_cls: 0.3126, acc: 90.0205, loss_bbox: 0.4037, loss: 0.8525, grad_norm: 10.5007\n",
      "2021-05-15 23:07:37,028 - mmdet - INFO - Epoch [37][550/655]\tlr: 1.000e-06, eta: 0:25:57, time: 0.753, data_time: 0.006, memory: 5380, loss_rpn_cls: 0.0704, loss_rpn_bbox: 0.0710, loss_cls: 0.3276, acc: 89.7246, loss_bbox: 0.4168, loss: 0.8857, grad_norm: 10.8799\n",
      "2021-05-15 23:08:14,640 - mmdet - INFO - Epoch [37][600/655]\tlr: 1.000e-06, eta: 0:25:19, time: 0.752, data_time: 0.006, memory: 5380, loss_rpn_cls: 0.0657, loss_rpn_bbox: 0.0603, loss_cls: 0.3030, acc: 90.4531, loss_bbox: 0.3780, loss: 0.8070, grad_norm: 10.4433\n",
      "2021-05-15 23:08:52,137 - mmdet - INFO - Epoch [37][650/655]\tlr: 1.000e-06, eta: 0:24:42, time: 0.750, data_time: 0.006, memory: 5380, loss_rpn_cls: 0.0609, loss_rpn_bbox: 0.0549, loss_cls: 0.2837, acc: 91.1387, loss_bbox: 0.3593, loss: 0.7589, grad_norm: 9.9323\n",
      "2021-05-15 23:08:55,914 - mmdet - INFO - Saving checkpoint at 37 epochs\n"
     ]
    },
    {
     "name": "stdout",
     "output_type": "stream",
     "text": [
      "[>>>>>>>>>>>>>>>>>>>>>>>>>>>>>] 655/655, 10.2 task/s, elapsed: 64s, ETA:     0s"
     ]
    },
    {
     "name": "stderr",
     "output_type": "stream",
     "text": [
      "2021-05-15 23:10:02,129 - mmdet - INFO - Evaluating bbox...\n"
     ]
    },
    {
     "name": "stdout",
     "output_type": "stream",
     "text": [
      "Loading and preparing results...\n",
      "DONE (t=0.54s)\n",
      "creating index...\n",
      "index created!\n",
      "Running per image evaluation...\n",
      "Evaluate annotation type *bbox*\n",
      "DONE (t=7.28s).\n",
      "Accumulating evaluation results...\n"
     ]
    },
    {
     "name": "stderr",
     "output_type": "stream",
     "text": [
      "2021-05-15 23:10:10,994 - mmdet - INFO - Epoch(val) [37][655]\tbbox_mAP: 0.1000, bbox_mAP_50: 0.2180, bbox_mAP_75: 0.0790, bbox_mAP_s: 0.0060, bbox_mAP_m: 0.0740, bbox_mAP_l: 0.2260, bbox_mAP_copypaste: 0.100 0.218 0.079 0.006 0.074 0.226\n"
     ]
    },
    {
     "name": "stdout",
     "output_type": "stream",
     "text": [
      "DONE (t=0.96s).\n",
      "Average Precision  (AP) @[ IoU=0.50:0.95 | area=   all | maxDets=100 ] = 0.100\n",
      "Average Precision  (AP) @[ IoU=0.50      | area=   all | maxDets=1000 ] = 0.218\n",
      "Average Precision  (AP) @[ IoU=0.75      | area=   all | maxDets=1000 ] = 0.079\n",
      "Average Precision  (AP) @[ IoU=0.50:0.95 | area= small | maxDets=1000 ] = 0.006\n",
      "Average Precision  (AP) @[ IoU=0.50:0.95 | area=medium | maxDets=1000 ] = 0.074\n",
      "Average Precision  (AP) @[ IoU=0.50:0.95 | area= large | maxDets=1000 ] = 0.226\n",
      "Average Recall     (AR) @[ IoU=0.50:0.95 | area=   all | maxDets=100 ] = 0.208\n",
      "Average Recall     (AR) @[ IoU=0.50:0.95 | area=   all | maxDets=300 ] = 0.208\n",
      "Average Recall     (AR) @[ IoU=0.50:0.95 | area=   all | maxDets=1000 ] = 0.208\n",
      "Average Recall     (AR) @[ IoU=0.50:0.95 | area= small | maxDets=1000 ] = 0.021\n",
      "Average Recall     (AR) @[ IoU=0.50:0.95 | area=medium | maxDets=1000 ] = 0.166\n",
      "Average Recall     (AR) @[ IoU=0.50:0.95 | area= large | maxDets=1000 ] = 0.422\n"
     ]
    },
    {
     "name": "stderr",
     "output_type": "stream",
     "text": [
      "2021-05-15 23:10:50,825 - mmdet - INFO - Epoch [38][50/655]\tlr: 1.000e-06, eta: 0:24:00, time: 0.796, data_time: 0.050, memory: 5380, loss_rpn_cls: 0.0637, loss_rpn_bbox: 0.0563, loss_cls: 0.2951, acc: 90.6787, loss_bbox: 0.3760, loss: 0.7911, grad_norm: 10.4654\n",
      "2021-05-15 23:11:28,415 - mmdet - INFO - Epoch [38][100/655]\tlr: 1.000e-06, eta: 0:23:23, time: 0.752, data_time: 0.006, memory: 5380, loss_rpn_cls: 0.0734, loss_rpn_bbox: 0.0640, loss_cls: 0.3221, acc: 89.6748, loss_bbox: 0.4217, loss: 0.8812, grad_norm: 10.6828\n",
      "2021-05-15 23:12:06,026 - mmdet - INFO - Epoch [38][150/655]\tlr: 1.000e-06, eta: 0:22:45, time: 0.752, data_time: 0.006, memory: 5380, loss_rpn_cls: 0.0726, loss_rpn_bbox: 0.0620, loss_cls: 0.3364, acc: 89.3457, loss_bbox: 0.4294, loss: 0.9005, grad_norm: 11.1913\n",
      "2021-05-15 23:12:43,493 - mmdet - INFO - Epoch [38][200/655]\tlr: 1.000e-06, eta: 0:22:07, time: 0.749, data_time: 0.006, memory: 5380, loss_rpn_cls: 0.0649, loss_rpn_bbox: 0.0627, loss_cls: 0.2888, acc: 91.1357, loss_bbox: 0.3509, loss: 0.7673, grad_norm: 10.3741\n",
      "2021-05-15 23:13:20,875 - mmdet - INFO - Epoch [38][250/655]\tlr: 1.000e-06, eta: 0:21:30, time: 0.748, data_time: 0.006, memory: 5380, loss_rpn_cls: 0.0693, loss_rpn_bbox: 0.0658, loss_cls: 0.3072, acc: 90.4863, loss_bbox: 0.3923, loss: 0.8346, grad_norm: 10.5293\n",
      "2021-05-15 23:13:58,318 - mmdet - INFO - Epoch [38][300/655]\tlr: 1.000e-06, eta: 0:20:52, time: 0.749, data_time: 0.006, memory: 5380, loss_rpn_cls: 0.0790, loss_rpn_bbox: 0.0704, loss_cls: 0.3260, acc: 89.6113, loss_bbox: 0.4180, loss: 0.8935, grad_norm: 10.9010\n",
      "2021-05-15 23:14:35,809 - mmdet - INFO - Epoch [38][350/655]\tlr: 1.000e-06, eta: 0:20:14, time: 0.750, data_time: 0.006, memory: 5380, loss_rpn_cls: 0.0640, loss_rpn_bbox: 0.0598, loss_cls: 0.2876, acc: 90.8799, loss_bbox: 0.3789, loss: 0.7904, grad_norm: 10.0632\n",
      "2021-05-15 23:15:13,200 - mmdet - INFO - Epoch [38][400/655]\tlr: 1.000e-06, eta: 0:19:37, time: 0.748, data_time: 0.006, memory: 5380, loss_rpn_cls: 0.0679, loss_rpn_bbox: 0.0611, loss_cls: 0.3294, acc: 89.7930, loss_bbox: 0.4030, loss: 0.8615, grad_norm: 10.3264\n",
      "2021-05-15 23:15:50,622 - mmdet - INFO - Epoch [38][450/655]\tlr: 1.000e-06, eta: 0:18:59, time: 0.748, data_time: 0.006, memory: 5380, loss_rpn_cls: 0.0781, loss_rpn_bbox: 0.0759, loss_cls: 0.3366, acc: 89.1338, loss_bbox: 0.4349, loss: 0.9256, grad_norm: 11.1908\n",
      "2021-05-15 23:16:28,112 - mmdet - INFO - Epoch [38][500/655]\tlr: 1.000e-06, eta: 0:18:22, time: 0.750, data_time: 0.006, memory: 5380, loss_rpn_cls: 0.0723, loss_rpn_bbox: 0.0621, loss_cls: 0.3171, acc: 89.7471, loss_bbox: 0.4111, loss: 0.8626, grad_norm: 10.7129\n",
      "2021-05-15 23:17:05,596 - mmdet - INFO - Epoch [38][550/655]\tlr: 1.000e-06, eta: 0:17:44, time: 0.750, data_time: 0.006, memory: 5380, loss_rpn_cls: 0.0672, loss_rpn_bbox: 0.0583, loss_cls: 0.3090, acc: 90.3691, loss_bbox: 0.3931, loss: 0.8276, grad_norm: 10.4479\n",
      "2021-05-15 23:17:43,044 - mmdet - INFO - Epoch [38][600/655]\tlr: 1.000e-06, eta: 0:17:06, time: 0.749, data_time: 0.006, memory: 5380, loss_rpn_cls: 0.0699, loss_rpn_bbox: 0.0631, loss_cls: 0.3249, acc: 89.8018, loss_bbox: 0.4121, loss: 0.8700, grad_norm: 10.8731\n",
      "2021-05-15 23:18:20,478 - mmdet - INFO - Epoch [38][650/655]\tlr: 1.000e-06, eta: 0:16:29, time: 0.749, data_time: 0.006, memory: 5380, loss_rpn_cls: 0.0606, loss_rpn_bbox: 0.0557, loss_cls: 0.2911, acc: 90.7031, loss_bbox: 0.3817, loss: 0.7891, grad_norm: 10.3237\n",
      "2021-05-15 23:18:24,265 - mmdet - INFO - Saving checkpoint at 38 epochs\n"
     ]
    },
    {
     "name": "stdout",
     "output_type": "stream",
     "text": [
      "[>>>>>>>>>>>>>>>>>>>>>>>>>>>>>] 655/655, 10.5 task/s, elapsed: 63s, ETA:     0s"
     ]
    },
    {
     "name": "stderr",
     "output_type": "stream",
     "text": [
      "2021-05-15 23:19:29,187 - mmdet - INFO - Evaluating bbox...\n"
     ]
    },
    {
     "name": "stdout",
     "output_type": "stream",
     "text": [
      "Loading and preparing results...\n",
      "DONE (t=0.53s)\n",
      "creating index...\n",
      "index created!\n",
      "Running per image evaluation...\n",
      "Evaluate annotation type *bbox*\n",
      "DONE (t=6.85s).\n",
      "Accumulating evaluation results...\n"
     ]
    },
    {
     "name": "stderr",
     "output_type": "stream",
     "text": [
      "2021-05-15 23:19:37,560 - mmdet - INFO - Epoch(val) [38][655]\tbbox_mAP: 0.1000, bbox_mAP_50: 0.2170, bbox_mAP_75: 0.0790, bbox_mAP_s: 0.0060, bbox_mAP_m: 0.0720, bbox_mAP_l: 0.2270, bbox_mAP_copypaste: 0.100 0.217 0.079 0.006 0.072 0.227\n"
     ]
    },
    {
     "name": "stdout",
     "output_type": "stream",
     "text": [
      "DONE (t=0.92s).\n",
      "Average Precision  (AP) @[ IoU=0.50:0.95 | area=   all | maxDets=100 ] = 0.100\n",
      "Average Precision  (AP) @[ IoU=0.50      | area=   all | maxDets=1000 ] = 0.217\n",
      "Average Precision  (AP) @[ IoU=0.75      | area=   all | maxDets=1000 ] = 0.079\n",
      "Average Precision  (AP) @[ IoU=0.50:0.95 | area= small | maxDets=1000 ] = 0.006\n",
      "Average Precision  (AP) @[ IoU=0.50:0.95 | area=medium | maxDets=1000 ] = 0.072\n",
      "Average Precision  (AP) @[ IoU=0.50:0.95 | area= large | maxDets=1000 ] = 0.227\n",
      "Average Recall     (AR) @[ IoU=0.50:0.95 | area=   all | maxDets=100 ] = 0.206\n",
      "Average Recall     (AR) @[ IoU=0.50:0.95 | area=   all | maxDets=300 ] = 0.206\n",
      "Average Recall     (AR) @[ IoU=0.50:0.95 | area=   all | maxDets=1000 ] = 0.206\n",
      "Average Recall     (AR) @[ IoU=0.50:0.95 | area= small | maxDets=1000 ] = 0.021\n",
      "Average Recall     (AR) @[ IoU=0.50:0.95 | area=medium | maxDets=1000 ] = 0.162\n",
      "Average Recall     (AR) @[ IoU=0.50:0.95 | area= large | maxDets=1000 ] = 0.423\n"
     ]
    },
    {
     "name": "stderr",
     "output_type": "stream",
     "text": [
      "2021-05-15 23:20:17,557 - mmdet - INFO - Epoch [39][50/655]\tlr: 1.000e-06, eta: 0:15:47, time: 0.800, data_time: 0.050, memory: 5380, loss_rpn_cls: 0.0727, loss_rpn_bbox: 0.0622, loss_cls: 0.3171, acc: 90.1260, loss_bbox: 0.4108, loss: 0.8628, grad_norm: 10.6313\n",
      "2021-05-15 23:20:55,037 - mmdet - INFO - Epoch [39][100/655]\tlr: 1.000e-06, eta: 0:15:10, time: 0.750, data_time: 0.006, memory: 5380, loss_rpn_cls: 0.0723, loss_rpn_bbox: 0.0658, loss_cls: 0.3216, acc: 89.7637, loss_bbox: 0.4193, loss: 0.8789, grad_norm: 10.1001\n",
      "2021-05-15 23:21:32,567 - mmdet - INFO - Epoch [39][150/655]\tlr: 1.000e-06, eta: 0:14:32, time: 0.751, data_time: 0.006, memory: 5380, loss_rpn_cls: 0.0689, loss_rpn_bbox: 0.0590, loss_cls: 0.3219, acc: 89.7979, loss_bbox: 0.4154, loss: 0.8651, grad_norm: 10.5264\n",
      "2021-05-15 23:22:10,110 - mmdet - INFO - Epoch [39][200/655]\tlr: 1.000e-06, eta: 0:13:54, time: 0.751, data_time: 0.006, memory: 5380, loss_rpn_cls: 0.0691, loss_rpn_bbox: 0.0676, loss_cls: 0.2933, acc: 90.7822, loss_bbox: 0.3693, loss: 0.7994, grad_norm: 10.3016\n",
      "2021-05-15 23:22:48,354 - mmdet - INFO - Epoch [39][250/655]\tlr: 1.000e-06, eta: 0:13:17, time: 0.765, data_time: 0.006, memory: 5380, loss_rpn_cls: 0.0617, loss_rpn_bbox: 0.0544, loss_cls: 0.3037, acc: 90.5400, loss_bbox: 0.3795, loss: 0.7994, grad_norm: 10.5045\n",
      "2021-05-15 23:23:26,201 - mmdet - INFO - Epoch [39][300/655]\tlr: 1.000e-06, eta: 0:12:39, time: 0.757, data_time: 0.006, memory: 5380, loss_rpn_cls: 0.0658, loss_rpn_bbox: 0.0579, loss_cls: 0.2906, acc: 90.6777, loss_bbox: 0.3785, loss: 0.7928, grad_norm: 10.6645\n",
      "2021-05-15 23:24:03,760 - mmdet - INFO - Epoch [39][350/655]\tlr: 1.000e-06, eta: 0:12:02, time: 0.751, data_time: 0.006, memory: 5380, loss_rpn_cls: 0.0639, loss_rpn_bbox: 0.0610, loss_cls: 0.3111, acc: 90.2822, loss_bbox: 0.3939, loss: 0.8299, grad_norm: 10.3875\n",
      "2021-05-15 23:24:41,298 - mmdet - INFO - Epoch [39][400/655]\tlr: 1.000e-06, eta: 0:11:24, time: 0.751, data_time: 0.006, memory: 5380, loss_rpn_cls: 0.0728, loss_rpn_bbox: 0.0689, loss_cls: 0.3337, acc: 89.3105, loss_bbox: 0.4349, loss: 0.9104, grad_norm: 10.9886\n",
      "2021-05-15 23:25:18,987 - mmdet - INFO - Epoch [39][450/655]\tlr: 1.000e-06, eta: 0:10:46, time: 0.754, data_time: 0.006, memory: 5380, loss_rpn_cls: 0.0707, loss_rpn_bbox: 0.0626, loss_cls: 0.3158, acc: 89.9297, loss_bbox: 0.4180, loss: 0.8671, grad_norm: 10.8251\n",
      "2021-05-15 23:25:56,671 - mmdet - INFO - Epoch [39][500/655]\tlr: 1.000e-06, eta: 0:10:09, time: 0.754, data_time: 0.006, memory: 5380, loss_rpn_cls: 0.0688, loss_rpn_bbox: 0.0627, loss_cls: 0.3176, acc: 89.9883, loss_bbox: 0.4060, loss: 0.8551, grad_norm: 10.7734\n",
      "2021-05-15 23:26:34,465 - mmdet - INFO - Epoch [39][550/655]\tlr: 1.000e-06, eta: 0:09:31, time: 0.756, data_time: 0.006, memory: 5380, loss_rpn_cls: 0.0848, loss_rpn_bbox: 0.0741, loss_cls: 0.3238, acc: 89.7236, loss_bbox: 0.4112, loss: 0.8939, grad_norm: 11.1005\n",
      "2021-05-15 23:27:12,050 - mmdet - INFO - Epoch [39][600/655]\tlr: 1.000e-06, eta: 0:08:54, time: 0.752, data_time: 0.006, memory: 5380, loss_rpn_cls: 0.0620, loss_rpn_bbox: 0.0541, loss_cls: 0.3053, acc: 90.5342, loss_bbox: 0.3781, loss: 0.7996, grad_norm: 10.3562\n",
      "2021-05-15 23:27:49,542 - mmdet - INFO - Epoch [39][650/655]\tlr: 1.000e-06, eta: 0:08:16, time: 0.750, data_time: 0.006, memory: 5380, loss_rpn_cls: 0.0674, loss_rpn_bbox: 0.0634, loss_cls: 0.3093, acc: 90.1377, loss_bbox: 0.3922, loss: 0.8323, grad_norm: 10.4858\n",
      "2021-05-15 23:27:53,340 - mmdet - INFO - Saving checkpoint at 39 epochs\n"
     ]
    },
    {
     "name": "stdout",
     "output_type": "stream",
     "text": [
      "[>>>>>>>>>>>>>>>>>>>>>>>>>>>>>] 655/655, 10.3 task/s, elapsed: 64s, ETA:     0s"
     ]
    },
    {
     "name": "stderr",
     "output_type": "stream",
     "text": [
      "2021-05-15 23:28:59,367 - mmdet - INFO - Evaluating bbox...\n"
     ]
    },
    {
     "name": "stdout",
     "output_type": "stream",
     "text": [
      "Loading and preparing results...\n",
      "DONE (t=0.88s)\n",
      "creating index...\n",
      "index created!\n",
      "Running per image evaluation...\n",
      "Evaluate annotation type *bbox*\n",
      "DONE (t=6.73s).\n",
      "Accumulating evaluation results...\n"
     ]
    },
    {
     "name": "stderr",
     "output_type": "stream",
     "text": [
      "2021-05-15 23:29:07,973 - mmdet - INFO - Epoch(val) [39][655]\tbbox_mAP: 0.1000, bbox_mAP_50: 0.2180, bbox_mAP_75: 0.0790, bbox_mAP_s: 0.0060, bbox_mAP_m: 0.0710, bbox_mAP_l: 0.2270, bbox_mAP_copypaste: 0.100 0.218 0.079 0.006 0.071 0.227\n"
     ]
    },
    {
     "name": "stdout",
     "output_type": "stream",
     "text": [
      "DONE (t=0.91s).\n",
      "Average Precision  (AP) @[ IoU=0.50:0.95 | area=   all | maxDets=100 ] = 0.100\n",
      "Average Precision  (AP) @[ IoU=0.50      | area=   all | maxDets=1000 ] = 0.218\n",
      "Average Precision  (AP) @[ IoU=0.75      | area=   all | maxDets=1000 ] = 0.079\n",
      "Average Precision  (AP) @[ IoU=0.50:0.95 | area= small | maxDets=1000 ] = 0.006\n",
      "Average Precision  (AP) @[ IoU=0.50:0.95 | area=medium | maxDets=1000 ] = 0.071\n",
      "Average Precision  (AP) @[ IoU=0.50:0.95 | area= large | maxDets=1000 ] = 0.227\n",
      "Average Recall     (AR) @[ IoU=0.50:0.95 | area=   all | maxDets=100 ] = 0.202\n",
      "Average Recall     (AR) @[ IoU=0.50:0.95 | area=   all | maxDets=300 ] = 0.202\n",
      "Average Recall     (AR) @[ IoU=0.50:0.95 | area=   all | maxDets=1000 ] = 0.202\n",
      "Average Recall     (AR) @[ IoU=0.50:0.95 | area= small | maxDets=1000 ] = 0.021\n",
      "Average Recall     (AR) @[ IoU=0.50:0.95 | area=medium | maxDets=1000 ] = 0.162\n",
      "Average Recall     (AR) @[ IoU=0.50:0.95 | area= large | maxDets=1000 ] = 0.419\n"
     ]
    },
    {
     "name": "stderr",
     "output_type": "stream",
     "text": [
      "2021-05-15 23:29:47,779 - mmdet - INFO - Epoch [40][50/655]\tlr: 1.000e-06, eta: 0:07:35, time: 0.796, data_time: 0.050, memory: 5380, loss_rpn_cls: 0.0765, loss_rpn_bbox: 0.0714, loss_cls: 0.3036, acc: 90.3682, loss_bbox: 0.3896, loss: 0.8412, grad_norm: 10.8936\n",
      "2021-05-15 23:30:25,326 - mmdet - INFO - Epoch [40][100/655]\tlr: 1.000e-06, eta: 0:06:57, time: 0.751, data_time: 0.006, memory: 5380, loss_rpn_cls: 0.0741, loss_rpn_bbox: 0.0652, loss_cls: 0.3227, acc: 89.8174, loss_bbox: 0.4087, loss: 0.8706, grad_norm: 10.6600\n",
      "2021-05-15 23:31:02,792 - mmdet - INFO - Epoch [40][150/655]\tlr: 1.000e-06, eta: 0:06:19, time: 0.749, data_time: 0.006, memory: 5380, loss_rpn_cls: 0.0604, loss_rpn_bbox: 0.0578, loss_cls: 0.2978, acc: 90.5186, loss_bbox: 0.3795, loss: 0.7955, grad_norm: 10.1559\n",
      "2021-05-15 23:31:40,236 - mmdet - INFO - Epoch [40][200/655]\tlr: 1.000e-06, eta: 0:05:42, time: 0.749, data_time: 0.006, memory: 5380, loss_rpn_cls: 0.0741, loss_rpn_bbox: 0.0596, loss_cls: 0.3104, acc: 90.2422, loss_bbox: 0.4015, loss: 0.8457, grad_norm: 10.6964\n",
      "2021-05-15 23:32:17,892 - mmdet - INFO - Epoch [40][250/655]\tlr: 1.000e-06, eta: 0:05:04, time: 0.753, data_time: 0.006, memory: 5380, loss_rpn_cls: 0.0742, loss_rpn_bbox: 0.0723, loss_cls: 0.3405, acc: 89.2920, loss_bbox: 0.4450, loss: 0.9319, grad_norm: 10.9576\n",
      "2021-05-15 23:32:55,505 - mmdet - INFO - Epoch [40][300/655]\tlr: 1.000e-06, eta: 0:04:27, time: 0.752, data_time: 0.006, memory: 5380, loss_rpn_cls: 0.0684, loss_rpn_bbox: 0.0677, loss_cls: 0.3122, acc: 90.2568, loss_bbox: 0.3967, loss: 0.8450, grad_norm: 10.6434\n",
      "2021-05-15 23:33:33,005 - mmdet - INFO - Epoch [40][350/655]\tlr: 1.000e-06, eta: 0:03:49, time: 0.750, data_time: 0.006, memory: 5380, loss_rpn_cls: 0.0648, loss_rpn_bbox: 0.0577, loss_cls: 0.3124, acc: 90.3369, loss_bbox: 0.3840, loss: 0.8189, grad_norm: 11.0135\n",
      "2021-05-15 23:34:10,393 - mmdet - INFO - Epoch [40][400/655]\tlr: 1.000e-06, eta: 0:03:11, time: 0.748, data_time: 0.006, memory: 5380, loss_rpn_cls: 0.0637, loss_rpn_bbox: 0.0547, loss_cls: 0.2848, acc: 90.8984, loss_bbox: 0.3738, loss: 0.7769, grad_norm: 10.2482\n",
      "2021-05-15 23:34:47,801 - mmdet - INFO - Epoch [40][450/655]\tlr: 1.000e-06, eta: 0:02:34, time: 0.748, data_time: 0.006, memory: 5380, loss_rpn_cls: 0.0753, loss_rpn_bbox: 0.0612, loss_cls: 0.3122, acc: 90.0947, loss_bbox: 0.4050, loss: 0.8537, grad_norm: 11.0342\n",
      "2021-05-15 23:35:25,294 - mmdet - INFO - Epoch [40][500/655]\tlr: 1.000e-06, eta: 0:01:56, time: 0.750, data_time: 0.006, memory: 5380, loss_rpn_cls: 0.0609, loss_rpn_bbox: 0.0507, loss_cls: 0.3081, acc: 90.3486, loss_bbox: 0.3906, loss: 0.8104, grad_norm: 10.8120\n",
      "2021-05-15 23:36:02,839 - mmdet - INFO - Epoch [40][550/655]\tlr: 1.000e-06, eta: 0:01:18, time: 0.751, data_time: 0.006, memory: 5380, loss_rpn_cls: 0.0715, loss_rpn_bbox: 0.0712, loss_cls: 0.3316, acc: 89.6299, loss_bbox: 0.4182, loss: 0.8925, grad_norm: 10.3597\n",
      "2021-05-15 23:36:40,427 - mmdet - INFO - Epoch [40][600/655]\tlr: 1.000e-06, eta: 0:00:41, time: 0.752, data_time: 0.006, memory: 5380, loss_rpn_cls: 0.0620, loss_rpn_bbox: 0.0570, loss_cls: 0.2997, acc: 90.5332, loss_bbox: 0.3887, loss: 0.8074, grad_norm: 10.5342\n",
      "2021-05-15 23:37:18,064 - mmdet - INFO - Epoch [40][650/655]\tlr: 1.000e-06, eta: 0:00:03, time: 0.753, data_time: 0.006, memory: 5380, loss_rpn_cls: 0.0724, loss_rpn_bbox: 0.0677, loss_cls: 0.3296, acc: 89.4346, loss_bbox: 0.4176, loss: 0.8873, grad_norm: 10.4444\n",
      "2021-05-15 23:37:21,854 - mmdet - INFO - Saving checkpoint at 40 epochs\n"
     ]
    },
    {
     "name": "stdout",
     "output_type": "stream",
     "text": [
      "[>>>>>>>>>>>>>>>>>>>>>>>>>>>>>] 655/655, 10.3 task/s, elapsed: 63s, ETA:     0s"
     ]
    },
    {
     "name": "stderr",
     "output_type": "stream",
     "text": [
      "2021-05-15 23:38:27,882 - mmdet - INFO - Evaluating bbox...\n"
     ]
    },
    {
     "name": "stdout",
     "output_type": "stream",
     "text": [
      "Loading and preparing results...\n",
      "DONE (t=0.51s)\n",
      "creating index...\n",
      "index created!\n",
      "Running per image evaluation...\n",
      "Evaluate annotation type *bbox*\n",
      "DONE (t=6.91s).\n",
      "Accumulating evaluation results...\n"
     ]
    },
    {
     "name": "stderr",
     "output_type": "stream",
     "text": [
      "2021-05-15 23:38:36,310 - mmdet - INFO - Epoch(val) [40][655]\tbbox_mAP: 0.1000, bbox_mAP_50: 0.2200, bbox_mAP_75: 0.0790, bbox_mAP_s: 0.0060, bbox_mAP_m: 0.0730, bbox_mAP_l: 0.2280, bbox_mAP_copypaste: 0.100 0.220 0.079 0.006 0.073 0.228\n"
     ]
    },
    {
     "name": "stdout",
     "output_type": "stream",
     "text": [
      "DONE (t=0.92s).\n",
      "Average Precision  (AP) @[ IoU=0.50:0.95 | area=   all | maxDets=100 ] = 0.100\n",
      "Average Precision  (AP) @[ IoU=0.50      | area=   all | maxDets=1000 ] = 0.220\n",
      "Average Precision  (AP) @[ IoU=0.75      | area=   all | maxDets=1000 ] = 0.079\n",
      "Average Precision  (AP) @[ IoU=0.50:0.95 | area= small | maxDets=1000 ] = 0.006\n",
      "Average Precision  (AP) @[ IoU=0.50:0.95 | area=medium | maxDets=1000 ] = 0.073\n",
      "Average Precision  (AP) @[ IoU=0.50:0.95 | area= large | maxDets=1000 ] = 0.228\n",
      "Average Recall     (AR) @[ IoU=0.50:0.95 | area=   all | maxDets=100 ] = 0.207\n",
      "Average Recall     (AR) @[ IoU=0.50:0.95 | area=   all | maxDets=300 ] = 0.207\n",
      "Average Recall     (AR) @[ IoU=0.50:0.95 | area=   all | maxDets=1000 ] = 0.207\n",
      "Average Recall     (AR) @[ IoU=0.50:0.95 | area= small | maxDets=1000 ] = 0.020\n",
      "Average Recall     (AR) @[ IoU=0.50:0.95 | area=medium | maxDets=1000 ] = 0.165\n",
      "Average Recall     (AR) @[ IoU=0.50:0.95 | area= large | maxDets=1000 ] = 0.424\n"
     ]
    }
   ],
   "source": [
    "train_detector(model, datasets[0], cfg, distributed=False, validate=True)"
   ]
  },
  {
   "cell_type": "code",
   "execution_count": 6,
   "metadata": {
    "tags": []
   },
   "outputs": [
    {
     "name": "stdout",
     "output_type": "stream",
     "text": [
      "Package                Version             Location                      \n",
      "---------------------- ------------------- ------------------------------\n",
      "adamp                  0.3.0               \n",
      "addict                 2.4.0               \n",
      "albumentations         0.5.2               \n",
      "anyio                  2.2.0               \n",
      "appdirs                1.4.4               \n",
      "argon2-cffi            20.1.0              \n",
      "async-generator        1.10                \n",
      "asynctest              0.13.0              \n",
      "attrs                  21.2.0              \n",
      "Babel                  2.9.1               \n",
      "backcall               0.2.0               \n",
      "bcrypt                 3.2.0               \n",
      "beautifulsoup4         4.9.1               \n",
      "bleach                 3.3.0               \n",
      "boto3                  1.17.69             \n",
      "botocore               1.20.69             \n",
      "certifi                2020.12.5           \n",
      "cffi                   1.14.0              \n",
      "chardet                3.0.4               \n",
      "cityscapesScripts      2.2.0               \n",
      "click                  7.1.2               \n",
      "codecov                2.1.11              \n",
      "colorama               0.4.4               \n",
      "coloredlogs            15.0                \n",
      "conda                  4.10.1              \n",
      "conda-build            3.18.11             \n",
      "conda-package-handling 1.7.0               \n",
      "coverage               5.5                 \n",
      "cryptography           2.9.2               \n",
      "cycler                 0.10.0              \n",
      "Cython                 0.29.23             \n",
      "decorator              4.4.2               \n",
      "defusedxml             0.7.1               \n",
      "deprecation            2.1.0               \n",
      "effdet                 0.2.4               \n",
      "entrypoints            0.3                 \n",
      "filelock               3.0.12              \n",
      "flake8                 3.9.2               \n",
      "future                 0.18.2              \n",
      "gevent                 21.1.2              \n",
      "glob2                  0.7                 \n",
      "greenlet               1.1.0               \n",
      "humanfriendly          9.1                 \n",
      "idna                   2.9                 \n",
      "imagecorruptions       1.1.2               \n",
      "imageio                2.9.0               \n",
      "imgaug                 0.4.0               \n",
      "importlib-metadata     4.0.1               \n",
      "iniconfig              1.1.1               \n",
      "inotify-simple         1.2.1               \n",
      "interrogate            1.3.2               \n",
      "ipykernel              5.5.4               \n",
      "ipython                7.16.1              \n",
      "ipython-genutils       0.2.0               \n",
      "ipywidgets             7.6.3               \n",
      "isort                  4.3.21              \n",
      "jedi                   0.17.1              \n",
      "Jinja2                 2.11.2              \n",
      "jmespath               0.10.0              \n",
      "joblib                 1.0.1               \n",
      "json5                  0.9.5               \n",
      "jsonschema             3.2.0               \n",
      "jupyter-client         6.1.12              \n",
      "jupyter-core           4.7.1               \n",
      "jupyter-packaging      0.10.1              \n",
      "jupyter-server         1.6.4               \n",
      "jupyterlab             3.0.14              \n",
      "jupyterlab-pygments    0.1.2               \n",
      "jupyterlab-server      2.5.0               \n",
      "jupyterlab-widgets     1.0.0               \n",
      "kiwisolver             1.3.1               \n",
      "kwarray                0.5.16              \n",
      "libarchive-c           2.9                 \n",
      "map-boxes              1.0.5               \n",
      "MarkupSafe             1.1.1               \n",
      "matplotlib             3.4.2               \n",
      "mccabe                 0.6.1               \n",
      "mistune                0.8.4               \n",
      "mkl-fft                1.1.0               \n",
      "mkl-random             1.1.1               \n",
      "mkl-service            2.3.0               \n",
      "mmcv-full              1.3.3               \n",
      "mmdet                  2.11.0              /opt/ml/code/mmdetection_trash\n",
      "mmlvis                 10.5.3              \n",
      "mmpycocotools          12.0.3              \n",
      "nbclassic              0.2.7               \n",
      "nbclient               0.5.3               \n",
      "nbconvert              6.0.7               \n",
      "nbformat               5.1.3               \n",
      "nest-asyncio           1.5.1               \n",
      "networkx               2.5.1               \n",
      "notebook               6.3.0               \n",
      "numpy                  1.18.5              \n",
      "olefile                0.46                \n",
      "omegaconf              2.0.6               \n",
      "onnx                   1.7.0               \n",
      "onnxruntime            1.5.1               \n",
      "opencv-python          4.5.2.52            \n",
      "opencv-python-headless 4.5.2.52            \n",
      "ordered-set            4.0.2               \n",
      "packaging              20.9                \n",
      "pandas                 1.2.4               \n",
      "pandocfilters          1.4.3               \n",
      "paramiko               2.7.2               \n",
      "parso                  0.7.0               \n",
      "pexpect                4.8.0               \n",
      "pickleshare            0.7.5               \n",
      "Pillow                 7.2.0               \n",
      "pip                    20.0.2              \n",
      "pkginfo                1.5.0.1             \n",
      "pluggy                 0.13.1              \n",
      "prometheus-client      0.10.1              \n",
      "prompt-toolkit         3.0.5               \n",
      "protobuf               3.16.0              \n",
      "psutil                 5.7.0               \n",
      "ptyprocess             0.6.0               \n",
      "py                     1.10.0              \n",
      "pycodestyle            2.7.0               \n",
      "pycosat                0.6.3               \n",
      "pycparser              2.20                \n",
      "pyflakes               2.3.1               \n",
      "Pygments               2.6.1               \n",
      "PyNaCl                 1.4.0               \n",
      "pyOpenSSL              19.1.0              \n",
      "pyparsing              2.4.7               \n",
      "pyquaternion           0.9.9               \n",
      "pyrsistent             0.17.3              \n",
      "PySocks                1.7.1               \n",
      "pytest                 6.2.4               \n",
      "python-dateutil        2.8.1               \n",
      "pytz                   2020.1              \n",
      "PyWavelets             1.1.1               \n",
      "PyYAML                 5.3.1               \n",
      "pyzmq                  22.0.3              \n",
      "requests               2.23.0              \n",
      "retrying               1.3.3               \n",
      "ruamel-yaml            0.15.87             \n",
      "s3transfer             0.4.2               \n",
      "sagemaker-training     3.9.2               \n",
      "scikit-image           0.18.1              \n",
      "scikit-learn           0.24.2              \n",
      "scipy                  1.6.3               \n",
      "seaborn                0.11.1              \n",
      "Send2Trash             1.5.0               \n",
      "setuptools             46.4.0.post20200518 \n",
      "Shapely                1.7.1               \n",
      "six                    1.14.0              \n",
      "sklearn                0.0                 \n",
      "sniffio                1.2.0               \n",
      "soupsieve              2.0.1               \n",
      "tabulate               0.8.9               \n",
      "terminado              0.9.4               \n",
      "terminaltables         3.1.0               \n",
      "testpath               0.4.4               \n",
      "threadpoolctl          2.1.0               \n",
      "tifffile               2021.4.8            \n",
      "timm                   0.4.5               \n",
      "toml                   0.10.2              \n",
      "tomlkit                0.7.0               \n",
      "torch                  1.6.0               \n",
      "torchvision            0.7.0               \n",
      "tornado                6.1                 \n",
      "tqdm                   4.46.0              \n",
      "traitlets              4.3.3               \n",
      "typing                 3.7.4.3             \n",
      "typing-extensions      3.10.0.0            \n",
      "ubelt                  0.9.5               \n",
      "urllib3                1.25.8              \n",
      "wcwidth                0.2.5               \n",
      "webencodings           0.5.1               \n",
      "Werkzeug               1.0.1               \n",
      "wheel                  0.34.2              \n",
      "widgetsnbextension     3.5.1               \n",
      "xdoctest               0.15.4              \n",
      "yapf                   0.31.0              \n",
      "zipp                   3.4.1               \n",
      "zope.event             4.5.0               \n",
      "zope.interface         5.4.0               \n"
     ]
    }
   ],
   "source": [
    "!pip list"
   ]
  },
  {
   "cell_type": "code",
   "execution_count": null,
   "metadata": {},
   "outputs": [],
   "source": []
  }
 ],
 "metadata": {
  "kernelspec": {
   "display_name": "Python 3",
   "language": "python",
   "name": "python3"
  },
  "language_info": {
   "codemirror_mode": {
    "name": "ipython",
    "version": 3
   },
   "file_extension": ".py",
   "mimetype": "text/x-python",
   "name": "python",
   "nbconvert_exporter": "python",
   "pygments_lexer": "ipython3",
   "version": "3.7.7"
  },
  "pycharm": {
   "stem_cell": {
    "cell_type": "raw",
    "metadata": {
     "collapsed": false
    },
    "source": []
   }
  }
 },
 "nbformat": 4,
 "nbformat_minor": 4
}
