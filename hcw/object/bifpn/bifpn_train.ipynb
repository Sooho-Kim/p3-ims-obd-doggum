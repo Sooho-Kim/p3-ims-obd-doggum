{
 "cells": [
  {
   "cell_type": "code",
   "execution_count": 1,
   "metadata": {
    "pycharm": {
     "name": "#%%\n"
    }
   },
   "outputs": [
    {
     "name": "stderr",
     "output_type": "stream",
     "text": [
      "/opt/conda/lib/python3.7/site-packages/mmcv/utils/registry.py:250: UserWarning: The old API of register_module(module, force=False) is deprecated and will be removed, please use the new API register_module(name=None, force=False, module=None) instead.\n",
      "  'The old API of register_module(module, force=False) '\n"
     ]
    }
   ],
   "source": [
    "from mmcv import Config\n",
    "from mmdet.datasets import build_dataset\n",
    "from mmdet.models import build_detector\n",
    "from mmdet.apis import train_detector\n",
    "from mmdet.datasets import (build_dataloader, build_dataset,\n",
    "                            replace_ImageToTensor)"
   ]
  },
  {
   "cell_type": "code",
   "execution_count": 2,
   "metadata": {
    "pycharm": {
     "name": "#%%\n"
    }
   },
   "outputs": [],
   "source": [
    "classes = (\"UNKNOWN\", \"General trash\", \"Paper\", \"Paper pack\", \"Metal\", \"Glass\", \n",
    "           \"Plastic\", \"Styrofoam\", \"Plastic bag\", \"Battery\", \"Clothing\")\n",
    "# config file 들고오기\n",
    "cfg = Config.fromfile('./configs/trash/faster_rcnn/faster_rcnn_r50_bifpn_1x_trash.py')\n",
    "\n",
    "PREFIX = '../../input/data/'\n",
    "\n",
    "\n",
    "# dataset 바꾸기\n",
    "cfg.data.train.classes = classes\n",
    "cfg.data.train.img_prefix = PREFIX\n",
    "cfg.data.train.ann_file = PREFIX + 'train.json'\n",
    "cfg.data.train.pipeline[2]['img_scale'] = (512, 512)\n",
    "\n",
    "cfg.data.val.classes = classes\n",
    "cfg.data.val.img_prefix = PREFIX\n",
    "cfg.data.val.ann_file = PREFIX + 'val.json'\n",
    "cfg.data.val.pipeline[1]['img_scale'] = (512, 512)\n",
    "\n",
    "cfg.data.test.classes = classes\n",
    "cfg.data.test.img_prefix = PREFIX\n",
    "cfg.data.test.ann_file = PREFIX + 'test.json'\n",
    "cfg.data.test.pipeline[1]['img_scale'] = (512, 512)\n",
    "\n",
    "cfg.data.samples_per_gpu = 4\n",
    "\n",
    "cfg.seed=2020\n",
    "cfg.gpu_ids = [0]\n",
    "cfg.work_dir = './work_dirs/bifpn_faster_rcnn_r50_1x_trash'\n",
    "\n",
    "cfg.model.roi_head.bbox_head.num_classes = 11\n",
    "\n",
    "cfg.optimizer_config.grad_clip = dict(max_norm=35, norm_type=2)"
   ]
  },
  {
   "cell_type": "code",
   "execution_count": 3,
   "metadata": {
    "pycharm": {
     "name": "#%%\n"
    }
   },
   "outputs": [
    {
     "name": "stderr",
     "output_type": "stream",
     "text": [
      "2021-05-14 04:30:55,192 - mmdet - INFO - load model from: torchvision://resnet50\n",
      "2021-05-14 04:30:55,193 - mmdet - INFO - Use load_from_torchvision loader\n",
      "2021-05-14 04:30:55,421 - mmdet - WARNING - The model and loaded state dict do not match exactly\n",
      "\n",
      "unexpected key in source state_dict: fc.weight, fc.bias\n",
      "\n"
     ]
    }
   ],
   "source": [
    "model = build_detector(cfg.model)"
   ]
  },
  {
   "cell_type": "code",
   "execution_count": 4,
   "metadata": {
    "pycharm": {
     "name": "#%%\n"
    }
   },
   "outputs": [
    {
     "name": "stdout",
     "output_type": "stream",
     "text": [
      "loading annotations into memory...\n",
      "Done (t=3.24s)\n",
      "creating index...\n",
      "index created!\n"
     ]
    }
   ],
   "source": [
    "datasets = [build_dataset(cfg.data.train)]"
   ]
  },
  {
   "cell_type": "code",
   "execution_count": null,
   "metadata": {},
   "outputs": [],
   "source": [
    "# checkpoint path\n",
    "epoch = 12\n",
    "checkpoint_path = os.path.join(cfg.work_dir, f'epoch_{epoch}.pth')"
   ]
  },
  {
   "cell_type": "code",
   "execution_count": 5,
   "metadata": {
    "pycharm": {
     "name": "#%%\n"
    },
    "tags": []
   },
   "outputs": [
    {
     "name": "stdout",
     "output_type": "stream",
     "text": [
      "loading annotations into memory...\n"
     ]
    },
    {
     "name": "stderr",
     "output_type": "stream",
     "text": [
      "2021-05-14 04:31:02,915 - mmdet - INFO - Start running, host: root@3c39225fc7a4, work_dir: /opt/ml/code/mmdetection_trash/work_dirs/bifpn_faster_rcnn_r50_1x_trash\n",
      "2021-05-14 04:31:02,918 - mmdet - INFO - workflow: [('train', 1)], max: 12 epochs\n"
     ]
    },
    {
     "name": "stdout",
     "output_type": "stream",
     "text": [
      "Done (t=1.21s)\n",
      "creating index...\n",
      "index created!\n"
     ]
    },
    {
     "name": "stderr",
     "output_type": "stream",
     "text": [
      "2021-05-14 04:31:17,464 - mmdet - INFO - Epoch [1][50/655]\tlr: 1.978e-03, eta: 0:37:51, time: 0.291, data_time: 0.049, memory: 2055, loss_rpn_cls: 0.6123, loss_rpn_bbox: 0.0002, loss_cls: 0.6391, acc: 84.4685, loss_bbox: 0.0034, loss: 1.2549, grad_norm: 3.9778\n",
      "2021-05-14 04:31:29,590 - mmdet - INFO - Epoch [1][100/655]\tlr: 3.976e-03, eta: 0:34:29, time: 0.243, data_time: 0.006, memory: 2060, loss_rpn_cls: 0.2403, loss_rpn_bbox: 0.0003, loss_cls: 0.0792, acc: 97.3787, loss_bbox: 0.0056, loss: 0.3254, grad_norm: 0.8342\n",
      "2021-05-14 04:31:41,704 - mmdet - INFO - Epoch [1][150/655]\tlr: 5.974e-03, eta: 0:33:13, time: 0.242, data_time: 0.006, memory: 2060, loss_rpn_cls: 0.0519, loss_rpn_bbox: 0.0007, loss_cls: 0.0783, acc: 97.4894, loss_bbox: 0.0082, loss: 0.1391, grad_norm: 0.6300\n",
      "2021-05-14 04:31:53,707 - mmdet - INFO - Epoch [1][200/655]\tlr: 7.972e-03, eta: 0:32:24, time: 0.240, data_time: 0.006, memory: 2060, loss_rpn_cls: 0.0226, loss_rpn_bbox: 0.0005, loss_cls: 0.0876, acc: 97.2452, loss_bbox: 0.0111, loss: 0.1218, grad_norm: 0.7097\n",
      "2021-05-14 04:32:05,898 - mmdet - INFO - Epoch [1][250/655]\tlr: 9.970e-03, eta: 0:31:56, time: 0.244, data_time: 0.006, memory: 2060, loss_rpn_cls: 0.0150, loss_rpn_bbox: 0.0007, loss_cls: 0.0757, acc: 97.4842, loss_bbox: 0.0076, loss: 0.0989, grad_norm: 0.6001\n",
      "2021-05-14 04:32:18,033 - mmdet - INFO - Epoch [1][300/655]\tlr: 1.197e-02, eta: 0:31:32, time: 0.243, data_time: 0.006, memory: 2060, loss_rpn_cls: 0.0082, loss_rpn_bbox: 0.0003, loss_cls: 0.0662, acc: 98.3468, loss_bbox: 0.0049, loss: 0.0796, grad_norm: 0.2630\n",
      "2021-05-14 04:32:30,250 - mmdet - INFO - Epoch [1][350/655]\tlr: 1.397e-02, eta: 0:31:13, time: 0.244, data_time: 0.006, memory: 2065, loss_rpn_cls: 0.0142, loss_rpn_bbox: 0.0013, loss_cls: 0.0828, acc: 98.1420, loss_bbox: 0.0112, loss: 0.1095, grad_norm: 0.5675\n",
      "2021-05-14 04:32:42,641 - mmdet - INFO - Epoch [1][400/655]\tlr: 1.596e-02, eta: 0:30:59, time: 0.248, data_time: 0.007, memory: 2069, loss_rpn_cls: 0.0094, loss_rpn_bbox: 0.0007, loss_cls: 0.0813, acc: 98.2258, loss_bbox: 0.0082, loss: 0.0996, grad_norm: 0.3984\n",
      "2021-05-14 04:32:54,679 - mmdet - INFO - Epoch [1][450/655]\tlr: 1.796e-02, eta: 0:30:40, time: 0.241, data_time: 0.006, memory: 2069, loss_rpn_cls: 0.0050, loss_rpn_bbox: 0.0003, loss_cls: 0.0660, acc: 98.4104, loss_bbox: 0.0047, loss: 0.0759, grad_norm: 0.2412\n",
      "2021-05-14 04:33:06,960 - mmdet - INFO - Epoch [1][500/655]\tlr: 1.996e-02, eta: 0:30:25, time: 0.246, data_time: 0.007, memory: 2069, loss_rpn_cls: 0.0050, loss_rpn_bbox: 0.0002, loss_cls: 0.0651, acc: 98.2663, loss_bbox: 0.0052, loss: 0.0756, grad_norm: 0.2825\n",
      "2021-05-14 04:33:18,960 - mmdet - INFO - Epoch [1][550/655]\tlr: 2.000e-02, eta: 0:30:08, time: 0.240, data_time: 0.006, memory: 2069, loss_rpn_cls: 0.0029, loss_rpn_bbox: 0.0002, loss_cls: 0.0684, acc: 98.0500, loss_bbox: 0.0052, loss: 0.0767, grad_norm: 0.1510\n",
      "2021-05-14 04:33:31,071 - mmdet - INFO - Epoch [1][600/655]\tlr: 2.000e-02, eta: 0:29:52, time: 0.242, data_time: 0.006, memory: 2069, loss_rpn_cls: 0.0081, loss_rpn_bbox: 0.0008, loss_cls: 0.0603, acc: 98.5318, loss_bbox: 0.0067, loss: 0.0758, grad_norm: 0.2073\n",
      "2021-05-14 04:33:43,334 - mmdet - INFO - Epoch [1][650/655]\tlr: 2.000e-02, eta: 0:29:39, time: 0.245, data_time: 0.006, memory: 2102, loss_rpn_cls: 0.0079, loss_rpn_bbox: 0.0007, loss_cls: 0.0547, acc: 98.6026, loss_bbox: 0.0054, loss: 0.0687, grad_norm: 0.2551\n",
      "2021-05-14 04:33:44,615 - mmdet - INFO - Saving checkpoint at 1 epochs\n"
     ]
    },
    {
     "name": "stdout",
     "output_type": "stream",
     "text": [
      "[>>>>>>>>>>>>>>>>>>>>>>>>>>>>>] 655/655, 23.6 task/s, elapsed: 28s, ETA:     0s"
     ]
    },
    {
     "name": "stderr",
     "output_type": "stream",
     "text": [
      "2021-05-14 04:34:13,120 - mmdet - INFO - Evaluating bbox...\n",
      "2021-05-14 04:34:13,121 - mmdet - ERROR - The testing results of the whole dataset is empty.\n",
      "2021-05-14 04:34:13,124 - mmdet - INFO - Epoch(val) [1][655]\t\n"
     ]
    },
    {
     "name": "stdout",
     "output_type": "stream",
     "text": [
      "Loading and preparing results...\n"
     ]
    },
    {
     "name": "stderr",
     "output_type": "stream",
     "text": [
      "2021-05-14 04:34:27,642 - mmdet - INFO - Epoch [2][50/655]\tlr: 2.000e-02, eta: 0:29:35, time: 0.290, data_time: 0.049, memory: 2109, loss_rpn_cls: 0.0037, loss_rpn_bbox: 0.0003, loss_cls: 0.0545, acc: 98.5755, loss_bbox: 0.0057, loss: 0.0641, grad_norm: 0.1191\n",
      "2021-05-14 04:34:39,993 - mmdet - INFO - Epoch [2][100/655]\tlr: 2.000e-02, eta: 0:29:22, time: 0.247, data_time: 0.006, memory: 2109, loss_rpn_cls: 0.0076, loss_rpn_bbox: 0.0007, loss_cls: 0.0576, acc: 98.5561, loss_bbox: 0.0069, loss: 0.0728, grad_norm: 0.2348\n",
      "2021-05-14 04:34:52,323 - mmdet - INFO - Epoch [2][150/655]\tlr: 2.000e-02, eta: 0:29:09, time: 0.247, data_time: 0.006, memory: 2109, loss_rpn_cls: 0.0110, loss_rpn_bbox: 0.0008, loss_cls: 0.0517, acc: 98.8155, loss_bbox: 0.0064, loss: 0.0700, grad_norm: 0.2731\n",
      "2021-05-14 04:35:04,663 - mmdet - INFO - Epoch [2][200/655]\tlr: 2.000e-02, eta: 0:28:56, time: 0.247, data_time: 0.006, memory: 2109, loss_rpn_cls: 0.0038, loss_rpn_bbox: 0.0003, loss_cls: 0.0485, acc: 98.7711, loss_bbox: 0.0047, loss: 0.0572, grad_norm: 0.1241\n",
      "2021-05-14 04:35:16,965 - mmdet - INFO - Epoch [2][250/655]\tlr: 2.000e-02, eta: 0:28:43, time: 0.246, data_time: 0.006, memory: 2109, loss_rpn_cls: 0.0033, loss_rpn_bbox: 0.0002, loss_cls: 0.0484, acc: 98.6879, loss_bbox: 0.0038, loss: 0.0557, grad_norm: 0.1206\n",
      "2021-05-14 04:35:29,208 - mmdet - INFO - Epoch [2][300/655]\tlr: 2.000e-02, eta: 0:28:29, time: 0.245, data_time: 0.006, memory: 2109, loss_rpn_cls: 0.0037, loss_rpn_bbox: 0.0002, loss_cls: 0.0484, acc: 98.7535, loss_bbox: 0.0046, loss: 0.0569, grad_norm: 0.1263\n",
      "2021-05-14 04:35:41,519 - mmdet - INFO - Epoch [2][350/655]\tlr: 2.000e-02, eta: 0:28:16, time: 0.246, data_time: 0.006, memory: 2109, loss_rpn_cls: 0.0035, loss_rpn_bbox: 0.0002, loss_cls: 0.0532, acc: 98.5912, loss_bbox: 0.0048, loss: 0.0617, grad_norm: 0.1371\n",
      "2021-05-14 04:35:53,757 - mmdet - INFO - Epoch [2][400/655]\tlr: 2.000e-02, eta: 0:28:03, time: 0.245, data_time: 0.006, memory: 2109, loss_rpn_cls: 0.0028, loss_rpn_bbox: 0.0002, loss_cls: 0.0507, acc: 98.6112, loss_bbox: 0.0050, loss: 0.0588, grad_norm: 0.1099\n",
      "2021-05-14 04:36:06,051 - mmdet - INFO - Epoch [2][450/655]\tlr: 2.000e-02, eta: 0:27:50, time: 0.246, data_time: 0.006, memory: 2109, loss_rpn_cls: 0.0072, loss_rpn_bbox: 0.0008, loss_cls: 0.0589, acc: 98.3801, loss_bbox: 0.0095, loss: 0.0764, grad_norm: 0.2171\n",
      "2021-05-14 04:36:18,436 - mmdet - INFO - Epoch [2][500/655]\tlr: 2.000e-02, eta: 0:27:38, time: 0.248, data_time: 0.006, memory: 2109, loss_rpn_cls: 0.0068, loss_rpn_bbox: 0.0007, loss_cls: 0.0592, acc: 98.4121, loss_bbox: 0.0085, loss: 0.0753, grad_norm: 0.1762\n",
      "2021-05-14 04:36:30,800 - mmdet - INFO - Epoch [2][550/655]\tlr: 2.000e-02, eta: 0:27:26, time: 0.247, data_time: 0.006, memory: 2109, loss_rpn_cls: 0.0110, loss_rpn_bbox: 0.0015, loss_cls: 0.0522, acc: 98.5932, loss_bbox: 0.0058, loss: 0.0704, grad_norm: 0.1890\n",
      "2021-05-14 04:36:43,009 - mmdet - INFO - Epoch [2][600/655]\tlr: 2.000e-02, eta: 0:27:12, time: 0.244, data_time: 0.006, memory: 2109, loss_rpn_cls: 0.0034, loss_rpn_bbox: 0.0003, loss_cls: 0.0471, acc: 98.6404, loss_bbox: 0.0062, loss: 0.0570, grad_norm: 0.1151\n",
      "2021-05-14 04:36:55,256 - mmdet - INFO - Epoch [2][650/655]\tlr: 2.000e-02, eta: 0:27:00, time: 0.245, data_time: 0.006, memory: 2109, loss_rpn_cls: 0.0035, loss_rpn_bbox: 0.0004, loss_cls: 0.0452, acc: 98.5676, loss_bbox: 0.0027, loss: 0.0518, grad_norm: 0.0888\n",
      "2021-05-14 04:36:56,554 - mmdet - INFO - Saving checkpoint at 2 epochs\n"
     ]
    },
    {
     "name": "stdout",
     "output_type": "stream",
     "text": [
      "[>>>>>>>>>>>>>>>>>>>>>>>>>>>>>] 655/655, 23.7 task/s, elapsed: 28s, ETA:     0s"
     ]
    },
    {
     "name": "stderr",
     "output_type": "stream",
     "text": [
      "2021-05-14 04:37:25,030 - mmdet - INFO - Evaluating bbox...\n"
     ]
    },
    {
     "name": "stdout",
     "output_type": "stream",
     "text": [
      "Loading and preparing results...\n",
      "DONE (t=0.00s)\n",
      "creating index...\n",
      "index created!\n",
      "Running per image evaluation...\n",
      "Evaluate annotation type *bbox*\n"
     ]
    },
    {
     "name": "stderr",
     "output_type": "stream",
     "text": [
      "2021-05-14 04:37:25,595 - mmdet - INFO - Epoch(val) [2][655]\tbbox_mAP: 0.0000, bbox_mAP_50: 0.0000, bbox_mAP_75: 0.0000, bbox_mAP_s: 0.0000, bbox_mAP_m: 0.0000, bbox_mAP_l: 0.0000, bbox_mAP_copypaste: 0.000 0.000 0.000 0.000 0.000 0.000\n"
     ]
    },
    {
     "name": "stdout",
     "output_type": "stream",
     "text": [
      "DONE (t=0.42s).\n",
      "Accumulating evaluation results...\n",
      "DONE (t=0.12s).\n",
      "Average Precision  (AP) @[ IoU=0.50:0.95 | area=   all | maxDets=100 ] = 0.000\n",
      "Average Precision  (AP) @[ IoU=0.50      | area=   all | maxDets=1000 ] = 0.000\n",
      "Average Precision  (AP) @[ IoU=0.75      | area=   all | maxDets=1000 ] = 0.000\n",
      "Average Precision  (AP) @[ IoU=0.50:0.95 | area= small | maxDets=1000 ] = 0.000\n",
      "Average Precision  (AP) @[ IoU=0.50:0.95 | area=medium | maxDets=1000 ] = 0.000\n",
      "Average Precision  (AP) @[ IoU=0.50:0.95 | area= large | maxDets=1000 ] = 0.000\n",
      "Average Recall     (AR) @[ IoU=0.50:0.95 | area=   all | maxDets=100 ] = 0.000\n",
      "Average Recall     (AR) @[ IoU=0.50:0.95 | area=   all | maxDets=300 ] = 0.000\n",
      "Average Recall     (AR) @[ IoU=0.50:0.95 | area=   all | maxDets=1000 ] = 0.000\n",
      "Average Recall     (AR) @[ IoU=0.50:0.95 | area= small | maxDets=1000 ] = 0.000\n",
      "Average Recall     (AR) @[ IoU=0.50:0.95 | area=medium | maxDets=1000 ] = 0.000\n",
      "Average Recall     (AR) @[ IoU=0.50:0.95 | area= large | maxDets=1000 ] = 0.000\n"
     ]
    },
    {
     "name": "stderr",
     "output_type": "stream",
     "text": [
      "2021-05-14 04:37:40,131 - mmdet - INFO - Epoch [3][50/655]\tlr: 2.000e-02, eta: 0:26:50, time: 0.291, data_time: 0.049, memory: 2109, loss_rpn_cls: 0.0072, loss_rpn_bbox: 0.0007, loss_cls: 0.0519, acc: 98.5752, loss_bbox: 0.0054, loss: 0.0651, grad_norm: 0.1527\n",
      "2021-05-14 04:37:52,438 - mmdet - INFO - Epoch [3][100/655]\tlr: 2.000e-02, eta: 0:26:38, time: 0.246, data_time: 0.006, memory: 2109, loss_rpn_cls: 0.0038, loss_rpn_bbox: 0.0004, loss_cls: 0.0419, acc: 98.7401, loss_bbox: 0.0037, loss: 0.0497, grad_norm: 0.1025\n",
      "2021-05-14 04:38:04,911 - mmdet - INFO - Epoch [3][150/655]\tlr: 2.000e-02, eta: 0:26:26, time: 0.249, data_time: 0.006, memory: 2109, loss_rpn_cls: 0.0032, loss_rpn_bbox: 0.0003, loss_cls: 0.0462, acc: 98.5800, loss_bbox: 0.0047, loss: 0.0545, grad_norm: 0.1031\n",
      "2021-05-14 04:38:17,315 - mmdet - INFO - Epoch [3][200/655]\tlr: 2.000e-02, eta: 0:26:13, time: 0.248, data_time: 0.006, memory: 2109, loss_rpn_cls: 0.0028, loss_rpn_bbox: 0.0004, loss_cls: 0.0418, acc: 98.7156, loss_bbox: 0.0034, loss: 0.0484, grad_norm: 0.0720\n",
      "2021-05-14 04:38:29,657 - mmdet - INFO - Epoch [3][250/655]\tlr: 2.000e-02, eta: 0:26:01, time: 0.247, data_time: 0.006, memory: 2109, loss_rpn_cls: 0.0036, loss_rpn_bbox: 0.0003, loss_cls: 0.0479, acc: 98.5655, loss_bbox: 0.0054, loss: 0.0572, grad_norm: 0.1160\n",
      "2021-05-14 04:38:42,076 - mmdet - INFO - Epoch [3][300/655]\tlr: 2.000e-02, eta: 0:25:48, time: 0.248, data_time: 0.006, memory: 2109, loss_rpn_cls: 0.0023, loss_rpn_bbox: 0.0002, loss_cls: 0.0419, acc: 98.7592, loss_bbox: 0.0031, loss: 0.0476, grad_norm: 0.0700\n",
      "2021-05-14 04:38:54,486 - mmdet - INFO - Epoch [3][350/655]\tlr: 2.000e-02, eta: 0:25:36, time: 0.248, data_time: 0.006, memory: 2109, loss_rpn_cls: 0.0084, loss_rpn_bbox: 0.0008, loss_cls: 0.0515, acc: 98.5858, loss_bbox: 0.0075, loss: 0.0681, grad_norm: 0.1863\n",
      "2021-05-14 04:39:06,944 - mmdet - INFO - Epoch [3][400/655]\tlr: 2.000e-02, eta: 0:25:24, time: 0.249, data_time: 0.006, memory: 2109, loss_rpn_cls: 0.0029, loss_rpn_bbox: 0.0003, loss_cls: 0.0418, acc: 98.7642, loss_bbox: 0.0035, loss: 0.0485, grad_norm: 0.0920\n",
      "2021-05-14 04:39:19,657 - mmdet - INFO - Epoch [3][450/655]\tlr: 2.000e-02, eta: 0:25:13, time: 0.254, data_time: 0.007, memory: 2109, loss_rpn_cls: 0.0049, loss_rpn_bbox: 0.0005, loss_cls: 0.0502, acc: 98.5796, loss_bbox: 0.0059, loss: 0.0616, grad_norm: 0.1541\n",
      "2021-05-14 04:39:32,068 - mmdet - INFO - Epoch [3][500/655]\tlr: 2.000e-02, eta: 0:25:00, time: 0.248, data_time: 0.006, memory: 2109, loss_rpn_cls: 0.0063, loss_rpn_bbox: 0.0008, loss_cls: 0.0498, acc: 98.5778, loss_bbox: 0.0074, loss: 0.0643, grad_norm: 0.1594\n",
      "2021-05-14 04:39:44,244 - mmdet - INFO - Epoch [3][550/655]\tlr: 2.000e-02, eta: 0:24:47, time: 0.244, data_time: 0.006, memory: 2109, loss_rpn_cls: 0.0045, loss_rpn_bbox: 0.0005, loss_cls: 0.0443, acc: 98.7240, loss_bbox: 0.0069, loss: 0.0563, grad_norm: 0.1595\n",
      "2021-05-14 04:39:56,451 - mmdet - INFO - Epoch [3][600/655]\tlr: 2.000e-02, eta: 0:24:34, time: 0.244, data_time: 0.006, memory: 2109, loss_rpn_cls: 0.0050, loss_rpn_bbox: 0.0006, loss_cls: 0.0465, acc: 98.6779, loss_bbox: 0.0074, loss: 0.0595, grad_norm: 0.1558\n",
      "2021-05-14 04:40:08,652 - mmdet - INFO - Epoch [3][650/655]\tlr: 2.000e-02, eta: 0:24:21, time: 0.244, data_time: 0.006, memory: 2109, loss_rpn_cls: 0.0079, loss_rpn_bbox: 0.0007, loss_cls: 0.0631, acc: 98.2945, loss_bbox: 0.0110, loss: 0.0827, grad_norm: 0.2752\n",
      "2021-05-14 04:40:09,913 - mmdet - INFO - Saving checkpoint at 3 epochs\n"
     ]
    },
    {
     "name": "stdout",
     "output_type": "stream",
     "text": [
      "[>>>>>>>>>>>>>>>>>>>>>>>>>>>>>] 655/655, 23.9 task/s, elapsed: 27s, ETA:     0s"
     ]
    },
    {
     "name": "stderr",
     "output_type": "stream",
     "text": [
      "2021-05-14 04:40:38,177 - mmdet - INFO - Evaluating bbox...\n"
     ]
    },
    {
     "name": "stdout",
     "output_type": "stream",
     "text": [
      "Loading and preparing results...\n",
      "DONE (t=0.00s)\n",
      "creating index...\n",
      "index created!\n",
      "Running per image evaluation...\n",
      "Evaluate annotation type *bbox*\n"
     ]
    },
    {
     "name": "stderr",
     "output_type": "stream",
     "text": [
      "2021-05-14 04:40:39,133 - mmdet - INFO - Epoch(val) [3][655]\tbbox_mAP: 0.0000, bbox_mAP_50: 0.0000, bbox_mAP_75: 0.0000, bbox_mAP_s: 0.0000, bbox_mAP_m: 0.0000, bbox_mAP_l: 0.0000, bbox_mAP_copypaste: 0.000 0.000 0.000 0.000 0.000 0.000\n"
     ]
    },
    {
     "name": "stdout",
     "output_type": "stream",
     "text": [
      "DONE (t=0.82s).\n",
      "Accumulating evaluation results...\n",
      "DONE (t=0.12s).\n",
      "Average Precision  (AP) @[ IoU=0.50:0.95 | area=   all | maxDets=100 ] = 0.000\n",
      "Average Precision  (AP) @[ IoU=0.50      | area=   all | maxDets=1000 ] = 0.000\n",
      "Average Precision  (AP) @[ IoU=0.75      | area=   all | maxDets=1000 ] = 0.000\n",
      "Average Precision  (AP) @[ IoU=0.50:0.95 | area= small | maxDets=1000 ] = 0.000\n",
      "Average Precision  (AP) @[ IoU=0.50:0.95 | area=medium | maxDets=1000 ] = 0.000\n",
      "Average Precision  (AP) @[ IoU=0.50:0.95 | area= large | maxDets=1000 ] = 0.000\n",
      "Average Recall     (AR) @[ IoU=0.50:0.95 | area=   all | maxDets=100 ] = 0.000\n",
      "Average Recall     (AR) @[ IoU=0.50:0.95 | area=   all | maxDets=300 ] = 0.000\n",
      "Average Recall     (AR) @[ IoU=0.50:0.95 | area=   all | maxDets=1000 ] = 0.000\n",
      "Average Recall     (AR) @[ IoU=0.50:0.95 | area= small | maxDets=1000 ] = 0.000\n",
      "Average Recall     (AR) @[ IoU=0.50:0.95 | area=medium | maxDets=1000 ] = 0.000\n",
      "Average Recall     (AR) @[ IoU=0.50:0.95 | area= large | maxDets=1000 ] = 0.000\n"
     ]
    },
    {
     "name": "stderr",
     "output_type": "stream",
     "text": [
      "2021-05-14 04:40:53,590 - mmdet - INFO - Epoch [4][50/655]\tlr: 2.000e-02, eta: 0:24:10, time: 0.289, data_time: 0.049, memory: 2109, loss_rpn_cls: 0.0036, loss_rpn_bbox: 0.0003, loss_cls: 0.0474, acc: 98.6532, loss_bbox: 0.0047, loss: 0.0561, grad_norm: 0.1186\n",
      "2021-05-14 04:41:05,981 - mmdet - INFO - Epoch [4][100/655]\tlr: 2.000e-02, eta: 0:23:57, time: 0.248, data_time: 0.006, memory: 2109, loss_rpn_cls: 0.0114, loss_rpn_bbox: 0.0016, loss_cls: 0.0613, acc: 98.3122, loss_bbox: 0.0102, loss: 0.0845, grad_norm: 0.2390\n",
      "2021-05-14 04:41:18,360 - mmdet - INFO - Epoch [4][150/655]\tlr: 2.000e-02, eta: 0:23:45, time: 0.248, data_time: 0.006, memory: 2109, loss_rpn_cls: 0.0033, loss_rpn_bbox: 0.0004, loss_cls: 0.0485, acc: 98.5361, loss_bbox: 0.0062, loss: 0.0584, grad_norm: 0.1202\n",
      "2021-05-14 04:41:30,714 - mmdet - INFO - Epoch [4][200/655]\tlr: 2.000e-02, eta: 0:23:32, time: 0.247, data_time: 0.006, memory: 2109, loss_rpn_cls: 0.0015, loss_rpn_bbox: 0.0001, loss_cls: 0.0445, acc: 98.6107, loss_bbox: 0.0033, loss: 0.0494, grad_norm: 0.0657\n",
      "2021-05-14 04:41:43,003 - mmdet - INFO - Epoch [4][250/655]\tlr: 2.000e-02, eta: 0:23:20, time: 0.246, data_time: 0.006, memory: 2109, loss_rpn_cls: 0.0061, loss_rpn_bbox: 0.0007, loss_cls: 0.0610, acc: 98.2984, loss_bbox: 0.0082, loss: 0.0759, grad_norm: 0.1852\n",
      "2021-05-14 04:41:55,394 - mmdet - INFO - Epoch [4][300/655]\tlr: 2.000e-02, eta: 0:23:07, time: 0.248, data_time: 0.006, memory: 2109, loss_rpn_cls: 0.0039, loss_rpn_bbox: 0.0004, loss_cls: 0.0523, acc: 98.3779, loss_bbox: 0.0088, loss: 0.0654, grad_norm: 0.1448\n",
      "2021-05-14 04:42:07,982 - mmdet - INFO - Epoch [4][350/655]\tlr: 2.000e-02, eta: 0:22:55, time: 0.252, data_time: 0.006, memory: 2109, loss_rpn_cls: 0.0020, loss_rpn_bbox: 0.0001, loss_cls: 0.0466, acc: 98.4748, loss_bbox: 0.0033, loss: 0.0521, grad_norm: 0.0973\n",
      "2021-05-14 04:42:20,222 - mmdet - INFO - Epoch [4][400/655]\tlr: 2.000e-02, eta: 0:22:43, time: 0.245, data_time: 0.006, memory: 2109, loss_rpn_cls: 0.0045, loss_rpn_bbox: 0.0005, loss_cls: 0.0661, acc: 98.0934, loss_bbox: 0.0066, loss: 0.0777, grad_norm: 0.1596\n",
      "2021-05-14 04:42:32,516 - mmdet - INFO - Epoch [4][450/655]\tlr: 2.000e-02, eta: 0:22:30, time: 0.246, data_time: 0.006, memory: 2109, loss_rpn_cls: 0.0058, loss_rpn_bbox: 0.0007, loss_cls: 0.0584, acc: 98.3055, loss_bbox: 0.0083, loss: 0.0732, grad_norm: 0.1616\n",
      "2021-05-14 04:42:44,837 - mmdet - INFO - Epoch [4][500/655]\tlr: 2.000e-02, eta: 0:22:17, time: 0.246, data_time: 0.006, memory: 2109, loss_rpn_cls: 0.0088, loss_rpn_bbox: 0.0011, loss_cls: 0.0534, acc: 98.3748, loss_bbox: 0.0087, loss: 0.0719, grad_norm: 0.1933\n",
      "2021-05-14 04:42:57,088 - mmdet - INFO - Epoch [4][550/655]\tlr: 2.000e-02, eta: 0:22:05, time: 0.245, data_time: 0.006, memory: 2109, loss_rpn_cls: 0.0037, loss_rpn_bbox: 0.0004, loss_cls: 0.0481, acc: 98.5502, loss_bbox: 0.0082, loss: 0.0604, grad_norm: 0.1465\n",
      "2021-05-14 04:43:09,587 - mmdet - INFO - Epoch [4][600/655]\tlr: 2.000e-02, eta: 0:21:52, time: 0.250, data_time: 0.007, memory: 2109, loss_rpn_cls: 0.0050, loss_rpn_bbox: 0.0007, loss_cls: 0.0546, acc: 98.4084, loss_bbox: 0.0097, loss: 0.0699, grad_norm: 0.1866\n",
      "2021-05-14 04:43:22,029 - mmdet - INFO - Epoch [4][650/655]\tlr: 2.000e-02, eta: 0:21:40, time: 0.249, data_time: 0.006, memory: 2109, loss_rpn_cls: 0.0045, loss_rpn_bbox: 0.0004, loss_cls: 0.0597, acc: 98.2564, loss_bbox: 0.0104, loss: 0.0750, grad_norm: 0.1979\n",
      "2021-05-14 04:43:23,307 - mmdet - INFO - Saving checkpoint at 4 epochs\n"
     ]
    },
    {
     "name": "stdout",
     "output_type": "stream",
     "text": [
      "[>>>>>>>>>>>>>>>>>>>>>>>>>>>>>] 655/655, 23.1 task/s, elapsed: 28s, ETA:     0s"
     ]
    },
    {
     "name": "stderr",
     "output_type": "stream",
     "text": [
      "2021-05-14 04:43:52,497 - mmdet - INFO - Evaluating bbox...\n"
     ]
    },
    {
     "name": "stdout",
     "output_type": "stream",
     "text": [
      "Loading and preparing results...\n",
      "DONE (t=0.00s)\n",
      "creating index...\n",
      "index created!\n",
      "Running per image evaluation...\n",
      "Evaluate annotation type *bbox*\n",
      "DONE (t=0.60s).\n",
      "Accumulating evaluation results...\n"
     ]
    },
    {
     "name": "stderr",
     "output_type": "stream",
     "text": [
      "2021-05-14 04:43:53,696 - mmdet - INFO - Epoch(val) [4][655]\tbbox_mAP: 0.0000, bbox_mAP_50: 0.0000, bbox_mAP_75: 0.0000, bbox_mAP_s: 0.0000, bbox_mAP_m: 0.0000, bbox_mAP_l: 0.0000, bbox_mAP_copypaste: 0.000 0.000 0.000 0.000 0.000 0.000\n"
     ]
    },
    {
     "name": "stdout",
     "output_type": "stream",
     "text": [
      "DONE (t=0.58s).\n",
      "Average Precision  (AP) @[ IoU=0.50:0.95 | area=   all | maxDets=100 ] = 0.000\n",
      "Average Precision  (AP) @[ IoU=0.50      | area=   all | maxDets=1000 ] = 0.000\n",
      "Average Precision  (AP) @[ IoU=0.75      | area=   all | maxDets=1000 ] = 0.000\n",
      "Average Precision  (AP) @[ IoU=0.50:0.95 | area= small | maxDets=1000 ] = 0.000\n",
      "Average Precision  (AP) @[ IoU=0.50:0.95 | area=medium | maxDets=1000 ] = 0.000\n",
      "Average Precision  (AP) @[ IoU=0.50:0.95 | area= large | maxDets=1000 ] = 0.000\n",
      "Average Recall     (AR) @[ IoU=0.50:0.95 | area=   all | maxDets=100 ] = 0.000\n",
      "Average Recall     (AR) @[ IoU=0.50:0.95 | area=   all | maxDets=300 ] = 0.000\n",
      "Average Recall     (AR) @[ IoU=0.50:0.95 | area=   all | maxDets=1000 ] = 0.000\n",
      "Average Recall     (AR) @[ IoU=0.50:0.95 | area= small | maxDets=1000 ] = 0.000\n",
      "Average Recall     (AR) @[ IoU=0.50:0.95 | area=medium | maxDets=1000 ] = 0.000\n",
      "Average Recall     (AR) @[ IoU=0.50:0.95 | area= large | maxDets=1000 ] = 0.000\n"
     ]
    },
    {
     "name": "stderr",
     "output_type": "stream",
     "text": [
      "2021-05-14 04:44:08,179 - mmdet - INFO - Epoch [5][50/655]\tlr: 2.000e-02, eta: 0:21:28, time: 0.289, data_time: 0.049, memory: 2109, loss_rpn_cls: 0.0027, loss_rpn_bbox: 0.0003, loss_cls: 0.0510, acc: 98.5508, loss_bbox: 0.0101, loss: 0.0640, grad_norm: 0.1393\n",
      "2021-05-14 04:44:20,496 - mmdet - INFO - Epoch [5][100/655]\tlr: 2.000e-02, eta: 0:21:16, time: 0.246, data_time: 0.006, memory: 2109, loss_rpn_cls: 0.0034, loss_rpn_bbox: 0.0005, loss_cls: 0.0502, acc: 98.4154, loss_bbox: 0.0093, loss: 0.0634, grad_norm: 0.1503\n",
      "2021-05-14 04:44:32,757 - mmdet - INFO - Epoch [5][150/655]\tlr: 2.000e-02, eta: 0:21:03, time: 0.245, data_time: 0.006, memory: 2109, loss_rpn_cls: 0.0053, loss_rpn_bbox: 0.0007, loss_cls: 0.0467, acc: 98.6719, loss_bbox: 0.0083, loss: 0.0610, grad_norm: 0.1495\n",
      "2021-05-14 04:44:45,099 - mmdet - INFO - Epoch [5][200/655]\tlr: 2.000e-02, eta: 0:20:50, time: 0.247, data_time: 0.006, memory: 2109, loss_rpn_cls: 0.0035, loss_rpn_bbox: 0.0004, loss_cls: 0.0504, acc: 98.5431, loss_bbox: 0.0098, loss: 0.0642, grad_norm: 0.1848\n",
      "2021-05-14 04:44:57,356 - mmdet - INFO - Epoch [5][250/655]\tlr: 2.000e-02, eta: 0:20:38, time: 0.245, data_time: 0.006, memory: 2109, loss_rpn_cls: 0.0033, loss_rpn_bbox: 0.0004, loss_cls: 0.0533, acc: 98.2396, loss_bbox: 0.0061, loss: 0.0631, grad_norm: 0.1259\n",
      "2021-05-14 04:45:09,745 - mmdet - INFO - Epoch [5][300/655]\tlr: 2.000e-02, eta: 0:20:25, time: 0.248, data_time: 0.006, memory: 2109, loss_rpn_cls: 0.0086, loss_rpn_bbox: 0.0008, loss_cls: 0.0595, acc: 98.4423, loss_bbox: 0.0104, loss: 0.0793, grad_norm: 0.2564\n",
      "2021-05-14 04:45:22,538 - mmdet - INFO - Epoch [5][350/655]\tlr: 2.000e-02, eta: 0:20:13, time: 0.256, data_time: 0.007, memory: 2109, loss_rpn_cls: 0.0039, loss_rpn_bbox: 0.0004, loss_cls: 0.0536, acc: 98.3859, loss_bbox: 0.0065, loss: 0.0645, grad_norm: 0.1404\n",
      "2021-05-14 04:45:34,849 - mmdet - INFO - Epoch [5][400/655]\tlr: 2.000e-02, eta: 0:20:01, time: 0.246, data_time: 0.006, memory: 2109, loss_rpn_cls: 0.0034, loss_rpn_bbox: 0.0004, loss_cls: 0.0512, acc: 98.3315, loss_bbox: 0.0055, loss: 0.0605, grad_norm: 0.1266\n",
      "2021-05-14 04:45:47,663 - mmdet - INFO - Epoch [5][450/655]\tlr: 2.000e-02, eta: 0:19:49, time: 0.256, data_time: 0.007, memory: 2109, loss_rpn_cls: 0.0091, loss_rpn_bbox: 0.0011, loss_cls: 0.0608, acc: 98.3056, loss_bbox: 0.0101, loss: 0.0811, grad_norm: 0.2188\n",
      "2021-05-14 04:46:00,363 - mmdet - INFO - Epoch [5][500/655]\tlr: 2.000e-02, eta: 0:19:37, time: 0.254, data_time: 0.007, memory: 2109, loss_rpn_cls: 0.0055, loss_rpn_bbox: 0.0008, loss_cls: 0.0552, acc: 98.3500, loss_bbox: 0.0091, loss: 0.0707, grad_norm: 0.1675\n",
      "2021-05-14 04:46:13,334 - mmdet - INFO - Epoch [5][550/655]\tlr: 2.000e-02, eta: 0:19:25, time: 0.259, data_time: 0.006, memory: 2109, loss_rpn_cls: 0.0017, loss_rpn_bbox: 0.0002, loss_cls: 0.0457, acc: 98.4448, loss_bbox: 0.0035, loss: 0.0512, grad_norm: 0.0792\n",
      "2021-05-14 04:46:25,561 - mmdet - INFO - Epoch [5][600/655]\tlr: 2.000e-02, eta: 0:19:13, time: 0.245, data_time: 0.006, memory: 2109, loss_rpn_cls: 0.0049, loss_rpn_bbox: 0.0007, loss_cls: 0.0489, acc: 98.4650, loss_bbox: 0.0098, loss: 0.0642, grad_norm: 0.1659\n",
      "2021-05-14 04:46:37,873 - mmdet - INFO - Epoch [5][650/655]\tlr: 2.000e-02, eta: 0:19:00, time: 0.246, data_time: 0.006, memory: 2109, loss_rpn_cls: 0.0050, loss_rpn_bbox: 0.0007, loss_cls: 0.0521, acc: 98.4435, loss_bbox: 0.0094, loss: 0.0672, grad_norm: 0.2073\n",
      "2021-05-14 04:46:39,152 - mmdet - INFO - Saving checkpoint at 5 epochs\n"
     ]
    },
    {
     "name": "stdout",
     "output_type": "stream",
     "text": [
      "[>>>>>>>>>>>>>>>>>>>>>>>>>>>>>] 655/655, 23.6 task/s, elapsed: 28s, ETA:     0s"
     ]
    },
    {
     "name": "stderr",
     "output_type": "stream",
     "text": [
      "2021-05-14 04:47:07,729 - mmdet - INFO - Evaluating bbox...\n"
     ]
    },
    {
     "name": "stdout",
     "output_type": "stream",
     "text": [
      "Loading and preparing results...\n",
      "DONE (t=0.00s)\n",
      "creating index...\n",
      "index created!\n",
      "Running per image evaluation...\n",
      "Evaluate annotation type *bbox*\n"
     ]
    },
    {
     "name": "stderr",
     "output_type": "stream",
     "text": [
      "2021-05-14 04:47:08,357 - mmdet - INFO - Epoch(val) [5][655]\tbbox_mAP: 0.0000, bbox_mAP_50: 0.0000, bbox_mAP_75: 0.0000, bbox_mAP_s: 0.0000, bbox_mAP_m: 0.0000, bbox_mAP_l: 0.0000, bbox_mAP_copypaste: 0.000 0.000 0.000 0.000 0.000 0.000\n"
     ]
    },
    {
     "name": "stdout",
     "output_type": "stream",
     "text": [
      "DONE (t=0.47s).\n",
      "Accumulating evaluation results...\n",
      "DONE (t=0.13s).\n",
      "Average Precision  (AP) @[ IoU=0.50:0.95 | area=   all | maxDets=100 ] = 0.000\n",
      "Average Precision  (AP) @[ IoU=0.50      | area=   all | maxDets=1000 ] = 0.000\n",
      "Average Precision  (AP) @[ IoU=0.75      | area=   all | maxDets=1000 ] = 0.000\n",
      "Average Precision  (AP) @[ IoU=0.50:0.95 | area= small | maxDets=1000 ] = 0.000\n",
      "Average Precision  (AP) @[ IoU=0.50:0.95 | area=medium | maxDets=1000 ] = 0.000\n",
      "Average Precision  (AP) @[ IoU=0.50:0.95 | area= large | maxDets=1000 ] = 0.000\n",
      "Average Recall     (AR) @[ IoU=0.50:0.95 | area=   all | maxDets=100 ] = 0.000\n",
      "Average Recall     (AR) @[ IoU=0.50:0.95 | area=   all | maxDets=300 ] = 0.000\n",
      "Average Recall     (AR) @[ IoU=0.50:0.95 | area=   all | maxDets=1000 ] = 0.000\n",
      "Average Recall     (AR) @[ IoU=0.50:0.95 | area= small | maxDets=1000 ] = 0.000\n",
      "Average Recall     (AR) @[ IoU=0.50:0.95 | area=medium | maxDets=1000 ] = 0.000\n",
      "Average Recall     (AR) @[ IoU=0.50:0.95 | area= large | maxDets=1000 ] = 0.000\n"
     ]
    },
    {
     "name": "stderr",
     "output_type": "stream",
     "text": [
      "2021-05-14 04:47:23,076 - mmdet - INFO - Epoch [6][50/655]\tlr: 2.000e-02, eta: 0:18:48, time: 0.294, data_time: 0.049, memory: 2109, loss_rpn_cls: 0.0074, loss_rpn_bbox: 0.0012, loss_cls: 0.0552, acc: 98.3774, loss_bbox: 0.0090, loss: 0.0728, grad_norm: 0.2064\n",
      "2021-05-14 04:47:35,392 - mmdet - INFO - Epoch [6][100/655]\tlr: 2.000e-02, eta: 0:18:35, time: 0.246, data_time: 0.006, memory: 2109, loss_rpn_cls: 0.0101, loss_rpn_bbox: 0.0019, loss_cls: 0.0498, acc: 98.4858, loss_bbox: 0.0112, loss: 0.0731, grad_norm: 0.2540\n",
      "2021-05-14 04:47:47,799 - mmdet - INFO - Epoch [6][150/655]\tlr: 2.000e-02, eta: 0:18:23, time: 0.248, data_time: 0.006, memory: 2109, loss_rpn_cls: 0.0032, loss_rpn_bbox: 0.0003, loss_cls: 0.0498, acc: 98.4370, loss_bbox: 0.0064, loss: 0.0597, grad_norm: 0.1301\n",
      "2021-05-14 04:48:00,055 - mmdet - INFO - Epoch [6][200/655]\tlr: 2.000e-02, eta: 0:18:10, time: 0.245, data_time: 0.006, memory: 2109, loss_rpn_cls: 0.0056, loss_rpn_bbox: 0.0006, loss_cls: 0.0450, acc: 98.6499, loss_bbox: 0.0057, loss: 0.0569, grad_norm: 0.1419\n",
      "2021-05-14 04:48:12,516 - mmdet - INFO - Epoch [6][250/655]\tlr: 2.000e-02, eta: 0:17:58, time: 0.249, data_time: 0.006, memory: 2109, loss_rpn_cls: 0.0029, loss_rpn_bbox: 0.0003, loss_cls: 0.0410, acc: 98.7526, loss_bbox: 0.0051, loss: 0.0493, grad_norm: 0.1310\n",
      "2021-05-14 04:48:24,993 - mmdet - INFO - Epoch [6][300/655]\tlr: 2.000e-02, eta: 0:17:45, time: 0.250, data_time: 0.006, memory: 2109, loss_rpn_cls: 0.0052, loss_rpn_bbox: 0.0007, loss_cls: 0.0451, acc: 98.6190, loss_bbox: 0.0086, loss: 0.0596, grad_norm: 0.1461\n",
      "2021-05-14 04:48:37,418 - mmdet - INFO - Epoch [6][350/655]\tlr: 2.000e-02, eta: 0:17:33, time: 0.248, data_time: 0.006, memory: 2109, loss_rpn_cls: 0.0041, loss_rpn_bbox: 0.0005, loss_cls: 0.0447, acc: 98.6969, loss_bbox: 0.0078, loss: 0.0570, grad_norm: 0.1575\n",
      "2021-05-14 04:48:49,937 - mmdet - INFO - Epoch [6][400/655]\tlr: 2.000e-02, eta: 0:17:21, time: 0.250, data_time: 0.006, memory: 2109, loss_rpn_cls: 0.0034, loss_rpn_bbox: 0.0004, loss_cls: 0.0407, acc: 98.7352, loss_bbox: 0.0052, loss: 0.0497, grad_norm: 0.1090\n",
      "2021-05-14 04:49:02,393 - mmdet - INFO - Epoch [6][450/655]\tlr: 2.000e-02, eta: 0:17:08, time: 0.249, data_time: 0.006, memory: 2109, loss_rpn_cls: 0.0031, loss_rpn_bbox: 0.0003, loss_cls: 0.0374, acc: 98.7648, loss_bbox: 0.0040, loss: 0.0448, grad_norm: 0.1063\n",
      "2021-05-14 04:49:14,856 - mmdet - INFO - Epoch [6][500/655]\tlr: 2.000e-02, eta: 0:16:56, time: 0.249, data_time: 0.006, memory: 2109, loss_rpn_cls: 0.0019, loss_rpn_bbox: 0.0002, loss_cls: 0.0407, acc: 98.6122, loss_bbox: 0.0059, loss: 0.0487, grad_norm: 0.0995\n",
      "2021-05-14 04:49:27,203 - mmdet - INFO - Epoch [6][550/655]\tlr: 2.000e-02, eta: 0:16:43, time: 0.247, data_time: 0.006, memory: 2109, loss_rpn_cls: 0.0018, loss_rpn_bbox: 0.0002, loss_cls: 0.0390, acc: 98.5986, loss_bbox: 0.0039, loss: 0.0449, grad_norm: 0.0855\n",
      "2021-05-14 04:49:39,654 - mmdet - INFO - Epoch [6][600/655]\tlr: 2.000e-02, eta: 0:16:31, time: 0.249, data_time: 0.006, memory: 2109, loss_rpn_cls: 0.0032, loss_rpn_bbox: 0.0003, loss_cls: 0.0412, acc: 98.7470, loss_bbox: 0.0043, loss: 0.0490, grad_norm: 0.1223\n",
      "2021-05-14 04:49:52,087 - mmdet - INFO - Epoch [6][650/655]\tlr: 2.000e-02, eta: 0:16:18, time: 0.249, data_time: 0.006, memory: 2109, loss_rpn_cls: 0.0020, loss_rpn_bbox: 0.0002, loss_cls: 0.0386, acc: 98.8120, loss_bbox: 0.0042, loss: 0.0450, grad_norm: 0.0978\n",
      "2021-05-14 04:49:53,383 - mmdet - INFO - Saving checkpoint at 6 epochs\n"
     ]
    },
    {
     "name": "stdout",
     "output_type": "stream",
     "text": [
      "[>>>>>>>>>>>>>>>>>>>>>>>>>>>>>] 655/655, 23.5 task/s, elapsed: 28s, ETA:     0s"
     ]
    },
    {
     "name": "stderr",
     "output_type": "stream",
     "text": [
      "2021-05-14 04:50:22,221 - mmdet - INFO - Evaluating bbox...\n"
     ]
    },
    {
     "name": "stdout",
     "output_type": "stream",
     "text": [
      "Loading and preparing results...\n",
      "DONE (t=0.00s)\n",
      "creating index...\n",
      "index created!\n",
      "Running per image evaluation...\n",
      "Evaluate annotation type *bbox*\n"
     ]
    },
    {
     "name": "stderr",
     "output_type": "stream",
     "text": [
      "2021-05-14 04:50:22,810 - mmdet - INFO - Epoch(val) [6][655]\tbbox_mAP: 0.0000, bbox_mAP_50: 0.0000, bbox_mAP_75: 0.0000, bbox_mAP_s: 0.0000, bbox_mAP_m: 0.0000, bbox_mAP_l: 0.0000, bbox_mAP_copypaste: 0.000 0.000 0.000 0.000 0.000 0.000\n"
     ]
    },
    {
     "name": "stdout",
     "output_type": "stream",
     "text": [
      "DONE (t=0.45s).\n",
      "Accumulating evaluation results...\n",
      "DONE (t=0.12s).\n",
      "Average Precision  (AP) @[ IoU=0.50:0.95 | area=   all | maxDets=100 ] = 0.000\n",
      "Average Precision  (AP) @[ IoU=0.50      | area=   all | maxDets=1000 ] = 0.000\n",
      "Average Precision  (AP) @[ IoU=0.75      | area=   all | maxDets=1000 ] = 0.000\n",
      "Average Precision  (AP) @[ IoU=0.50:0.95 | area= small | maxDets=1000 ] = 0.000\n",
      "Average Precision  (AP) @[ IoU=0.50:0.95 | area=medium | maxDets=1000 ] = 0.000\n",
      "Average Precision  (AP) @[ IoU=0.50:0.95 | area= large | maxDets=1000 ] = 0.000\n",
      "Average Recall     (AR) @[ IoU=0.50:0.95 | area=   all | maxDets=100 ] = 0.000\n",
      "Average Recall     (AR) @[ IoU=0.50:0.95 | area=   all | maxDets=300 ] = 0.000\n",
      "Average Recall     (AR) @[ IoU=0.50:0.95 | area=   all | maxDets=1000 ] = 0.000\n",
      "Average Recall     (AR) @[ IoU=0.50:0.95 | area= small | maxDets=1000 ] = 0.000\n",
      "Average Recall     (AR) @[ IoU=0.50:0.95 | area=medium | maxDets=1000 ] = 0.000\n",
      "Average Recall     (AR) @[ IoU=0.50:0.95 | area= large | maxDets=1000 ] = 0.000\n"
     ]
    },
    {
     "name": "stderr",
     "output_type": "stream",
     "text": [
      "2021-05-14 04:50:37,540 - mmdet - INFO - Epoch [7][50/655]\tlr: 2.000e-02, eta: 0:16:06, time: 0.294, data_time: 0.049, memory: 2109, loss_rpn_cls: 0.0023, loss_rpn_bbox: 0.0004, loss_cls: 0.0386, acc: 98.7799, loss_bbox: 0.0048, loss: 0.0460, grad_norm: 0.0969\n",
      "2021-05-14 04:50:50,001 - mmdet - INFO - Epoch [7][100/655]\tlr: 2.000e-02, eta: 0:15:53, time: 0.249, data_time: 0.006, memory: 2109, loss_rpn_cls: 0.0064, loss_rpn_bbox: 0.0009, loss_cls: 0.0517, acc: 98.4616, loss_bbox: 0.0074, loss: 0.0664, grad_norm: 0.1733\n",
      "2021-05-14 04:51:02,456 - mmdet - INFO - Epoch [7][150/655]\tlr: 2.000e-02, eta: 0:15:41, time: 0.249, data_time: 0.006, memory: 2109, loss_rpn_cls: 0.0022, loss_rpn_bbox: 0.0003, loss_cls: 0.0448, acc: 98.5531, loss_bbox: 0.0036, loss: 0.0508, grad_norm: 0.1015\n",
      "2021-05-14 04:51:15,023 - mmdet - INFO - Epoch [7][200/655]\tlr: 2.000e-02, eta: 0:15:28, time: 0.251, data_time: 0.006, memory: 2109, loss_rpn_cls: 0.0032, loss_rpn_bbox: 0.0004, loss_cls: 0.0498, acc: 98.4244, loss_bbox: 0.0062, loss: 0.0595, grad_norm: 0.1319\n",
      "2021-05-14 04:51:27,808 - mmdet - INFO - Epoch [7][250/655]\tlr: 2.000e-02, eta: 0:15:16, time: 0.256, data_time: 0.006, memory: 2109, loss_rpn_cls: 0.0033, loss_rpn_bbox: 0.0004, loss_cls: 0.0481, acc: 98.4410, loss_bbox: 0.0067, loss: 0.0586, grad_norm: 0.1442\n",
      "2021-05-14 04:51:40,313 - mmdet - INFO - Epoch [7][300/655]\tlr: 2.000e-02, eta: 0:15:04, time: 0.250, data_time: 0.006, memory: 2109, loss_rpn_cls: 0.0046, loss_rpn_bbox: 0.0008, loss_cls: 0.0589, acc: 98.2397, loss_bbox: 0.0092, loss: 0.0736, grad_norm: 0.1889\n",
      "2021-05-14 04:51:52,627 - mmdet - INFO - Epoch [7][350/655]\tlr: 2.000e-02, eta: 0:14:51, time: 0.246, data_time: 0.006, memory: 2109, loss_rpn_cls: 0.0066, loss_rpn_bbox: 0.0008, loss_cls: 0.0652, acc: 98.0635, loss_bbox: 0.0148, loss: 0.0873, grad_norm: 0.2508\n",
      "2021-05-14 04:52:05,287 - mmdet - INFO - Epoch [7][400/655]\tlr: 2.000e-02, eta: 0:14:39, time: 0.253, data_time: 0.007, memory: 2109, loss_rpn_cls: 0.0051, loss_rpn_bbox: 0.0006, loss_cls: 0.0501, acc: 98.4602, loss_bbox: 0.0088, loss: 0.0647, grad_norm: 0.1863\n",
      "2021-05-14 04:52:17,526 - mmdet - INFO - Epoch [7][450/655]\tlr: 2.000e-02, eta: 0:14:26, time: 0.245, data_time: 0.006, memory: 2109, loss_rpn_cls: 0.0023, loss_rpn_bbox: 0.0002, loss_cls: 0.0442, acc: 98.6687, loss_bbox: 0.0064, loss: 0.0531, grad_norm: 0.1360\n",
      "2021-05-14 04:52:29,765 - mmdet - INFO - Epoch [7][500/655]\tlr: 2.000e-02, eta: 0:14:14, time: 0.245, data_time: 0.006, memory: 2109, loss_rpn_cls: 0.0029, loss_rpn_bbox: 0.0002, loss_cls: 0.0458, acc: 98.5987, loss_bbox: 0.0056, loss: 0.0545, grad_norm: 0.1085\n",
      "2021-05-14 04:52:42,017 - mmdet - INFO - Epoch [7][550/655]\tlr: 2.000e-02, eta: 0:14:01, time: 0.245, data_time: 0.006, memory: 2109, loss_rpn_cls: 0.0058, loss_rpn_bbox: 0.0007, loss_cls: 0.0439, acc: 98.6110, loss_bbox: 0.0049, loss: 0.0554, grad_norm: 0.1579\n",
      "2021-05-14 04:52:54,301 - mmdet - INFO - Epoch [7][600/655]\tlr: 2.000e-02, eta: 0:13:49, time: 0.246, data_time: 0.006, memory: 2109, loss_rpn_cls: 0.0030, loss_rpn_bbox: 0.0004, loss_cls: 0.0373, acc: 98.8357, loss_bbox: 0.0054, loss: 0.0460, grad_norm: 0.1137\n",
      "2021-05-14 04:53:07,007 - mmdet - INFO - Epoch [7][650/655]\tlr: 2.000e-02, eta: 0:13:36, time: 0.254, data_time: 0.007, memory: 2109, loss_rpn_cls: 0.0018, loss_rpn_bbox: 0.0002, loss_cls: 0.0450, acc: 98.4839, loss_bbox: 0.0038, loss: 0.0508, grad_norm: 0.0897\n",
      "2021-05-14 04:53:08,297 - mmdet - INFO - Saving checkpoint at 7 epochs\n"
     ]
    },
    {
     "name": "stdout",
     "output_type": "stream",
     "text": [
      "[>>>>>>>>>>>>>>>>>>>>>>>>>>>>>] 655/655, 23.6 task/s, elapsed: 28s, ETA:     0s"
     ]
    },
    {
     "name": "stderr",
     "output_type": "stream",
     "text": [
      "2021-05-14 04:53:36,916 - mmdet - INFO - Evaluating bbox...\n"
     ]
    },
    {
     "name": "stdout",
     "output_type": "stream",
     "text": [
      "Loading and preparing results...\n",
      "DONE (t=0.00s)\n",
      "creating index...\n",
      "index created!\n",
      "Running per image evaluation...\n",
      "Evaluate annotation type *bbox*\n"
     ]
    },
    {
     "name": "stderr",
     "output_type": "stream",
     "text": [
      "2021-05-14 04:53:38,087 - mmdet - INFO - Epoch(val) [7][655]\tbbox_mAP: 0.0000, bbox_mAP_50: 0.0000, bbox_mAP_75: 0.0000, bbox_mAP_s: 0.0000, bbox_mAP_m: 0.0000, bbox_mAP_l: 0.0000, bbox_mAP_copypaste: 0.000 0.000 0.000 0.000 0.000 0.000\n"
     ]
    },
    {
     "name": "stdout",
     "output_type": "stream",
     "text": [
      "DONE (t=0.99s).\n",
      "Accumulating evaluation results...\n",
      "DONE (t=0.16s).\n",
      "Average Precision  (AP) @[ IoU=0.50:0.95 | area=   all | maxDets=100 ] = 0.000\n",
      "Average Precision  (AP) @[ IoU=0.50      | area=   all | maxDets=1000 ] = 0.000\n",
      "Average Precision  (AP) @[ IoU=0.75      | area=   all | maxDets=1000 ] = 0.000\n",
      "Average Precision  (AP) @[ IoU=0.50:0.95 | area= small | maxDets=1000 ] = 0.000\n",
      "Average Precision  (AP) @[ IoU=0.50:0.95 | area=medium | maxDets=1000 ] = 0.000\n",
      "Average Precision  (AP) @[ IoU=0.50:0.95 | area= large | maxDets=1000 ] = 0.000\n",
      "Average Recall     (AR) @[ IoU=0.50:0.95 | area=   all | maxDets=100 ] = 0.000\n",
      "Average Recall     (AR) @[ IoU=0.50:0.95 | area=   all | maxDets=300 ] = 0.000\n",
      "Average Recall     (AR) @[ IoU=0.50:0.95 | area=   all | maxDets=1000 ] = 0.000\n",
      "Average Recall     (AR) @[ IoU=0.50:0.95 | area= small | maxDets=1000 ] = 0.000\n",
      "Average Recall     (AR) @[ IoU=0.50:0.95 | area=medium | maxDets=1000 ] = 0.000\n",
      "Average Recall     (AR) @[ IoU=0.50:0.95 | area= large | maxDets=1000 ] = 0.000\n"
     ]
    },
    {
     "name": "stderr",
     "output_type": "stream",
     "text": [
      "2021-05-14 04:53:52,842 - mmdet - INFO - Epoch [8][50/655]\tlr: 2.000e-02, eta: 0:13:23, time: 0.295, data_time: 0.050, memory: 2109, loss_rpn_cls: 0.0038, loss_rpn_bbox: 0.0005, loss_cls: 0.0459, acc: 98.5859, loss_bbox: 0.0103, loss: 0.0605, grad_norm: 0.1613\n",
      "2021-05-14 04:54:05,311 - mmdet - INFO - Epoch [8][100/655]\tlr: 2.000e-02, eta: 0:13:11, time: 0.249, data_time: 0.006, memory: 2109, loss_rpn_cls: 0.0023, loss_rpn_bbox: 0.0003, loss_cls: 0.0435, acc: 98.6547, loss_bbox: 0.0074, loss: 0.0535, grad_norm: 0.1243\n",
      "2021-05-14 04:54:17,674 - mmdet - INFO - Epoch [8][150/655]\tlr: 2.000e-02, eta: 0:12:58, time: 0.247, data_time: 0.006, memory: 2109, loss_rpn_cls: 0.0019, loss_rpn_bbox: 0.0002, loss_cls: 0.0445, acc: 98.5267, loss_bbox: 0.0059, loss: 0.0524, grad_norm: 0.1089\n",
      "2021-05-14 04:54:30,094 - mmdet - INFO - Epoch [8][200/655]\tlr: 2.000e-02, eta: 0:12:46, time: 0.248, data_time: 0.006, memory: 2109, loss_rpn_cls: 0.0057, loss_rpn_bbox: 0.0009, loss_cls: 0.0436, acc: 98.5832, loss_bbox: 0.0058, loss: 0.0560, grad_norm: 0.1468\n",
      "2021-05-14 04:54:42,547 - mmdet - INFO - Epoch [8][250/655]\tlr: 2.000e-02, eta: 0:12:33, time: 0.249, data_time: 0.006, memory: 2109, loss_rpn_cls: 0.0019, loss_rpn_bbox: 0.0002, loss_cls: 0.0407, acc: 98.7181, loss_bbox: 0.0039, loss: 0.0467, grad_norm: 0.0950\n",
      "2021-05-14 04:54:55,051 - mmdet - INFO - Epoch [8][300/655]\tlr: 2.000e-02, eta: 0:12:21, time: 0.250, data_time: 0.006, memory: 2109, loss_rpn_cls: 0.0061, loss_rpn_bbox: 0.0011, loss_cls: 0.0453, acc: 98.6388, loss_bbox: 0.0075, loss: 0.0600, grad_norm: 0.1564\n",
      "2021-05-14 04:55:07,536 - mmdet - INFO - Epoch [8][350/655]\tlr: 2.000e-02, eta: 0:12:08, time: 0.250, data_time: 0.007, memory: 2109, loss_rpn_cls: 0.0029, loss_rpn_bbox: 0.0003, loss_cls: 0.0402, acc: 98.7306, loss_bbox: 0.0058, loss: 0.0492, grad_norm: 0.1347\n",
      "2021-05-14 04:55:20,065 - mmdet - INFO - Epoch [8][400/655]\tlr: 2.000e-02, eta: 0:11:56, time: 0.251, data_time: 0.006, memory: 2111, loss_rpn_cls: 0.0023, loss_rpn_bbox: 0.0003, loss_cls: 0.0384, acc: 98.8045, loss_bbox: 0.0063, loss: 0.0473, grad_norm: 0.1058\n",
      "2021-05-14 04:55:32,500 - mmdet - INFO - Epoch [8][450/655]\tlr: 2.000e-02, eta: 0:11:44, time: 0.249, data_time: 0.006, memory: 2113, loss_rpn_cls: 0.0015, loss_rpn_bbox: 0.0002, loss_cls: 0.0391, acc: 98.7198, loss_bbox: 0.0032, loss: 0.0440, grad_norm: 0.0863\n",
      "2021-05-14 04:55:45,022 - mmdet - INFO - Epoch [8][500/655]\tlr: 2.000e-02, eta: 0:11:31, time: 0.250, data_time: 0.006, memory: 2118, loss_rpn_cls: 0.0042, loss_rpn_bbox: 0.0007, loss_cls: 0.0362, acc: 98.7738, loss_bbox: 0.0049, loss: 0.0460, grad_norm: 0.1409\n",
      "2021-05-14 04:55:57,614 - mmdet - INFO - Epoch [8][550/655]\tlr: 2.000e-02, eta: 0:11:19, time: 0.252, data_time: 0.006, memory: 2123, loss_rpn_cls: 0.0032, loss_rpn_bbox: 0.0004, loss_cls: 0.0418, acc: 98.6500, loss_bbox: 0.0079, loss: 0.0532, grad_norm: 0.1577\n",
      "2021-05-14 04:56:10,422 - mmdet - INFO - Epoch [8][600/655]\tlr: 2.000e-02, eta: 0:11:06, time: 0.256, data_time: 0.006, memory: 2123, loss_rpn_cls: 0.0048, loss_rpn_bbox: 0.0008, loss_cls: 0.0409, acc: 98.6653, loss_bbox: 0.0094, loss: 0.0559, grad_norm: 0.1594\n",
      "2021-05-14 04:56:22,869 - mmdet - INFO - Epoch [8][650/655]\tlr: 2.000e-02, eta: 0:10:54, time: 0.249, data_time: 0.006, memory: 2123, loss_rpn_cls: 0.0064, loss_rpn_bbox: 0.0009, loss_cls: 0.0432, acc: 98.6753, loss_bbox: 0.0066, loss: 0.0572, grad_norm: 0.1690\n",
      "2021-05-14 04:56:24,149 - mmdet - INFO - Saving checkpoint at 8 epochs\n"
     ]
    },
    {
     "name": "stdout",
     "output_type": "stream",
     "text": [
      "[>>>>>>>>>>>>>>>>>>>>>>>>>>>>>] 655/655, 22.9 task/s, elapsed: 29s, ETA:     0s"
     ]
    },
    {
     "name": "stderr",
     "output_type": "stream",
     "text": [
      "2021-05-14 04:56:53,677 - mmdet - INFO - Evaluating bbox...\n"
     ]
    },
    {
     "name": "stdout",
     "output_type": "stream",
     "text": [
      "Loading and preparing results...\n",
      "DONE (t=0.01s)\n",
      "creating index...\n",
      "index created!\n",
      "Running per image evaluation...\n",
      "Evaluate annotation type *bbox*\n"
     ]
    },
    {
     "name": "stderr",
     "output_type": "stream",
     "text": [
      "2021-05-14 04:56:54,878 - mmdet - INFO - Epoch(val) [8][655]\tbbox_mAP: 0.0000, bbox_mAP_50: 0.0000, bbox_mAP_75: 0.0000, bbox_mAP_s: 0.0000, bbox_mAP_m: 0.0000, bbox_mAP_l: 0.0000, bbox_mAP_copypaste: 0.000 0.000 0.000 0.000 0.000 0.000\n"
     ]
    },
    {
     "name": "stdout",
     "output_type": "stream",
     "text": [
      "DONE (t=1.01s).\n",
      "Accumulating evaluation results...\n",
      "DONE (t=0.17s).\n",
      "Average Precision  (AP) @[ IoU=0.50:0.95 | area=   all | maxDets=100 ] = 0.000\n",
      "Average Precision  (AP) @[ IoU=0.50      | area=   all | maxDets=1000 ] = 0.000\n",
      "Average Precision  (AP) @[ IoU=0.75      | area=   all | maxDets=1000 ] = 0.000\n",
      "Average Precision  (AP) @[ IoU=0.50:0.95 | area= small | maxDets=1000 ] = 0.000\n",
      "Average Precision  (AP) @[ IoU=0.50:0.95 | area=medium | maxDets=1000 ] = 0.000\n",
      "Average Precision  (AP) @[ IoU=0.50:0.95 | area= large | maxDets=1000 ] = 0.000\n",
      "Average Recall     (AR) @[ IoU=0.50:0.95 | area=   all | maxDets=100 ] = 0.000\n",
      "Average Recall     (AR) @[ IoU=0.50:0.95 | area=   all | maxDets=300 ] = 0.000\n",
      "Average Recall     (AR) @[ IoU=0.50:0.95 | area=   all | maxDets=1000 ] = 0.000\n",
      "Average Recall     (AR) @[ IoU=0.50:0.95 | area= small | maxDets=1000 ] = 0.000\n",
      "Average Recall     (AR) @[ IoU=0.50:0.95 | area=medium | maxDets=1000 ] = 0.000\n",
      "Average Recall     (AR) @[ IoU=0.50:0.95 | area= large | maxDets=1000 ] = 0.000\n"
     ]
    },
    {
     "name": "stderr",
     "output_type": "stream",
     "text": [
      "2021-05-14 04:57:09,724 - mmdet - INFO - Epoch [9][50/655]\tlr: 2.000e-03, eta: 0:10:41, time: 0.297, data_time: 0.050, memory: 2123, loss_rpn_cls: 0.0022, loss_rpn_bbox: 0.0002, loss_cls: 0.0399, acc: 98.7394, loss_bbox: 0.0039, loss: 0.0462, grad_norm: 0.1062\n",
      "2021-05-14 04:57:22,292 - mmdet - INFO - Epoch [9][100/655]\tlr: 2.000e-03, eta: 0:10:28, time: 0.251, data_time: 0.007, memory: 2123, loss_rpn_cls: 0.0032, loss_rpn_bbox: 0.0005, loss_cls: 0.0380, acc: 98.8619, loss_bbox: 0.0056, loss: 0.0473, grad_norm: 0.1360\n",
      "2021-05-14 04:57:34,695 - mmdet - INFO - Epoch [9][150/655]\tlr: 2.000e-03, eta: 0:10:16, time: 0.248, data_time: 0.006, memory: 2123, loss_rpn_cls: 0.0028, loss_rpn_bbox: 0.0005, loss_cls: 0.0378, acc: 98.7671, loss_bbox: 0.0061, loss: 0.0472, grad_norm: 0.1262\n",
      "2021-05-14 04:57:47,034 - mmdet - INFO - Epoch [9][200/655]\tlr: 2.000e-03, eta: 0:10:03, time: 0.247, data_time: 0.006, memory: 2123, loss_rpn_cls: 0.0038, loss_rpn_bbox: 0.0007, loss_cls: 0.0394, acc: 98.6721, loss_bbox: 0.0075, loss: 0.0515, grad_norm: 0.1472\n",
      "2021-05-14 04:57:59,793 - mmdet - INFO - Epoch [9][250/655]\tlr: 2.000e-03, eta: 0:09:51, time: 0.255, data_time: 0.006, memory: 2123, loss_rpn_cls: 0.0023, loss_rpn_bbox: 0.0002, loss_cls: 0.0419, acc: 98.6578, loss_bbox: 0.0050, loss: 0.0494, grad_norm: 0.1198\n",
      "2021-05-14 04:58:12,639 - mmdet - INFO - Epoch [9][300/655]\tlr: 2.000e-03, eta: 0:09:39, time: 0.257, data_time: 0.007, memory: 2123, loss_rpn_cls: 0.0027, loss_rpn_bbox: 0.0005, loss_cls: 0.0413, acc: 98.7338, loss_bbox: 0.0078, loss: 0.0524, grad_norm: 0.1372\n",
      "2021-05-14 04:58:25,345 - mmdet - INFO - Epoch [9][350/655]\tlr: 2.000e-03, eta: 0:09:26, time: 0.254, data_time: 0.007, memory: 2123, loss_rpn_cls: 0.0022, loss_rpn_bbox: 0.0003, loss_cls: 0.0386, acc: 98.6746, loss_bbox: 0.0041, loss: 0.0453, grad_norm: 0.1034\n",
      "2021-05-14 04:58:37,964 - mmdet - INFO - Epoch [9][400/655]\tlr: 2.000e-03, eta: 0:09:14, time: 0.252, data_time: 0.006, memory: 2123, loss_rpn_cls: 0.0018, loss_rpn_bbox: 0.0003, loss_cls: 0.0385, acc: 98.6762, loss_bbox: 0.0033, loss: 0.0439, grad_norm: 0.0915\n",
      "2021-05-14 04:58:50,398 - mmdet - INFO - Epoch [9][450/655]\tlr: 2.000e-03, eta: 0:09:01, time: 0.249, data_time: 0.006, memory: 2123, loss_rpn_cls: 0.0007, loss_rpn_bbox: 0.0000, loss_cls: 0.0354, acc: 98.8394, loss_bbox: 0.0009, loss: 0.0370, grad_norm: 0.0615\n",
      "2021-05-14 04:59:03,237 - mmdet - INFO - Epoch [9][500/655]\tlr: 2.000e-03, eta: 0:08:49, time: 0.257, data_time: 0.006, memory: 2123, loss_rpn_cls: 0.0025, loss_rpn_bbox: 0.0003, loss_cls: 0.0412, acc: 98.6635, loss_bbox: 0.0070, loss: 0.0511, grad_norm: 0.1185\n",
      "2021-05-14 04:59:15,691 - mmdet - INFO - Epoch [9][550/655]\tlr: 2.000e-03, eta: 0:08:36, time: 0.249, data_time: 0.006, memory: 2123, loss_rpn_cls: 0.0020, loss_rpn_bbox: 0.0003, loss_cls: 0.0360, acc: 98.8476, loss_bbox: 0.0047, loss: 0.0430, grad_norm: 0.0996\n",
      "2021-05-14 04:59:28,231 - mmdet - INFO - Epoch [9][600/655]\tlr: 2.000e-03, eta: 0:08:24, time: 0.251, data_time: 0.006, memory: 2123, loss_rpn_cls: 0.0088, loss_rpn_bbox: 0.0011, loss_cls: 0.0553, acc: 98.3563, loss_bbox: 0.0108, loss: 0.0760, grad_norm: 0.2360\n",
      "2021-05-14 04:59:41,049 - mmdet - INFO - Epoch [9][650/655]\tlr: 2.000e-03, eta: 0:08:12, time: 0.256, data_time: 0.006, memory: 2123, loss_rpn_cls: 0.0031, loss_rpn_bbox: 0.0006, loss_cls: 0.0406, acc: 98.6735, loss_bbox: 0.0039, loss: 0.0482, grad_norm: 0.1258\n",
      "2021-05-14 04:59:42,447 - mmdet - INFO - Saving checkpoint at 9 epochs\n"
     ]
    },
    {
     "name": "stdout",
     "output_type": "stream",
     "text": [
      "[>>>>>>>>>>>>>>>>>>>>>>>>>>>>>] 655/655, 22.3 task/s, elapsed: 29s, ETA:     0s"
     ]
    },
    {
     "name": "stderr",
     "output_type": "stream",
     "text": [
      "2021-05-14 05:00:12,672 - mmdet - INFO - Evaluating bbox...\n"
     ]
    },
    {
     "name": "stdout",
     "output_type": "stream",
     "text": [
      "Loading and preparing results...\n",
      "DONE (t=0.00s)\n",
      "creating index...\n",
      "index created!\n",
      "Running per image evaluation...\n",
      "Evaluate annotation type *bbox*\n"
     ]
    },
    {
     "name": "stderr",
     "output_type": "stream",
     "text": [
      "2021-05-14 05:00:13,399 - mmdet - INFO - Epoch(val) [9][655]\tbbox_mAP: 0.0000, bbox_mAP_50: 0.0000, bbox_mAP_75: 0.0000, bbox_mAP_s: 0.0000, bbox_mAP_m: 0.0000, bbox_mAP_l: 0.0000, bbox_mAP_copypaste: 0.000 0.000 0.000 0.000 0.000 0.000\n"
     ]
    },
    {
     "name": "stdout",
     "output_type": "stream",
     "text": [
      "DONE (t=0.54s).\n",
      "Accumulating evaluation results...\n",
      "DONE (t=0.15s).\n",
      "Average Precision  (AP) @[ IoU=0.50:0.95 | area=   all | maxDets=100 ] = 0.000\n",
      "Average Precision  (AP) @[ IoU=0.50      | area=   all | maxDets=1000 ] = 0.000\n",
      "Average Precision  (AP) @[ IoU=0.75      | area=   all | maxDets=1000 ] = 0.000\n",
      "Average Precision  (AP) @[ IoU=0.50:0.95 | area= small | maxDets=1000 ] = 0.000\n",
      "Average Precision  (AP) @[ IoU=0.50:0.95 | area=medium | maxDets=1000 ] = 0.000\n",
      "Average Precision  (AP) @[ IoU=0.50:0.95 | area= large | maxDets=1000 ] = 0.000\n",
      "Average Recall     (AR) @[ IoU=0.50:0.95 | area=   all | maxDets=100 ] = 0.000\n",
      "Average Recall     (AR) @[ IoU=0.50:0.95 | area=   all | maxDets=300 ] = 0.000\n",
      "Average Recall     (AR) @[ IoU=0.50:0.95 | area=   all | maxDets=1000 ] = 0.000\n",
      "Average Recall     (AR) @[ IoU=0.50:0.95 | area= small | maxDets=1000 ] = 0.000\n",
      "Average Recall     (AR) @[ IoU=0.50:0.95 | area=medium | maxDets=1000 ] = 0.000\n",
      "Average Recall     (AR) @[ IoU=0.50:0.95 | area= large | maxDets=1000 ] = 0.000\n"
     ]
    },
    {
     "name": "stderr",
     "output_type": "stream",
     "text": [
      "2021-05-14 05:00:28,226 - mmdet - INFO - Epoch [10][50/655]\tlr: 2.000e-03, eta: 0:07:58, time: 0.296, data_time: 0.050, memory: 2123, loss_rpn_cls: 0.0026, loss_rpn_bbox: 0.0004, loss_cls: 0.0433, acc: 98.5761, loss_bbox: 0.0056, loss: 0.0518, grad_norm: 0.1196\n",
      "2021-05-14 05:00:40,732 - mmdet - INFO - Epoch [10][100/655]\tlr: 2.000e-03, eta: 0:07:46, time: 0.250, data_time: 0.006, memory: 2123, loss_rpn_cls: 0.0023, loss_rpn_bbox: 0.0003, loss_cls: 0.0397, acc: 98.6886, loss_bbox: 0.0068, loss: 0.0490, grad_norm: 0.1240\n",
      "2021-05-14 05:00:53,416 - mmdet - INFO - Epoch [10][150/655]\tlr: 2.000e-03, eta: 0:07:33, time: 0.254, data_time: 0.006, memory: 2123, loss_rpn_cls: 0.0016, loss_rpn_bbox: 0.0002, loss_cls: 0.0398, acc: 98.6991, loss_bbox: 0.0047, loss: 0.0463, grad_norm: 0.1110\n",
      "2021-05-14 05:01:05,984 - mmdet - INFO - Epoch [10][200/655]\tlr: 2.000e-03, eta: 0:07:21, time: 0.251, data_time: 0.006, memory: 2123, loss_rpn_cls: 0.0035, loss_rpn_bbox: 0.0006, loss_cls: 0.0436, acc: 98.6779, loss_bbox: 0.0090, loss: 0.0567, grad_norm: 0.1546\n",
      "2021-05-14 05:01:18,567 - mmdet - INFO - Epoch [10][250/655]\tlr: 2.000e-03, eta: 0:07:08, time: 0.252, data_time: 0.006, memory: 2123, loss_rpn_cls: 0.0023, loss_rpn_bbox: 0.0002, loss_cls: 0.0397, acc: 98.7513, loss_bbox: 0.0050, loss: 0.0472, grad_norm: 0.1308\n",
      "2021-05-14 05:01:31,044 - mmdet - INFO - Epoch [10][300/655]\tlr: 2.000e-03, eta: 0:06:56, time: 0.250, data_time: 0.006, memory: 2123, loss_rpn_cls: 0.0017, loss_rpn_bbox: 0.0003, loss_cls: 0.0407, acc: 98.6161, loss_bbox: 0.0053, loss: 0.0479, grad_norm: 0.0913\n",
      "2021-05-14 05:01:43,542 - mmdet - INFO - Epoch [10][350/655]\tlr: 2.000e-03, eta: 0:06:43, time: 0.250, data_time: 0.006, memory: 2123, loss_rpn_cls: 0.0021, loss_rpn_bbox: 0.0003, loss_cls: 0.0388, acc: 98.7281, loss_bbox: 0.0052, loss: 0.0464, grad_norm: 0.1214\n",
      "2021-05-14 05:01:56,003 - mmdet - INFO - Epoch [10][400/655]\tlr: 2.000e-03, eta: 0:06:31, time: 0.249, data_time: 0.006, memory: 2123, loss_rpn_cls: 0.0058, loss_rpn_bbox: 0.0008, loss_cls: 0.0453, acc: 98.6240, loss_bbox: 0.0103, loss: 0.0621, grad_norm: 0.1819\n",
      "2021-05-14 05:02:08,463 - mmdet - INFO - Epoch [10][450/655]\tlr: 2.000e-03, eta: 0:06:18, time: 0.249, data_time: 0.006, memory: 2123, loss_rpn_cls: 0.0033, loss_rpn_bbox: 0.0005, loss_cls: 0.0386, acc: 98.7491, loss_bbox: 0.0051, loss: 0.0475, grad_norm: 0.1268\n",
      "2021-05-14 05:02:20,969 - mmdet - INFO - Epoch [10][500/655]\tlr: 2.000e-03, eta: 0:06:06, time: 0.250, data_time: 0.006, memory: 2123, loss_rpn_cls: 0.0033, loss_rpn_bbox: 0.0006, loss_cls: 0.0411, acc: 98.6798, loss_bbox: 0.0053, loss: 0.0503, grad_norm: 0.1260\n",
      "2021-05-14 05:02:33,567 - mmdet - INFO - Epoch [10][550/655]\tlr: 2.000e-03, eta: 0:05:53, time: 0.252, data_time: 0.006, memory: 2123, loss_rpn_cls: 0.0043, loss_rpn_bbox: 0.0008, loss_cls: 0.0469, acc: 98.6074, loss_bbox: 0.0107, loss: 0.0626, grad_norm: 0.1648\n",
      "2021-05-14 05:02:46,075 - mmdet - INFO - Epoch [10][600/655]\tlr: 2.000e-03, eta: 0:05:41, time: 0.250, data_time: 0.006, memory: 2123, loss_rpn_cls: 0.0029, loss_rpn_bbox: 0.0003, loss_cls: 0.0437, acc: 98.6255, loss_bbox: 0.0073, loss: 0.0542, grad_norm: 0.1437\n",
      "2021-05-14 05:02:58,633 - mmdet - INFO - Epoch [10][650/655]\tlr: 2.000e-03, eta: 0:05:28, time: 0.251, data_time: 0.006, memory: 2123, loss_rpn_cls: 0.0026, loss_rpn_bbox: 0.0004, loss_cls: 0.0374, acc: 98.7045, loss_bbox: 0.0061, loss: 0.0465, grad_norm: 0.0962\n",
      "2021-05-14 05:02:59,936 - mmdet - INFO - Saving checkpoint at 10 epochs\n"
     ]
    },
    {
     "name": "stdout",
     "output_type": "stream",
     "text": [
      "[>>>>>>>>>>>>>>>>>>>>>>>>>>>>>] 655/655, 22.9 task/s, elapsed: 29s, ETA:     0s"
     ]
    },
    {
     "name": "stderr",
     "output_type": "stream",
     "text": [
      "2021-05-14 05:03:29,434 - mmdet - INFO - Evaluating bbox...\n"
     ]
    },
    {
     "name": "stdout",
     "output_type": "stream",
     "text": [
      "Loading and preparing results...\n",
      "DONE (t=0.00s)\n",
      "creating index...\n",
      "index created!\n",
      "Running per image evaluation...\n",
      "Evaluate annotation type *bbox*\n"
     ]
    },
    {
     "name": "stderr",
     "output_type": "stream",
     "text": [
      "2021-05-14 05:03:30,542 - mmdet - INFO - Epoch(val) [10][655]\tbbox_mAP: 0.0000, bbox_mAP_50: 0.0000, bbox_mAP_75: 0.0000, bbox_mAP_s: 0.0000, bbox_mAP_m: 0.0000, bbox_mAP_l: 0.0000, bbox_mAP_copypaste: 0.000 0.000 0.000 0.000 0.000 0.000\n"
     ]
    },
    {
     "name": "stdout",
     "output_type": "stream",
     "text": [
      "DONE (t=0.92s).\n",
      "Accumulating evaluation results...\n",
      "DONE (t=0.16s).\n",
      "Average Precision  (AP) @[ IoU=0.50:0.95 | area=   all | maxDets=100 ] = 0.000\n",
      "Average Precision  (AP) @[ IoU=0.50      | area=   all | maxDets=1000 ] = 0.000\n",
      "Average Precision  (AP) @[ IoU=0.75      | area=   all | maxDets=1000 ] = 0.000\n",
      "Average Precision  (AP) @[ IoU=0.50:0.95 | area= small | maxDets=1000 ] = 0.000\n",
      "Average Precision  (AP) @[ IoU=0.50:0.95 | area=medium | maxDets=1000 ] = 0.000\n",
      "Average Precision  (AP) @[ IoU=0.50:0.95 | area= large | maxDets=1000 ] = 0.000\n",
      "Average Recall     (AR) @[ IoU=0.50:0.95 | area=   all | maxDets=100 ] = 0.000\n",
      "Average Recall     (AR) @[ IoU=0.50:0.95 | area=   all | maxDets=300 ] = 0.000\n",
      "Average Recall     (AR) @[ IoU=0.50:0.95 | area=   all | maxDets=1000 ] = 0.000\n",
      "Average Recall     (AR) @[ IoU=0.50:0.95 | area= small | maxDets=1000 ] = 0.000\n",
      "Average Recall     (AR) @[ IoU=0.50:0.95 | area=medium | maxDets=1000 ] = 0.000\n",
      "Average Recall     (AR) @[ IoU=0.50:0.95 | area= large | maxDets=1000 ] = 0.000\n"
     ]
    },
    {
     "name": "stderr",
     "output_type": "stream",
     "text": [
      "2021-05-14 05:03:45,528 - mmdet - INFO - Epoch [11][50/655]\tlr: 2.000e-03, eta: 0:05:15, time: 0.300, data_time: 0.052, memory: 2123, loss_rpn_cls: 0.0031, loss_rpn_bbox: 0.0005, loss_cls: 0.0413, acc: 98.7427, loss_bbox: 0.0064, loss: 0.0513, grad_norm: 0.1396\n",
      "2021-05-14 05:03:58,065 - mmdet - INFO - Epoch [11][100/655]\tlr: 2.000e-03, eta: 0:05:02, time: 0.251, data_time: 0.006, memory: 2123, loss_rpn_cls: 0.0043, loss_rpn_bbox: 0.0007, loss_cls: 0.0466, acc: 98.5116, loss_bbox: 0.0084, loss: 0.0601, grad_norm: 0.1381\n",
      "2021-05-14 05:04:10,606 - mmdet - INFO - Epoch [11][150/655]\tlr: 2.000e-03, eta: 0:04:50, time: 0.251, data_time: 0.006, memory: 2123, loss_rpn_cls: 0.0019, loss_rpn_bbox: 0.0002, loss_cls: 0.0428, acc: 98.5856, loss_bbox: 0.0045, loss: 0.0494, grad_norm: 0.1220\n",
      "2021-05-14 05:04:23,018 - mmdet - INFO - Epoch [11][200/655]\tlr: 2.000e-03, eta: 0:04:37, time: 0.248, data_time: 0.006, memory: 2123, loss_rpn_cls: 0.0030, loss_rpn_bbox: 0.0003, loss_cls: 0.0407, acc: 98.6502, loss_bbox: 0.0058, loss: 0.0498, grad_norm: 0.1258\n",
      "2021-05-14 05:04:35,380 - mmdet - INFO - Epoch [11][250/655]\tlr: 2.000e-03, eta: 0:04:25, time: 0.247, data_time: 0.006, memory: 2123, loss_rpn_cls: 0.0027, loss_rpn_bbox: 0.0007, loss_cls: 0.0390, acc: 98.7311, loss_bbox: 0.0056, loss: 0.0480, grad_norm: 0.1090\n",
      "2021-05-14 05:04:47,740 - mmdet - INFO - Epoch [11][300/655]\tlr: 2.000e-03, eta: 0:04:12, time: 0.247, data_time: 0.006, memory: 2123, loss_rpn_cls: 0.0013, loss_rpn_bbox: 0.0002, loss_cls: 0.0409, acc: 98.6651, loss_bbox: 0.0057, loss: 0.0480, grad_norm: 0.0998\n",
      "2021-05-14 05:05:00,454 - mmdet - INFO - Epoch [11][350/655]\tlr: 2.000e-03, eta: 0:04:00, time: 0.254, data_time: 0.007, memory: 2123, loss_rpn_cls: 0.0022, loss_rpn_bbox: 0.0003, loss_cls: 0.0407, acc: 98.6205, loss_bbox: 0.0077, loss: 0.0510, grad_norm: 0.1209\n",
      "2021-05-14 05:05:13,288 - mmdet - INFO - Epoch [11][400/655]\tlr: 2.000e-03, eta: 0:03:47, time: 0.257, data_time: 0.007, memory: 2123, loss_rpn_cls: 0.0020, loss_rpn_bbox: 0.0002, loss_cls: 0.0385, acc: 98.7009, loss_bbox: 0.0061, loss: 0.0467, grad_norm: 0.1110\n",
      "2021-05-14 05:05:25,829 - mmdet - INFO - Epoch [11][450/655]\tlr: 2.000e-03, eta: 0:03:35, time: 0.251, data_time: 0.006, memory: 2123, loss_rpn_cls: 0.0033, loss_rpn_bbox: 0.0005, loss_cls: 0.0436, acc: 98.5826, loss_bbox: 0.0087, loss: 0.0561, grad_norm: 0.1454\n",
      "2021-05-14 05:05:38,263 - mmdet - INFO - Epoch [11][500/655]\tlr: 2.000e-03, eta: 0:03:22, time: 0.249, data_time: 0.006, memory: 2123, loss_rpn_cls: 0.0034, loss_rpn_bbox: 0.0004, loss_cls: 0.0427, acc: 98.6694, loss_bbox: 0.0067, loss: 0.0532, grad_norm: 0.1338\n",
      "2021-05-14 05:05:50,672 - mmdet - INFO - Epoch [11][550/655]\tlr: 2.000e-03, eta: 0:03:10, time: 0.248, data_time: 0.006, memory: 2123, loss_rpn_cls: 0.0026, loss_rpn_bbox: 0.0006, loss_cls: 0.0384, acc: 98.7242, loss_bbox: 0.0047, loss: 0.0462, grad_norm: 0.1089\n",
      "2021-05-14 05:06:03,166 - mmdet - INFO - Epoch [11][600/655]\tlr: 2.000e-03, eta: 0:02:57, time: 0.250, data_time: 0.006, memory: 2123, loss_rpn_cls: 0.0013, loss_rpn_bbox: 0.0002, loss_cls: 0.0387, acc: 98.7753, loss_bbox: 0.0028, loss: 0.0431, grad_norm: 0.0860\n",
      "2021-05-14 05:06:15,600 - mmdet - INFO - Epoch [11][650/655]\tlr: 2.000e-03, eta: 0:02:45, time: 0.249, data_time: 0.006, memory: 2123, loss_rpn_cls: 0.0033, loss_rpn_bbox: 0.0005, loss_cls: 0.0426, acc: 98.6417, loss_bbox: 0.0065, loss: 0.0528, grad_norm: 0.1520\n",
      "2021-05-14 05:06:16,917 - mmdet - INFO - Saving checkpoint at 11 epochs\n"
     ]
    },
    {
     "name": "stdout",
     "output_type": "stream",
     "text": [
      "[>>>>>>>>>>>>>>>>>>>>>>>>>>>>>] 655/655, 23.3 task/s, elapsed: 28s, ETA:     0s"
     ]
    },
    {
     "name": "stderr",
     "output_type": "stream",
     "text": [
      "2021-05-14 05:06:45,828 - mmdet - INFO - Evaluating bbox...\n"
     ]
    },
    {
     "name": "stdout",
     "output_type": "stream",
     "text": [
      "Loading and preparing results...\n",
      "DONE (t=0.01s)\n",
      "creating index...\n",
      "index created!\n",
      "Running per image evaluation...\n",
      "Evaluate annotation type *bbox*\n"
     ]
    },
    {
     "name": "stderr",
     "output_type": "stream",
     "text": [
      "2021-05-14 05:06:46,647 - mmdet - INFO - Epoch(val) [11][655]\tbbox_mAP: 0.0000, bbox_mAP_50: 0.0000, bbox_mAP_75: 0.0000, bbox_mAP_s: 0.0000, bbox_mAP_m: 0.0000, bbox_mAP_l: 0.0000, bbox_mAP_copypaste: 0.000 0.000 0.000 0.000 0.000 0.000\n"
     ]
    },
    {
     "name": "stdout",
     "output_type": "stream",
     "text": [
      "DONE (t=0.62s).\n",
      "Accumulating evaluation results...\n",
      "DONE (t=0.17s).\n",
      "Average Precision  (AP) @[ IoU=0.50:0.95 | area=   all | maxDets=100 ] = 0.000\n",
      "Average Precision  (AP) @[ IoU=0.50      | area=   all | maxDets=1000 ] = 0.000\n",
      "Average Precision  (AP) @[ IoU=0.75      | area=   all | maxDets=1000 ] = 0.000\n",
      "Average Precision  (AP) @[ IoU=0.50:0.95 | area= small | maxDets=1000 ] = 0.000\n",
      "Average Precision  (AP) @[ IoU=0.50:0.95 | area=medium | maxDets=1000 ] = 0.000\n",
      "Average Precision  (AP) @[ IoU=0.50:0.95 | area= large | maxDets=1000 ] = 0.000\n",
      "Average Recall     (AR) @[ IoU=0.50:0.95 | area=   all | maxDets=100 ] = 0.000\n",
      "Average Recall     (AR) @[ IoU=0.50:0.95 | area=   all | maxDets=300 ] = 0.000\n",
      "Average Recall     (AR) @[ IoU=0.50:0.95 | area=   all | maxDets=1000 ] = 0.000\n",
      "Average Recall     (AR) @[ IoU=0.50:0.95 | area= small | maxDets=1000 ] = 0.000\n",
      "Average Recall     (AR) @[ IoU=0.50:0.95 | area=medium | maxDets=1000 ] = 0.000\n",
      "Average Recall     (AR) @[ IoU=0.50:0.95 | area= large | maxDets=1000 ] = 0.001\n"
     ]
    },
    {
     "name": "stderr",
     "output_type": "stream",
     "text": [
      "2021-05-14 05:07:01,485 - mmdet - INFO - Epoch [12][50/655]\tlr: 2.000e-04, eta: 0:02:31, time: 0.297, data_time: 0.050, memory: 2123, loss_rpn_cls: 0.0029, loss_rpn_bbox: 0.0005, loss_cls: 0.0412, acc: 98.7285, loss_bbox: 0.0066, loss: 0.0511, grad_norm: 0.1368\n",
      "2021-05-14 05:07:14,228 - mmdet - INFO - Epoch [12][100/655]\tlr: 2.000e-04, eta: 0:02:18, time: 0.255, data_time: 0.007, memory: 2123, loss_rpn_cls: 0.0016, loss_rpn_bbox: 0.0002, loss_cls: 0.0442, acc: 98.4825, loss_bbox: 0.0044, loss: 0.0505, grad_norm: 0.1208\n",
      "2021-05-14 05:07:26,689 - mmdet - INFO - Epoch [12][150/655]\tlr: 2.000e-04, eta: 0:02:06, time: 0.249, data_time: 0.006, memory: 2123, loss_rpn_cls: 0.0032, loss_rpn_bbox: 0.0004, loss_cls: 0.0486, acc: 98.4948, loss_bbox: 0.0080, loss: 0.0602, grad_norm: 0.1759\n",
      "2021-05-14 05:07:39,097 - mmdet - INFO - Epoch [12][200/655]\tlr: 2.000e-04, eta: 0:01:53, time: 0.248, data_time: 0.006, memory: 2123, loss_rpn_cls: 0.0030, loss_rpn_bbox: 0.0005, loss_cls: 0.0417, acc: 98.5604, loss_bbox: 0.0075, loss: 0.0528, grad_norm: 0.1335\n",
      "2021-05-14 05:07:51,782 - mmdet - INFO - Epoch [12][250/655]\tlr: 2.000e-04, eta: 0:01:41, time: 0.254, data_time: 0.006, memory: 2123, loss_rpn_cls: 0.0019, loss_rpn_bbox: 0.0004, loss_cls: 0.0368, acc: 98.8072, loss_bbox: 0.0044, loss: 0.0435, grad_norm: 0.0965\n",
      "2021-05-14 05:08:04,175 - mmdet - INFO - Epoch [12][300/655]\tlr: 2.000e-04, eta: 0:01:28, time: 0.248, data_time: 0.006, memory: 2123, loss_rpn_cls: 0.0031, loss_rpn_bbox: 0.0004, loss_cls: 0.0420, acc: 98.7120, loss_bbox: 0.0064, loss: 0.0519, grad_norm: 0.1238\n",
      "2021-05-14 05:08:16,645 - mmdet - INFO - Epoch [12][350/655]\tlr: 2.000e-04, eta: 0:01:16, time: 0.249, data_time: 0.006, memory: 2123, loss_rpn_cls: 0.0009, loss_rpn_bbox: 0.0001, loss_cls: 0.0428, acc: 98.5407, loss_bbox: 0.0024, loss: 0.0462, grad_norm: 0.0924\n",
      "2021-05-14 05:08:29,024 - mmdet - INFO - Epoch [12][400/655]\tlr: 2.000e-04, eta: 0:01:03, time: 0.248, data_time: 0.006, memory: 2123, loss_rpn_cls: 0.0034, loss_rpn_bbox: 0.0008, loss_cls: 0.0357, acc: 98.7853, loss_bbox: 0.0058, loss: 0.0457, grad_norm: 0.1047\n",
      "2021-05-14 05:08:41,480 - mmdet - INFO - Epoch [12][450/655]\tlr: 2.000e-04, eta: 0:00:51, time: 0.249, data_time: 0.006, memory: 2123, loss_rpn_cls: 0.0024, loss_rpn_bbox: 0.0003, loss_cls: 0.0422, acc: 98.6136, loss_bbox: 0.0057, loss: 0.0506, grad_norm: 0.1189\n",
      "2021-05-14 05:08:54,010 - mmdet - INFO - Epoch [12][500/655]\tlr: 2.000e-04, eta: 0:00:38, time: 0.251, data_time: 0.006, memory: 2123, loss_rpn_cls: 0.0033, loss_rpn_bbox: 0.0005, loss_cls: 0.0445, acc: 98.6291, loss_bbox: 0.0083, loss: 0.0566, grad_norm: 0.1701\n",
      "2021-05-14 05:09:06,612 - mmdet - INFO - Epoch [12][550/655]\tlr: 2.000e-04, eta: 0:00:26, time: 0.252, data_time: 0.007, memory: 2123, loss_rpn_cls: 0.0023, loss_rpn_bbox: 0.0004, loss_cls: 0.0403, acc: 98.6719, loss_bbox: 0.0040, loss: 0.0470, grad_norm: 0.1000\n",
      "2021-05-14 05:09:19,195 - mmdet - INFO - Epoch [12][600/655]\tlr: 2.000e-04, eta: 0:00:13, time: 0.252, data_time: 0.007, memory: 2123, loss_rpn_cls: 0.0063, loss_rpn_bbox: 0.0009, loss_cls: 0.0425, acc: 98.6724, loss_bbox: 0.0068, loss: 0.0565, grad_norm: 0.1647\n",
      "2021-05-14 05:09:31,706 - mmdet - INFO - Epoch [12][650/655]\tlr: 2.000e-04, eta: 0:00:01, time: 0.250, data_time: 0.006, memory: 2123, loss_rpn_cls: 0.0021, loss_rpn_bbox: 0.0003, loss_cls: 0.0392, acc: 98.6695, loss_bbox: 0.0048, loss: 0.0462, grad_norm: 0.1051\n",
      "2021-05-14 05:09:33,016 - mmdet - INFO - Saving checkpoint at 12 epochs\n"
     ]
    },
    {
     "name": "stdout",
     "output_type": "stream",
     "text": [
      "[>>>>>>>>>>>>>>>>>>>>>>>>>>>>>] 655/655, 22.9 task/s, elapsed: 29s, ETA:     0s"
     ]
    },
    {
     "name": "stderr",
     "output_type": "stream",
     "text": [
      "2021-05-14 05:10:02,450 - mmdet - INFO - Evaluating bbox...\n"
     ]
    },
    {
     "name": "stdout",
     "output_type": "stream",
     "text": [
      "Loading and preparing results...\n",
      "DONE (t=0.01s)\n",
      "creating index...\n",
      "index created!\n",
      "Running per image evaluation...\n",
      "Evaluate annotation type *bbox*\n"
     ]
    },
    {
     "name": "stderr",
     "output_type": "stream",
     "text": [
      "2021-05-14 05:10:03,663 - mmdet - INFO - Epoch(val) [12][655]\tbbox_mAP: 0.0000, bbox_mAP_50: 0.0000, bbox_mAP_75: 0.0000, bbox_mAP_s: 0.0000, bbox_mAP_m: 0.0000, bbox_mAP_l: 0.0000, bbox_mAP_copypaste: 0.000 0.000 0.000 0.000 0.000 0.000\n"
     ]
    },
    {
     "name": "stdout",
     "output_type": "stream",
     "text": [
      "DONE (t=1.01s).\n",
      "Accumulating evaluation results...\n",
      "DONE (t=0.17s).\n",
      "Average Precision  (AP) @[ IoU=0.50:0.95 | area=   all | maxDets=100 ] = 0.000\n",
      "Average Precision  (AP) @[ IoU=0.50      | area=   all | maxDets=1000 ] = 0.000\n",
      "Average Precision  (AP) @[ IoU=0.75      | area=   all | maxDets=1000 ] = 0.000\n",
      "Average Precision  (AP) @[ IoU=0.50:0.95 | area= small | maxDets=1000 ] = 0.000\n",
      "Average Precision  (AP) @[ IoU=0.50:0.95 | area=medium | maxDets=1000 ] = 0.000\n",
      "Average Precision  (AP) @[ IoU=0.50:0.95 | area= large | maxDets=1000 ] = 0.000\n",
      "Average Recall     (AR) @[ IoU=0.50:0.95 | area=   all | maxDets=100 ] = 0.000\n",
      "Average Recall     (AR) @[ IoU=0.50:0.95 | area=   all | maxDets=300 ] = 0.000\n",
      "Average Recall     (AR) @[ IoU=0.50:0.95 | area=   all | maxDets=1000 ] = 0.000\n",
      "Average Recall     (AR) @[ IoU=0.50:0.95 | area= small | maxDets=1000 ] = 0.000\n",
      "Average Recall     (AR) @[ IoU=0.50:0.95 | area=medium | maxDets=1000 ] = 0.000\n",
      "Average Recall     (AR) @[ IoU=0.50:0.95 | area= large | maxDets=1000 ] = 0.001\n"
     ]
    }
   ],
   "source": [
    "train_detector(model, datasets[0], cfg, distributed=False, validate=True)"
   ]
  },
  {
   "cell_type": "code",
   "execution_count": null,
   "metadata": {},
   "outputs": [],
   "source": []
  },
  {
   "cell_type": "code",
   "execution_count": null,
   "metadata": {},
   "outputs": [],
   "source": []
  }
 ],
 "metadata": {
  "kernelspec": {
   "display_name": "Python 3",
   "language": "python",
   "name": "python3"
  },
  "language_info": {
   "codemirror_mode": {
    "name": "ipython",
    "version": 3
   },
   "file_extension": ".py",
   "mimetype": "text/x-python",
   "name": "python",
   "nbconvert_exporter": "python",
   "pygments_lexer": "ipython3",
   "version": "3.7.7"
  },
  "pycharm": {
   "stem_cell": {
    "cell_type": "raw",
    "metadata": {
     "collapsed": false
    },
    "source": []
   }
  }
 },
 "nbformat": 4,
 "nbformat_minor": 4
}
