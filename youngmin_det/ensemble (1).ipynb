{
 "cells": [
  {
   "cell_type": "code",
   "execution_count": 1,
   "metadata": {
    "id": "VRWG2Yg8Ipiw",
    "outputId": "98401ebf-8224-40f3-c6cc-41099bb5a9ba"
   },
   "outputs": [
    {
     "name": "stdout",
     "output_type": "stream",
     "text": [
      "Collecting ensemble_boxes\n",
      "  Downloading ensemble_boxes-1.0.6-py3-none-any.whl (20 kB)\n",
      "Collecting numba\n",
      "  Downloading numba-0.53.1-cp37-cp37m-manylinux2014_x86_64.whl (3.4 MB)\n",
      "\u001b[K     |████████████████████████████████| 3.4 MB 2.4 MB/s eta 0:00:01     |███████████████████████▍        | 2.5 MB 2.4 MB/s eta 0:00:01\n",
      "\u001b[?25hRequirement already satisfied: numpy in /opt/conda/lib/python3.7/site-packages (from ensemble_boxes) (1.18.5)\n",
      "Requirement already satisfied: pandas in /opt/conda/lib/python3.7/site-packages (from ensemble_boxes) (1.2.4)\n",
      "Collecting llvmlite<0.37,>=0.36.0rc1\n",
      "  Downloading llvmlite-0.36.0-cp37-cp37m-manylinux2010_x86_64.whl (25.3 MB)\n",
      "\u001b[K     |████████████████████████████████| 25.3 MB 12.1 MB/s eta 0:00:01    |███▋                            | 2.8 MB 10.6 MB/s eta 0:00:03     |████▍                           | 3.4 MB 10.6 MB/s eta 0:00:03     |█████████                       | 7.0 MB 10.6 MB/s eta 0:00:02     |██████████████████▋             | 14.7 MB 12.1 MB/s eta 0:00:01     |███████████████████████████▊    | 21.9 MB 12.1 MB/s eta 0:00:01\n",
      "\u001b[?25hRequirement already satisfied: setuptools in /opt/conda/lib/python3.7/site-packages (from numba->ensemble_boxes) (46.4.0.post20200518)\n",
      "Requirement already satisfied: python-dateutil>=2.7.3 in /opt/conda/lib/python3.7/site-packages (from pandas->ensemble_boxes) (2.8.1)\n",
      "Requirement already satisfied: pytz>=2017.3 in /opt/conda/lib/python3.7/site-packages (from pandas->ensemble_boxes) (2020.1)\n",
      "Requirement already satisfied: six>=1.5 in /opt/conda/lib/python3.7/site-packages (from python-dateutil>=2.7.3->pandas->ensemble_boxes) (1.14.0)\n",
      "Installing collected packages: llvmlite, numba, ensemble-boxes\n",
      "Successfully installed ensemble-boxes-1.0.6 llvmlite-0.36.0 numba-0.53.1\n"
     ]
    }
   ],
   "source": [
    "!pip install ensemble_boxes"
   ]
  },
  {
   "cell_type": "code",
   "execution_count": 2,
   "metadata": {
    "id": "mYw5cB7BIpi3"
   },
   "outputs": [],
   "source": [
    "import pandas as pd\n",
    "from ensemble_boxes import *\n",
    "import numpy as np\n",
    "from pycocotools.coco import COCO"
   ]
  },
  {
   "cell_type": "code",
   "execution_count": 17,
   "metadata": {
    "id": "z1NPpHR0Ipi4"
   },
   "outputs": [],
   "source": [
    "# ensemble csv files\n",
    "submission_files = ['best.csv', '0.5312.csv']\n",
    "submission_df = [pd.read_csv(file) for file in submission_files]"
   ]
  },
  {
   "cell_type": "code",
   "execution_count": 18,
   "metadata": {
    "id": "Qz6eKcw0Ipi4"
   },
   "outputs": [],
   "source": [
    "image_ids = submission_df[0]['image_id'].tolist()"
   ]
  },
  {
   "cell_type": "code",
   "execution_count": 19,
   "metadata": {
    "id": "BTzRPg7OIpi5",
    "outputId": "1ff8d1de-0036-4af6-9c02-69f8b29099d0"
   },
   "outputs": [
    {
     "name": "stdout",
     "output_type": "stream",
     "text": [
      "loading annotations into memory...\n",
      "Done (t=0.01s)\n",
      "creating index...\n",
      "index created!\n"
     ]
    }
   ],
   "source": [
    "annotation = '../../input/data/test.json'\n",
    "coco = COCO(annotation)"
   ]
  },
  {
   "cell_type": "code",
   "execution_count": 20,
   "metadata": {
    "id": "kJzBBdgbIpi5",
    "outputId": "23164817-e042-4287-f63c-6c95f334936b"
   },
   "outputs": [],
   "source": [
    "prediction_strings = []\n",
    "file_names = []\n",
    "iou_thr = 0.4\n",
    "\n",
    "for i, image_id in enumerate(image_ids):\n",
    "    prediction_string = ''\n",
    "    boxes_list = []\n",
    "    scores_list = []\n",
    "    labels_list = []\n",
    "    image_info = coco.loadImgs(i)[0]\n",
    "    for df in submission_df:\n",
    "        predict_string = df[df['image_id'] == image_id]['PredictionString'].tolist()[0]\n",
    "        predict_list = str(predict_string).split()\n",
    "        if len(predict_list)==0 or len(predict_list)==1:\n",
    "            continue\n",
    "        predict_list = np.reshape(predict_list, (-1, 6))\n",
    "        box_list = []\n",
    "        for box in predict_list[:, 2:6].tolist():\n",
    "            box[0] = float(box[0]) / image_info['width']\n",
    "            box[1] = float(box[1]) / image_info['height']\n",
    "            box[2] = float(box[2]) / image_info['width']\n",
    "            box[3] = float(box[3]) / image_info['height']\n",
    "            box_list.append(box)\n",
    "        boxes_list.append(box_list)\n",
    "        scores_list.append(list(map(float, predict_list[:, 1].tolist())))\n",
    "        labels_list.append(list(map(int, predict_list[:, 0].tolist())))\n",
    "    \n",
    "    if len(boxes_list):\n",
    "        boxes, scores, labels = nms(boxes_list, scores_list, labels_list, iou_thr=iou_thr)\n",
    "        for box, score, label in zip(boxes, scores, labels):\n",
    "            prediction_string += str(int(label)) + ' ' + str(score) + ' ' + str(box[0] * image_info['width']) + ' ' + str(box[1] * image_info['height']) + ' ' + str(box[2] * image_info['width']) + ' ' + str(box[3] * image_info['height']) + ' '\n",
    "    \n",
    "    prediction_strings.append(prediction_string)\n",
    "    file_names.append(image_id)"
   ]
  },
  {
   "cell_type": "code",
   "execution_count": 21,
   "metadata": {
    "id": "M9ifsFixIpi6",
    "outputId": "9bf994bf-8b1a-45a9-a0f7-54be87b27db9"
   },
   "outputs": [
    {
     "data": {
      "text/plain": [
       "'1 0.87252027 164.55457 75.88126 255.48257 165.87816 1 0.55075884 184.18134 363.0596 205.64175 396.8725 4 0.062581174 184.09273 362.6412 205.71352 396.87146 8 0.9996784 171.76382 234.75102 461.35687 471.81796 8 0.20859158 183.85115 363.06308 211.14252 397.7394 '"
      ]
     },
     "execution_count": 21,
     "metadata": {},
     "output_type": "execute_result"
    }
   ],
   "source": [
    "submission = pd.DataFrame()\n",
    "submission['PredictionString'] = prediction_strings\n",
    "submission['image_id'] = file_names\n",
    "submission.to_csv('submission_ensemble_5312_5508.csv')\n",
    "\n",
    "submission.iloc[0][\"PredictionString\"]"
   ]
  },
  {
   "cell_type": "code",
   "execution_count": 22,
   "metadata": {
    "id": "fkziB7JxIpi6"
   },
   "outputs": [
    {
     "data": {
      "text/html": [
       "<div>\n",
       "<style scoped>\n",
       "    .dataframe tbody tr th:only-of-type {\n",
       "        vertical-align: middle;\n",
       "    }\n",
       "\n",
       "    .dataframe tbody tr th {\n",
       "        vertical-align: top;\n",
       "    }\n",
       "\n",
       "    .dataframe thead th {\n",
       "        text-align: right;\n",
       "    }\n",
       "</style>\n",
       "<table border=\"1\" class=\"dataframe\">\n",
       "  <thead>\n",
       "    <tr style=\"text-align: right;\">\n",
       "      <th></th>\n",
       "      <th>PredictionString</th>\n",
       "      <th>image_id</th>\n",
       "    </tr>\n",
       "  </thead>\n",
       "  <tbody>\n",
       "    <tr>\n",
       "      <th>0</th>\n",
       "      <td>1 0.87252027 164.55457 75.88126 255.48257 165....</td>\n",
       "      <td>batch_01_vt/0021.jpg</td>\n",
       "    </tr>\n",
       "    <tr>\n",
       "      <th>1</th>\n",
       "      <td>1 0.9565772 0.93178713 246.9561 307.15573 458....</td>\n",
       "      <td>batch_01_vt/0028.jpg</td>\n",
       "    </tr>\n",
       "    <tr>\n",
       "      <th>2</th>\n",
       "      <td>1 0.9996809 71.261955 167.88586 373.51526 378....</td>\n",
       "      <td>batch_01_vt/0031.jpg</td>\n",
       "    </tr>\n",
       "    <tr>\n",
       "      <th>3</th>\n",
       "      <td>2 0.9972133 298.36743 159.87602 363.3463 226.7...</td>\n",
       "      <td>batch_01_vt/0032.jpg</td>\n",
       "    </tr>\n",
       "    <tr>\n",
       "      <th>4</th>\n",
       "      <td>0 0.122315705 111.71272 252.02997 281.51892 28...</td>\n",
       "      <td>batch_01_vt/0070.jpg</td>\n",
       "    </tr>\n",
       "    <tr>\n",
       "      <th>...</th>\n",
       "      <td>...</td>\n",
       "      <td>...</td>\n",
       "    </tr>\n",
       "    <tr>\n",
       "      <th>832</th>\n",
       "      <td>1 0.9089043 73.766754 157.16164 412.03818 383....</td>\n",
       "      <td>batch_03/0947.jpg</td>\n",
       "    </tr>\n",
       "    <tr>\n",
       "      <th>833</th>\n",
       "      <td>1 0.6266063 410.60712 370.1818 425.43204 412.7...</td>\n",
       "      <td>batch_03/0968.jpg</td>\n",
       "    </tr>\n",
       "    <tr>\n",
       "      <th>834</th>\n",
       "      <td>0 0.054004665 69.905334 93.51987 80.1509 114.9...</td>\n",
       "      <td>batch_03/0969.jpg</td>\n",
       "    </tr>\n",
       "    <tr>\n",
       "      <th>835</th>\n",
       "      <td>0 0.07236068 147.17018 175.29332 200.14139 254...</td>\n",
       "      <td>batch_03/0992.jpg</td>\n",
       "    </tr>\n",
       "    <tr>\n",
       "      <th>836</th>\n",
       "      <td>1 0.9269519 0.0 0.0 219.30296 55.35978 1 0.892...</td>\n",
       "      <td>batch_03/0998.jpg</td>\n",
       "    </tr>\n",
       "  </tbody>\n",
       "</table>\n",
       "<p>837 rows × 2 columns</p>\n",
       "</div>"
      ],
      "text/plain": [
       "                                      PredictionString              image_id\n",
       "0    1 0.87252027 164.55457 75.88126 255.48257 165....  batch_01_vt/0021.jpg\n",
       "1    1 0.9565772 0.93178713 246.9561 307.15573 458....  batch_01_vt/0028.jpg\n",
       "2    1 0.9996809 71.261955 167.88586 373.51526 378....  batch_01_vt/0031.jpg\n",
       "3    2 0.9972133 298.36743 159.87602 363.3463 226.7...  batch_01_vt/0032.jpg\n",
       "4    0 0.122315705 111.71272 252.02997 281.51892 28...  batch_01_vt/0070.jpg\n",
       "..                                                 ...                   ...\n",
       "832  1 0.9089043 73.766754 157.16164 412.03818 383....     batch_03/0947.jpg\n",
       "833  1 0.6266063 410.60712 370.1818 425.43204 412.7...     batch_03/0968.jpg\n",
       "834  0 0.054004665 69.905334 93.51987 80.1509 114.9...     batch_03/0969.jpg\n",
       "835  0 0.07236068 147.17018 175.29332 200.14139 254...     batch_03/0992.jpg\n",
       "836  1 0.9269519 0.0 0.0 219.30296 55.35978 1 0.892...     batch_03/0998.jpg\n",
       "\n",
       "[837 rows x 2 columns]"
      ]
     },
     "execution_count": 22,
     "metadata": {},
     "output_type": "execute_result"
    }
   ],
   "source": [
    "submission"
   ]
  },
  {
   "cell_type": "code",
   "execution_count": null,
   "metadata": {},
   "outputs": [],
   "source": []
  }
 ],
 "metadata": {
  "colab": {
   "name": "ensemble.ipynb",
   "provenance": []
  },
  "kernelspec": {
   "display_name": "Python 3",
   "language": "python",
   "name": "python3"
  },
  "language_info": {
   "codemirror_mode": {
    "name": "ipython",
    "version": 3
   },
   "file_extension": ".py",
   "mimetype": "text/x-python",
   "name": "python",
   "nbconvert_exporter": "python",
   "pygments_lexer": "ipython3",
   "version": "3.7.7"
  }
 },
 "nbformat": 4,
 "nbformat_minor": 4
}
