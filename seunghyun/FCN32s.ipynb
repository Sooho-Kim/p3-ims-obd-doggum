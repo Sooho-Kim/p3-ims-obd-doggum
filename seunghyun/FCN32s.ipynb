{
  "nbformat": 4,
  "nbformat_minor": 0,
  "metadata": {
    "hide_input": false,
    "kernelspec": {
      "display_name": "Python 3",
      "language": "python",
      "name": "python3"
    },
    "language_info": {
      "codemirror_mode": {
        "name": "ipython",
        "version": 3
      },
      "file_extension": ".py",
      "mimetype": "text/x-python",
      "name": "python",
      "nbconvert_exporter": "python",
      "pygments_lexer": "ipython3",
      "version": "3.7.1"
    },
    "toc": {
      "base_numbering": 1,
      "nav_menu": {},
      "number_sections": true,
      "sideBar": true,
      "skip_h1_title": false,
      "title_cell": "Table of Contents",
      "title_sidebar": "Contents",
      "toc_cell": true,
      "toc_position": {
        "height": "calc(100% - 180px)",
        "left": "10px",
        "top": "150px",
        "width": "297.278px"
      },
      "toc_section_display": true,
      "toc_window_display": true
    },
    "colab": {
      "name": "FCN8s.ipynb",
      "provenance": [],
      "collapsed_sections": []
    },
    "accelerator": "GPU"
  },
  "cells": [
    {
      "cell_type": "code",
      "metadata": {
        "ExecuteTime": {
          "end_time": "2021-04-25T10:42:06.954382Z",
          "start_time": "2021-04-25T10:42:06.942411Z"
        },
        "scrolled": true,
        "id": "0kQ3HZRo0dKo",
        "colab": {
          "base_uri": "https://localhost:8080/"
        },
        "outputId": "2f22ee29-7c3f-4cd0-de0d-2c960b47ea20"
      },
      "source": [
        "import os\n",
        "import random\n",
        "import time\n",
        "import json\n",
        "import warnings \n",
        "warnings.filterwarnings('ignore')\n",
        "\n",
        "import torch\n",
        "import torch.nn as nn\n",
        "from torch.utils.data import Dataset, DataLoader\n",
        "#from utils import label_accuracy_score\n",
        "import cv2\n",
        "\n",
        "import numpy as np\n",
        "import pandas as pd\n",
        "\n",
        "# 전처리를 위한 라이브러리\n",
        "from pycocotools.coco import COCO\n",
        "import torchvision\n",
        "import torchvision.transforms as transforms\n",
        "\n",
        "import albumentations as A\n",
        "#from albumentations.pytorch import ToTensorV2\n",
        "\n",
        "# 시각화를 위한 라이브러리\n",
        "import matplotlib.pyplot as plt\n",
        "import seaborn as sns; sns.set()\n",
        "\n",
        "plt.rcParams['axes.grid'] = False\n",
        "\n",
        "print('pytorch version: {}'.format(torch.__version__))\n",
        "print('GPU 사용 가능 여부: {}'.format(torch.cuda.is_available()))\n",
        "\n",
        "print(torch.cuda.get_device_name(0))\n",
        "print(torch.cuda.device_count())\n",
        "\n",
        "device = \"cuda\" if torch.cuda.is_available() else \"cpu\"   # GPU 사용 가능 여부에 따라 device 정보 저장"
      ],
      "execution_count": 20,
      "outputs": [
        {
          "output_type": "stream",
          "text": [
            "pytorch version: 1.8.1+cu101\n",
            "GPU 사용 가능 여부: True\n",
            "Tesla T4\n",
            "1\n"
          ],
          "name": "stdout"
        }
      ]
    },
    {
      "cell_type": "markdown",
      "metadata": {
        "id": "zErzk0TD0dLG"
      },
      "source": [
        "## baseline model\n",
        "\n",
        "### <font color='red'>[TODO] 코드 구현 FCN-32s </font>"
      ]
    },
    {
      "cell_type": "code",
      "metadata": {
        "ExecuteTime": {
          "end_time": "2021-04-18T16:14:30.953430Z",
          "start_time": "2021-04-18T16:14:30.924454Z"
        },
        "scrolled": false,
        "id": "auZgFWdv0dLH"
      },
      "source": [
        "# 모델 참고 코드 \n",
        "# https://github.com/wkentaro/pytorch-fcn/\n",
        "import torch\n",
        "import torch.nn as nn\n",
        "class FCN8s(nn.Module):\n",
        "    def __init__(self, num_classes=12):\n",
        "        super(FCN8s, self).__init__()\n",
        "        self.relu    = nn.ReLU(inplace=True)\n",
        "\n",
        "        self.conv1_1 = nn.Conv2d(in_channels = 3, out_channels = 64, kernel_size = 3, stride=1, padding=1, bias=True, padding_mode='zeros')\n",
        "        self.conv1_2 = nn.Conv2d(in_channels = 64, out_channels = 64, kernel_size = 3, stride=1, padding=1, bias=True, padding_mode='zeros')\n",
        "        \n",
        "        self.conv2_1 = nn.Conv2d(in_channels = 64, out_channels = 128, kernel_size = 3, stride=1, padding=1, bias=True, padding_mode='zeros')\n",
        "        self.conv2_2 = nn.Conv2d(in_channels = 128, out_channels = 128, kernel_size = 3, stride=1, padding=1, bias=True, padding_mode='zeros')\n",
        "        \n",
        "        self.conv3_1 = nn.Conv2d(in_channels = 128, out_channels = 256, kernel_size = 3, stride=1, padding=1, bias=True, padding_mode='zeros')\n",
        "        self.conv3_2 = nn.Conv2d(in_channels = 256, out_channels = 256, kernel_size = 3, stride=1, padding=1, bias=True, padding_mode='zeros')\n",
        "        self.conv3_3 = nn.Conv2d(in_channels = 256, out_channels = 256, kernel_size = 3, stride=1, padding=1, bias=True, padding_mode='zeros')\n",
        "        \n",
        "        self.conv4_1 = nn.Conv2d(in_channels = 256, out_channels = 512, kernel_size = 3, stride=1, padding=1, bias=True, padding_mode='zeros')\n",
        "        self.conv4_2 = nn.Conv2d(in_channels = 512, out_channels = 512, kernel_size = 3, stride=1, padding=1, bias=True, padding_mode='zeros')\n",
        "        self.conv4_3 = nn.Conv2d(in_channels = 512, out_channels = 512, kernel_size = 3, stride=1, padding=1, bias=True, padding_mode='zeros')\n",
        "        \n",
        "        self.conv5_1 = nn.Conv2d(in_channels = 512, out_channels = 512, kernel_size = 3, stride=1, padding=1, bias=True, padding_mode='zeros')\n",
        "        self.conv5_2 = nn.Conv2d(in_channels = 512, out_channels = 512, kernel_size = 3, stride=1, padding=1, bias=True, padding_mode='zeros')\n",
        "        self.conv5_3 = nn.Conv2d(in_channels = 512, out_channels = 512, kernel_size = 3, stride=1, padding=1, bias=True, padding_mode='zeros')\n",
        "\n",
        "        self.conv6_1 = nn.Conv2d(in_channels = 512, out_channels = 4096, kernel_size = 1, stride=1, padding=0, bias=True, padding_mode='zeros')\n",
        "\n",
        "        self.conv7_1 = nn.Conv2d(in_channels = 4096, out_channels = 4096, kernel_size = 1, stride=1, padding=0, bias=True, padding_mode='zeros')\n",
        "\n",
        "        self.score = nn.Conv2d(in_channels=4096, out_channels = num_classes, kernel_size = 1, stride=1, padding=0, bias=True)\n",
        "\n",
        "        self.maxPool = nn.MaxPool2d(2, stride=2, ceil_mode=True)\n",
        "\n",
        "        self.upscore32 = nn.ConvTranspose2d(in_channels=num_classes, out_channels = num_classes, kernel_size = 64, stride=32, padding=16)\n",
        "        '''\n",
        "        [TODO]\n",
        "\n",
        "        ''' \n",
        "\n",
        "    def forward(self, x):\n",
        "\n",
        "        x = self.conv1_1(x)\n",
        "        x = self.relu(x)\n",
        "        x = self.conv1_2(x)\n",
        "        x = self.relu(x)\n",
        "        x = self.maxPool(x)\n",
        "\n",
        "        \n",
        "        x = self.conv2_1(x)\n",
        "        x = self.relu(x)\n",
        "        x = self.conv2_2(x)\n",
        "        x = self.relu(x)\n",
        "        x = self.maxPool(x)\n",
        "\n",
        "        \n",
        "        x = self.conv3_1(x)\n",
        "        x = self.relu(x)\n",
        "        x = self.conv3_2(x)\n",
        "        x = self.relu(x)\n",
        "        x = self.conv3_3(x)\n",
        "        x = self.relu(x)\n",
        "        x = self.maxPool(x)\n",
        "\n",
        "        \n",
        "        x = self.conv4_1(x)\n",
        "        x = self.relu(x)\n",
        "        x = self.conv4_2(x)\n",
        "        x = self.relu(x)\n",
        "        x = self.conv4_3(x)\n",
        "        x = self.relu(x)\n",
        "        x = self.maxPool(x)\n",
        "\n",
        "        \n",
        "        x = self.conv5_1(x)\n",
        "        x = self.relu(x)\n",
        "        x = self.conv5_2(x)\n",
        "        x = self.relu(x)\n",
        "        x = self.conv5_3(x)\n",
        "        x = self.relu(x)\n",
        "        x = self.maxPool(x)\n",
        "\n",
        "\n",
        "        x = self.conv6_1(x)\n",
        "        x = self.relu(x)\n",
        "\n",
        "        x = self.conv7_1(x)\n",
        "        x = self.relu(x)\n",
        "        \n",
        "        x = self.score(x)\n",
        "\n",
        "        output = self.upscore32(x)\n",
        "        \n",
        "        return output"
      ],
      "execution_count": 21,
      "outputs": []
    },
    {
      "cell_type": "code",
      "metadata": {
        "ExecuteTime": {
          "end_time": "2021-04-18T16:16:11.634792Z",
          "start_time": "2021-04-18T16:16:05.875817Z"
        },
        "id": "8d_jJ4sN0dLI",
        "colab": {
          "base_uri": "https://localhost:8080/"
        },
        "outputId": "efc644af-32fb-44c3-b795-b35f535eb0e2"
      },
      "source": [
        "# 구현된 model에 임의의 input을 넣어 output이 잘 나오는지 test\n",
        "\n",
        "model = FCN8s(num_classes=12)\n",
        "x = torch.randn([1, 3, 512, 512])\n",
        "print(\"input shape : \", x.shape)\n",
        "out = model(x).to(device)\n",
        "print(\"output shape : \", out.size())\n",
        "\n",
        "model = model.to(device)"
      ],
      "execution_count": 22,
      "outputs": [
        {
          "output_type": "stream",
          "text": [
            "input shape :  torch.Size([1, 3, 512, 512])\n",
            "output shape :  torch.Size([1, 12, 512, 512])\n"
          ],
          "name": "stdout"
        }
      ]
    },
    {
      "cell_type": "code",
      "metadata": {
        "id": "ROJ0BAiVvatW"
      },
      "source": [
        ""
      ],
      "execution_count": null,
      "outputs": []
    }
  ]
}